{
 "cells": [
  {
   "cell_type": "markdown",
   "metadata": {},
   "source": [
    "# Clustering Crypto"
   ]
  },
  {
   "cell_type": "code",
   "execution_count": 102,
   "metadata": {},
   "outputs": [],
   "source": [
    "# Initial imports\n",
    "import requests\n",
    "from pathlib import Path\n",
    "import pandas as pd\n",
    "import matplotlib.pyplot as plt\n",
    "import hvplot.pandas\n",
    "import plotly.express as px\n",
    "from sklearn.preprocessing import StandardScaler, MinMaxScaler, LabelEncoder\n",
    "from sklearn.decomposition import PCA\n",
    "from sklearn.cluster import KMeans\n",
    "from urllib.request import Request, urlopen\n",
    "import json"
   ]
  },
  {
   "cell_type": "markdown",
   "metadata": {},
   "source": [
    "### Fetching Cryptocurrency Data"
   ]
  },
  {
   "cell_type": "code",
   "execution_count": 103,
   "metadata": {},
   "outputs": [],
   "source": [
    "# Use the following endpoint to fetch json data\n",
    "url = \"https://min-api.cryptocompare.com/data/all/coinlist\"\n"
   ]
  },
  {
   "cell_type": "code",
   "execution_count": 104,
   "metadata": {},
   "outputs": [],
   "source": [
    "# Alternatively, use the provided csv file:\n",
    "\n",
    "# Create a DataFrame\n"
   ]
  },
  {
   "cell_type": "code",
   "execution_count": 105,
   "metadata": {},
   "outputs": [
    {
     "data": {
      "text/html": [
       "<div>\n",
       "<style scoped>\n",
       "    .dataframe tbody tr th:only-of-type {\n",
       "        vertical-align: middle;\n",
       "    }\n",
       "\n",
       "    .dataframe tbody tr th {\n",
       "        vertical-align: top;\n",
       "    }\n",
       "\n",
       "    .dataframe thead th {\n",
       "        text-align: right;\n",
       "    }\n",
       "</style>\n",
       "<table border=\"1\" class=\"dataframe\">\n",
       "  <thead>\n",
       "    <tr style=\"text-align: right;\">\n",
       "      <th></th>\n",
       "      <th>Id</th>\n",
       "      <th>Url</th>\n",
       "      <th>ImageUrl</th>\n",
       "      <th>ContentCreatedOn</th>\n",
       "      <th>Name</th>\n",
       "      <th>Symbol</th>\n",
       "      <th>CoinName</th>\n",
       "      <th>FullName</th>\n",
       "      <th>Description</th>\n",
       "      <th>AssetTokenStatus</th>\n",
       "      <th>...</th>\n",
       "      <th>SortOrder</th>\n",
       "      <th>Sponsored</th>\n",
       "      <th>Taxonomy</th>\n",
       "      <th>Rating</th>\n",
       "      <th>IsTrading</th>\n",
       "      <th>TotalCoinsMined</th>\n",
       "      <th>BlockNumber</th>\n",
       "      <th>NetHashesPerSecond</th>\n",
       "      <th>BlockReward</th>\n",
       "      <th>BlockTime</th>\n",
       "    </tr>\n",
       "  </thead>\n",
       "  <tbody>\n",
       "    <tr>\n",
       "      <th>42</th>\n",
       "      <td>4321</td>\n",
       "      <td>/coins/42/overview</td>\n",
       "      <td>/media/35650717/42.jpg</td>\n",
       "      <td>1427211129</td>\n",
       "      <td>42</td>\n",
       "      <td>42</td>\n",
       "      <td>42 Coin</td>\n",
       "      <td>42 Coin (42)</td>\n",
       "      <td>Everything about 42 coin is 42 - apart from th...</td>\n",
       "      <td>N/A</td>\n",
       "      <td>...</td>\n",
       "      <td>34</td>\n",
       "      <td>False</td>\n",
       "      <td>{'Access': '', 'FCA': '', 'FINMA': '', 'Indust...</td>\n",
       "      <td>{'Weiss': {'Rating': '', 'TechnologyAdoptionRa...</td>\n",
       "      <td>True</td>\n",
       "      <td>42</td>\n",
       "      <td>204348</td>\n",
       "      <td>0</td>\n",
       "      <td>0</td>\n",
       "      <td>0</td>\n",
       "    </tr>\n",
       "    <tr>\n",
       "      <th>300</th>\n",
       "      <td>749869</td>\n",
       "      <td>/coins/300/overview</td>\n",
       "      <td>/media/27010595/300.png</td>\n",
       "      <td>1517935016</td>\n",
       "      <td>300</td>\n",
       "      <td>300</td>\n",
       "      <td>300 token</td>\n",
       "      <td>300 token (300)</td>\n",
       "      <td>300 token is an ERC20 token. This Token was cr...</td>\n",
       "      <td>N/A</td>\n",
       "      <td>...</td>\n",
       "      <td>2212</td>\n",
       "      <td>False</td>\n",
       "      <td>{'Access': '', 'FCA': '', 'FINMA': '', 'Indust...</td>\n",
       "      <td>{'Weiss': {'Rating': '', 'TechnologyAdoptionRa...</td>\n",
       "      <td>True</td>\n",
       "      <td>300</td>\n",
       "      <td>0</td>\n",
       "      <td>0</td>\n",
       "      <td>0</td>\n",
       "      <td>0</td>\n",
       "    </tr>\n",
       "    <tr>\n",
       "      <th>365</th>\n",
       "      <td>33639</td>\n",
       "      <td>/coins/365/overview</td>\n",
       "      <td>/media/352070/365.png</td>\n",
       "      <td>1480032918</td>\n",
       "      <td>365</td>\n",
       "      <td>365</td>\n",
       "      <td>365Coin</td>\n",
       "      <td>365Coin (365)</td>\n",
       "      <td>365Coin is a Proof of Work and Proof of Stake ...</td>\n",
       "      <td>N/A</td>\n",
       "      <td>...</td>\n",
       "      <td>916</td>\n",
       "      <td>False</td>\n",
       "      <td>{'Access': '', 'FCA': '', 'FINMA': '', 'Indust...</td>\n",
       "      <td>{'Weiss': {'Rating': '', 'TechnologyAdoptionRa...</td>\n",
       "      <td>True</td>\n",
       "      <td>NaN</td>\n",
       "      <td>NaN</td>\n",
       "      <td>NaN</td>\n",
       "      <td>NaN</td>\n",
       "      <td>NaN</td>\n",
       "    </tr>\n",
       "    <tr>\n",
       "      <th>404</th>\n",
       "      <td>21227</td>\n",
       "      <td>/coins/404/overview</td>\n",
       "      <td>/media/35650851/404-300x300.jpg</td>\n",
       "      <td>1466100361</td>\n",
       "      <td>404</td>\n",
       "      <td>404</td>\n",
       "      <td>404Coin</td>\n",
       "      <td>404Coin (404)</td>\n",
       "      <td>404 is a PoW/PoS hybrid cryptocurrency that al...</td>\n",
       "      <td>N/A</td>\n",
       "      <td>...</td>\n",
       "      <td>602</td>\n",
       "      <td>False</td>\n",
       "      <td>{'Access': '', 'FCA': '', 'FINMA': '', 'Indust...</td>\n",
       "      <td>{'Weiss': {'Rating': '', 'TechnologyAdoptionRa...</td>\n",
       "      <td>True</td>\n",
       "      <td>1.94068e+06</td>\n",
       "      <td>64897</td>\n",
       "      <td>0</td>\n",
       "      <td>121.695</td>\n",
       "      <td>60</td>\n",
       "    </tr>\n",
       "    <tr>\n",
       "      <th>433</th>\n",
       "      <td>926547</td>\n",
       "      <td>/coins/433/overview</td>\n",
       "      <td>/media/34836095/433.png</td>\n",
       "      <td>1541597321</td>\n",
       "      <td>433</td>\n",
       "      <td>433</td>\n",
       "      <td>433 Token</td>\n",
       "      <td>433 Token (433)</td>\n",
       "      <td>433 Token is a decentralised soccer platform t...</td>\n",
       "      <td>Finished</td>\n",
       "      <td>...</td>\n",
       "      <td>3505</td>\n",
       "      <td>False</td>\n",
       "      <td>{'Access': '', 'FCA': '', 'FINMA': '', 'Indust...</td>\n",
       "      <td>{'Weiss': {'Rating': '', 'TechnologyAdoptionRa...</td>\n",
       "      <td>False</td>\n",
       "      <td>1.12518e+08</td>\n",
       "      <td>10821438</td>\n",
       "      <td>231060807658772</td>\n",
       "      <td>2</td>\n",
       "      <td>0</td>\n",
       "    </tr>\n",
       "  </tbody>\n",
       "</table>\n",
       "<p>5 rows × 29 columns</p>\n",
       "</div>"
      ],
      "text/plain": [
       "         Id                  Url                         ImageUrl  \\\n",
       "42     4321   /coins/42/overview           /media/35650717/42.jpg   \n",
       "300  749869  /coins/300/overview          /media/27010595/300.png   \n",
       "365   33639  /coins/365/overview            /media/352070/365.png   \n",
       "404   21227  /coins/404/overview  /media/35650851/404-300x300.jpg   \n",
       "433  926547  /coins/433/overview          /media/34836095/433.png   \n",
       "\n",
       "    ContentCreatedOn Name Symbol   CoinName         FullName  \\\n",
       "42        1427211129   42     42    42 Coin     42 Coin (42)   \n",
       "300       1517935016  300    300  300 token  300 token (300)   \n",
       "365       1480032918  365    365    365Coin    365Coin (365)   \n",
       "404       1466100361  404    404    404Coin    404Coin (404)   \n",
       "433       1541597321  433    433  433 Token  433 Token (433)   \n",
       "\n",
       "                                           Description AssetTokenStatus  ...  \\\n",
       "42   Everything about 42 coin is 42 - apart from th...              N/A  ...   \n",
       "300  300 token is an ERC20 token. This Token was cr...              N/A  ...   \n",
       "365  365Coin is a Proof of Work and Proof of Stake ...              N/A  ...   \n",
       "404  404 is a PoW/PoS hybrid cryptocurrency that al...              N/A  ...   \n",
       "433  433 Token is a decentralised soccer platform t...         Finished  ...   \n",
       "\n",
       "    SortOrder Sponsored                                           Taxonomy  \\\n",
       "42         34     False  {'Access': '', 'FCA': '', 'FINMA': '', 'Indust...   \n",
       "300      2212     False  {'Access': '', 'FCA': '', 'FINMA': '', 'Indust...   \n",
       "365       916     False  {'Access': '', 'FCA': '', 'FINMA': '', 'Indust...   \n",
       "404       602     False  {'Access': '', 'FCA': '', 'FINMA': '', 'Indust...   \n",
       "433      3505     False  {'Access': '', 'FCA': '', 'FINMA': '', 'Indust...   \n",
       "\n",
       "                                                Rating IsTrading  \\\n",
       "42   {'Weiss': {'Rating': '', 'TechnologyAdoptionRa...      True   \n",
       "300  {'Weiss': {'Rating': '', 'TechnologyAdoptionRa...      True   \n",
       "365  {'Weiss': {'Rating': '', 'TechnologyAdoptionRa...      True   \n",
       "404  {'Weiss': {'Rating': '', 'TechnologyAdoptionRa...      True   \n",
       "433  {'Weiss': {'Rating': '', 'TechnologyAdoptionRa...     False   \n",
       "\n",
       "    TotalCoinsMined BlockNumber NetHashesPerSecond BlockReward BlockTime  \n",
       "42               42      204348                  0           0         0  \n",
       "300             300           0                  0           0         0  \n",
       "365             NaN         NaN                NaN         NaN       NaN  \n",
       "404     1.94068e+06       64897                  0     121.695        60  \n",
       "433     1.12518e+08    10821438    231060807658772           2         0  \n",
       "\n",
       "[5 rows x 29 columns]"
      ]
     },
     "execution_count": 105,
     "metadata": {},
     "output_type": "execute_result"
    }
   ],
   "source": [
    "# Create a funtion to read in DataFrame \n",
    "def read_json(url):\n",
    "    url = \"https://min-api.cryptocompare.com/data/all/coinlist\"\n",
    "    request = Request(url)\n",
    "    response = urlopen(request)\n",
    "    data = response.read()\n",
    "    url_data = json.loads(data)\n",
    "    return(url_data)\n",
    "# HINT: You will need to use the 'Data' key from the json response, then transpose the DataFrame.\n",
    "crypto_df = pd.DataFrame(read_json(url)[\"Data\"]).T\n",
    "crypto_df.head()"
   ]
  },
  {
   "cell_type": "markdown",
   "metadata": {},
   "source": [
    "### Data Preprocessing"
   ]
  },
  {
   "cell_type": "code",
   "execution_count": 106,
   "metadata": {},
   "outputs": [],
   "source": [
    "# Keep only necessary columns:\n",
    "# 'CoinName','Algorithm','IsTrading','ProofType','TotalCoinsMined','TotalCoinSupply'\n",
    "crypto_df = crypto_df[['CoinName',\n",
    "           'Algorithm',\n",
    "           'IsTrading',\n",
    "           'ProofType',\n",
    "           'TotalCoinsMined',\n",
    "           'TotalCoinSupply']]"
   ]
  },
  {
   "cell_type": "code",
   "execution_count": 107,
   "metadata": {},
   "outputs": [],
   "source": [
    "# Keep only cryptocurrencies that are trading\n",
    "crypto_df = crypto_df.loc[crypto_df['IsTrading'] == True]"
   ]
  },
  {
   "cell_type": "code",
   "execution_count": 108,
   "metadata": {},
   "outputs": [],
   "source": [
    "# Keep only cryptocurrencies with a working algorithm\n",
    "crypto_df = crypto_df.loc[crypto_df[\"Algorithm\"] != \"N/A\"]"
   ]
  },
  {
   "cell_type": "code",
   "execution_count": 109,
   "metadata": {},
   "outputs": [],
   "source": [
    "# Remove the \"IsTrading\" column\n",
    "crypto_df = crypto_df.drop(columns = \"IsTrading\")"
   ]
  },
  {
   "cell_type": "code",
   "execution_count": 110,
   "metadata": {},
   "outputs": [
    {
     "data": {
      "text/plain": [
       "CoinName           0\n",
       "Algorithm          0\n",
       "ProofType          0\n",
       "TotalCoinsMined    0\n",
       "TotalCoinSupply    0\n",
       "dtype: int64"
      ]
     },
     "execution_count": 110,
     "metadata": {},
     "output_type": "execute_result"
    }
   ],
   "source": [
    "# Remove rows with at least 1 null value\n",
    "crypto_df = crypto_df.dropna()\n",
    "crypto_df.isnull().sum()"
   ]
  },
  {
   "cell_type": "code",
   "execution_count": 111,
   "metadata": {},
   "outputs": [],
   "source": [
    "# Remove rows with cryptocurrencies having no coins mined\n",
    "crypto_df = crypto_df.loc[crypto_df[\"TotalCoinsMined\"] != 0]"
   ]
  },
  {
   "cell_type": "code",
   "execution_count": 112,
   "metadata": {},
   "outputs": [],
   "source": [
    "# Drop rows where there are 'N/A' text values\n",
    "crypto_df = crypto_df.loc[crypto_df[\"TotalCoinSupply\"] != 'N/A']\n",
    "crypto_df = crypto_df.loc[crypto_df[\"ProofType\"] != 'N/A']\n"
   ]
  },
  {
   "cell_type": "code",
   "execution_count": 113,
   "metadata": {},
   "outputs": [
    {
     "data": {
      "text/html": [
       "<div>\n",
       "<style scoped>\n",
       "    .dataframe tbody tr th:only-of-type {\n",
       "        vertical-align: middle;\n",
       "    }\n",
       "\n",
       "    .dataframe tbody tr th {\n",
       "        vertical-align: top;\n",
       "    }\n",
       "\n",
       "    .dataframe thead th {\n",
       "        text-align: right;\n",
       "    }\n",
       "</style>\n",
       "<table border=\"1\" class=\"dataframe\">\n",
       "  <thead>\n",
       "    <tr style=\"text-align: right;\">\n",
       "      <th></th>\n",
       "      <th>CoinName</th>\n",
       "    </tr>\n",
       "  </thead>\n",
       "  <tbody>\n",
       "    <tr>\n",
       "      <th>42</th>\n",
       "      <td>42 Coin</td>\n",
       "    </tr>\n",
       "    <tr>\n",
       "      <th>404</th>\n",
       "      <td>404Coin</td>\n",
       "    </tr>\n",
       "    <tr>\n",
       "      <th>1337</th>\n",
       "      <td>EliteCoin</td>\n",
       "    </tr>\n",
       "    <tr>\n",
       "      <th>ETH</th>\n",
       "      <td>Ethereum</td>\n",
       "    </tr>\n",
       "    <tr>\n",
       "      <th>NXT</th>\n",
       "      <td>Nxt</td>\n",
       "    </tr>\n",
       "    <tr>\n",
       "      <th>...</th>\n",
       "      <td>...</td>\n",
       "    </tr>\n",
       "    <tr>\n",
       "      <th>DCR</th>\n",
       "      <td>Decred</td>\n",
       "    </tr>\n",
       "    <tr>\n",
       "      <th>STEEM</th>\n",
       "      <td>Steem</td>\n",
       "    </tr>\n",
       "    <tr>\n",
       "      <th>BTC</th>\n",
       "      <td>Bitcoin</td>\n",
       "    </tr>\n",
       "    <tr>\n",
       "      <th>BUX</th>\n",
       "      <td>Buxcoin</td>\n",
       "    </tr>\n",
       "    <tr>\n",
       "      <th>BNB</th>\n",
       "      <td>Binance Coin</td>\n",
       "    </tr>\n",
       "  </tbody>\n",
       "</table>\n",
       "<p>537 rows × 1 columns</p>\n",
       "</div>"
      ],
      "text/plain": [
       "           CoinName\n",
       "42          42 Coin\n",
       "404         404Coin\n",
       "1337      EliteCoin\n",
       "ETH        Ethereum\n",
       "NXT             Nxt\n",
       "...             ...\n",
       "DCR          Decred\n",
       "STEEM         Steem\n",
       "BTC         Bitcoin\n",
       "BUX         Buxcoin\n",
       "BNB    Binance Coin\n",
       "\n",
       "[537 rows x 1 columns]"
      ]
     },
     "execution_count": 113,
     "metadata": {},
     "output_type": "execute_result"
    }
   ],
   "source": [
    "# Store the 'CoinName'column in its own DataFrame prior to dropping it from crypto_df\n",
    "coins_name = pd.DataFrame(crypto_df[\"CoinName\"])\n",
    "coins_name"
   ]
  },
  {
   "cell_type": "code",
   "execution_count": 114,
   "metadata": {},
   "outputs": [
    {
     "data": {
      "text/html": [
       "<div>\n",
       "<style scoped>\n",
       "    .dataframe tbody tr th:only-of-type {\n",
       "        vertical-align: middle;\n",
       "    }\n",
       "\n",
       "    .dataframe tbody tr th {\n",
       "        vertical-align: top;\n",
       "    }\n",
       "\n",
       "    .dataframe thead th {\n",
       "        text-align: right;\n",
       "    }\n",
       "</style>\n",
       "<table border=\"1\" class=\"dataframe\">\n",
       "  <thead>\n",
       "    <tr style=\"text-align: right;\">\n",
       "      <th></th>\n",
       "      <th>Algorithm</th>\n",
       "      <th>ProofType</th>\n",
       "      <th>TotalCoinsMined</th>\n",
       "      <th>TotalCoinSupply</th>\n",
       "    </tr>\n",
       "  </thead>\n",
       "  <tbody>\n",
       "    <tr>\n",
       "      <th>42</th>\n",
       "      <td>Scrypt</td>\n",
       "      <td>PoW/PoS</td>\n",
       "      <td>42</td>\n",
       "      <td>42</td>\n",
       "    </tr>\n",
       "    <tr>\n",
       "      <th>404</th>\n",
       "      <td>Scrypt</td>\n",
       "      <td>PoW/PoS</td>\n",
       "      <td>1.94068e+06</td>\n",
       "      <td>532000000</td>\n",
       "    </tr>\n",
       "    <tr>\n",
       "      <th>1337</th>\n",
       "      <td>X13</td>\n",
       "      <td>PoW/PoS</td>\n",
       "      <td>2.95049e+10</td>\n",
       "      <td>314159265359</td>\n",
       "    </tr>\n",
       "    <tr>\n",
       "      <th>ETH</th>\n",
       "      <td>Ethash</td>\n",
       "      <td>PoW</td>\n",
       "      <td>1.12518e+08</td>\n",
       "      <td>0</td>\n",
       "    </tr>\n",
       "    <tr>\n",
       "      <th>NXT</th>\n",
       "      <td>PoS</td>\n",
       "      <td>PoS/LPoS</td>\n",
       "      <td>1000000000</td>\n",
       "      <td>1000000000</td>\n",
       "    </tr>\n",
       "    <tr>\n",
       "      <th>...</th>\n",
       "      <td>...</td>\n",
       "      <td>...</td>\n",
       "      <td>...</td>\n",
       "      <td>...</td>\n",
       "    </tr>\n",
       "    <tr>\n",
       "      <th>DCR</th>\n",
       "      <td>BLAKE256</td>\n",
       "      <td>PoW/PoS</td>\n",
       "      <td>1.2182e+07</td>\n",
       "      <td>21000000</td>\n",
       "    </tr>\n",
       "    <tr>\n",
       "      <th>STEEM</th>\n",
       "      <td>PoS</td>\n",
       "      <td>PoW</td>\n",
       "      <td>99692126</td>\n",
       "      <td>99692126</td>\n",
       "    </tr>\n",
       "    <tr>\n",
       "      <th>BTC</th>\n",
       "      <td>SHA-256</td>\n",
       "      <td>PoW</td>\n",
       "      <td>18528975</td>\n",
       "      <td>21000000</td>\n",
       "    </tr>\n",
       "    <tr>\n",
       "      <th>BUX</th>\n",
       "      <td>Scrypt</td>\n",
       "      <td>PoW/PoS</td>\n",
       "      <td>4.50065e+08</td>\n",
       "      <td>500000000</td>\n",
       "    </tr>\n",
       "    <tr>\n",
       "      <th>BNB</th>\n",
       "      <td>BEP2 BNB</td>\n",
       "      <td>PoSA</td>\n",
       "      <td>155536713</td>\n",
       "      <td>189175490</td>\n",
       "    </tr>\n",
       "  </tbody>\n",
       "</table>\n",
       "<p>537 rows × 4 columns</p>\n",
       "</div>"
      ],
      "text/plain": [
       "      Algorithm ProofType TotalCoinsMined TotalCoinSupply\n",
       "42       Scrypt   PoW/PoS              42              42\n",
       "404      Scrypt   PoW/PoS     1.94068e+06       532000000\n",
       "1337        X13   PoW/PoS     2.95049e+10    314159265359\n",
       "ETH      Ethash       PoW     1.12518e+08               0\n",
       "NXT         PoS  PoS/LPoS      1000000000      1000000000\n",
       "...         ...       ...             ...             ...\n",
       "DCR    BLAKE256   PoW/PoS      1.2182e+07        21000000\n",
       "STEEM       PoS       PoW        99692126        99692126\n",
       "BTC     SHA-256       PoW        18528975        21000000\n",
       "BUX      Scrypt   PoW/PoS     4.50065e+08       500000000\n",
       "BNB    BEP2 BNB      PoSA       155536713       189175490\n",
       "\n",
       "[537 rows x 4 columns]"
      ]
     },
     "execution_count": 114,
     "metadata": {},
     "output_type": "execute_result"
    }
   ],
   "source": [
    "# Drop the 'CoinName' column since it's not going to be used on the clustering algorithm\n",
    "crypto_df = crypto_df.drop(columns = \"CoinName\")\n",
    "crypto_df"
   ]
  },
  {
   "cell_type": "code",
   "execution_count": 115,
   "metadata": {},
   "outputs": [],
   "source": [
    "# Create dummy variables for text features\n",
    "for col in crypto_df.columns:\n",
    "    if crypto_df[col].dtype == \"object\":\n",
    "        encoder = LabelEncoder()\n",
    "        encoder.fit(list(crypto_df[col].values))\n",
    "        crypto_df[col] = encoder.transform(list(crypto_df[col].values))"
   ]
  },
  {
   "cell_type": "code",
   "execution_count": 116,
   "metadata": {},
   "outputs": [
    {
     "data": {
      "text/plain": [
       "array([[ 0.41924088,  0.74692402, -1.74859896,  0.79977644],\n",
       "       [ 0.41924088,  0.74692402, -1.43513289,  1.12576201],\n",
       "       [ 1.17118593,  0.74692402,  1.57280758,  0.4496438 ],\n",
       "       ...,\n",
       "       [ 0.11846285,  0.21425709, -0.3079889 , -0.21440088],\n",
       "       [ 0.41924088,  0.74692402,  1.05258727,  1.00502662],\n",
       "       [-2.63866903, -0.31840984,  0.78580763, -0.38343044]])"
      ]
     },
     "execution_count": 116,
     "metadata": {},
     "output_type": "execute_result"
    }
   ],
   "source": [
    "# Standardize data\n",
    "X = StandardScaler().fit_transform(crypto_df)\n",
    "X"
   ]
  },
  {
   "cell_type": "markdown",
   "metadata": {},
   "source": [
    "### Reducing Dimensions Using PCA"
   ]
  },
  {
   "cell_type": "code",
   "execution_count": 117,
   "metadata": {},
   "outputs": [],
   "source": [
    "# Use PCA to reduce dimensions to 3 principal components\n",
    "pca = PCA(n_components=3)\n",
    "crypto_pca = pca.fit_transform(X)"
   ]
  },
  {
   "cell_type": "code",
   "execution_count": 118,
   "metadata": {},
   "outputs": [
    {
     "data": {
      "text/html": [
       "<div>\n",
       "<style scoped>\n",
       "    .dataframe tbody tr th:only-of-type {\n",
       "        vertical-align: middle;\n",
       "    }\n",
       "\n",
       "    .dataframe tbody tr th {\n",
       "        vertical-align: top;\n",
       "    }\n",
       "\n",
       "    .dataframe thead th {\n",
       "        text-align: right;\n",
       "    }\n",
       "</style>\n",
       "<table border=\"1\" class=\"dataframe\">\n",
       "  <thead>\n",
       "    <tr style=\"text-align: right;\">\n",
       "      <th></th>\n",
       "      <th>PC 1</th>\n",
       "      <th>PC 2</th>\n",
       "      <th>PC 3</th>\n",
       "    </tr>\n",
       "  </thead>\n",
       "  <tbody>\n",
       "    <tr>\n",
       "      <th>42</th>\n",
       "      <td>-1.698856</td>\n",
       "      <td>0.137613</td>\n",
       "      <td>1.231541</td>\n",
       "    </tr>\n",
       "    <tr>\n",
       "      <th>404</th>\n",
       "      <td>-1.636116</td>\n",
       "      <td>0.539719</td>\n",
       "      <td>1.037176</td>\n",
       "    </tr>\n",
       "    <tr>\n",
       "      <th>1337</th>\n",
       "      <td>-0.551606</td>\n",
       "      <td>0.733117</td>\n",
       "      <td>-1.938423</td>\n",
       "    </tr>\n",
       "    <tr>\n",
       "      <th>ETH</th>\n",
       "      <td>1.291072</td>\n",
       "      <td>-0.726298</td>\n",
       "      <td>-0.177205</td>\n",
       "    </tr>\n",
       "    <tr>\n",
       "      <th>NXT</th>\n",
       "      <td>1.727016</td>\n",
       "      <td>-0.785631</td>\n",
       "      <td>-0.873990</td>\n",
       "    </tr>\n",
       "    <tr>\n",
       "      <th>ZEC</th>\n",
       "      <td>0.471509</td>\n",
       "      <td>-0.124083</td>\n",
       "      <td>1.277464</td>\n",
       "    </tr>\n",
       "    <tr>\n",
       "      <th>BTS</th>\n",
       "      <td>1.179846</td>\n",
       "      <td>0.901433</td>\n",
       "      <td>-0.833853</td>\n",
       "    </tr>\n",
       "    <tr>\n",
       "      <th>BTCD</th>\n",
       "      <td>-1.208320</td>\n",
       "      <td>-0.518555</td>\n",
       "      <td>1.013014</td>\n",
       "    </tr>\n",
       "    <tr>\n",
       "      <th>XPY</th>\n",
       "      <td>0.763576</td>\n",
       "      <td>-1.254419</td>\n",
       "      <td>0.566689</td>\n",
       "    </tr>\n",
       "    <tr>\n",
       "      <th>PRC</th>\n",
       "      <td>-0.803744</td>\n",
       "      <td>-0.607515</td>\n",
       "      <td>0.576276</td>\n",
       "    </tr>\n",
       "  </tbody>\n",
       "</table>\n",
       "</div>"
      ],
      "text/plain": [
       "          PC 1      PC 2      PC 3\n",
       "42   -1.698856  0.137613  1.231541\n",
       "404  -1.636116  0.539719  1.037176\n",
       "1337 -0.551606  0.733117 -1.938423\n",
       "ETH   1.291072 -0.726298 -0.177205\n",
       "NXT   1.727016 -0.785631 -0.873990\n",
       "ZEC   0.471509 -0.124083  1.277464\n",
       "BTS   1.179846  0.901433 -0.833853\n",
       "BTCD -1.208320 -0.518555  1.013014\n",
       "XPY   0.763576 -1.254419  0.566689\n",
       "PRC  -0.803744 -0.607515  0.576276"
      ]
     },
     "execution_count": 118,
     "metadata": {},
     "output_type": "execute_result"
    }
   ],
   "source": [
    "# Create a DataFrame with the principal components data\n",
    "pca_df = pd.DataFrame(\n",
    "    data=crypto_pca, columns=[\"PC 1\", \"PC 2\", \"PC 3\"], index=crypto_df.index\n",
    ")\n",
    "pca_df.head(10)"
   ]
  },
  {
   "cell_type": "markdown",
   "metadata": {},
   "source": [
    "### Clustering Crytocurrencies Using K-Means\n",
    "\n",
    "#### Find the Best Value for `k` Using the Elbow Curve"
   ]
  },
  {
   "cell_type": "code",
   "execution_count": 119,
   "metadata": {},
   "outputs": [
    {
     "data": {},
     "metadata": {},
     "output_type": "display_data"
    },
    {
     "data": {
      "application/vnd.holoviews_exec.v0+json": "",
      "text/html": [
       "<div id='3220'>\n",
       "\n",
       "\n",
       "\n",
       "\n",
       "\n",
       "  <div class=\"bk-root\" id=\"74e01084-7de1-49ac-a33b-c850b7a13ad8\" data-root-id=\"3220\"></div>\n",
       "</div>\n",
       "<script type=\"application/javascript\">(function(root) {\n",
       "  function embed_document(root) {\n",
       "  var docs_json = {\"23a4af32-6264-49fa-bba5-6540c1082737\":{\"roots\":{\"references\":[{\"attributes\":{\"data_source\":{\"id\":\"3255\"},\"glyph\":{\"id\":\"3258\"},\"hover_glyph\":null,\"muted_glyph\":{\"id\":\"3260\"},\"nonselection_glyph\":{\"id\":\"3259\"},\"selection_glyph\":null,\"view\":{\"id\":\"3262\"}},\"id\":\"3261\",\"type\":\"GlyphRenderer\"},{\"attributes\":{\"line_alpha\":0.1,\"line_color\":\"#1f77b3\",\"line_width\":2,\"x\":{\"field\":\"k\"},\"y\":{\"field\":\"inertia\"}},\"id\":\"3259\",\"type\":\"Line\"},{\"attributes\":{\"margin\":[5,5,5,5],\"name\":\"HSpacer06743\",\"sizing_mode\":\"stretch_width\"},\"id\":\"3221\",\"type\":\"Spacer\"},{\"attributes\":{\"axis_label\":\"inertia\",\"bounds\":\"auto\",\"formatter\":{\"id\":\"3269\"},\"major_label_orientation\":\"horizontal\",\"ticker\":{\"id\":\"3239\"}},\"id\":\"3238\",\"type\":\"LinearAxis\"},{\"attributes\":{},\"id\":\"3246\",\"type\":\"ResetTool\"},{\"attributes\":{},\"id\":\"3275\",\"type\":\"UnionRenderers\"},{\"attributes\":{\"end\":10.0,\"reset_end\":10.0,\"reset_start\":1.0,\"start\":1.0,\"tags\":[[[\"k\",\"k\",null]]]},\"id\":\"3222\",\"type\":\"Range1d\"},{\"attributes\":{},\"id\":\"3239\",\"type\":\"BasicTicker\"},{\"attributes\":{\"axis\":{\"id\":\"3238\"},\"dimension\":1,\"grid_line_color\":null,\"ticker\":null},\"id\":\"3241\",\"type\":\"Grid\"},{\"attributes\":{\"axis\":{\"id\":\"3234\"},\"grid_line_color\":null,\"ticker\":null},\"id\":\"3237\",\"type\":\"Grid\"},{\"attributes\":{},\"id\":\"3230\",\"type\":\"LinearScale\"},{\"attributes\":{\"line_color\":\"#1f77b3\",\"line_width\":2,\"x\":{\"field\":\"k\"},\"y\":{\"field\":\"inertia\"}},\"id\":\"3258\",\"type\":\"Line\"},{\"attributes\":{\"callback\":null,\"renderers\":[{\"id\":\"3261\"}],\"tags\":[\"hv_created\"],\"tooltips\":[[\"k\",\"@{k}\"],[\"inertia\",\"@{inertia}\"]]},\"id\":\"3224\",\"type\":\"HoverTool\"},{\"attributes\":{},\"id\":\"3269\",\"type\":\"BasicTickFormatter\"},{\"attributes\":{},\"id\":\"3242\",\"type\":\"SaveTool\"},{\"attributes\":{\"overlay\":{\"id\":\"3247\"}},\"id\":\"3245\",\"type\":\"BoxZoomTool\"},{\"attributes\":{},\"id\":\"3232\",\"type\":\"LinearScale\"},{\"attributes\":{\"end\":1829.3082374520966,\"reset_end\":1829.3082374520966,\"reset_start\":226.93355977549717,\"start\":226.93355977549717,\"tags\":[[[\"inertia\",\"inertia\",null]]]},\"id\":\"3223\",\"type\":\"Range1d\"},{\"attributes\":{\"bottom_units\":\"screen\",\"fill_alpha\":0.5,\"fill_color\":\"lightgrey\",\"left_units\":\"screen\",\"level\":\"overlay\",\"line_alpha\":1.0,\"line_color\":\"black\",\"line_dash\":[4,4],\"line_width\":2,\"render_mode\":\"css\",\"right_units\":\"screen\",\"top_units\":\"screen\"},\"id\":\"3247\",\"type\":\"BoxAnnotation\"},{\"attributes\":{\"children\":[{\"id\":\"3221\"},{\"id\":\"3225\"},{\"id\":\"3277\"}],\"margin\":[0,0,0,0],\"name\":\"Row06739\",\"tags\":[\"embedded\"]},\"id\":\"3220\",\"type\":\"Row\"},{\"attributes\":{\"ticks\":[1,2,3,4,5,6,7,8,9,10]},\"id\":\"3263\",\"type\":\"FixedTicker\"},{\"attributes\":{},\"id\":\"3265\",\"type\":\"BasicTickFormatter\"},{\"attributes\":{},\"id\":\"3244\",\"type\":\"WheelZoomTool\"},{\"attributes\":{},\"id\":\"3256\",\"type\":\"Selection\"},{\"attributes\":{\"align\":null,\"below\":[{\"id\":\"3234\"}],\"center\":[{\"id\":\"3237\"},{\"id\":\"3241\"}],\"left\":[{\"id\":\"3238\"}],\"margin\":null,\"min_border_bottom\":10,\"min_border_left\":10,\"min_border_right\":10,\"min_border_top\":10,\"plot_height\":300,\"plot_width\":700,\"renderers\":[{\"id\":\"3261\"}],\"sizing_mode\":\"fixed\",\"title\":{\"id\":\"3226\"},\"toolbar\":{\"id\":\"3248\"},\"x_range\":{\"id\":\"3222\"},\"x_scale\":{\"id\":\"3230\"},\"y_range\":{\"id\":\"3223\"},\"y_scale\":{\"id\":\"3232\"}},\"id\":\"3225\",\"subtype\":\"Figure\",\"type\":\"Plot\"},{\"attributes\":{\"data\":{\"inertia\":{\"__ndarray__\":\"ydCjqRt/mkCLmIvpaXGTQNSuLwhyFI5A+aXyTSU7h0BE35qiHMuDQGijetOoSoFAL+yq6WztfUAMVRq2ybp6QPi566pBNnhAU8k1wG+HdkA=\",\"dtype\":\"float64\",\"shape\":[10]},\"k\":[1,2,3,4,5,6,7,8,9,10]},\"selected\":{\"id\":\"3256\"},\"selection_policy\":{\"id\":\"3275\"}},\"id\":\"3255\",\"type\":\"ColumnDataSource\"},{\"attributes\":{\"axis_label\":\"k\",\"bounds\":\"auto\",\"formatter\":{\"id\":\"3265\"},\"major_label_orientation\":\"horizontal\",\"ticker\":{\"id\":\"3263\"}},\"id\":\"3234\",\"type\":\"LinearAxis\"},{\"attributes\":{\"active_drag\":\"auto\",\"active_inspect\":\"auto\",\"active_multi\":null,\"active_scroll\":\"auto\",\"active_tap\":\"auto\",\"tools\":[{\"id\":\"3224\"},{\"id\":\"3242\"},{\"id\":\"3243\"},{\"id\":\"3244\"},{\"id\":\"3245\"},{\"id\":\"3246\"}]},\"id\":\"3248\",\"type\":\"Toolbar\"},{\"attributes\":{\"line_alpha\":0.2,\"line_color\":\"#1f77b3\",\"line_width\":2,\"x\":{\"field\":\"k\"},\"y\":{\"field\":\"inertia\"}},\"id\":\"3260\",\"type\":\"Line\"},{\"attributes\":{\"margin\":[5,5,5,5],\"name\":\"HSpacer06744\",\"sizing_mode\":\"stretch_width\"},\"id\":\"3277\",\"type\":\"Spacer\"},{\"attributes\":{},\"id\":\"3243\",\"type\":\"PanTool\"},{\"attributes\":{\"text\":\"Elbow Curve\",\"text_color\":{\"value\":\"black\"},\"text_font_size\":{\"value\":\"12pt\"}},\"id\":\"3226\",\"type\":\"Title\"},{\"attributes\":{\"source\":{\"id\":\"3255\"}},\"id\":\"3262\",\"type\":\"CDSView\"}],\"root_ids\":[\"3220\"]},\"title\":\"Bokeh Application\",\"version\":\"2.0.2\"}};\n",
       "  var render_items = [{\"docid\":\"23a4af32-6264-49fa-bba5-6540c1082737\",\"root_ids\":[\"3220\"],\"roots\":{\"3220\":\"74e01084-7de1-49ac-a33b-c850b7a13ad8\"}}];\n",
       "  root.Bokeh.embed.embed_items_notebook(docs_json, render_items);\n",
       "  }\n",
       "if (root.Bokeh !== undefined) {\n",
       "    embed_document(root);\n",
       "  } else {\n",
       "    var attempts = 0;\n",
       "    var timer = setInterval(function(root) {\n",
       "      if (root.Bokeh !== undefined) {\n",
       "        clearInterval(timer);\n",
       "        embed_document(root);\n",
       "      } else if (document.readyState == \"complete\") {\n",
       "        attempts++;\n",
       "        if (attempts > 100) {\n",
       "          clearInterval(timer);\n",
       "          console.log(\"Bokeh: ERROR: Unable to run BokehJS code because BokehJS library is missing\");\n",
       "        }\n",
       "      }\n",
       "    }, 10, root)\n",
       "  }\n",
       "})(window);</script>"
      ],
      "text/plain": [
       ":Curve   [k]   (inertia)"
      ]
     },
     "execution_count": 119,
     "metadata": {
      "application/vnd.holoviews_exec.v0+json": {
       "id": "3220"
      }
     },
     "output_type": "execute_result"
    }
   ],
   "source": [
    "inertia = []\n",
    "k = list(range(1, 11))\n",
    "\n",
    "# Calculate the inertia for the range of k values\n",
    "for i in k:\n",
    "    km = KMeans(n_clusters=i, random_state=0)\n",
    "    km.fit(pca_df)\n",
    "    inertia.append(km.inertia_)\n",
    "\n",
    "# Create the Elbow Curve using hvPlot\n",
    "elbow_data = {\"k\": k, \"inertia\": inertia}\n",
    "df_elbow = pd.DataFrame(elbow_data)\n",
    "df_elbow.hvplot.line(x=\"k\", y=\"inertia\", xticks=k, title=\"Elbow Curve\")"
   ]
  },
  {
   "cell_type": "markdown",
   "metadata": {},
   "source": [
    "Running K-Means with `k=<your best value for k here>`"
   ]
  },
  {
   "cell_type": "code",
   "execution_count": 120,
   "metadata": {},
   "outputs": [
    {
     "data": {
      "text/html": [
       "<div>\n",
       "<style scoped>\n",
       "    .dataframe tbody tr th:only-of-type {\n",
       "        vertical-align: middle;\n",
       "    }\n",
       "\n",
       "    .dataframe tbody tr th {\n",
       "        vertical-align: top;\n",
       "    }\n",
       "\n",
       "    .dataframe thead th {\n",
       "        text-align: right;\n",
       "    }\n",
       "</style>\n",
       "<table border=\"1\" class=\"dataframe\">\n",
       "  <thead>\n",
       "    <tr style=\"text-align: right;\">\n",
       "      <th></th>\n",
       "      <th>Algorithm</th>\n",
       "      <th>ProofType</th>\n",
       "      <th>TotalCoinsMined</th>\n",
       "      <th>TotalCoinSupply</th>\n",
       "      <th>PC 1</th>\n",
       "      <th>PC 2</th>\n",
       "      <th>PC 3</th>\n",
       "      <th>CoinName</th>\n",
       "      <th>Class</th>\n",
       "    </tr>\n",
       "  </thead>\n",
       "  <tbody>\n",
       "    <tr>\n",
       "      <th>42</th>\n",
       "      <td>64</td>\n",
       "      <td>18</td>\n",
       "      <td>1</td>\n",
       "      <td>179</td>\n",
       "      <td>-1.698856</td>\n",
       "      <td>0.137613</td>\n",
       "      <td>1.231541</td>\n",
       "      <td>42 Coin</td>\n",
       "      <td>2</td>\n",
       "    </tr>\n",
       "    <tr>\n",
       "      <th>404</th>\n",
       "      <td>64</td>\n",
       "      <td>18</td>\n",
       "      <td>48</td>\n",
       "      <td>206</td>\n",
       "      <td>-1.636116</td>\n",
       "      <td>0.539719</td>\n",
       "      <td>1.037176</td>\n",
       "      <td>404Coin</td>\n",
       "      <td>2</td>\n",
       "    </tr>\n",
       "    <tr>\n",
       "      <th>1337</th>\n",
       "      <td>79</td>\n",
       "      <td>18</td>\n",
       "      <td>499</td>\n",
       "      <td>150</td>\n",
       "      <td>-0.551606</td>\n",
       "      <td>0.733117</td>\n",
       "      <td>-1.938423</td>\n",
       "      <td>EliteCoin</td>\n",
       "      <td>1</td>\n",
       "    </tr>\n",
       "    <tr>\n",
       "      <th>ETH</th>\n",
       "      <td>28</td>\n",
       "      <td>16</td>\n",
       "      <td>363</td>\n",
       "      <td>3</td>\n",
       "      <td>1.291072</td>\n",
       "      <td>-0.726298</td>\n",
       "      <td>-0.177205</td>\n",
       "      <td>Ethereum</td>\n",
       "      <td>0</td>\n",
       "    </tr>\n",
       "    <tr>\n",
       "      <th>NXT</th>\n",
       "      <td>50</td>\n",
       "      <td>11</td>\n",
       "      <td>446</td>\n",
       "      <td>8</td>\n",
       "      <td>1.727016</td>\n",
       "      <td>-0.785631</td>\n",
       "      <td>-0.873990</td>\n",
       "      <td>Nxt</td>\n",
       "      <td>0</td>\n",
       "    </tr>\n",
       "  </tbody>\n",
       "</table>\n",
       "</div>"
      ],
      "text/plain": [
       "      Algorithm  ProofType  TotalCoinsMined  TotalCoinSupply      PC 1  \\\n",
       "42           64         18                1              179 -1.698856   \n",
       "404          64         18               48              206 -1.636116   \n",
       "1337         79         18              499              150 -0.551606   \n",
       "ETH          28         16              363                3  1.291072   \n",
       "NXT          50         11              446                8  1.727016   \n",
       "\n",
       "          PC 2      PC 3   CoinName  Class  \n",
       "42    0.137613  1.231541    42 Coin      2  \n",
       "404   0.539719  1.037176    404Coin      2  \n",
       "1337  0.733117 -1.938423  EliteCoin      1  \n",
       "ETH  -0.726298 -0.177205   Ethereum      0  \n",
       "NXT  -0.785631 -0.873990        Nxt      0  "
      ]
     },
     "execution_count": 120,
     "metadata": {},
     "output_type": "execute_result"
    }
   ],
   "source": [
    "# Initialize the K-Means model\n",
    "model = KMeans(n_clusters=3, random_state=0)\n",
    "# Fit the model\n",
    "model.fit(pca_df)\n",
    "# Predict clusters\n",
    "predictions = model.predict(pca_df)\n",
    "# Create a new DataFrame including predicted clusters and cryptocurrencies features\n",
    "clustered_df = pd.DataFrame({\n",
    "    \"Algorithm\": crypto_df[\"Algorithm\"],\n",
    "    \"ProofType\": crypto_df[\"ProofType\"],\n",
    "    \"TotalCoinsMined\": crypto_df[\"TotalCoinsMined\"],\n",
    "    \"TotalCoinSupply\": crypto_df[\"TotalCoinSupply\"],\n",
    "    \"PC 1\": pca_df[\"PC 1\"],\n",
    "    \"PC 2\": pca_df[\"PC 2\"],\n",
    "    \"PC 3\": pca_df[\"PC 3\"],\n",
    "    \"CoinName\": coins_name[\"CoinName\"],\n",
    "    \"Class\": model.labels_,\n",
    "})\n",
    "clustered_df.head()\n"
   ]
  },
  {
   "cell_type": "markdown",
   "metadata": {},
   "source": [
    "### Visualizing Results\n",
    "\n",
    "#### 3D-Scatter with Clusters"
   ]
  },
  {
   "cell_type": "code",
   "execution_count": 121,
   "metadata": {},
   "outputs": [
    {
     "data": {
      "application/vnd.plotly.v1+json": {
       "config": {
        "plotlyServerURL": "https://plot.ly"
       },
       "data": [
        {
         "customdata": [
          [
           64
          ],
          [
           64
          ],
          [
           58
          ],
          [
           64
          ],
          [
           81
          ],
          [
           64
          ],
          [
           64
          ],
          [
           64
          ],
          [
           64
          ],
          [
           64
          ],
          [
           64
          ],
          [
           64
          ],
          [
           64
          ],
          [
           77
          ],
          [
           64
          ],
          [
           64
          ],
          [
           64
          ],
          [
           58
          ],
          [
           64
          ],
          [
           64
          ],
          [
           58
          ],
          [
           45
          ],
          [
           64
          ],
          [
           64
          ],
          [
           77
          ],
          [
           77
          ],
          [
           58
          ],
          [
           58
          ],
          [
           58
          ],
          [
           77
          ],
          [
           77
          ],
          [
           64
          ],
          [
           64
          ],
          [
           79
          ],
          [
           43
          ],
          [
           79
          ],
          [
           77
          ],
          [
           55
          ],
          [
           64
          ],
          [
           45
          ],
          [
           64
          ],
          [
           64
          ],
          [
           64
          ],
          [
           64
          ],
          [
           64
          ],
          [
           64
          ],
          [
           58
          ],
          [
           64
          ],
          [
           77
          ],
          [
           58
          ],
          [
           54
          ],
          [
           77
          ],
          [
           77
          ],
          [
           81
          ],
          [
           77
          ],
          [
           58
          ],
          [
           77
          ],
          [
           58
          ],
          [
           58
          ],
          [
           64
          ],
          [
           77
          ],
          [
           64
          ],
          [
           77
          ],
          [
           58
          ],
          [
           64
          ],
          [
           77
          ],
          [
           58
          ],
          [
           64
          ],
          [
           64
          ],
          [
           79
          ],
          [
           77
          ],
          [
           77
          ],
          [
           58
          ],
          [
           58
          ],
          [
           77
          ],
          [
           64
          ],
          [
           64
          ],
          [
           58
          ],
          [
           64
          ],
          [
           79
          ],
          [
           77
          ],
          [
           77
          ],
          [
           64
          ],
          [
           64
          ],
          [
           77
          ],
          [
           58
          ],
          [
           64
          ],
          [
           64
          ],
          [
           64
          ],
          [
           77
          ],
          [
           64
          ],
          [
           64
          ],
          [
           64
          ],
          [
           55
          ],
          [
           64
          ],
          [
           39
          ],
          [
           64
          ],
          [
           58
          ],
          [
           77
          ],
          [
           64
          ],
          [
           64
          ],
          [
           64
          ],
          [
           64
          ],
          [
           79
          ],
          [
           77
          ],
          [
           44
          ],
          [
           64
          ],
          [
           64
          ],
          [
           64
          ],
          [
           77
          ],
          [
           64
          ],
          [
           64
          ],
          [
           64
          ],
          [
           64
          ],
          [
           77
          ],
          [
           67
          ],
          [
           64
          ],
          [
           79
          ],
          [
           64
          ],
          [
           77
          ],
          [
           79
          ],
          [
           73
          ],
          [
           58
          ],
          [
           77
          ],
          [
           64
          ],
          [
           64
          ],
          [
           64
          ],
          [
           77
          ],
          [
           64
          ],
          [
           77
          ],
          [
           64
          ],
          [
           45
          ],
          [
           47
          ],
          [
           64
          ],
          [
           64
          ],
          [
           45
          ],
          [
           64
          ],
          [
           77
          ],
          [
           45
          ],
          [
           64
          ],
          [
           77
          ],
          [
           77
          ],
          [
           58
          ],
          [
           68
          ],
          [
           40
          ],
          [
           64
          ],
          [
           77
          ],
          [
           83
          ],
          [
           64
          ],
          [
           44
          ],
          [
           64
          ],
          [
           64
          ],
          [
           64
          ],
          [
           82
          ],
          [
           83
          ],
          [
           74
          ],
          [
           77
          ],
          [
           64
          ],
          [
           82
          ],
          [
           77
          ],
          [
           56
          ],
          [
           40
          ],
          [
           64
          ],
          [
           83
          ],
          [
           32
          ],
          [
           77
          ],
          [
           82
          ],
          [
           83
          ],
          [
           29
          ],
          [
           64
          ],
          [
           56
          ],
          [
           40
          ],
          [
           55
          ],
          [
           64
          ],
          [
           48
          ],
          [
           79
          ],
          [
           51
          ],
          [
           64
          ],
          [
           64
          ],
          [
           69
          ],
          [
           58
          ],
          [
           58
          ],
          [
           78
          ],
          [
           64
          ],
          [
           77
          ],
          [
           41
          ],
          [
           79
          ],
          [
           77
          ],
          [
           58
          ]
         ],
         "hovertemplate": "<b>%{hovertext}</b><br><br>Class=%{marker.color}<br>PC 1=%{x}<br>PC 2=%{y}<br>PC 3=%{z}<br>Algorithm=%{customdata[0]}<extra></extra>",
         "hovertext": [
          "42 Coin",
          "404Coin",
          "BitcoinDark",
          "ProsperCoin",
          "KoboCoin",
          "Argentum",
          "Aurora Coin",
          "MoonCoin",
          "Quatloo",
          "BitBar",
          "Catcoin",
          "CryptoBullion",
          "CannaCoin",
          "CryptCoin",
          "E-Gulden",
          "Emerald",
          "Franko",
          "IXcoin",
          "LuckyCoin",
          "Litebar ",
          "Namecoin",
          "Orbitcoin",
          "RonPaulCoin",
          "StableCoin",
          "SyncCoin",
          "TorCoin",
          "TerraCoin",
          "UnbreakableCoin",
          "Unobtanium",
          "UroCoin",
          "X11 Coin",
          "Wild Beast Coin",
          "8BIT Coin",
          "Sativa Coin",
          "JoinCoin",
          "Triangles Coin",
          "Ucoin",
          "CypherPunkCoin",
          "OrangeCoin",
          "FriendshipCoin",
          "OmniCron",
          "BitstarCoin",
          "HyperCoin",
          "Vtorrent",
          "BitcoinPlus",
          "MasterCoin",
          "SoonCoin",
          "1Credit",
          "IslaCoin",
          "Anarchists Prime",
          "Droidz",
          "BowsCoin",
          "Squall Coin",
          "EverGreenCoin",
          "MindCoin",
          "I0coin",
          "Creditbit ",
          "EDRCoin",
          "DubaiCoin",
          "BillaryCoin",
          "Influxcoin",
          "YoCoin",
          "EuropeCoin",
          "SwingCoin",
          "Francs",
          "BolivarCoin",
          "Clockcoin",
          "Omni",
          "iBankCoin",
          "MudraCoin",
          "PizzaCoin",
          "GoldBlocks",
          "BitTokens",
          "ZayedCoin",
          "MustangCoin",
          "ZoneCoin",
          "RootCoin",
          "DollarCoin",
          "Shilling",
          "RoyalCoin",
          "InsaneCoin",
          "XenixCoin",
          "PLNCoin",
          "AquariusCoin",
          "Eternity",
          "Eurocoin",
          "BitcoinFast",
          "BitConnect Coin",
          "MoneyCoin",
          "Enigma",
          "Russiacoin",
          "GameUnits",
          "GAKHcoin",
          "LiteCreed",
          "OsmiumCoin",
          "HexxCoin",
          "Klingon Empire Darsek",
          "Internet of People",
          "KushCoin",
          "Printerium",
          "Impeach",
          "Zilbercoin",
          "BeaverCoin",
          "FindCoin",
          "VirtacoinPlus",
          "Coinonat",
          "Independent Money System",
          "ArgusCoin",
          "LomoCoin",
          "GoldReserve",
          "BenjiRolls",
          "ParallelCoin",
          "Degas Coin",
          "EquiTrader",
          "Insane Coin",
          "Bitcoin Planet",
          "Unify",
          "BritCoin",
          "SocialCoin",
          "DAS",
          "DeepOnion",
          "Bitcore",
          "Bitcoin Cash",
          "Monoeci",
          "Sojourn Coin",
          "FrazCoin",
          "Kronecoin",
          "CoinonatX",
          "Ethereum Dark",
          "Regalcoin",
          "TerraNovaCoin",
          "VIVO Coin",
          "LUXCoin",
          "Xios",
          "BlackholeCoin",
          "Innova",
          "LiteCoin Ultra",
          "Sucre",
          "SparksPay",
          "Litecoin Plus",
          "Monkey Project",
          "Pioneer Coin",
          "UnitedBitcoin",
          "MUNcoin",
          "KREDS",
          "BitFlip",
          "Pushi",
          "Ellerium",
          "Poseidon",
          "Bitspace",
          "Briacoin",
          "Ignition",
          "Abjcoin",
          "Proton",
          "Bitcoin Incognito",
          "KEYCO",
          "Reliance",
          "EmaratCoin",
          "Motion",
          "Axe",
          "Giant",
          "Absolute Coin",
          "TPCash",
          "Urals Coin",
          "XDNA",
          "PAXEX",
          "Xchange",
          "Bettex coin",
          "Exosis",
          "Oduwa",
          "Galilel",
          "Scribe Network",
          "SLICE",
          "Nasdacoin",
          "Gexan",
          "Bitcoin Rhodium",
          "Zano",
          "Neetcoin",
          "Always Evolving",
          "Dextro",
          "Wincash Coin",
          "Bitcoin SV",
          "SibCoin",
          "ViaCoin",
          "IOCoin",
          "Zcoin",
          "CloakCoin",
          "Dash",
          "Bitcoin"
         ],
         "legendgroup": "2",
         "marker": {
          "color": [
           2,
           2,
           2,
           2,
           2,
           2,
           2,
           2,
           2,
           2,
           2,
           2,
           2,
           2,
           2,
           2,
           2,
           2,
           2,
           2,
           2,
           2,
           2,
           2,
           2,
           2,
           2,
           2,
           2,
           2,
           2,
           2,
           2,
           2,
           2,
           2,
           2,
           2,
           2,
           2,
           2,
           2,
           2,
           2,
           2,
           2,
           2,
           2,
           2,
           2,
           2,
           2,
           2,
           2,
           2,
           2,
           2,
           2,
           2,
           2,
           2,
           2,
           2,
           2,
           2,
           2,
           2,
           2,
           2,
           2,
           2,
           2,
           2,
           2,
           2,
           2,
           2,
           2,
           2,
           2,
           2,
           2,
           2,
           2,
           2,
           2,
           2,
           2,
           2,
           2,
           2,
           2,
           2,
           2,
           2,
           2,
           2,
           2,
           2,
           2,
           2,
           2,
           2,
           2,
           2,
           2,
           2,
           2,
           2,
           2,
           2,
           2,
           2,
           2,
           2,
           2,
           2,
           2,
           2,
           2,
           2,
           2,
           2,
           2,
           2,
           2,
           2,
           2,
           2,
           2,
           2,
           2,
           2,
           2,
           2,
           2,
           2,
           2,
           2,
           2,
           2,
           2,
           2,
           2,
           2,
           2,
           2,
           2,
           2,
           2,
           2,
           2,
           2,
           2,
           2,
           2,
           2,
           2,
           2,
           2,
           2,
           2,
           2,
           2,
           2,
           2,
           2,
           2,
           2,
           2,
           2,
           2,
           2,
           2,
           2,
           2,
           2,
           2,
           2,
           2,
           2,
           2,
           2,
           2,
           2,
           2,
           2,
           2,
           2
          ],
          "coloraxis": "coloraxis",
          "symbol": "circle"
         },
         "mode": "markers",
         "name": "2",
         "scene": "scene",
         "showlegend": true,
         "type": "scatter3d",
         "x": [
          -1.698855791344005,
          -1.6361163443069016,
          -1.208320269647056,
          -0.8037439747062246,
          -1.3646170088527252,
          -0.9427229415355924,
          -0.6800100825890748,
          -1.332855957826339,
          -0.516770991046102,
          -1.7306843603337703,
          -0.7855812290128598,
          -1.1066542489757811,
          -0.6652185520462043,
          -1.1399812995178256,
          -0.4181595967916148,
          -0.59676479839841,
          -0.7834156430849977,
          -0.2283145980303576,
          -0.4160762376146402,
          -0.827662140385722,
          -0.38492053963285555,
          -0.914194366980033,
          -1.0266062762174712,
          -0.43089712654186363,
          -1.5609441194923894,
          -1.4493273100275357,
          -0.452228533214086,
          -1.2203750337164532,
          -0.9850231797470864,
          -1.1279452912290533,
          -1.8188933229691875,
          -1.1950214540240678,
          -1.058653464115012,
          -1.2998164602986628,
          -0.4255944018337837,
          -1.6596366880452023,
          -0.2847600013033955,
          -0.26988122532981607,
          -1.219508350822346,
          -1.1628102160556224,
          -0.8639664265649961,
          -1.075670449741813,
          -0.7635114972487659,
          -0.936505824203215,
          0.1739644730272796,
          -1.415738077775441,
          -0.42708367775660494,
          -1.598097566942282,
          -1.4345475344757563,
          -0.7088171041828417,
          -1.077263116597339,
          -0.9116009527088477,
          -0.5177524574587725,
          -1.5241006604482894,
          -0.7743234250342663,
          -0.23734955619973247,
          -2.114618225372136,
          -1.0999007716145572,
          -0.7593678444204908,
          -1.2981203204591563,
          -1.4386214234750903,
          -0.9573899795647689,
          -1.5877904141046575,
          -1.2442638410115976,
          -0.7684396062202604,
          -1.0026414532603452,
          -0.9915117843537746,
          -1.415830907130056,
          -1.4573665973663192,
          -0.24658747297553069,
          -1.451377709005964,
          -1.5462253654840419,
          -1.2245853148726764,
          -1.136832505681318,
          -1.906427513252769,
          -1.2850220758941753,
          -1.0466068532225121,
          -0.3077421236907147,
          -0.7841370727144629,
          -0.46309626499751116,
          -1.3341206665044119,
          -1.8345602786916735,
          -1.064046872246945,
          -1.5089360110779033,
          -1.7794633495047179,
          -0.743556343364218,
          -0.8488788045650186,
          -1.1032500736267408,
          -1.360477847474074,
          -2.0492641996005254,
          -0.9137639293619974,
          -1.053228248171896,
          -1.4270232980503958,
          -0.8011599467651559,
          -1.1583246452188782,
          -0.7752360162495087,
          -0.9925509551043101,
          -1.1131541641170526,
          -2.033545527898868,
          -0.9304825187569653,
          -1.458583981580042,
          -0.261672241113891,
          -1.1051771324788378,
          0.16766927587193184,
          -1.0276030994354266,
          -0.37452972204443746,
          -1.1850805599033614,
          -1.4915676162006304,
          -1.1515505517588105,
          -1.445685759990094,
          -0.6255817146650492,
          -0.821133574790953,
          -0.49445328198987915,
          -0.9626905583420868,
          -1.2046195994100386,
          -0.9589994601129278,
          -0.4464712529097349,
          -1.314110883869912,
          -0.556572281929032,
          -1.280415025249318,
          -1.1063174485780174,
          -0.7347815219128501,
          -0.2825243470466069,
          -1.8166137024792546,
          -0.8382751975835524,
          -0.6660434136340119,
          -0.7984832122648833,
          -1.4321538794237536,
          -1.4638540495856442,
          -1.6090165285003184,
          -1.220209872283823,
          -0.4450145926637536,
          -0.829774208925357,
          -1.3061036449560497,
          -0.6937276218646454,
          -0.5095483082102604,
          -0.9224275701129122,
          -1.2257411294599936,
          -0.19876059082898365,
          -1.5035625111139586,
          -0.23573809354186065,
          -1.1297806731138988,
          -0.24063969698670257,
          -0.8576015066063453,
          0.1598608267798832,
          -0.8384807644607709,
          -1.7549682995295421,
          -2.30971793533371,
          -0.8880702509537235,
          -0.6205275934101809,
          -1.518486831999525,
          -1.628195338392906,
          -1.16000732859304,
          -0.650095643216261,
          -0.4220779344225648,
          -1.2603455551633238,
          -0.5103342622664667,
          -1.1743534681434602,
          -1.2909432245648562,
          -1.1886730032363435,
          -1.1473244275927428,
          -0.45491930931514796,
          -0.9106183339088136,
          -1.1073764275617393,
          -0.15356198549994185,
          0.027141668333261988,
          -0.9540717555762201,
          -0.6241970240918508,
          -0.05767357959248635,
          -0.8904955691648055,
          -0.2261618195461484,
          -0.21629607033943626,
          -0.07074082818510845,
          -1.1592952045278355,
          -0.7735017797133077,
          -1.4398047950377049,
          -0.3002794979173979,
          -1.1010327717197073,
          -0.957617904036806,
          -0.16588550678136088,
          -1.0266516993379642,
          -0.2855359997697319,
          -0.9569608760386709,
          -0.422604803209409,
          -1.223019719791805,
          -0.1206758944138046,
          -1.3302114755937573,
          -1.436847063133677,
          -0.2915593052159817
         ],
         "y": [
          0.13761321693620956,
          0.5397190063686222,
          -0.5185552205065854,
          -0.6075151900611491,
          0.34844883617128386,
          0.9485045916420272,
          -0.726113115191935,
          0.008927313554556704,
          -1.568370439707824,
          0.3003150367221381,
          -0.5813515997899582,
          -1.744628319331233,
          -1.3694986789864194,
          -1.062899033695103,
          -0.31990117695511777,
          0.2811691131372404,
          -1.5595200748812441,
          -0.26328321934722776,
          -0.4508118682496056,
          -1.4586118911251813,
          -0.37472110448994667,
          0.34376038024206707,
          -0.7660998727642488,
          0.0020179606492403395,
          -1.9397939214521664,
          -1.8338908345911702,
          0.7159650460976373,
          1.0034432126898414,
          -0.4839994089255076,
          -1.914890045235646,
          0.6039535307683189,
          -0.4225648927553774,
          -1.7369504847967663,
          -1.7057573828514232,
          0.002544496271243375,
          -1.7367303963504794,
          -1.0259439426025538,
          -1.5434948883421047,
          -0.739309203553711,
          0.7890978544835133,
          0.21018724143548076,
          0.9782398676432869,
          -1.5269329320277958,
          -0.5511691685504424,
          -1.9132467613579478,
          0.5854371544516789,
          -0.4047236120283711,
          1.0779214262535066,
          -1.8630917715916173,
          0.8776036199844066,
          0.7359918720779792,
          -0.5429262503617313,
          -2.02062962877645,
          -0.17545560436785562,
          -1.0542506932000044,
          -0.2697123281054616,
          -0.8486607396998419,
          -0.44140591540778,
          -1.4568241217881153,
          0.4492477840606807,
          -1.5879650162479182,
          -1.1537443036042458,
          0.2255900755387443,
          0.34290224652144774,
          -0.7015471098207231,
          -0.27672605532873235,
          0.9199354381409462,
          0.5721317816969559,
          0.3888883536841103,
          -0.9637974594596339,
          -0.596038456987677,
          0.5993892384472282,
          -0.7022402475817104,
          1.3806341376273032,
          -0.34536842262224243,
          -0.6800130190763061,
          -1.728378339785788,
          -1.339229791526788,
          0.055163256184012924,
          -0.6412456867399523,
          0.07511383815395355,
          0.07647184832313397,
          0.49665625698225,
          0.2992352463685593,
          0.6717291203181682,
          -0.47910280193508464,
          0.4114581575948421,
          0.031862521043447826,
          0.9609266421986757,
          0.2281968114841578,
          -1.1572343617477334,
          -1.3888677569212173,
          0.013300569822603418,
          1.5258638737104464,
          -0.31701622119410267,
          1.5108045261264744,
          0.8652750369087332,
          -0.6229479062301604,
          1.1926127585824653,
          -0.5468830960449532,
          -0.6446446486788135,
          0.5040615519506065,
          -0.0011717770482563361,
          -1.2912679398001279,
          -1.5205603864522037,
          0.7514371337403752,
          -0.529460586207395,
          -0.2179784100511584,
          -1.7368577448582323,
          0.40614501594607955,
          0.44601396917591996,
          -1.811427846744475,
          -1.1898436052315715,
          1.0931678109294936,
          0.16726439702197102,
          -1.5804648206571532,
          -0.5121583490412213,
          0.11109673102568299,
          -1.6893675202765672,
          -1.00395726451742,
          -0.6015969240864618,
          -0.46059342590757896,
          -0.30185787189663044,
          1.3602167415347992,
          -1.69123233671371,
          -0.6286838772274069,
          1.4350831054079969,
          0.6276031250326299,
          0.31807541740500483,
          -0.23965081563831364,
          -1.2693810774898961,
          -0.029248200406876725,
          1.0213457721312345,
          -0.6950142728455181,
          -0.9741819697879317,
          0.6000359762708831,
          -1.1104419794870743,
          -0.8988557481944012,
          -0.38359110161800525,
          0.2103837095909858,
          -0.8719070077661314,
          -0.45987118722706805,
          -0.31177148262237586,
          -1.105444656579511,
          -1.1757122875228179,
          0.4269121227782862,
          -0.542097147090903,
          0.359642693395416,
          -0.6675202051379975,
          0.8993176234581892,
          -0.21065499081641328,
          0.3864836420701776,
          0.057671696014916646,
          0.09238245341210609,
          -0.669299330452022,
          -1.181164460585035,
          0.5743707698088142,
          1.4375915452389003,
          -0.5731479837587591,
          -0.7400855856142337,
          0.7475997956315404,
          1.092826657693872,
          -1.565414844638665,
          -0.5905249077203868,
          -0.22279583120108173,
          -1.8499065474347636,
          -1.6838468356749012,
          0.240837435904203,
          -0.4571506193173807,
          -0.39927526996676427,
          -1.2315420717020715,
          0.3174506122513209,
          -1.3488330046420687,
          1.4483067265026235,
          -0.48997907768809645,
          -0.910281328244241,
          -1.3386435939033519,
          -0.5093716893947161,
          0.7180216261302664,
          -0.5781954840004825,
          -0.6805482096930764,
          -0.3040009081493752,
          -0.2995450376335488,
          -0.09799591263031185,
          -0.32244420341178887,
          -0.2788408642213621,
          -1.7671038636430387,
          -0.4745997773566549,
          -0.30828698065486426
         ],
         "z": [
          1.2315411782377037,
          1.0371755561000076,
          1.0130138687258141,
          0.5762759513483265,
          -0.6497188284402565,
          0.45945626354771535,
          -0.27075917648643943,
          1.318899083368243,
          0.3136622917817284,
          1.2481104860512036,
          0.5401969638048282,
          0.6671037871810319,
          0.5162132107383858,
          0.2605160866364435,
          -0.1297437338535137,
          0.03301697407712992,
          0.755423256341084,
          -0.007332596183599751,
          -0.10392420724770232,
          0.8064821704501643,
          0.2782158979002836,
          1.3078177068073926,
          0.9826334236984681,
          -0.1805642573832402,
          0.48958841634667843,
          0.28014751141166117,
          0.1462255710706073,
          1.360235773969949,
          1.301333311565093,
          0.43108866817117847,
          0.3497862159129111,
          1.1860505504528929,
          0.5855048808382445,
          -0.1476655880553913,
          1.3890316187376308,
          0.458064040755564,
          0.8319790148307886,
          0.5737481741605424,
          0.6300075557800608,
          1.621927385238001,
          0.49356444491632523,
          0.006397304890810688,
          0.047355795834002755,
          0.11695482393147534,
          1.2442780360472627,
          1.3278552317532326,
          0.3550943386151752,
          1.5211559319175831,
          0.26208417858197647,
          0.5370706558684952,
          0.8149269819334388,
          -0.23587198116689617,
          0.774588964543502,
          -0.2671067185772032,
          -0.3499340078024071,
          0.009141355398162685,
          -0.8360684190700611,
          0.8153264497446636,
          0.47578667134730285,
          0.49493382268628194,
          0.20731404099038048,
          0.9541675955834844,
          0.04983793436598824,
          0.8801096559824995,
          0.5385599044410354,
          -0.1439182576546807,
          0.3303977974878735,
          1.3309863161332058,
          0.7734492964441932,
          0.6042135671588335,
          0.6742880042395238,
          -0.1029573830342863,
          1.08117455163507,
          1.136824184614729,
          0.7078344336069797,
          0.7257678590065332,
          0.5635396120625612,
          0.36555251372843856,
          0.3953962307600343,
          0.8923606846360187,
          -0.3386469176179522,
          0.49386377550755056,
          0.09479084098021576,
          0.8793260262607405,
          0.2690058392520206,
          0.2307435600274952,
          -0.24422447814256634,
          0.2640124318463822,
          0.4842372569936647,
          0.8172236727304665,
          0.2146939350449291,
          0.4986053697650199,
          0.8069773387102612,
          0.10357144327927598,
          1.1013682378460037,
          1.9341480030677154,
          -0.10665547959932091,
          0.8779958154599988,
          0.5753116457906317,
          0.10597218954363356,
          1.0066912436942628,
          1.4284635500548248,
          0.9422630735699116,
          -0.011918556937420943,
          -0.4917679801172292,
          1.0613451102077718,
          0.5257678853273063,
          0.9661301811022232,
          0.7400802919499248,
          -0.22704048002813038,
          0.04409496469671308,
          0.8745474971276788,
          -0.475813362604657,
          0.4603224713454823,
          -0.5747735569565482,
          0.15915055766548777,
          -0.0396177821685743,
          -0.5303333777464088,
          0.4069670059625115,
          0.4810349821910442,
          -0.7166964138165286,
          -0.24787389887228278,
          0.09151111330697528,
          0.17680572344835865,
          0.8761845564914713,
          0.35185511984772705,
          0.11056290841421262,
          -0.2991030988833851,
          0.8000873527319011,
          0.18924270644860292,
          0.749759613785069,
          1.2781255352700647,
          0.8654061057017244,
          0.7642070793639794,
          -0.19243438887123818,
          1.2447405273516094,
          0.2186435491067989,
          0.36653585080060286,
          0.9475895833735645,
          0.890260982532711,
          0.7159381803082963,
          0.10863465514980684,
          0.024025925732003222,
          0.47662375334802054,
          0.9038352894316223,
          0.40266764166536023,
          0.49979219745640135,
          0.7702446288751342,
          0.7300328327781096,
          0.7699899392202605,
          1.0092898670875645,
          1.0582746170779218,
          0.35269203663101184,
          0.8139301508551626,
          -0.13795203354469202,
          0.7127852926467534,
          0.8493588506140959,
          0.0678587142851901,
          0.02633504592301648,
          0.26932920067382077,
          0.7785867844826876,
          0.7517735308707982,
          0.30077491643625737,
          -0.3504315688289414,
          1.1459363335919976,
          0.4972550582930646,
          -0.28579582462061054,
          0.662450575401571,
          1.9319495450091344,
          0.006405306602903905,
          -0.3116183884059418,
          1.1957809849109717,
          0.19879690184187468,
          0.040402128315585865,
          1.0346958057898403,
          0.5749923723782124,
          0.21152829946656676,
          0.38140425703744263,
          -0.13184718898671902,
          1.1353323688206713,
          0.7469273762560535,
          0.09700243050089603,
          -0.29000187214609296,
          -0.1719895339252169,
          -0.43459793330790797,
          1.0948835424077525,
          -0.08335916297626361,
          -0.04471441253952857,
          0.10798506488873776
         ]
        },
        {
         "customdata": [
          [
           79
          ],
          [
           61
          ],
          [
           64
          ],
          [
           43
          ],
          [
           58
          ],
          [
           64
          ],
          [
           64
          ],
          [
           56
          ],
          [
           64
          ],
          [
           43
          ],
          [
           58
          ],
          [
           64
          ],
          [
           64
          ],
          [
           64
          ],
          [
           64
          ],
          [
           64
          ],
          [
           64
          ],
          [
           64
          ],
          [
           77
          ],
          [
           64
          ],
          [
           64
          ],
          [
           62
          ],
          [
           64
          ],
          [
           58
          ],
          [
           79
          ],
          [
           64
          ],
          [
           64
          ],
          [
           64
          ],
          [
           64
          ],
          [
           64
          ],
          [
           64
          ],
          [
           77
          ],
          [
           58
          ],
          [
           58
          ],
          [
           64
          ],
          [
           64
          ],
          [
           64
          ],
          [
           64
          ],
          [
           58
          ],
          [
           79
          ],
          [
           64
          ],
          [
           64
          ],
          [
           58
          ],
          [
           64
          ],
          [
           64
          ],
          [
           64
          ],
          [
           64
          ],
          [
           64
          ],
          [
           70
          ],
          [
           64
          ],
          [
           77
          ],
          [
           43
          ],
          [
           45
          ],
          [
           77
          ],
          [
           64
          ],
          [
           42
          ],
          [
           62
          ],
          [
           64
          ],
          [
           64
          ],
          [
           77
          ],
          [
           58
          ],
          [
           77
          ],
          [
           64
          ],
          [
           64
          ],
          [
           64
          ],
          [
           64
          ],
          [
           64
          ],
          [
           64
          ],
          [
           79
          ],
          [
           77
          ],
          [
           64
          ],
          [
           58
          ],
          [
           64
          ],
          [
           58
          ],
          [
           64
          ],
          [
           77
          ],
          [
           64
          ],
          [
           58
          ],
          [
           44
          ],
          [
           64
          ],
          [
           77
          ],
          [
           64
          ],
          [
           64
          ],
          [
           77
          ],
          [
           44
          ],
          [
           64
          ],
          [
           77
          ],
          [
           25
          ],
          [
           43
          ],
          [
           64
          ],
          [
           64
          ],
          [
           64
          ],
          [
           60
          ],
          [
           64
          ],
          [
           77
          ],
          [
           80
          ],
          [
           60
          ],
          [
           64
          ],
          [
           77
          ],
          [
           79
          ],
          [
           77
          ],
          [
           77
          ],
          [
           64
          ],
          [
           77
          ],
          [
           64
          ],
          [
           77
          ],
          [
           64
          ],
          [
           77
          ],
          [
           64
          ],
          [
           77
          ],
          [
           77
          ],
          [
           64
          ],
          [
           58
          ],
          [
           81
          ],
          [
           57
          ],
          [
           77
          ],
          [
           44
          ],
          [
           77
          ],
          [
           64
          ],
          [
           64
          ],
          [
           69
          ],
          [
           77
          ],
          [
           67
          ],
          [
           76
          ],
          [
           64
          ],
          [
           64
          ],
          [
           64
          ],
          [
           45
          ],
          [
           64
          ],
          [
           77
          ],
          [
           64
          ],
          [
           58
          ],
          [
           44
          ],
          [
           56
          ],
          [
           58
          ],
          [
           77
          ],
          [
           77
          ],
          [
           44
          ],
          [
           79
          ],
          [
           43
          ],
          [
           27
          ],
          [
           64
          ],
          [
           58
          ],
          [
           77
          ],
          [
           64
          ],
          [
           64
          ],
          [
           45
          ],
          [
           64
          ],
          [
           64
          ],
          [
           64
          ],
          [
           64
          ],
          [
           79
          ],
          [
           59
          ],
          [
           64
          ],
          [
           77
          ],
          [
           58
          ],
          [
           64
          ],
          [
           77
          ],
          [
           56
          ],
          [
           64
          ],
          [
           60
          ],
          [
           81
          ],
          [
           82
          ],
          [
           64
          ],
          [
           58
          ],
          [
           61
          ],
          [
           58
          ],
          [
           83
          ],
          [
           77
          ],
          [
           56
          ],
          [
           64
          ],
          [
           83
          ],
          [
           60
          ],
          [
           58
          ],
          [
           76
          ],
          [
           84
          ],
          [
           56
          ],
          [
           64
          ],
          [
           56
          ],
          [
           77
          ],
          [
           79
          ],
          [
           77
          ],
          [
           64
          ],
          [
           64
          ],
          [
           45
          ],
          [
           66
          ],
          [
           72
          ],
          [
           43
          ],
          [
           75
          ],
          [
           64
          ],
          [
           50
          ],
          [
           64
          ]
         ],
         "hovertemplate": "<b>%{hovertext}</b><br><br>Class=%{marker.color}<br>PC 1=%{x}<br>PC 2=%{y}<br>PC 3=%{z}<br>Algorithm=%{customdata[0]}<extra></extra>",
         "hovertext": [
          "EliteCoin",
          "Bitshares",
          "BlueCoin",
          "MyriadCoin",
          "ZetaCoin",
          "SexCoin",
          "EnergyCoin",
          "QuarkCoin",
          "Digitalcoin ",
          "Verge",
          "DevCoin",
          "EarthCoin",
          "Einsteinium",
          "FlutterCoin",
          "GrandCoin",
          "GlobalCoin",
          "GoldCoin",
          "HoboNickels",
          "HyperStake",
          "Infinite Coin",
          "KrugerCoin",
          "MaxCoin",
          "MintCoin",
          "MazaCoin",
          "NavCoin",
          "NobleCoin",
          "NyanCoin",
          "PotCoin",
          "PhoenixCoin",
          "Reddcoin",
          "SmartCoin",
          "SuperCoin",
          "SysCoin",
          "TigerCoin",
          "UnitaryStatus Dollar",
          "UltraCoin",
          "VeriCoin",
          "WorldCoin",
          "JouleCoin",
          "StealthCoin",
          "ZCC Coin",
          "MonaCoin",
          "Neutron",
          "PesetaCoin",
          "Dnotes",
          "Flo",
          "ArtByte",
          "LiteDoge",
          "Folding Coin",
          "SolarCoin",
          "TruckCoin",
          "Unitus",
          "UFO Coin",
          "PinkCoin",
          "GreenCoin",
          "Cryptonite",
          "Nexus",
          "Crypto Escudo",
          "AudioCoin",
          "MarsCoin ",
          "IncaKoin",
          "Piggy Coin",
          "Genstake",
          "Song Coin",
          "SmileyCoin",
          "BitZeny",
          "Diggits",
          "XiaoMiCoin",
          "Paycon",
          "CapriCoin",
          " ClubCoin",
          "Emercoin",
          "Pakcoin",
          "OKCash",
          "Revolution VR",
          "Hitcoin",
          "HiCoin",
          "CarpeDiemCoin",
          "PWR Coin",
          "SoulCoin",
          "Adzcoin",
          "ZeitCoin",
          "SafeExchangeCoin",
          "Ratecoin",
          "VIP Tokens",
          "Frankywillcoin",
          "Lutetium Coin",
          "Komodo",
          "Circuits of Value",
          "DopeCoin",
          "BitCurrency",
          "Swiscoin",
          "BuzzCoin",
          "PesoBit",
          "Halloween Coin",
          "GanjaCoin V2",
          "LanaCoin",
          "KiloCoin",
          "ArtexCoin",
          "EmberCoin",
          "Kurrent",
          "Stakenet",
          "PandaCoin",
          "PAC Global",
          "FirstCoin",
          "VaultCoin",
          "OpenChat",
          "Impact",
          "EB3coin",
          "HappyCoin",
          "Condensate",
          "GrowthCoin",
          "ILCOIN",
          "HTML5 Coin",
          "Quantum Resistant Ledger",
          "DigitalPrice",
          "Virta Unique Coin",
          "ArcticCoin",
          "Metrix",
          "gCn Coin",
          "Signatum",
          "Onix",
          "Cream",
          "VeChain",
          "NewYorkCoin",
          "AdCoin",
          "Linx",
          "TrezarCoin",
          "ATC Coin",
          "Elements",
          "WomenCoin",
          "Theresa May Coin",
          "NamoCoin",
          "Bitcloud 2.0",
          "Infinity Economics",
          "Pura",
          "Magnet",
          "Electra",
          "Bitcoin Diamond",
          "SHIELD",
          "Aion",
          "Cash & Back Coin",
          "GlobalToken",
          "AC3",
          "GermanCoin",
          "PopularCoin",
          "GunCoin",
          "IrishCoin",
          "Trollcoin",
          "Unified Society USDEX",
          "ShareChain",
          "Tokyo Coin",
          "LitecoinCash",
          "LottoCoin",
          "Crypto Improvement Fund",
          "Next.exchange Token",
          "MedicCoin",
          "FuturoCoin",
          "Carebit",
          "iDealCash",
          "TheVig",
          "Dekado",
          "Trivechain",
          "MMOCoin",
          "Project Pai",
          "Kcash",
          "TigerCash",
          "BitMoney",
          "Junson Ming Chan Coin",
          "HerbCoin",
          "Credit",
          "Beetle Coin",
          "Titan Coin",
          "BLAST",
          "VeChain Old",
          "YENTEN",
          "PEPS Coin",
          "Graviocoin",
          "Rapids",
          "PENG",
          "X42 Protocol",
          "Rhypton Club",
          "MegaCoin",
          "Gulden",
          "FeatherCoin",
          "BurstCoin",
          "Bytom",
          "DigiByte",
          "Ontology",
          "Litecoin",
          "Steem",
          "Buxcoin"
         ],
         "legendgroup": "1",
         "marker": {
          "color": [
           1,
           1,
           1,
           1,
           1,
           1,
           1,
           1,
           1,
           1,
           1,
           1,
           1,
           1,
           1,
           1,
           1,
           1,
           1,
           1,
           1,
           1,
           1,
           1,
           1,
           1,
           1,
           1,
           1,
           1,
           1,
           1,
           1,
           1,
           1,
           1,
           1,
           1,
           1,
           1,
           1,
           1,
           1,
           1,
           1,
           1,
           1,
           1,
           1,
           1,
           1,
           1,
           1,
           1,
           1,
           1,
           1,
           1,
           1,
           1,
           1,
           1,
           1,
           1,
           1,
           1,
           1,
           1,
           1,
           1,
           1,
           1,
           1,
           1,
           1,
           1,
           1,
           1,
           1,
           1,
           1,
           1,
           1,
           1,
           1,
           1,
           1,
           1,
           1,
           1,
           1,
           1,
           1,
           1,
           1,
           1,
           1,
           1,
           1,
           1,
           1,
           1,
           1,
           1,
           1,
           1,
           1,
           1,
           1,
           1,
           1,
           1,
           1,
           1,
           1,
           1,
           1,
           1,
           1,
           1,
           1,
           1,
           1,
           1,
           1,
           1,
           1,
           1,
           1,
           1,
           1,
           1,
           1,
           1,
           1,
           1,
           1,
           1,
           1,
           1,
           1,
           1,
           1,
           1,
           1,
           1,
           1,
           1,
           1,
           1,
           1,
           1,
           1,
           1,
           1,
           1,
           1,
           1,
           1,
           1,
           1,
           1,
           1,
           1,
           1,
           1,
           1,
           1,
           1,
           1,
           1,
           1,
           1,
           1,
           1,
           1,
           1,
           1,
           1,
           1,
           1,
           1,
           1,
           1,
           1,
           1,
           1,
           1,
           1,
           1,
           1,
           1
          ],
          "coloraxis": "coloraxis",
          "symbol": "diamond"
         },
         "mode": "markers",
         "name": "1",
         "scene": "scene",
         "showlegend": true,
         "type": "scatter3d",
         "x": [
          -0.5516057687916079,
          1.1798455983079124,
          0.11287944518059727,
          0.8828447177179463,
          0.3109051821390688,
          -0.06949879976686839,
          -0.07083137093002531,
          0.2718149628687815,
          -0.5208647882134244,
          1.0756316053733874,
          0.5309932056155923,
          0.5186394562057499,
          -0.061526077873702796,
          0.9245598441442288,
          0.3775559249919521,
          -0.520256096106563,
          -0.6072227076587265,
          -0.1621503595453681,
          1.1440935111941624,
          -0.06535198958090768,
          -0.08645476385023768,
          -0.1657611542241889,
          1.64346534320303,
          0.030211634394222756,
          -0.6254847383825171,
          0.4263921740442568,
          -0.06898293701462177,
          -0.511986130368927,
          -0.9496345795399127,
          0.3176718303530945,
          -0.6072744236378979,
          0.7254737826797926,
          -0.12301949024358715,
          -0.2978916094977928,
          0.020962367062120357,
          -0.2601941750684375,
          0.16319803970565722,
          -0.12560624925086222,
          -0.2981700975616378,
          -0.7429391945843906,
          -0.031215738756325606,
          0.10747658683229985,
          -0.7666072370409971,
          0.12342203061863136,
          0.8361885625074933,
          0.1618308811823355,
          0.4590973206009998,
          -0.1853869119313771,
          0.2751827979313776,
          -0.6610094232773439,
          -0.3533642068738959,
          0.7484648082044195,
          0.6069393878775637,
          -0.8654990207031856,
          0.5525513843724886,
          0.8985522605895955,
          -1.3478206727261886,
          0.45608566787787486,
          0.1170050501591027,
          -0.8338443554315611,
          0.2318478215098086,
          -0.30471361653082135,
          -0.3352481184581601,
          -0.2943105177250312,
          0.09124334941786261,
          -0.171894992353117,
          1.2041353630452458,
          -0.4402634411416182,
          -0.7582441384526772,
          -0.6491864899941631,
          -0.26222581826624075,
          -0.1093150029985747,
          -0.04402374026637083,
          -0.012385139730885862,
          0.06379766826299374,
          -0.4947978502986983,
          1.580963270854326,
          0.5135730947591479,
          0.8433823102812111,
          -0.23350173135421673,
          -1.0207829937462545,
          1.685535651972164,
          1.4296856392518802,
          -1.1147646752610814,
          -0.3073979369560727,
          -0.142739718866564,
          0.4388004922909705,
          -0.7095880953996617,
          1.036706892057437,
          0.0026363202543441826,
          1.3182068491055339,
          -0.6439642316535535,
          0.15914617520973992,
          -0.3328451578418969,
          -0.46400100681342776,
          -0.6090852242005569,
          -0.3721313938382369,
          0.30860751379936696,
          -0.46553554303960926,
          -0.8012321381642341,
          -0.5757294014135214,
          -2.416386816163578,
          1.2416888412494262,
          1.0423471240902187,
          -0.3280550681889096,
          -0.4137194490753627,
          0.1404484664617972,
          -0.535589753310678,
          -0.37450058639029704,
          -0.7776359234160549,
          -1.019093309582559,
          1.1965962771534389,
          0.33737085376861575,
          -0.9127139524464672,
          0.32938700304544155,
          -0.34454426579810365,
          0.3093503713664996,
          -1.027136503235521,
          1.0291199954967212,
          0.4516510640638082,
          0.9916407725711052,
          -0.15661501535436065,
          -0.35365726276481113,
          -1.5704618870153866,
          0.702577044401046,
          -0.010813333561108814,
          -0.004790028114858915,
          0.06834705559562404,
          -0.10637066467756068,
          -0.01654200443760072,
          -0.4081868948597251,
          0.026116540187433406,
          0.6166317784798605,
          -0.33581860996035856,
          1.0171020350577185,
          -0.5288319662044049,
          -0.7867119949608734,
          0.47718866487741707,
          -0.7251782770812017,
          0.38367420572357885,
          1.405130769607328,
          -0.37832894752433227,
          0.2533124629812344,
          -0.8013553783557641,
          -0.3328133500307137,
          0.012383402488923206,
          0.37379423321150285,
          -0.536149823913723,
          -0.6432814659727021,
          -0.30145953041775275,
          0.5736329534343632,
          0.2168158207992648,
          -0.28494261301612905,
          0.4050838328977082,
          -0.6010599155802328,
          1.0409554327274864,
          0.8241419516149937,
          -0.40778897298372807,
          -0.04368829581723756,
          -0.3987912218756177,
          -0.2339573804286881,
          -0.25578583219411843,
          -1.5485023548425694,
          0.8750509572405452,
          0.4375391418441036,
          -1.1189868331998891,
          1.6622031128738544,
          -1.8942779148584346,
          1.2766062310116602,
          -0.6859845848269337,
          -0.356483538418082,
          -1.0885650287734328,
          -0.3036577320224544,
          -0.3793401757522254,
          -1.766219314018509,
          -1.2639606377305008,
          -0.3346199815272605,
          0.2587196310745808,
          1.400684228093679,
          1.0884090951077994,
          -0.10836044654734377,
          -0.11323449301688812,
          -0.46749050338871073,
          0.23814332216122494,
          0.4545929939836301,
          1.3504037113778713,
          0.1713952174784653,
          0.944098895081211,
          1.1215362226096122,
          -0.5756209107536363,
          -0.17446847659962145,
          -0.4835816448961919
         ],
         "y": [
          0.7331171394984027,
          0.9014332025253176,
          -0.9033093824791188,
          0.2716396647317241,
          -0.29000324924962145,
          0.2591823109785916,
          -1.0340345938965394,
          0.37535969661174756,
          0.8515115206373172,
          -0.014834906991021165,
          0.32998340736330284,
          -0.4873693133936243,
          0.5428812113332689,
          -1.0006595227980237,
          -0.5215651534990039,
          1.3682780218187791,
          1.3593514615080786,
          -0.8077505171277106,
          -1.1080615886854117,
          2.142116133391058,
          0.405988566518803,
          -1.0703719020679905,
          -0.8940558155280327,
          0.4686756614092287,
          -1.2656333805008042,
          -0.3941389641720277,
          0.7626434394053303,
          1.021885618781743,
          1.862283683036465,
          -0.7575829172924867,
          0.9224171968549564,
          -1.4059436278169106,
          1.9431728817455525,
          0.9317028770253978,
          -0.3332286503402305,
          -1.1158243868005557,
          -1.2724597233184278,
          0.3781290952331233,
          0.891786758761228,
          -1.3492117943578428,
          -0.9396482588372436,
          -1.005013580597184,
          1.3712383214479573,
          -0.43761577988782935,
          1.0866891928815348,
          -0.5161992906399356,
          -0.8607213210638526,
          1.0159798607458852,
          -0.9263585789209766,
          1.8109325646306913,
          -1.093741756856308,
          -0.9493245420350246,
          1.2753540712466183,
          1.0970208043222296,
          -0.7809818244740471,
          0.07335495324971208,
          1.5914527785753776,
          -0.8628643573165973,
          -0.7415018731696962,
          0.2935236122328106,
          0.16201945293527079,
          -0.9929263130387785,
          -0.7058552829566016,
          -0.17881519957369643,
          1.3929908619822555,
          0.18631907838527542,
          -1.1537176174098502,
          0.9934862523192739,
          1.1818463757688291,
          -0.11270487045841975,
          -0.5479794308529456,
          -1.0604551549688992,
          -0.3846559642301245,
          -0.9120457583527328,
          0.0362899962387405,
          0.5399672251224628,
          -0.8326165947978835,
          0.410262799129898,
          -0.6009401090983335,
          -0.7261296596463482,
          1.4182366675031202,
          -0.8773586807443318,
          0.15600816428392597,
          1.4492206692806135,
          1.9694511775404253,
          -1.0322459729435165,
          1.3159540531969778,
          0.414395060173356,
          -0.4397125246656533,
          -0.1396244563633839,
          -1.1255037308244489,
          0.7610457304318361,
          0.22470583125498053,
          -1.220478747885319,
          -0.6296568515169494,
          -1.190134370540557,
          1.8193168099619719,
          -0.9545677609463592,
          1.1116566545132824,
          1.892658669989417,
          -0.07885788947678593,
          1.5208653628450202,
          0.7927057220469765,
          -1.0877872119956655,
          -0.8702557618450135,
          -1.3404635895615615,
          -0.8174951924308014,
          -1.0115810041981563,
          0.7835504512104002,
          -1.3426883774744025,
          0.9877259554322553,
          -0.08669760554099071,
          0.49670962429353877,
          1.9807070680423402,
          -0.9496899346414579,
          -1.304479128503159,
          -0.6896823614829598,
          0.937100212080339,
          1.2504542585666352,
          0.21960406355973042,
          -0.8931025110945237,
          -0.9986410350215918,
          -1.1497145338554902,
          2.014078086576044,
          -0.7536622483651567,
          -1.2083403492467324,
          -1.2040542767412432,
          1.1488331806745906,
          0.9875860504593923,
          -0.25024113866664643,
          2.1548925992474293,
          -0.9773238963501155,
          -0.457787290948288,
          -0.1974691741623584,
          2.0107465710374357,
          0.6297186285525239,
          -0.925488594334237,
          1.0317056269812717,
          -0.09207764665562443,
          1.7434649419169506,
          -0.38603688909109646,
          -0.008348361490736922,
          -0.3839424290706616,
          1.08452255828146,
          1.361210721769246,
          1.257439682882557,
          1.3609993258722815,
          1.2378144857625468,
          1.9611250260239044,
          0.27141888165817313,
          -0.765980570704835,
          1.457763837445583,
          1.8943730109586245,
          -0.012122071552287051,
          1.0152200231397759,
          -0.8267878838621031,
          1.078117047870556,
          -1.349482889810796,
          0.01040534235386724,
          1.3539800424730344,
          -1.1406433749836338,
          1.3285640034333248,
          1.353813537824736,
          0.21406938935152298,
          0.25024391077349717,
          -0.6664194734150228,
          -0.8797586877982451,
          1.4335113124543997,
          -1.0137679935646497,
          1.1553165788298028,
          1.8342221874193043,
          1.0035240751794259,
          1.3252293970841897,
          1.2841644173449696,
          1.874780730147646,
          1.3213010222687354,
          1.5060712498564488,
          0.05583899787462994,
          0.9777384875835614,
          -0.4989590487588649,
          0.37905813835236846,
          0.06489447487975612,
          0.7703378183942107,
          -0.31626428401936524,
          0.9154001762696468,
          0.13457623356980697,
          -0.594527398777546,
          0.4608594900885715,
          -1.0796606540362697,
          1.5936677881110966,
          2.0314146006089078,
          1.2274481636225694
         ],
         "z": [
          -1.9384231340882183,
          -0.8338533876749042,
          -1.5506175075969604,
          -0.8486284588131922,
          -0.8987060753101802,
          -0.8395223206537403,
          -1.2156471587677893,
          -0.8321676341489108,
          -0.22088692939592589,
          -1.1053693762589032,
          -1.403668866571543,
          -1.6512676996124218,
          -0.9162577270210196,
          -1.2104760415327689,
          -1.408831213398009,
          -0.3375079030209606,
          -0.19078404191714943,
          -1.1143001821156544,
          -1.5274992831316727,
          -1.2676623510281755,
          -0.844147430049894,
          -0.8992021063112046,
          -1.4292225858261585,
          -1.2689661730154354,
          -1.3683273863537386,
          -1.5186098791605547,
          -0.9530122098988021,
          -0.9414310493070291,
          -0.4011204456644159,
          -1.924027076783577,
          -0.09294957457195377,
          -0.7642061931766762,
          -0.6761766971769136,
          -0.15888028085914105,
          -1.525187407630208,
          -0.8822185130706697,
          -0.5502916348399242,
          -0.7727603065289231,
          -0.14948702771922143,
          -1.1541660157908262,
          -1.3026897041886263,
          -0.8512201267796439,
          -0.14484353122167934,
          -1.0046909395142023,
          -0.5289009600266814,
          -1.0510293879953874,
          -1.4686555634285958,
          -1.4836251046048825,
          -1.598918251106378,
          -0.20229913729166252,
          -1.7092986940356032,
          -0.35185096437079305,
          -0.7643583921732612,
          -1.3471261532403684,
          -1.6420174808201151,
          -0.7552408177946529,
          -0.5290272387102949,
          -1.463164246234675,
          -1.59368183735056,
          -0.5523975722394162,
          -1.5359188732829625,
          -1.8128151910382029,
          -0.8490322193277907,
          -0.36741207632416084,
          -1.3606729948016412,
          -0.652817536060432,
          -0.6400146130336094,
          -1.05443615568129,
          -1.6949297276125561,
          -1.4364732516471888,
          -1.0058725070216765,
          -0.6946824206397311,
          -0.7378812735942875,
          -0.8891910771250374,
          -1.0114855692608204,
          -1.839413570922133,
          -1.3389535997936068,
          -1.392638554067831,
          -1.330569919233932,
          -1.0138194132612866,
          -0.492914970732018,
          -1.5029699421610765,
          -0.9745452141687485,
          -1.0110988841499466,
          0.009486185122048898,
          -1.096379883633582,
          -0.8960614873708329,
          -0.5495537906645132,
          -0.9455410385326563,
          -0.8703483815826718,
          -0.8361603288827083,
          -1.3310974687984438,
          -1.5792920910596855,
          -0.7379025628966767,
          -1.6290031002455136,
          -1.4876775883257016,
          -1.0518952515760245,
          -1.1972207881125274,
          -1.3483524966627132,
          -1.7824093777883234,
          -0.8986366241516536,
          -1.1977988284940617,
          -1.1379523856810936,
          -1.3627120891981765,
          -1.1580506518547324,
          -0.8860089286879261,
          -1.6156947842421137,
          -1.4244256952860037,
          -0.4492573749583947,
          -0.9475473072126585,
          -1.067068976350406,
          -0.8661758618418358,
          -1.118748189706073,
          -1.7669198095639689,
          -0.70671311538042,
          -1.0091781397681319,
          -0.42199931507543387,
          -0.3747046158590612,
          -0.8866074291975619,
          -1.6979478966167958,
          -0.7205341285489948,
          -1.3903439027308755,
          -0.9446041983126003,
          -1.9730749350738759,
          -1.8977968342363172,
          -0.6088789967969722,
          -0.6198616311848137,
          -0.5074003734505853,
          -0.9411156895973224,
          -1.790876311076001,
          -1.367639949910354,
          -0.9386606099861955,
          -0.9852447532353322,
          -0.36046810576077987,
          -0.585684805465396,
          -1.13520036824518,
          -1.0257767385961183,
          -1.086409019136077,
          -1.4649618990900717,
          -0.34719418028295496,
          -1.0356250862648124,
          -0.9333807851235847,
          -0.7818467111057914,
          -0.7834223210231506,
          -1.31551611382793,
          -1.1991122414798598,
          -0.3955262542669274,
          -0.2818715576315974,
          -0.9330550400245825,
          -1.12389214943115,
          -1.6804567011775606,
          -0.7087040267711402,
          -0.8047877625923786,
          -1.5686118730083847,
          -1.1012432229362752,
          -0.6582374930696548,
          -0.5069356912509982,
          -0.8938604786957944,
          -0.8931258735711008,
          -1.2041003887015913,
          -0.6196545710800145,
          -0.04364964841620475,
          -0.643785978809513,
          -0.3983569800973149,
          -1.230306949180024,
          -1.9986917352123144,
          -1.0125928743825963,
          -1.4966630322697916,
          -1.769117239664189,
          -0.0803712524670396,
          -1.3819443811416516,
          -1.4060017173971802,
          -1.0553124046512228,
          -0.10218701520852758,
          -1.6161393174690213,
          -0.5927205930138494,
          -0.07591556623198002,
          -1.3402414274459158,
          -0.8425936160466911,
          -1.5710960738719428,
          0.07376499610275483,
          -1.7004642906958374,
          -0.2915508794667419,
          -1.222754246023114,
          -0.43030192925772826,
          -0.988149291277791,
          -1.6507708361093831,
          -0.9928967308713142,
          -1.3459769277091609,
          -0.29579456393592923,
          -0.008950061487946108,
          -1.034688085371942
         ]
        },
        {
         "customdata": [
          [
           28
          ],
          [
           50
          ],
          [
           25
          ],
          [
           58
          ],
          [
           31
          ],
          [
           50
          ],
          [
           34
          ],
          [
           64
          ],
          [
           43
          ],
          [
           40
          ],
          [
           43
          ],
          [
           12
          ],
          [
           31
          ],
          [
           64
          ],
          [
           6
          ],
          [
           58
          ],
          [
           39
          ],
          [
           43
          ],
          [
           28
          ],
          [
           31
          ],
          [
           50
          ],
          [
           0
          ],
          [
           37
          ],
          [
           64
          ],
          [
           20
          ],
          [
           50
          ],
          [
           49
          ],
          [
           13
          ],
          [
           50
          ],
          [
           50
          ],
          [
           50
          ],
          [
           28
          ],
          [
           25
          ],
          [
           50
          ],
          [
           50
          ],
          [
           13
          ],
          [
           19
          ],
          [
           13
          ],
          [
           16
          ],
          [
           25
          ],
          [
           39
          ],
          [
           64
          ],
          [
           21
          ],
          [
           7
          ],
          [
           50
          ],
          [
           50
          ],
          [
           58
          ],
          [
           50
          ],
          [
           58
          ],
          [
           1
          ],
          [
           2
          ],
          [
           19
          ],
          [
           8
          ],
          [
           11
          ],
          [
           13
          ],
          [
           50
          ],
          [
           28
          ],
          [
           13
          ],
          [
           64
          ],
          [
           50
          ],
          [
           20
          ],
          [
           19
          ],
          [
           13
          ],
          [
           61
          ],
          [
           46
          ],
          [
           38
          ],
          [
           25
          ],
          [
           40
          ],
          [
           25
          ],
          [
           20
          ],
          [
           58
          ],
          [
           28
          ],
          [
           19
          ],
          [
           13
          ],
          [
           13
          ],
          [
           28
          ],
          [
           44
          ],
          [
           56
          ],
          [
           16
          ],
          [
           4
          ],
          [
           56
          ],
          [
           9
          ],
          [
           49
          ],
          [
           28
          ],
          [
           53
          ],
          [
           19
          ],
          [
           9
          ],
          [
           64
          ],
          [
           28
          ],
          [
           13
          ],
          [
           19
          ],
          [
           35
          ],
          [
           25
          ],
          [
           41
          ],
          [
           30
          ],
          [
           50
          ],
          [
           65
          ],
          [
           50
          ],
          [
           13
          ],
          [
           44
          ],
          [
           64
          ],
          [
           13
          ],
          [
           15
          ],
          [
           13
          ],
          [
           64
          ],
          [
           36
          ],
          [
           13
          ],
          [
           64
          ],
          [
           56
          ],
          [
           58
          ],
          [
           19
          ],
          [
           33
          ],
          [
           56
          ],
          [
           56
          ],
          [
           16
          ],
          [
           18
          ],
          [
           14
          ],
          [
           50
          ],
          [
           22
          ],
          [
           25
          ],
          [
           20
          ],
          [
           4
          ],
          [
           63
          ],
          [
           13
          ],
          [
           56
          ],
          [
           6
          ],
          [
           6
          ],
          [
           25
          ],
          [
           25
          ],
          [
           71
          ],
          [
           25
          ],
          [
           56
          ],
          [
           26
          ],
          [
           25
          ],
          [
           13
          ],
          [
           17
          ],
          [
           23
          ],
          [
           56
          ],
          [
           56
          ],
          [
           58
          ],
          [
           56
          ],
          [
           56
          ],
          [
           10
          ],
          [
           24
          ],
          [
           5
          ],
          [
           13
          ],
          [
           8
          ],
          [
           52
          ],
          [
           25
          ],
          [
           49
          ],
          [
           19
          ],
          [
           28
          ],
          [
           19
          ],
          [
           16
          ],
          [
           4
          ],
          [
           3
          ]
         ],
         "hovertemplate": "<b>%{hovertext}</b><br><br>Class=%{marker.color}<br>PC 1=%{x}<br>PC 2=%{y}<br>PC 3=%{z}<br>Algorithm=%{customdata[0]}<extra></extra>",
         "hovertext": [
          "Ethereum",
          "Nxt",
          "ZCash",
          "PayCoin",
          "Riecoin",
          "Exclusive Coin",
          "MediterraneanCoin",
          "Nautilus Coin",
          "TeslaCoin",
          "Vertcoin",
          "Crypti",
          "StorjCoin",
          "FairCoin",
          "RubyCoin",
          "BlakeCoin",
          "NeosCoin",
          "Crypto",
          "Crown Coin",
          "Expanse",
          "Groestlcoin",
          "Radium",
          "HOdlcoin",
          "Waves",
          "GPU Coin",
          "SoilCoin",
          "Nebuchadnezzar",
          "Let it Ride",
          "Karbo",
          "Opair",
          "CoffeeCoin",
          "TeamUP",
          "Elementrem",
          "ZClassic",
          "FreeCoin",
          "Creatio",
          "Cannabis Industry Coin",
          "Golos",
          "Bikercoins",
          "Citadel",
          "Zero",
          "Zoin",
          "RenosCoin",
          "DubaiCoin",
          "TajCoin",
          "Atmos",
          "MacronCoin",
          "ProCurrency",
          "Phreak",
          "Ultimate Secure Cash",
          "Espers",
          "Dynamic",
          "EOS",
          "Nano",
          "ChanCoin",
          "Dinastycoin",
          "Particl",
          "Reality Clash",
          "LeviarCoin",
          "Draftcoin",
          "Stakecoin",
          "Amber",
          "Oxycoin",
          "Sumokoin",
          "Obsidian",
          "Cardano",
          "ICON Project",
          "BitcoinZ",
          "Rupee",
          "Bitcoin Gold",
          "Pirl",
          "Zeph",
          "Ellaism",
          "Lamden Tau",
          "UltraNote",
          "BitCoal",
          "DaxxCoin",
          "Bulwark",
          "Kalkulus",
          "Lethean",
          "Photon",
          "Digiwage",
          "Interzone",
          "TokenPay",
          "1717 Masonic Commemorative Token",
          "BiblePay",
          "ALAX",
          "Stipend",
          "Velox",
          "Callisto Network",
          "BitTube",
          "ADAMANT Messenger",
          "Aidos Kuneen",
          "Bitrolium",
          "Alpenschillling",
          "BitGreen",
          "Deviant Coin",
          "Semux",
          "Zealium",
          "Monero Classic",
          "Jumpcoin",
          "HollyWoodCoin",
          "PlatinCoin",
          "Loki",
          "Newton Coin",
          "Xt3ch",
          "MassGrid",
          "PluraCoin",
          "Lynx",
          "Poseidon Quark",
          "BitcoinWSpectrum",
          "Muse",
          "PlusOneCoin",
          "Dystem",
          "Vitae",
          "Webchain",
          "Ryo",
          "Qwertycoin",
          "Ketan",
          "Acute Angle Cloud",
          "CrypticCoin",
          "DAPS Coin",
          "HyperCash",
          "Fiii",
          "FREDEnergy",
          "Zenad",
          "Universal Molecule",
          "Lithium",
          "PirateCash",
          "Beam",
          "BitTorrent",
          "Bithereum",
          "Crypto Sports",
          "Vollar",
          "Pirate Chain",
          "Beldex",
          "BLOC.MONEY",
          "Nervos Network",
          "Lobstex",
          "Bitcoin Turbo Koin",
          "Kahsh",
          "ZCore",
          "GOSSIP-Coin",
          "MimbleWimbleCoin",
          "DDKoin",
          "DigitalNote ",
          "ByteCoin",
          "Siacoin",
          "Poa Network",
          "Horizen",
          "QTUM",
          "Lisk",
          "Ethereum Classic",
          "ARK",
          "Monero",
          "Decred",
          "Binance Coin"
         ],
         "legendgroup": "0",
         "marker": {
          "color": [
           0,
           0,
           0,
           0,
           0,
           0,
           0,
           0,
           0,
           0,
           0,
           0,
           0,
           0,
           0,
           0,
           0,
           0,
           0,
           0,
           0,
           0,
           0,
           0,
           0,
           0,
           0,
           0,
           0,
           0,
           0,
           0,
           0,
           0,
           0,
           0,
           0,
           0,
           0,
           0,
           0,
           0,
           0,
           0,
           0,
           0,
           0,
           0,
           0,
           0,
           0,
           0,
           0,
           0,
           0,
           0,
           0,
           0,
           0,
           0,
           0,
           0,
           0,
           0,
           0,
           0,
           0,
           0,
           0,
           0,
           0,
           0,
           0,
           0,
           0,
           0,
           0,
           0,
           0,
           0,
           0,
           0,
           0,
           0,
           0,
           0,
           0,
           0,
           0,
           0,
           0,
           0,
           0,
           0,
           0,
           0,
           0,
           0,
           0,
           0,
           0,
           0,
           0,
           0,
           0,
           0,
           0,
           0,
           0,
           0,
           0,
           0,
           0,
           0,
           0,
           0,
           0,
           0,
           0,
           0,
           0,
           0,
           0,
           0,
           0,
           0,
           0,
           0,
           0,
           0,
           0,
           0,
           0,
           0,
           0,
           0,
           0,
           0,
           0,
           0,
           0,
           0,
           0,
           0,
           0,
           0,
           0,
           0,
           0,
           0,
           0,
           0,
           0,
           0,
           0,
           0
          ],
          "coloraxis": "coloraxis",
          "symbol": "square"
         },
         "mode": "markers",
         "name": "0",
         "scene": "scene",
         "showlegend": true,
         "type": "scatter3d",
         "x": [
          1.2910715647644126,
          1.7270164803018746,
          0.47150921980913135,
          0.7635755357517923,
          0.34706520859709983,
          0.8739614456284144,
          0.6842883684755836,
          0.6151099269019206,
          1.8011555751804869,
          0.08775751456985378,
          1.8278891322701514,
          2.0536578352535995,
          0.7253653340494626,
          0.9688551332230388,
          0.9896400266962787,
          0.31202388859600605,
          -0.23166385901690315,
          1.040301480317264,
          0.4804834380744501,
          1.10526836555193,
          0.057381821303386,
          0.7896410998343623,
          2.83289032949124,
          0.7559255726556009,
          0.3236372090127704,
          1.017190654602086,
          1.0407886926160133,
          1.0238222268676342,
          0.9104632901601134,
          1.211989277287342,
          0.7819210273836065,
          0.6281578534659158,
          0.31490327820663355,
          0.9429827780076264,
          1.017190654602086,
          0.45083506386525607,
          1.5804957860229074,
          0.7121579319193786,
          0.801518480162921,
          0.48077095006318055,
          0.2652376350912601,
          0.5680069248155856,
          0.24324080265710005,
          0.663101203641079,
          1.6014406802846002,
          1.3116523052143105,
          0.7106972055113365,
          0.6400948613328884,
          0.528491567242543,
          1.5726900898537577,
          1.5308787425546573,
          3.9950417483639704,
          1.4489691868848351,
          1.0196345478931355,
          1.7632658456654329,
          0.9974392072765377,
          0.6330672066567855,
          0.5848025425848787,
          0.6554681939125407,
          0.1709374446114277,
          3.021702035499466,
          4.00106505381022,
          0.3002325195410198,
          0.26135383633769904,
          1.6792269804679458,
          2.163356224243896,
          1.4386210613507036,
          1.293278730380918,
          0.6431734250272542,
          1.1668376529048596,
          2.6523877309127686,
          0.32500205133106014,
          3.317266034762807,
          -0.037536732222050694,
          0.8180604347735434,
          1.4602810933871,
          0.8835926329827043,
          0.8152062155937139,
          1.0214009367622257,
          2.424082156186166,
          1.1317904663365672,
          0.95458391714182,
          0.9892603922798726,
          1.1946623184505265,
          1.9724361218496973,
          3.9774359787982956,
          0.6693828443962805,
          0.8716984978706759,
          0.7783386614319878,
          1.6564549574331064,
          3.469776882158516,
          0.42931953613700846,
          0.6285076840375448,
          0.21158591465526272,
          1.3780956989498654,
          0.6563293957867926,
          1.4018222051272178,
          0.456632022514395,
          1.0299489642722275,
          0.1827493718600111,
          0.6912473117753077,
          0.03422707038070188,
          1.1346046245935153,
          1.9577236617039449,
          -0.014211457669125536,
          0.9367006709392239,
          1.9395503134068526,
          1.9461113338266622,
          -0.06371102757824368,
          1.2680479235629452,
          1.9162381487897315,
          0.18713837084901072,
          0.5088531020265032,
          1.0909680525528718,
          0.9450566879721535,
          0.02782447604366878,
          1.9409021665769157,
          0.7080115470209806,
          4.226714967026124,
          1.01492752614369,
          2.965230472225399,
          0.7671879511390112,
          0.9684904932066848,
          1.3081150588871155,
          1.2273567728951282,
          0.945774152378276,
          1.0822891370479484,
          2.0584069818054127,
          0.9235873323208916,
          1.9140131893328312,
          0.6541166862681014,
          0.5029120233311408,
          1.035936700245219,
          1.2025981966915762,
          1.8758931754273247,
          0.5663939245045089,
          1.4510485398128292,
          0.396009602783666,
          0.8529241472996689,
          1.3489912296688582,
          0.5605564584681467,
          1.2351560658444098,
          0.947024152268839,
          2.429738200911044,
          1.3052943052793375,
          1.9820025421981748,
          2.2956348276693967,
          1.6697626960422607,
          0.46548591436288145,
          1.641334274295864,
          3.6709489225010263,
          1.0377837371863539,
          3.7209813505595983,
          1.180047827126788,
          0.7980670213751695,
          2.1829967135992034
         ],
         "y": [
          -0.7262979004417376,
          -0.7856305334414331,
          -0.12408255329211129,
          -1.254419072274414,
          1.8914531368693135,
          -1.5938306424537583,
          0.01926196895541326,
          -0.9638486124832659,
          -0.9572042768274576,
          1.8047839494737228,
          -0.991138441571649,
          1.3876658960502017,
          -0.8262567677535959,
          -1.3740959361428218,
          1.8253466606980984,
          -0.6887006081251347,
          1.248873859144551,
          0.8050272292862816,
          -0.5087383596521285,
          -0.6802630710297991,
          1.2011322954849273,
          1.8428666150342101,
          -0.9632007242563029,
          -0.10900573409053455,
          0.3650602469166882,
          -0.39304807243822243,
          0.5396239002312413,
          -1.039831892572578,
          1.490425645151034,
          0.8973876048928646,
          0.24713676538032786,
          0.4701389460386015,
          -0.23552043843483006,
          0.9972325427497627,
          -0.39304807243822243,
          -0.2692597141819158,
          -0.6181983505187018,
          0.24767572242220023,
          -0.2121718326609453,
          -0.51467159092283,
          -0.11865147225563395,
          0.4457193289794202,
          -0.11817365888290743,
          1.0397536072084719,
          -0.8378621959572929,
          1.0080239194976062,
          1.474970963396874,
          0.10649794323716237,
          -0.5876234889464171,
          2.032186121120719,
          -0.8383314898186175,
          -0.6548620538206494,
          1.2604281989001243,
          0.7624696909602451,
          0.5719664827316642,
          -1.5059661560912299,
          0.3147605454874116,
          1.3221118934643388,
          -0.7630192953861842,
          0.7258850536435903,
          -0.6616735334723222,
          -0.6505759813151599,
          1.7683436781822968,
          1.5453045666428604,
          1.371727128176623,
          -0.8067870333996648,
          0.6170535748577964,
          0.0786297684304345,
          -0.0019294868856694974,
          -0.3323870235194697,
          -0.060913912756826165,
          0.4000513848133532,
          1.4180335134569348,
          1.4617967541012862,
          -0.8949831934080434,
          -0.5264556337597017,
          0.1218583168661155,
          -0.47154354781181396,
          2.525959283443975,
          -0.20747882916040233,
          -1.0538664068062604,
          0.2840177351536708,
          0.026341901017291062,
          -0.9296080005633582,
          1.3283619571583918,
          -0.6011934075635007,
          -0.03289551106731724,
          -1.1254871863700358,
          1.808261316106859,
          -0.5631835339867668,
          0.08347184084030995,
          0.28560048980287617,
          1.761703135972544,
          0.5268811157808982,
          -0.23452390335251241,
          1.574375018762208,
          -1.9470727870349993,
          1.2998808985338328,
          -0.16167729076084383,
          -0.12298783519707271,
          0.07003880517937952,
          1.0097684957404183,
          -0.4494021564464952,
          0.5249886205939377,
          0.32268849655088033,
          -0.13684337483630654,
          -0.36173812622877505,
          1.9800903034427704,
          0.6903430432634239,
          -1.1072749458888937,
          -0.3021683024222727,
          -0.23945836838728962,
          -0.5703848907992534,
          -1.3212225876769583,
          -0.25566519283116046,
          1.6023852858085026,
          0.5636088590192707,
          -0.4674217061689599,
          -0.6611653932295293,
          2.169065503871084,
          1.2368236625900513,
          2.166827356403457,
          0.10331697363622207,
          2.3399017225497802,
          0.7671893739017658,
          -1.025842026079909,
          0.5011457540454745,
          -0.877172446741993,
          0.67422326753687,
          1.9778054467168573,
          0.7075413416201517,
          -1.421928747101541,
          0.3281436819129285,
          0.2902322740870391,
          -0.03633448665690519,
          1.1803901445942484,
          0.9351353633815936,
          1.2954973815297905,
          -0.2196357759485837,
          -1.1026344580836829,
          -0.8910553026273784,
          -1.2715783385641108,
          -0.06795106405171511,
          0.708452743485458,
          2.2825803554731814,
          0.5687436561253407,
          -0.22891232806119438,
          0.35265633602207885,
          -0.12836862579760042,
          -1.0056972446626251,
          -0.289711231407264,
          0.33796298451346696,
          -0.8498783528204075,
          -0.9357661489138807,
          0.1499454959672463,
          0.39927170939079165
         ],
         "z": [
          -0.17720546800916223,
          -0.8739896808615326,
          1.2774635156150096,
          0.5666892790002691,
          0.5826440755125387,
          1.060267928602493,
          0.21477911512598627,
          0.29774499269002686,
          -0.09897978965559796,
          0.3570477994293005,
          -0.13587730688099267,
          1.2864569824208703,
          -0.10657319717464632,
          -0.1991675343878911,
          1.4072942237432502,
          1.19158683901803,
          1.088151408392811,
          0.7729713642606366,
          1.123076428744993,
          -0.10380224841925022,
          1.7939189088132341,
          2.187217077783355,
          0.305528557759326,
          -0.12783609069488433,
          1.789961315910772,
          0.5532786513382778,
          0.3805241200590928,
          1.4652111003772583,
          0.3095308508590741,
          -0.059587355742484575,
          0.8015878796735779,
          0.658332951552481,
          1.5630120096988933,
          0.36574733535098,
          0.5532786513382778,
          2.2463688089863623,
          -0.006522363865130314,
          1.6958384208098398,
          1.4244966135036932,
          1.349430778238523,
          0.5671597720167089,
          0.06079182195744152,
          1.9566920690093643,
          1.3836353575795,
          -0.3194990339719465,
          -0.2501940762817914,
          0.04408425623996555,
          1.069073040927777,
          0.8087363385756229,
          0.09891830293711189,
          1.4031598594699184,
          0.3232224113157629,
          0.6189376411326624,
          1.219316598875489,
          -0.12592789690330922,
          0.8351239236517388,
          0.6849233297243178,
          1.667412269098634,
          0.18565377222940432,
          1.711263082209197,
          0.2002427952408308,
          0.31223977692792176,
          2.041155585096346,
          0.5506260388153372,
          -0.6425909053838965,
          -0.359549757381718,
          -0.4977736411534713,
          0.7399861729151543,
          0.9644584355615219,
          0.5427648192685516,
          -0.5068243954006233,
          1.1785140599587798,
          0.9874173977766435,
          2.6718385327153458,
          1.7752281303983846,
          -0.5035057371485662,
          1.1114269753869552,
          0.4559638668240204,
          0.446016907416218,
          -0.374746418135634,
          0.059389074252857596,
          1.5849451154980077,
          0.5811042328408624,
          2.031679226118974,
          -0.31171065152495475,
          0.34051489257942186,
          1.4628115353766626,
          -0.09310009210786138,
          0.109050196100692,
          0.30577232089393597,
          1.0321744667220005,
          0.504337330781596,
          0.5943149833903979,
          0.3616933399315329,
          1.4205784951338103,
          0.7136711247428807,
          1.4701051254770936,
          1.107408903341388,
          1.258559531299025,
          0.32956157822808413,
          -0.060255546888170836,
          2.6535368093063076,
          0.998426319566088,
          -0.43902833318853823,
          1.0572235012186726,
          -0.32069080786901855,
          -0.2104114953346225,
          -0.5729026623064001,
          1.6586973649282026,
          -0.30575465949885966,
          1.367006621452752,
          1.175167055565604,
          0.9878984611841868,
          0.18713571661334658,
          1.1953553163751982,
          2.1557725432846806,
          -0.4948429616473987,
          1.0844423941324182,
          0.38123789059964247,
          -0.13988446123120152,
          2.540113859931464,
          1.183780806469706,
          2.2167033338258806,
          0.2360062533125716,
          0.4944350211350498,
          2.1181457342289134,
          1.5493532990471304,
          0.8080397677221786,
          0.3465382160417692,
          -0.7113275727579653,
          0.7875283290350998,
          1.1882878615024728,
          0.16182466872942805,
          -0.03187788746796735,
          -0.17727287970761424,
          1.4290784724658678,
          -0.43927746246355354,
          0.7582643794727981,
          0.33683962603742557,
          -0.4414958862148292,
          0.9735940299528888,
          -0.06392317117496067,
          1.6010977496626604,
          2.2473117385646137,
          0.18721852225484784,
          -0.4892210394998516,
          -0.4568677442929271,
          -0.1822176341494355,
          1.2884461500028515,
          -0.27317301488474705,
          0.7808771883543394,
          0.006217196144469544,
          0.8229322759625586,
          0.9564393411798172,
          1.5835980430767695,
          0.6335429632196089
         ]
        }
       ],
       "layout": {
        "autosize": true,
        "coloraxis": {
         "colorbar": {
          "title": {
           "text": "Class"
          }
         },
         "colorscale": [
          [
           0,
           "#0d0887"
          ],
          [
           0.1111111111111111,
           "#46039f"
          ],
          [
           0.2222222222222222,
           "#7201a8"
          ],
          [
           0.3333333333333333,
           "#9c179e"
          ],
          [
           0.4444444444444444,
           "#bd3786"
          ],
          [
           0.5555555555555556,
           "#d8576b"
          ],
          [
           0.6666666666666666,
           "#ed7953"
          ],
          [
           0.7777777777777778,
           "#fb9f3a"
          ],
          [
           0.8888888888888888,
           "#fdca26"
          ],
          [
           1,
           "#f0f921"
          ]
         ]
        },
        "legend": {
         "title": {
          "text": "Class"
         },
         "tracegroupgap": 0,
         "x": 0,
         "y": 1
        },
        "margin": {
         "t": 60
        },
        "scene": {
         "aspectmode": "auto",
         "aspectratio": {
          "x": 1.2761350721534241,
          "y": 0.8733964582976019,
          "z": 0.8972055035403653
         },
         "domain": {
          "x": [
           0,
           1
          ],
          "y": [
           0,
           1
          ]
         },
         "xaxis": {
          "title": {
           "text": "PC 1"
          },
          "type": "linear"
         },
         "yaxis": {
          "title": {
           "text": "PC 2"
          },
          "type": "linear"
         },
         "zaxis": {
          "title": {
           "text": "PC 3"
          },
          "type": "linear"
         }
        },
        "template": {
         "data": {
          "bar": [
           {
            "error_x": {
             "color": "#2a3f5f"
            },
            "error_y": {
             "color": "#2a3f5f"
            },
            "marker": {
             "line": {
              "color": "#E5ECF6",
              "width": 0.5
             }
            },
            "type": "bar"
           }
          ],
          "barpolar": [
           {
            "marker": {
             "line": {
              "color": "#E5ECF6",
              "width": 0.5
             }
            },
            "type": "barpolar"
           }
          ],
          "carpet": [
           {
            "aaxis": {
             "endlinecolor": "#2a3f5f",
             "gridcolor": "white",
             "linecolor": "white",
             "minorgridcolor": "white",
             "startlinecolor": "#2a3f5f"
            },
            "baxis": {
             "endlinecolor": "#2a3f5f",
             "gridcolor": "white",
             "linecolor": "white",
             "minorgridcolor": "white",
             "startlinecolor": "#2a3f5f"
            },
            "type": "carpet"
           }
          ],
          "choropleth": [
           {
            "colorbar": {
             "outlinewidth": 0,
             "ticks": ""
            },
            "type": "choropleth"
           }
          ],
          "contour": [
           {
            "colorbar": {
             "outlinewidth": 0,
             "ticks": ""
            },
            "colorscale": [
             [
              0,
              "#0d0887"
             ],
             [
              0.1111111111111111,
              "#46039f"
             ],
             [
              0.2222222222222222,
              "#7201a8"
             ],
             [
              0.3333333333333333,
              "#9c179e"
             ],
             [
              0.4444444444444444,
              "#bd3786"
             ],
             [
              0.5555555555555556,
              "#d8576b"
             ],
             [
              0.6666666666666666,
              "#ed7953"
             ],
             [
              0.7777777777777778,
              "#fb9f3a"
             ],
             [
              0.8888888888888888,
              "#fdca26"
             ],
             [
              1,
              "#f0f921"
             ]
            ],
            "type": "contour"
           }
          ],
          "contourcarpet": [
           {
            "colorbar": {
             "outlinewidth": 0,
             "ticks": ""
            },
            "type": "contourcarpet"
           }
          ],
          "heatmap": [
           {
            "colorbar": {
             "outlinewidth": 0,
             "ticks": ""
            },
            "colorscale": [
             [
              0,
              "#0d0887"
             ],
             [
              0.1111111111111111,
              "#46039f"
             ],
             [
              0.2222222222222222,
              "#7201a8"
             ],
             [
              0.3333333333333333,
              "#9c179e"
             ],
             [
              0.4444444444444444,
              "#bd3786"
             ],
             [
              0.5555555555555556,
              "#d8576b"
             ],
             [
              0.6666666666666666,
              "#ed7953"
             ],
             [
              0.7777777777777778,
              "#fb9f3a"
             ],
             [
              0.8888888888888888,
              "#fdca26"
             ],
             [
              1,
              "#f0f921"
             ]
            ],
            "type": "heatmap"
           }
          ],
          "heatmapgl": [
           {
            "colorbar": {
             "outlinewidth": 0,
             "ticks": ""
            },
            "colorscale": [
             [
              0,
              "#0d0887"
             ],
             [
              0.1111111111111111,
              "#46039f"
             ],
             [
              0.2222222222222222,
              "#7201a8"
             ],
             [
              0.3333333333333333,
              "#9c179e"
             ],
             [
              0.4444444444444444,
              "#bd3786"
             ],
             [
              0.5555555555555556,
              "#d8576b"
             ],
             [
              0.6666666666666666,
              "#ed7953"
             ],
             [
              0.7777777777777778,
              "#fb9f3a"
             ],
             [
              0.8888888888888888,
              "#fdca26"
             ],
             [
              1,
              "#f0f921"
             ]
            ],
            "type": "heatmapgl"
           }
          ],
          "histogram": [
           {
            "marker": {
             "colorbar": {
              "outlinewidth": 0,
              "ticks": ""
             }
            },
            "type": "histogram"
           }
          ],
          "histogram2d": [
           {
            "colorbar": {
             "outlinewidth": 0,
             "ticks": ""
            },
            "colorscale": [
             [
              0,
              "#0d0887"
             ],
             [
              0.1111111111111111,
              "#46039f"
             ],
             [
              0.2222222222222222,
              "#7201a8"
             ],
             [
              0.3333333333333333,
              "#9c179e"
             ],
             [
              0.4444444444444444,
              "#bd3786"
             ],
             [
              0.5555555555555556,
              "#d8576b"
             ],
             [
              0.6666666666666666,
              "#ed7953"
             ],
             [
              0.7777777777777778,
              "#fb9f3a"
             ],
             [
              0.8888888888888888,
              "#fdca26"
             ],
             [
              1,
              "#f0f921"
             ]
            ],
            "type": "histogram2d"
           }
          ],
          "histogram2dcontour": [
           {
            "colorbar": {
             "outlinewidth": 0,
             "ticks": ""
            },
            "colorscale": [
             [
              0,
              "#0d0887"
             ],
             [
              0.1111111111111111,
              "#46039f"
             ],
             [
              0.2222222222222222,
              "#7201a8"
             ],
             [
              0.3333333333333333,
              "#9c179e"
             ],
             [
              0.4444444444444444,
              "#bd3786"
             ],
             [
              0.5555555555555556,
              "#d8576b"
             ],
             [
              0.6666666666666666,
              "#ed7953"
             ],
             [
              0.7777777777777778,
              "#fb9f3a"
             ],
             [
              0.8888888888888888,
              "#fdca26"
             ],
             [
              1,
              "#f0f921"
             ]
            ],
            "type": "histogram2dcontour"
           }
          ],
          "mesh3d": [
           {
            "colorbar": {
             "outlinewidth": 0,
             "ticks": ""
            },
            "type": "mesh3d"
           }
          ],
          "parcoords": [
           {
            "line": {
             "colorbar": {
              "outlinewidth": 0,
              "ticks": ""
             }
            },
            "type": "parcoords"
           }
          ],
          "pie": [
           {
            "automargin": true,
            "type": "pie"
           }
          ],
          "scatter": [
           {
            "marker": {
             "colorbar": {
              "outlinewidth": 0,
              "ticks": ""
             }
            },
            "type": "scatter"
           }
          ],
          "scatter3d": [
           {
            "line": {
             "colorbar": {
              "outlinewidth": 0,
              "ticks": ""
             }
            },
            "marker": {
             "colorbar": {
              "outlinewidth": 0,
              "ticks": ""
             }
            },
            "type": "scatter3d"
           }
          ],
          "scattercarpet": [
           {
            "marker": {
             "colorbar": {
              "outlinewidth": 0,
              "ticks": ""
             }
            },
            "type": "scattercarpet"
           }
          ],
          "scattergeo": [
           {
            "marker": {
             "colorbar": {
              "outlinewidth": 0,
              "ticks": ""
             }
            },
            "type": "scattergeo"
           }
          ],
          "scattergl": [
           {
            "marker": {
             "colorbar": {
              "outlinewidth": 0,
              "ticks": ""
             }
            },
            "type": "scattergl"
           }
          ],
          "scattermapbox": [
           {
            "marker": {
             "colorbar": {
              "outlinewidth": 0,
              "ticks": ""
             }
            },
            "type": "scattermapbox"
           }
          ],
          "scatterpolar": [
           {
            "marker": {
             "colorbar": {
              "outlinewidth": 0,
              "ticks": ""
             }
            },
            "type": "scatterpolar"
           }
          ],
          "scatterpolargl": [
           {
            "marker": {
             "colorbar": {
              "outlinewidth": 0,
              "ticks": ""
             }
            },
            "type": "scatterpolargl"
           }
          ],
          "scatterternary": [
           {
            "marker": {
             "colorbar": {
              "outlinewidth": 0,
              "ticks": ""
             }
            },
            "type": "scatterternary"
           }
          ],
          "surface": [
           {
            "colorbar": {
             "outlinewidth": 0,
             "ticks": ""
            },
            "colorscale": [
             [
              0,
              "#0d0887"
             ],
             [
              0.1111111111111111,
              "#46039f"
             ],
             [
              0.2222222222222222,
              "#7201a8"
             ],
             [
              0.3333333333333333,
              "#9c179e"
             ],
             [
              0.4444444444444444,
              "#bd3786"
             ],
             [
              0.5555555555555556,
              "#d8576b"
             ],
             [
              0.6666666666666666,
              "#ed7953"
             ],
             [
              0.7777777777777778,
              "#fb9f3a"
             ],
             [
              0.8888888888888888,
              "#fdca26"
             ],
             [
              1,
              "#f0f921"
             ]
            ],
            "type": "surface"
           }
          ],
          "table": [
           {
            "cells": {
             "fill": {
              "color": "#EBF0F8"
             },
             "line": {
              "color": "white"
             }
            },
            "header": {
             "fill": {
              "color": "#C8D4E3"
             },
             "line": {
              "color": "white"
             }
            },
            "type": "table"
           }
          ]
         },
         "layout": {
          "annotationdefaults": {
           "arrowcolor": "#2a3f5f",
           "arrowhead": 0,
           "arrowwidth": 1
          },
          "coloraxis": {
           "colorbar": {
            "outlinewidth": 0,
            "ticks": ""
           }
          },
          "colorscale": {
           "diverging": [
            [
             0,
             "#8e0152"
            ],
            [
             0.1,
             "#c51b7d"
            ],
            [
             0.2,
             "#de77ae"
            ],
            [
             0.3,
             "#f1b6da"
            ],
            [
             0.4,
             "#fde0ef"
            ],
            [
             0.5,
             "#f7f7f7"
            ],
            [
             0.6,
             "#e6f5d0"
            ],
            [
             0.7,
             "#b8e186"
            ],
            [
             0.8,
             "#7fbc41"
            ],
            [
             0.9,
             "#4d9221"
            ],
            [
             1,
             "#276419"
            ]
           ],
           "sequential": [
            [
             0,
             "#0d0887"
            ],
            [
             0.1111111111111111,
             "#46039f"
            ],
            [
             0.2222222222222222,
             "#7201a8"
            ],
            [
             0.3333333333333333,
             "#9c179e"
            ],
            [
             0.4444444444444444,
             "#bd3786"
            ],
            [
             0.5555555555555556,
             "#d8576b"
            ],
            [
             0.6666666666666666,
             "#ed7953"
            ],
            [
             0.7777777777777778,
             "#fb9f3a"
            ],
            [
             0.8888888888888888,
             "#fdca26"
            ],
            [
             1,
             "#f0f921"
            ]
           ],
           "sequentialminus": [
            [
             0,
             "#0d0887"
            ],
            [
             0.1111111111111111,
             "#46039f"
            ],
            [
             0.2222222222222222,
             "#7201a8"
            ],
            [
             0.3333333333333333,
             "#9c179e"
            ],
            [
             0.4444444444444444,
             "#bd3786"
            ],
            [
             0.5555555555555556,
             "#d8576b"
            ],
            [
             0.6666666666666666,
             "#ed7953"
            ],
            [
             0.7777777777777778,
             "#fb9f3a"
            ],
            [
             0.8888888888888888,
             "#fdca26"
            ],
            [
             1,
             "#f0f921"
            ]
           ]
          },
          "colorway": [
           "#636efa",
           "#EF553B",
           "#00cc96",
           "#ab63fa",
           "#FFA15A",
           "#19d3f3",
           "#FF6692",
           "#B6E880",
           "#FF97FF",
           "#FECB52"
          ],
          "font": {
           "color": "#2a3f5f"
          },
          "geo": {
           "bgcolor": "white",
           "lakecolor": "white",
           "landcolor": "#E5ECF6",
           "showlakes": true,
           "showland": true,
           "subunitcolor": "white"
          },
          "hoverlabel": {
           "align": "left"
          },
          "hovermode": "closest",
          "mapbox": {
           "style": "light"
          },
          "paper_bgcolor": "white",
          "plot_bgcolor": "#E5ECF6",
          "polar": {
           "angularaxis": {
            "gridcolor": "white",
            "linecolor": "white",
            "ticks": ""
           },
           "bgcolor": "#E5ECF6",
           "radialaxis": {
            "gridcolor": "white",
            "linecolor": "white",
            "ticks": ""
           }
          },
          "scene": {
           "xaxis": {
            "backgroundcolor": "#E5ECF6",
            "gridcolor": "white",
            "gridwidth": 2,
            "linecolor": "white",
            "showbackground": true,
            "ticks": "",
            "zerolinecolor": "white"
           },
           "yaxis": {
            "backgroundcolor": "#E5ECF6",
            "gridcolor": "white",
            "gridwidth": 2,
            "linecolor": "white",
            "showbackground": true,
            "ticks": "",
            "zerolinecolor": "white"
           },
           "zaxis": {
            "backgroundcolor": "#E5ECF6",
            "gridcolor": "white",
            "gridwidth": 2,
            "linecolor": "white",
            "showbackground": true,
            "ticks": "",
            "zerolinecolor": "white"
           }
          },
          "shapedefaults": {
           "line": {
            "color": "#2a3f5f"
           }
          },
          "ternary": {
           "aaxis": {
            "gridcolor": "white",
            "linecolor": "white",
            "ticks": ""
           },
           "baxis": {
            "gridcolor": "white",
            "linecolor": "white",
            "ticks": ""
           },
           "bgcolor": "#E5ECF6",
           "caxis": {
            "gridcolor": "white",
            "linecolor": "white",
            "ticks": ""
           }
          },
          "title": {
           "x": 0.05
          },
          "xaxis": {
           "automargin": true,
           "gridcolor": "white",
           "linecolor": "white",
           "ticks": "",
           "title": {
            "standoff": 15
           },
           "zerolinecolor": "white",
           "zerolinewidth": 2
          },
          "yaxis": {
           "automargin": true,
           "gridcolor": "white",
           "linecolor": "white",
           "ticks": "",
           "title": {
            "standoff": 15
           },
           "zerolinecolor": "white",
           "zerolinewidth": 2
          }
         }
        }
       }
      },
      "image/png": "[encoded data removed]",
      "text/html": [
       "<div>\n",
       "        \n",
       "        \n",
       "            <div id=\"9196d852-2514-4e29-8a85-adee216b354b\" class=\"plotly-graph-div\" style=\"height:525px; width:800px;\"></div>\n",
       "            <script type=\"text/javascript\">\n",
       "                require([\"plotly\"], function(Plotly) {\n",
       "                    window.PLOTLYENV=window.PLOTLYENV || {};\n",
       "                    \n",
       "                if (document.getElementById(\"9196d852-2514-4e29-8a85-adee216b354b\")) {\n",
       "                    Plotly.newPlot(\n",
       "                        '9196d852-2514-4e29-8a85-adee216b354b',\n",
       "                        [{\"customdata\": [[64], [64], [58], [64], [81], [64], [64], [64], [64], [64], [64], [64], [64], [77], [64], [64], [64], [58], [64], [64], [58], [45], [64], [64], [77], [77], [58], [58], [58], [77], [77], [64], [64], [79], [43], [79], [77], [55], [64], [45], [64], [64], [64], [64], [64], [64], [58], [64], [77], [58], [54], [77], [77], [81], [77], [58], [77], [58], [58], [64], [77], [64], [77], [58], [64], [77], [58], [64], [64], [79], [77], [77], [58], [58], [77], [64], [64], [58], [64], [79], [77], [77], [64], [64], [77], [58], [64], [64], [64], [77], [64], [64], [64], [55], [64], [39], [64], [58], [77], [64], [64], [64], [64], [79], [77], [44], [64], [64], [64], [77], [64], [64], [64], [64], [77], [67], [64], [79], [64], [77], [79], [73], [58], [77], [64], [64], [64], [77], [64], [77], [64], [45], [47], [64], [64], [45], [64], [77], [45], [64], [77], [77], [58], [68], [40], [64], [77], [83], [64], [44], [64], [64], [64], [82], [83], [74], [77], [64], [82], [77], [56], [40], [64], [83], [32], [77], [82], [83], [29], [64], [56], [40], [55], [64], [48], [79], [51], [64], [64], [69], [58], [58], [78], [64], [77], [41], [79], [77], [58]], \"hovertemplate\": \"<b>%{hovertext}</b><br><br>Class=%{marker.color}<br>PC 1=%{x}<br>PC 2=%{y}<br>PC 3=%{z}<br>Algorithm=%{customdata[0]}<extra></extra>\", \"hovertext\": [\"42 Coin\", \"404Coin\", \"BitcoinDark\", \"ProsperCoin\", \"KoboCoin\", \"Argentum\", \"Aurora Coin\", \"MoonCoin\", \"Quatloo\", \"BitBar\", \"Catcoin\", \"CryptoBullion\", \"CannaCoin\", \"CryptCoin\", \"E-Gulden\", \"Emerald\", \"Franko\", \"IXcoin\", \"LuckyCoin\", \"Litebar \", \"Namecoin\", \"Orbitcoin\", \"RonPaulCoin\", \"StableCoin\", \"SyncCoin\", \"TorCoin\", \"TerraCoin\", \"UnbreakableCoin\", \"Unobtanium\", \"UroCoin\", \"X11 Coin\", \"Wild Beast Coin\", \"8BIT Coin\", \"Sativa Coin\", \"JoinCoin\", \"Triangles Coin\", \"Ucoin\", \"CypherPunkCoin\", \"OrangeCoin\", \"FriendshipCoin\", \"OmniCron\", \"BitstarCoin\", \"HyperCoin\", \"Vtorrent\", \"BitcoinPlus\", \"MasterCoin\", \"SoonCoin\", \"1Credit\", \"IslaCoin\", \"Anarchists Prime\", \"Droidz\", \"BowsCoin\", \"Squall Coin\", \"EverGreenCoin\", \"MindCoin\", \"I0coin\", \"Creditbit \", \"EDRCoin\", \"DubaiCoin\", \"BillaryCoin\", \"Influxcoin\", \"YoCoin\", \"EuropeCoin\", \"SwingCoin\", \"Francs\", \"BolivarCoin\", \"Clockcoin\", \"Omni\", \"iBankCoin\", \"MudraCoin\", \"PizzaCoin\", \"GoldBlocks\", \"BitTokens\", \"ZayedCoin\", \"MustangCoin\", \"ZoneCoin\", \"RootCoin\", \"DollarCoin\", \"Shilling\", \"RoyalCoin\", \"InsaneCoin\", \"XenixCoin\", \"PLNCoin\", \"AquariusCoin\", \"Eternity\", \"Eurocoin\", \"BitcoinFast\", \"BitConnect Coin\", \"MoneyCoin\", \"Enigma\", \"Russiacoin\", \"GameUnits\", \"GAKHcoin\", \"LiteCreed\", \"OsmiumCoin\", \"HexxCoin\", \"Klingon Empire Darsek\", \"Internet of People\", \"KushCoin\", \"Printerium\", \"Impeach\", \"Zilbercoin\", \"BeaverCoin\", \"FindCoin\", \"VirtacoinPlus\", \"Coinonat\", \"Independent Money System\", \"ArgusCoin\", \"LomoCoin\", \"GoldReserve\", \"BenjiRolls\", \"ParallelCoin\", \"Degas Coin\", \"EquiTrader\", \"Insane Coin\", \"Bitcoin Planet\", \"Unify\", \"BritCoin\", \"SocialCoin\", \"DAS\", \"DeepOnion\", \"Bitcore\", \"Bitcoin Cash\", \"Monoeci\", \"Sojourn Coin\", \"FrazCoin\", \"Kronecoin\", \"CoinonatX\", \"Ethereum Dark\", \"Regalcoin\", \"TerraNovaCoin\", \"VIVO Coin\", \"LUXCoin\", \"Xios\", \"BlackholeCoin\", \"Innova\", \"LiteCoin Ultra\", \"Sucre\", \"SparksPay\", \"Litecoin Plus\", \"Monkey Project\", \"Pioneer Coin\", \"UnitedBitcoin\", \"MUNcoin\", \"KREDS\", \"BitFlip\", \"Pushi\", \"Ellerium\", \"Poseidon\", \"Bitspace\", \"Briacoin\", \"Ignition\", \"Abjcoin\", \"Proton\", \"Bitcoin Incognito\", \"KEYCO\", \"Reliance\", \"EmaratCoin\", \"Motion\", \"Axe\", \"Giant\", \"Absolute Coin\", \"TPCash\", \"Urals Coin\", \"XDNA\", \"PAXEX\", \"Xchange\", \"Bettex coin\", \"Exosis\", \"Oduwa\", \"Galilel\", \"Scribe Network\", \"SLICE\", \"Nasdacoin\", \"Gexan\", \"Bitcoin Rhodium\", \"Zano\", \"Neetcoin\", \"Always Evolving\", \"Dextro\", \"Wincash Coin\", \"Bitcoin SV\", \"SibCoin\", \"ViaCoin\", \"IOCoin\", \"Zcoin\", \"CloakCoin\", \"Dash\", \"Bitcoin\"], \"legendgroup\": \"2\", \"marker\": {\"color\": [2, 2, 2, 2, 2, 2, 2, 2, 2, 2, 2, 2, 2, 2, 2, 2, 2, 2, 2, 2, 2, 2, 2, 2, 2, 2, 2, 2, 2, 2, 2, 2, 2, 2, 2, 2, 2, 2, 2, 2, 2, 2, 2, 2, 2, 2, 2, 2, 2, 2, 2, 2, 2, 2, 2, 2, 2, 2, 2, 2, 2, 2, 2, 2, 2, 2, 2, 2, 2, 2, 2, 2, 2, 2, 2, 2, 2, 2, 2, 2, 2, 2, 2, 2, 2, 2, 2, 2, 2, 2, 2, 2, 2, 2, 2, 2, 2, 2, 2, 2, 2, 2, 2, 2, 2, 2, 2, 2, 2, 2, 2, 2, 2, 2, 2, 2, 2, 2, 2, 2, 2, 2, 2, 2, 2, 2, 2, 2, 2, 2, 2, 2, 2, 2, 2, 2, 2, 2, 2, 2, 2, 2, 2, 2, 2, 2, 2, 2, 2, 2, 2, 2, 2, 2, 2, 2, 2, 2, 2, 2, 2, 2, 2, 2, 2, 2, 2, 2, 2, 2, 2, 2, 2, 2, 2, 2, 2, 2, 2, 2, 2, 2, 2, 2, 2, 2, 2, 2, 2], \"coloraxis\": \"coloraxis\", \"symbol\": \"circle\"}, \"mode\": \"markers\", \"name\": \"2\", \"scene\": \"scene\", \"showlegend\": true, \"type\": \"scatter3d\", \"x\": [-1.698855791344005, -1.6361163443069016, -1.208320269647056, -0.8037439747062246, -1.3646170088527252, -0.9427229415355924, -0.6800100825890748, -1.332855957826339, -0.516770991046102, -1.7306843603337703, -0.7855812290128598, -1.1066542489757811, -0.6652185520462043, -1.1399812995178256, -0.4181595967916148, -0.59676479839841, -0.7834156430849977, -0.2283145980303576, -0.4160762376146402, -0.827662140385722, -0.38492053963285555, -0.914194366980033, -1.0266062762174712, -0.43089712654186363, -1.5609441194923894, -1.4493273100275357, -0.452228533214086, -1.2203750337164532, -0.9850231797470864, -1.1279452912290533, -1.8188933229691875, -1.1950214540240678, -1.058653464115012, -1.2998164602986628, -0.4255944018337837, -1.6596366880452023, -0.2847600013033955, -0.26988122532981607, -1.219508350822346, -1.1628102160556224, -0.8639664265649961, -1.075670449741813, -0.7635114972487659, -0.936505824203215, 0.1739644730272796, -1.415738077775441, -0.42708367775660494, -1.598097566942282, -1.4345475344757563, -0.7088171041828417, -1.077263116597339, -0.9116009527088477, -0.5177524574587725, -1.5241006604482894, -0.7743234250342663, -0.23734955619973247, -2.114618225372136, -1.0999007716145572, -0.7593678444204908, -1.2981203204591563, -1.4386214234750903, -0.9573899795647689, -1.5877904141046575, -1.2442638410115976, -0.7684396062202604, -1.0026414532603452, -0.9915117843537746, -1.415830907130056, -1.4573665973663192, -0.24658747297553069, -1.451377709005964, -1.5462253654840419, -1.2245853148726764, -1.136832505681318, -1.906427513252769, -1.2850220758941753, -1.0466068532225121, -0.3077421236907147, -0.7841370727144629, -0.46309626499751116, -1.3341206665044119, -1.8345602786916735, -1.064046872246945, -1.5089360110779033, -1.7794633495047179, -0.743556343364218, -0.8488788045650186, -1.1032500736267408, -1.360477847474074, -2.0492641996005254, -0.9137639293619974, -1.053228248171896, -1.4270232980503958, -0.8011599467651559, -1.1583246452188782, -0.7752360162495087, -0.9925509551043101, -1.1131541641170526, -2.033545527898868, -0.9304825187569653, -1.458583981580042, -0.261672241113891, -1.1051771324788378, 0.16766927587193184, -1.0276030994354266, -0.37452972204443746, -1.1850805599033614, -1.4915676162006304, -1.1515505517588105, -1.445685759990094, -0.6255817146650492, -0.821133574790953, -0.49445328198987915, -0.9626905583420868, -1.2046195994100386, -0.9589994601129278, -0.4464712529097349, -1.314110883869912, -0.556572281929032, -1.280415025249318, -1.1063174485780174, -0.7347815219128501, -0.2825243470466069, -1.8166137024792546, -0.8382751975835524, -0.6660434136340119, -0.7984832122648833, -1.4321538794237536, -1.4638540495856442, -1.6090165285003184, -1.220209872283823, -0.4450145926637536, -0.829774208925357, -1.3061036449560497, -0.6937276218646454, -0.5095483082102604, -0.9224275701129122, -1.2257411294599936, -0.19876059082898365, -1.5035625111139586, -0.23573809354186065, -1.1297806731138988, -0.24063969698670257, -0.8576015066063453, 0.1598608267798832, -0.8384807644607709, -1.7549682995295421, -2.30971793533371, -0.8880702509537235, -0.6205275934101809, -1.518486831999525, -1.628195338392906, -1.16000732859304, -0.650095643216261, -0.4220779344225648, -1.2603455551633238, -0.5103342622664667, -1.1743534681434602, -1.2909432245648562, -1.1886730032363435, -1.1473244275927428, -0.45491930931514796, -0.9106183339088136, -1.1073764275617393, -0.15356198549994185, 0.027141668333261988, -0.9540717555762201, -0.6241970240918508, -0.05767357959248635, -0.8904955691648055, -0.2261618195461484, -0.21629607033943626, -0.07074082818510845, -1.1592952045278355, -0.7735017797133077, -1.4398047950377049, -0.3002794979173979, -1.1010327717197073, -0.957617904036806, -0.16588550678136088, -1.0266516993379642, -0.2855359997697319, -0.9569608760386709, -0.422604803209409, -1.223019719791805, -0.1206758944138046, -1.3302114755937573, -1.436847063133677, -0.2915593052159817], \"y\": [0.13761321693620956, 0.5397190063686222, -0.5185552205065854, -0.6075151900611491, 0.34844883617128386, 0.9485045916420272, -0.726113115191935, 0.008927313554556704, -1.568370439707824, 0.3003150367221381, -0.5813515997899582, -1.744628319331233, -1.3694986789864194, -1.062899033695103, -0.31990117695511777, 0.2811691131372404, -1.5595200748812441, -0.26328321934722776, -0.4508118682496056, -1.4586118911251813, -0.37472110448994667, 0.34376038024206707, -0.7660998727642488, 0.0020179606492403395, -1.9397939214521664, -1.8338908345911702, 0.7159650460976373, 1.0034432126898414, -0.4839994089255076, -1.914890045235646, 0.6039535307683189, -0.4225648927553774, -1.7369504847967663, -1.7057573828514232, 0.002544496271243375, -1.7367303963504794, -1.0259439426025538, -1.5434948883421047, -0.739309203553711, 0.7890978544835133, 0.21018724143548076, 0.9782398676432869, -1.5269329320277958, -0.5511691685504424, -1.9132467613579478, 0.5854371544516789, -0.4047236120283711, 1.0779214262535066, -1.8630917715916173, 0.8776036199844066, 0.7359918720779792, -0.5429262503617313, -2.02062962877645, -0.17545560436785562, -1.0542506932000044, -0.2697123281054616, -0.8486607396998419, -0.44140591540778, -1.4568241217881153, 0.4492477840606807, -1.5879650162479182, -1.1537443036042458, 0.2255900755387443, 0.34290224652144774, -0.7015471098207231, -0.27672605532873235, 0.9199354381409462, 0.5721317816969559, 0.3888883536841103, -0.9637974594596339, -0.596038456987677, 0.5993892384472282, -0.7022402475817104, 1.3806341376273032, -0.34536842262224243, -0.6800130190763061, -1.728378339785788, -1.339229791526788, 0.055163256184012924, -0.6412456867399523, 0.07511383815395355, 0.07647184832313397, 0.49665625698225, 0.2992352463685593, 0.6717291203181682, -0.47910280193508464, 0.4114581575948421, 0.031862521043447826, 0.9609266421986757, 0.2281968114841578, -1.1572343617477334, -1.3888677569212173, 0.013300569822603418, 1.5258638737104464, -0.31701622119410267, 1.5108045261264744, 0.8652750369087332, -0.6229479062301604, 1.1926127585824653, -0.5468830960449532, -0.6446446486788135, 0.5040615519506065, -0.0011717770482563361, -1.2912679398001279, -1.5205603864522037, 0.7514371337403752, -0.529460586207395, -0.2179784100511584, -1.7368577448582323, 0.40614501594607955, 0.44601396917591996, -1.811427846744475, -1.1898436052315715, 1.0931678109294936, 0.16726439702197102, -1.5804648206571532, -0.5121583490412213, 0.11109673102568299, -1.6893675202765672, -1.00395726451742, -0.6015969240864618, -0.46059342590757896, -0.30185787189663044, 1.3602167415347992, -1.69123233671371, -0.6286838772274069, 1.4350831054079969, 0.6276031250326299, 0.31807541740500483, -0.23965081563831364, -1.2693810774898961, -0.029248200406876725, 1.0213457721312345, -0.6950142728455181, -0.9741819697879317, 0.6000359762708831, -1.1104419794870743, -0.8988557481944012, -0.38359110161800525, 0.2103837095909858, -0.8719070077661314, -0.45987118722706805, -0.31177148262237586, -1.105444656579511, -1.1757122875228179, 0.4269121227782862, -0.542097147090903, 0.359642693395416, -0.6675202051379975, 0.8993176234581892, -0.21065499081641328, 0.3864836420701776, 0.057671696014916646, 0.09238245341210609, -0.669299330452022, -1.181164460585035, 0.5743707698088142, 1.4375915452389003, -0.5731479837587591, -0.7400855856142337, 0.7475997956315404, 1.092826657693872, -1.565414844638665, -0.5905249077203868, -0.22279583120108173, -1.8499065474347636, -1.6838468356749012, 0.240837435904203, -0.4571506193173807, -0.39927526996676427, -1.2315420717020715, 0.3174506122513209, -1.3488330046420687, 1.4483067265026235, -0.48997907768809645, -0.910281328244241, -1.3386435939033519, -0.5093716893947161, 0.7180216261302664, -0.5781954840004825, -0.6805482096930764, -0.3040009081493752, -0.2995450376335488, -0.09799591263031185, -0.32244420341178887, -0.2788408642213621, -1.7671038636430387, -0.4745997773566549, -0.30828698065486426], \"z\": [1.2315411782377037, 1.0371755561000076, 1.0130138687258141, 0.5762759513483265, -0.6497188284402565, 0.45945626354771535, -0.27075917648643943, 1.318899083368243, 0.3136622917817284, 1.2481104860512036, 0.5401969638048282, 0.6671037871810319, 0.5162132107383858, 0.2605160866364435, -0.1297437338535137, 0.03301697407712992, 0.755423256341084, -0.007332596183599751, -0.10392420724770232, 0.8064821704501643, 0.2782158979002836, 1.3078177068073926, 0.9826334236984681, -0.1805642573832402, 0.48958841634667843, 0.28014751141166117, 0.1462255710706073, 1.360235773969949, 1.301333311565093, 0.43108866817117847, 0.3497862159129111, 1.1860505504528929, 0.5855048808382445, -0.1476655880553913, 1.3890316187376308, 0.458064040755564, 0.8319790148307886, 0.5737481741605424, 0.6300075557800608, 1.621927385238001, 0.49356444491632523, 0.006397304890810688, 0.047355795834002755, 0.11695482393147534, 1.2442780360472627, 1.3278552317532326, 0.3550943386151752, 1.5211559319175831, 0.26208417858197647, 0.5370706558684952, 0.8149269819334388, -0.23587198116689617, 0.774588964543502, -0.2671067185772032, -0.3499340078024071, 0.009141355398162685, -0.8360684190700611, 0.8153264497446636, 0.47578667134730285, 0.49493382268628194, 0.20731404099038048, 0.9541675955834844, 0.04983793436598824, 0.8801096559824995, 0.5385599044410354, -0.1439182576546807, 0.3303977974878735, 1.3309863161332058, 0.7734492964441932, 0.6042135671588335, 0.6742880042395238, -0.1029573830342863, 1.08117455163507, 1.136824184614729, 0.7078344336069797, 0.7257678590065332, 0.5635396120625612, 0.36555251372843856, 0.3953962307600343, 0.8923606846360187, -0.3386469176179522, 0.49386377550755056, 0.09479084098021576, 0.8793260262607405, 0.2690058392520206, 0.2307435600274952, -0.24422447814256634, 0.2640124318463822, 0.4842372569936647, 0.8172236727304665, 0.2146939350449291, 0.4986053697650199, 0.8069773387102612, 0.10357144327927598, 1.1013682378460037, 1.9341480030677154, -0.10665547959932091, 0.8779958154599988, 0.5753116457906317, 0.10597218954363356, 1.0066912436942628, 1.4284635500548248, 0.9422630735699116, -0.011918556937420943, -0.4917679801172292, 1.0613451102077718, 0.5257678853273063, 0.9661301811022232, 0.7400802919499248, -0.22704048002813038, 0.04409496469671308, 0.8745474971276788, -0.475813362604657, 0.4603224713454823, -0.5747735569565482, 0.15915055766548777, -0.0396177821685743, -0.5303333777464088, 0.4069670059625115, 0.4810349821910442, -0.7166964138165286, -0.24787389887228278, 0.09151111330697528, 0.17680572344835865, 0.8761845564914713, 0.35185511984772705, 0.11056290841421262, -0.2991030988833851, 0.8000873527319011, 0.18924270644860292, 0.749759613785069, 1.2781255352700647, 0.8654061057017244, 0.7642070793639794, -0.19243438887123818, 1.2447405273516094, 0.2186435491067989, 0.36653585080060286, 0.9475895833735645, 0.890260982532711, 0.7159381803082963, 0.10863465514980684, 0.024025925732003222, 0.47662375334802054, 0.9038352894316223, 0.40266764166536023, 0.49979219745640135, 0.7702446288751342, 0.7300328327781096, 0.7699899392202605, 1.0092898670875645, 1.0582746170779218, 0.35269203663101184, 0.8139301508551626, -0.13795203354469202, 0.7127852926467534, 0.8493588506140959, 0.0678587142851901, 0.02633504592301648, 0.26932920067382077, 0.7785867844826876, 0.7517735308707982, 0.30077491643625737, -0.3504315688289414, 1.1459363335919976, 0.4972550582930646, -0.28579582462061054, 0.662450575401571, 1.9319495450091344, 0.006405306602903905, -0.3116183884059418, 1.1957809849109717, 0.19879690184187468, 0.040402128315585865, 1.0346958057898403, 0.5749923723782124, 0.21152829946656676, 0.38140425703744263, -0.13184718898671902, 1.1353323688206713, 0.7469273762560535, 0.09700243050089603, -0.29000187214609296, -0.1719895339252169, -0.43459793330790797, 1.0948835424077525, -0.08335916297626361, -0.04471441253952857, 0.10798506488873776]}, {\"customdata\": [[79], [61], [64], [43], [58], [64], [64], [56], [64], [43], [58], [64], [64], [64], [64], [64], [64], [64], [77], [64], [64], [62], [64], [58], [79], [64], [64], [64], [64], [64], [64], [77], [58], [58], [64], [64], [64], [64], [58], [79], [64], [64], [58], [64], [64], [64], [64], [64], [70], [64], [77], [43], [45], [77], [64], [42], [62], [64], [64], [77], [58], [77], [64], [64], [64], [64], [64], [64], [79], [77], [64], [58], [64], [58], [64], [77], [64], [58], [44], [64], [77], [64], [64], [77], [44], [64], [77], [25], [43], [64], [64], [64], [60], [64], [77], [80], [60], [64], [77], [79], [77], [77], [64], [77], [64], [77], [64], [77], [64], [77], [77], [64], [58], [81], [57], [77], [44], [77], [64], [64], [69], [77], [67], [76], [64], [64], [64], [45], [64], [77], [64], [58], [44], [56], [58], [77], [77], [44], [79], [43], [27], [64], [58], [77], [64], [64], [45], [64], [64], [64], [64], [79], [59], [64], [77], [58], [64], [77], [56], [64], [60], [81], [82], [64], [58], [61], [58], [83], [77], [56], [64], [83], [60], [58], [76], [84], [56], [64], [56], [77], [79], [77], [64], [64], [45], [66], [72], [43], [75], [64], [50], [64]], \"hovertemplate\": \"<b>%{hovertext}</b><br><br>Class=%{marker.color}<br>PC 1=%{x}<br>PC 2=%{y}<br>PC 3=%{z}<br>Algorithm=%{customdata[0]}<extra></extra>\", \"hovertext\": [\"EliteCoin\", \"Bitshares\", \"BlueCoin\", \"MyriadCoin\", \"ZetaCoin\", \"SexCoin\", \"EnergyCoin\", \"QuarkCoin\", \"Digitalcoin \", \"Verge\", \"DevCoin\", \"EarthCoin\", \"Einsteinium\", \"FlutterCoin\", \"GrandCoin\", \"GlobalCoin\", \"GoldCoin\", \"HoboNickels\", \"HyperStake\", \"Infinite Coin\", \"KrugerCoin\", \"MaxCoin\", \"MintCoin\", \"MazaCoin\", \"NavCoin\", \"NobleCoin\", \"NyanCoin\", \"PotCoin\", \"PhoenixCoin\", \"Reddcoin\", \"SmartCoin\", \"SuperCoin\", \"SysCoin\", \"TigerCoin\", \"UnitaryStatus Dollar\", \"UltraCoin\", \"VeriCoin\", \"WorldCoin\", \"JouleCoin\", \"StealthCoin\", \"ZCC Coin\", \"MonaCoin\", \"Neutron\", \"PesetaCoin\", \"Dnotes\", \"Flo\", \"ArtByte\", \"LiteDoge\", \"Folding Coin\", \"SolarCoin\", \"TruckCoin\", \"Unitus\", \"UFO Coin\", \"PinkCoin\", \"GreenCoin\", \"Cryptonite\", \"Nexus\", \"Crypto Escudo\", \"AudioCoin\", \"MarsCoin \", \"IncaKoin\", \"Piggy Coin\", \"Genstake\", \"Song Coin\", \"SmileyCoin\", \"BitZeny\", \"Diggits\", \"XiaoMiCoin\", \"Paycon\", \"CapriCoin\", \" ClubCoin\", \"Emercoin\", \"Pakcoin\", \"OKCash\", \"Revolution VR\", \"Hitcoin\", \"HiCoin\", \"CarpeDiemCoin\", \"PWR Coin\", \"SoulCoin\", \"Adzcoin\", \"ZeitCoin\", \"SafeExchangeCoin\", \"Ratecoin\", \"VIP Tokens\", \"Frankywillcoin\", \"Lutetium Coin\", \"Komodo\", \"Circuits of Value\", \"DopeCoin\", \"BitCurrency\", \"Swiscoin\", \"BuzzCoin\", \"PesoBit\", \"Halloween Coin\", \"GanjaCoin V2\", \"LanaCoin\", \"KiloCoin\", \"ArtexCoin\", \"EmberCoin\", \"Kurrent\", \"Stakenet\", \"PandaCoin\", \"PAC Global\", \"FirstCoin\", \"VaultCoin\", \"OpenChat\", \"Impact\", \"EB3coin\", \"HappyCoin\", \"Condensate\", \"GrowthCoin\", \"ILCOIN\", \"HTML5 Coin\", \"Quantum Resistant Ledger\", \"DigitalPrice\", \"Virta Unique Coin\", \"ArcticCoin\", \"Metrix\", \"gCn Coin\", \"Signatum\", \"Onix\", \"Cream\", \"VeChain\", \"NewYorkCoin\", \"AdCoin\", \"Linx\", \"TrezarCoin\", \"ATC Coin\", \"Elements\", \"WomenCoin\", \"Theresa May Coin\", \"NamoCoin\", \"Bitcloud 2.0\", \"Infinity Economics\", \"Pura\", \"Magnet\", \"Electra\", \"Bitcoin Diamond\", \"SHIELD\", \"Aion\", \"Cash & Back Coin\", \"GlobalToken\", \"AC3\", \"GermanCoin\", \"PopularCoin\", \"GunCoin\", \"IrishCoin\", \"Trollcoin\", \"Unified Society USDEX\", \"ShareChain\", \"Tokyo Coin\", \"LitecoinCash\", \"LottoCoin\", \"Crypto Improvement Fund\", \"Next.exchange Token\", \"MedicCoin\", \"FuturoCoin\", \"Carebit\", \"iDealCash\", \"TheVig\", \"Dekado\", \"Trivechain\", \"MMOCoin\", \"Project Pai\", \"Kcash\", \"TigerCash\", \"BitMoney\", \"Junson Ming Chan Coin\", \"HerbCoin\", \"Credit\", \"Beetle Coin\", \"Titan Coin\", \"BLAST\", \"VeChain Old\", \"YENTEN\", \"PEPS Coin\", \"Graviocoin\", \"Rapids\", \"PENG\", \"X42 Protocol\", \"Rhypton Club\", \"MegaCoin\", \"Gulden\", \"FeatherCoin\", \"BurstCoin\", \"Bytom\", \"DigiByte\", \"Ontology\", \"Litecoin\", \"Steem\", \"Buxcoin\"], \"legendgroup\": \"1\", \"marker\": {\"color\": [1, 1, 1, 1, 1, 1, 1, 1, 1, 1, 1, 1, 1, 1, 1, 1, 1, 1, 1, 1, 1, 1, 1, 1, 1, 1, 1, 1, 1, 1, 1, 1, 1, 1, 1, 1, 1, 1, 1, 1, 1, 1, 1, 1, 1, 1, 1, 1, 1, 1, 1, 1, 1, 1, 1, 1, 1, 1, 1, 1, 1, 1, 1, 1, 1, 1, 1, 1, 1, 1, 1, 1, 1, 1, 1, 1, 1, 1, 1, 1, 1, 1, 1, 1, 1, 1, 1, 1, 1, 1, 1, 1, 1, 1, 1, 1, 1, 1, 1, 1, 1, 1, 1, 1, 1, 1, 1, 1, 1, 1, 1, 1, 1, 1, 1, 1, 1, 1, 1, 1, 1, 1, 1, 1, 1, 1, 1, 1, 1, 1, 1, 1, 1, 1, 1, 1, 1, 1, 1, 1, 1, 1, 1, 1, 1, 1, 1, 1, 1, 1, 1, 1, 1, 1, 1, 1, 1, 1, 1, 1, 1, 1, 1, 1, 1, 1, 1, 1, 1, 1, 1, 1, 1, 1, 1, 1, 1, 1, 1, 1, 1, 1, 1, 1, 1, 1, 1, 1, 1, 1, 1, 1], \"coloraxis\": \"coloraxis\", \"symbol\": \"diamond\"}, \"mode\": \"markers\", \"name\": \"1\", \"scene\": \"scene\", \"showlegend\": true, \"type\": \"scatter3d\", \"x\": [-0.5516057687916079, 1.1798455983079124, 0.11287944518059727, 0.8828447177179463, 0.3109051821390688, -0.06949879976686839, -0.07083137093002531, 0.2718149628687815, -0.5208647882134244, 1.0756316053733874, 0.5309932056155923, 0.5186394562057499, -0.061526077873702796, 0.9245598441442288, 0.3775559249919521, -0.520256096106563, -0.6072227076587265, -0.1621503595453681, 1.1440935111941624, -0.06535198958090768, -0.08645476385023768, -0.1657611542241889, 1.64346534320303, 0.030211634394222756, -0.6254847383825171, 0.4263921740442568, -0.06898293701462177, -0.511986130368927, -0.9496345795399127, 0.3176718303530945, -0.6072744236378979, 0.7254737826797926, -0.12301949024358715, -0.2978916094977928, 0.020962367062120357, -0.2601941750684375, 0.16319803970565722, -0.12560624925086222, -0.2981700975616378, -0.7429391945843906, -0.031215738756325606, 0.10747658683229985, -0.7666072370409971, 0.12342203061863136, 0.8361885625074933, 0.1618308811823355, 0.4590973206009998, -0.1853869119313771, 0.2751827979313776, -0.6610094232773439, -0.3533642068738959, 0.7484648082044195, 0.6069393878775637, -0.8654990207031856, 0.5525513843724886, 0.8985522605895955, -1.3478206727261886, 0.45608566787787486, 0.1170050501591027, -0.8338443554315611, 0.2318478215098086, -0.30471361653082135, -0.3352481184581601, -0.2943105177250312, 0.09124334941786261, -0.171894992353117, 1.2041353630452458, -0.4402634411416182, -0.7582441384526772, -0.6491864899941631, -0.26222581826624075, -0.1093150029985747, -0.04402374026637083, -0.012385139730885862, 0.06379766826299374, -0.4947978502986983, 1.580963270854326, 0.5135730947591479, 0.8433823102812111, -0.23350173135421673, -1.0207829937462545, 1.685535651972164, 1.4296856392518802, -1.1147646752610814, -0.3073979369560727, -0.142739718866564, 0.4388004922909705, -0.7095880953996617, 1.036706892057437, 0.0026363202543441826, 1.3182068491055339, -0.6439642316535535, 0.15914617520973992, -0.3328451578418969, -0.46400100681342776, -0.6090852242005569, -0.3721313938382369, 0.30860751379936696, -0.46553554303960926, -0.8012321381642341, -0.5757294014135214, -2.416386816163578, 1.2416888412494262, 1.0423471240902187, -0.3280550681889096, -0.4137194490753627, 0.1404484664617972, -0.535589753310678, -0.37450058639029704, -0.7776359234160549, -1.019093309582559, 1.1965962771534389, 0.33737085376861575, -0.9127139524464672, 0.32938700304544155, -0.34454426579810365, 0.3093503713664996, -1.027136503235521, 1.0291199954967212, 0.4516510640638082, 0.9916407725711052, -0.15661501535436065, -0.35365726276481113, -1.5704618870153866, 0.702577044401046, -0.010813333561108814, -0.004790028114858915, 0.06834705559562404, -0.10637066467756068, -0.01654200443760072, -0.4081868948597251, 0.026116540187433406, 0.6166317784798605, -0.33581860996035856, 1.0171020350577185, -0.5288319662044049, -0.7867119949608734, 0.47718866487741707, -0.7251782770812017, 0.38367420572357885, 1.405130769607328, -0.37832894752433227, 0.2533124629812344, -0.8013553783557641, -0.3328133500307137, 0.012383402488923206, 0.37379423321150285, -0.536149823913723, -0.6432814659727021, -0.30145953041775275, 0.5736329534343632, 0.2168158207992648, -0.28494261301612905, 0.4050838328977082, -0.6010599155802328, 1.0409554327274864, 0.8241419516149937, -0.40778897298372807, -0.04368829581723756, -0.3987912218756177, -0.2339573804286881, -0.25578583219411843, -1.5485023548425694, 0.8750509572405452, 0.4375391418441036, -1.1189868331998891, 1.6622031128738544, -1.8942779148584346, 1.2766062310116602, -0.6859845848269337, -0.356483538418082, -1.0885650287734328, -0.3036577320224544, -0.3793401757522254, -1.766219314018509, -1.2639606377305008, -0.3346199815272605, 0.2587196310745808, 1.400684228093679, 1.0884090951077994, -0.10836044654734377, -0.11323449301688812, -0.46749050338871073, 0.23814332216122494, 0.4545929939836301, 1.3504037113778713, 0.1713952174784653, 0.944098895081211, 1.1215362226096122, -0.5756209107536363, -0.17446847659962145, -0.4835816448961919], \"y\": [0.7331171394984027, 0.9014332025253176, -0.9033093824791188, 0.2716396647317241, -0.29000324924962145, 0.2591823109785916, -1.0340345938965394, 0.37535969661174756, 0.8515115206373172, -0.014834906991021165, 0.32998340736330284, -0.4873693133936243, 0.5428812113332689, -1.0006595227980237, -0.5215651534990039, 1.3682780218187791, 1.3593514615080786, -0.8077505171277106, -1.1080615886854117, 2.142116133391058, 0.405988566518803, -1.0703719020679905, -0.8940558155280327, 0.4686756614092287, -1.2656333805008042, -0.3941389641720277, 0.7626434394053303, 1.021885618781743, 1.862283683036465, -0.7575829172924867, 0.9224171968549564, -1.4059436278169106, 1.9431728817455525, 0.9317028770253978, -0.3332286503402305, -1.1158243868005557, -1.2724597233184278, 0.3781290952331233, 0.891786758761228, -1.3492117943578428, -0.9396482588372436, -1.005013580597184, 1.3712383214479573, -0.43761577988782935, 1.0866891928815348, -0.5161992906399356, -0.8607213210638526, 1.0159798607458852, -0.9263585789209766, 1.8109325646306913, -1.093741756856308, -0.9493245420350246, 1.2753540712466183, 1.0970208043222296, -0.7809818244740471, 0.07335495324971208, 1.5914527785753776, -0.8628643573165973, -0.7415018731696962, 0.2935236122328106, 0.16201945293527079, -0.9929263130387785, -0.7058552829566016, -0.17881519957369643, 1.3929908619822555, 0.18631907838527542, -1.1537176174098502, 0.9934862523192739, 1.1818463757688291, -0.11270487045841975, -0.5479794308529456, -1.0604551549688992, -0.3846559642301245, -0.9120457583527328, 0.0362899962387405, 0.5399672251224628, -0.8326165947978835, 0.410262799129898, -0.6009401090983335, -0.7261296596463482, 1.4182366675031202, -0.8773586807443318, 0.15600816428392597, 1.4492206692806135, 1.9694511775404253, -1.0322459729435165, 1.3159540531969778, 0.414395060173356, -0.4397125246656533, -0.1396244563633839, -1.1255037308244489, 0.7610457304318361, 0.22470583125498053, -1.220478747885319, -0.6296568515169494, -1.190134370540557, 1.8193168099619719, -0.9545677609463592, 1.1116566545132824, 1.892658669989417, -0.07885788947678593, 1.5208653628450202, 0.7927057220469765, -1.0877872119956655, -0.8702557618450135, -1.3404635895615615, -0.8174951924308014, -1.0115810041981563, 0.7835504512104002, -1.3426883774744025, 0.9877259554322553, -0.08669760554099071, 0.49670962429353877, 1.9807070680423402, -0.9496899346414579, -1.304479128503159, -0.6896823614829598, 0.937100212080339, 1.2504542585666352, 0.21960406355973042, -0.8931025110945237, -0.9986410350215918, -1.1497145338554902, 2.014078086576044, -0.7536622483651567, -1.2083403492467324, -1.2040542767412432, 1.1488331806745906, 0.9875860504593923, -0.25024113866664643, 2.1548925992474293, -0.9773238963501155, -0.457787290948288, -0.1974691741623584, 2.0107465710374357, 0.6297186285525239, -0.925488594334237, 1.0317056269812717, -0.09207764665562443, 1.7434649419169506, -0.38603688909109646, -0.008348361490736922, -0.3839424290706616, 1.08452255828146, 1.361210721769246, 1.257439682882557, 1.3609993258722815, 1.2378144857625468, 1.9611250260239044, 0.27141888165817313, -0.765980570704835, 1.457763837445583, 1.8943730109586245, -0.012122071552287051, 1.0152200231397759, -0.8267878838621031, 1.078117047870556, -1.349482889810796, 0.01040534235386724, 1.3539800424730344, -1.1406433749836338, 1.3285640034333248, 1.353813537824736, 0.21406938935152298, 0.25024391077349717, -0.6664194734150228, -0.8797586877982451, 1.4335113124543997, -1.0137679935646497, 1.1553165788298028, 1.8342221874193043, 1.0035240751794259, 1.3252293970841897, 1.2841644173449696, 1.874780730147646, 1.3213010222687354, 1.5060712498564488, 0.05583899787462994, 0.9777384875835614, -0.4989590487588649, 0.37905813835236846, 0.06489447487975612, 0.7703378183942107, -0.31626428401936524, 0.9154001762696468, 0.13457623356980697, -0.594527398777546, 0.4608594900885715, -1.0796606540362697, 1.5936677881110966, 2.0314146006089078, 1.2274481636225694], \"z\": [-1.9384231340882183, -0.8338533876749042, -1.5506175075969604, -0.8486284588131922, -0.8987060753101802, -0.8395223206537403, -1.2156471587677893, -0.8321676341489108, -0.22088692939592589, -1.1053693762589032, -1.403668866571543, -1.6512676996124218, -0.9162577270210196, -1.2104760415327689, -1.408831213398009, -0.3375079030209606, -0.19078404191714943, -1.1143001821156544, -1.5274992831316727, -1.2676623510281755, -0.844147430049894, -0.8992021063112046, -1.4292225858261585, -1.2689661730154354, -1.3683273863537386, -1.5186098791605547, -0.9530122098988021, -0.9414310493070291, -0.4011204456644159, -1.924027076783577, -0.09294957457195377, -0.7642061931766762, -0.6761766971769136, -0.15888028085914105, -1.525187407630208, -0.8822185130706697, -0.5502916348399242, -0.7727603065289231, -0.14948702771922143, -1.1541660157908262, -1.3026897041886263, -0.8512201267796439, -0.14484353122167934, -1.0046909395142023, -0.5289009600266814, -1.0510293879953874, -1.4686555634285958, -1.4836251046048825, -1.598918251106378, -0.20229913729166252, -1.7092986940356032, -0.35185096437079305, -0.7643583921732612, -1.3471261532403684, -1.6420174808201151, -0.7552408177946529, -0.5290272387102949, -1.463164246234675, -1.59368183735056, -0.5523975722394162, -1.5359188732829625, -1.8128151910382029, -0.8490322193277907, -0.36741207632416084, -1.3606729948016412, -0.652817536060432, -0.6400146130336094, -1.05443615568129, -1.6949297276125561, -1.4364732516471888, -1.0058725070216765, -0.6946824206397311, -0.7378812735942875, -0.8891910771250374, -1.0114855692608204, -1.839413570922133, -1.3389535997936068, -1.392638554067831, -1.330569919233932, -1.0138194132612866, -0.492914970732018, -1.5029699421610765, -0.9745452141687485, -1.0110988841499466, 0.009486185122048898, -1.096379883633582, -0.8960614873708329, -0.5495537906645132, -0.9455410385326563, -0.8703483815826718, -0.8361603288827083, -1.3310974687984438, -1.5792920910596855, -0.7379025628966767, -1.6290031002455136, -1.4876775883257016, -1.0518952515760245, -1.1972207881125274, -1.3483524966627132, -1.7824093777883234, -0.8986366241516536, -1.1977988284940617, -1.1379523856810936, -1.3627120891981765, -1.1580506518547324, -0.8860089286879261, -1.6156947842421137, -1.4244256952860037, -0.4492573749583947, -0.9475473072126585, -1.067068976350406, -0.8661758618418358, -1.118748189706073, -1.7669198095639689, -0.70671311538042, -1.0091781397681319, -0.42199931507543387, -0.3747046158590612, -0.8866074291975619, -1.6979478966167958, -0.7205341285489948, -1.3903439027308755, -0.9446041983126003, -1.9730749350738759, -1.8977968342363172, -0.6088789967969722, -0.6198616311848137, -0.5074003734505853, -0.9411156895973224, -1.790876311076001, -1.367639949910354, -0.9386606099861955, -0.9852447532353322, -0.36046810576077987, -0.585684805465396, -1.13520036824518, -1.0257767385961183, -1.086409019136077, -1.4649618990900717, -0.34719418028295496, -1.0356250862648124, -0.9333807851235847, -0.7818467111057914, -0.7834223210231506, -1.31551611382793, -1.1991122414798598, -0.3955262542669274, -0.2818715576315974, -0.9330550400245825, -1.12389214943115, -1.6804567011775606, -0.7087040267711402, -0.8047877625923786, -1.5686118730083847, -1.1012432229362752, -0.6582374930696548, -0.5069356912509982, -0.8938604786957944, -0.8931258735711008, -1.2041003887015913, -0.6196545710800145, -0.04364964841620475, -0.643785978809513, -0.3983569800973149, -1.230306949180024, -1.9986917352123144, -1.0125928743825963, -1.4966630322697916, -1.769117239664189, -0.0803712524670396, -1.3819443811416516, -1.4060017173971802, -1.0553124046512228, -0.10218701520852758, -1.6161393174690213, -0.5927205930138494, -0.07591556623198002, -1.3402414274459158, -0.8425936160466911, -1.5710960738719428, 0.07376499610275483, -1.7004642906958374, -0.2915508794667419, -1.222754246023114, -0.43030192925772826, -0.988149291277791, -1.6507708361093831, -0.9928967308713142, -1.3459769277091609, -0.29579456393592923, -0.008950061487946108, -1.034688085371942]}, {\"customdata\": [[28], [50], [25], [58], [31], [50], [34], [64], [43], [40], [43], [12], [31], [64], [6], [58], [39], [43], [28], [31], [50], [0], [37], [64], [20], [50], [49], [13], [50], [50], [50], [28], [25], [50], [50], [13], [19], [13], [16], [25], [39], [64], [21], [7], [50], [50], [58], [50], [58], [1], [2], [19], [8], [11], [13], [50], [28], [13], [64], [50], [20], [19], [13], [61], [46], [38], [25], [40], [25], [20], [58], [28], [19], [13], [13], [28], [44], [56], [16], [4], [56], [9], [49], [28], [53], [19], [9], [64], [28], [13], [19], [35], [25], [41], [30], [50], [65], [50], [13], [44], [64], [13], [15], [13], [64], [36], [13], [64], [56], [58], [19], [33], [56], [56], [16], [18], [14], [50], [22], [25], [20], [4], [63], [13], [56], [6], [6], [25], [25], [71], [25], [56], [26], [25], [13], [17], [23], [56], [56], [58], [56], [56], [10], [24], [5], [13], [8], [52], [25], [49], [19], [28], [19], [16], [4], [3]], \"hovertemplate\": \"<b>%{hovertext}</b><br><br>Class=%{marker.color}<br>PC 1=%{x}<br>PC 2=%{y}<br>PC 3=%{z}<br>Algorithm=%{customdata[0]}<extra></extra>\", \"hovertext\": [\"Ethereum\", \"Nxt\", \"ZCash\", \"PayCoin\", \"Riecoin\", \"Exclusive Coin\", \"MediterraneanCoin\", \"Nautilus Coin\", \"TeslaCoin\", \"Vertcoin\", \"Crypti\", \"StorjCoin\", \"FairCoin\", \"RubyCoin\", \"BlakeCoin\", \"NeosCoin\", \"Crypto\", \"Crown Coin\", \"Expanse\", \"Groestlcoin\", \"Radium\", \"HOdlcoin\", \"Waves\", \"GPU Coin\", \"SoilCoin\", \"Nebuchadnezzar\", \"Let it Ride\", \"Karbo\", \"Opair\", \"CoffeeCoin\", \"TeamUP\", \"Elementrem\", \"ZClassic\", \"FreeCoin\", \"Creatio\", \"Cannabis Industry Coin\", \"Golos\", \"Bikercoins\", \"Citadel\", \"Zero\", \"Zoin\", \"RenosCoin\", \"DubaiCoin\", \"TajCoin\", \"Atmos\", \"MacronCoin\", \"ProCurrency\", \"Phreak\", \"Ultimate Secure Cash\", \"Espers\", \"Dynamic\", \"EOS\", \"Nano\", \"ChanCoin\", \"Dinastycoin\", \"Particl\", \"Reality Clash\", \"LeviarCoin\", \"Draftcoin\", \"Stakecoin\", \"Amber\", \"Oxycoin\", \"Sumokoin\", \"Obsidian\", \"Cardano\", \"ICON Project\", \"BitcoinZ\", \"Rupee\", \"Bitcoin Gold\", \"Pirl\", \"Zeph\", \"Ellaism\", \"Lamden Tau\", \"UltraNote\", \"BitCoal\", \"DaxxCoin\", \"Bulwark\", \"Kalkulus\", \"Lethean\", \"Photon\", \"Digiwage\", \"Interzone\", \"TokenPay\", \"1717 Masonic Commemorative Token\", \"BiblePay\", \"ALAX\", \"Stipend\", \"Velox\", \"Callisto Network\", \"BitTube\", \"ADAMANT Messenger\", \"Aidos Kuneen\", \"Bitrolium\", \"Alpenschillling\", \"BitGreen\", \"Deviant Coin\", \"Semux\", \"Zealium\", \"Monero Classic\", \"Jumpcoin\", \"HollyWoodCoin\", \"PlatinCoin\", \"Loki\", \"Newton Coin\", \"Xt3ch\", \"MassGrid\", \"PluraCoin\", \"Lynx\", \"Poseidon Quark\", \"BitcoinWSpectrum\", \"Muse\", \"PlusOneCoin\", \"Dystem\", \"Vitae\", \"Webchain\", \"Ryo\", \"Qwertycoin\", \"Ketan\", \"Acute Angle Cloud\", \"CrypticCoin\", \"DAPS Coin\", \"HyperCash\", \"Fiii\", \"FREDEnergy\", \"Zenad\", \"Universal Molecule\", \"Lithium\", \"PirateCash\", \"Beam\", \"BitTorrent\", \"Bithereum\", \"Crypto Sports\", \"Vollar\", \"Pirate Chain\", \"Beldex\", \"BLOC.MONEY\", \"Nervos Network\", \"Lobstex\", \"Bitcoin Turbo Koin\", \"Kahsh\", \"ZCore\", \"GOSSIP-Coin\", \"MimbleWimbleCoin\", \"DDKoin\", \"DigitalNote \", \"ByteCoin\", \"Siacoin\", \"Poa Network\", \"Horizen\", \"QTUM\", \"Lisk\", \"Ethereum Classic\", \"ARK\", \"Monero\", \"Decred\", \"Binance Coin\"], \"legendgroup\": \"0\", \"marker\": {\"color\": [0, 0, 0, 0, 0, 0, 0, 0, 0, 0, 0, 0, 0, 0, 0, 0, 0, 0, 0, 0, 0, 0, 0, 0, 0, 0, 0, 0, 0, 0, 0, 0, 0, 0, 0, 0, 0, 0, 0, 0, 0, 0, 0, 0, 0, 0, 0, 0, 0, 0, 0, 0, 0, 0, 0, 0, 0, 0, 0, 0, 0, 0, 0, 0, 0, 0, 0, 0, 0, 0, 0, 0, 0, 0, 0, 0, 0, 0, 0, 0, 0, 0, 0, 0, 0, 0, 0, 0, 0, 0, 0, 0, 0, 0, 0, 0, 0, 0, 0, 0, 0, 0, 0, 0, 0, 0, 0, 0, 0, 0, 0, 0, 0, 0, 0, 0, 0, 0, 0, 0, 0, 0, 0, 0, 0, 0, 0, 0, 0, 0, 0, 0, 0, 0, 0, 0, 0, 0, 0, 0, 0, 0, 0, 0, 0, 0, 0, 0, 0, 0, 0, 0, 0, 0, 0, 0], \"coloraxis\": \"coloraxis\", \"symbol\": \"square\"}, \"mode\": \"markers\", \"name\": \"0\", \"scene\": \"scene\", \"showlegend\": true, \"type\": \"scatter3d\", \"x\": [1.2910715647644126, 1.7270164803018746, 0.47150921980913135, 0.7635755357517923, 0.34706520859709983, 0.8739614456284144, 0.6842883684755836, 0.6151099269019206, 1.8011555751804869, 0.08775751456985378, 1.8278891322701514, 2.0536578352535995, 0.7253653340494626, 0.9688551332230388, 0.9896400266962787, 0.31202388859600605, -0.23166385901690315, 1.040301480317264, 0.4804834380744501, 1.10526836555193, 0.057381821303386, 0.7896410998343623, 2.83289032949124, 0.7559255726556009, 0.3236372090127704, 1.017190654602086, 1.0407886926160133, 1.0238222268676342, 0.9104632901601134, 1.211989277287342, 0.7819210273836065, 0.6281578534659158, 0.31490327820663355, 0.9429827780076264, 1.017190654602086, 0.45083506386525607, 1.5804957860229074, 0.7121579319193786, 0.801518480162921, 0.48077095006318055, 0.2652376350912601, 0.5680069248155856, 0.24324080265710005, 0.663101203641079, 1.6014406802846002, 1.3116523052143105, 0.7106972055113365, 0.6400948613328884, 0.528491567242543, 1.5726900898537577, 1.5308787425546573, 3.9950417483639704, 1.4489691868848351, 1.0196345478931355, 1.7632658456654329, 0.9974392072765377, 0.6330672066567855, 0.5848025425848787, 0.6554681939125407, 0.1709374446114277, 3.021702035499466, 4.00106505381022, 0.3002325195410198, 0.26135383633769904, 1.6792269804679458, 2.163356224243896, 1.4386210613507036, 1.293278730380918, 0.6431734250272542, 1.1668376529048596, 2.6523877309127686, 0.32500205133106014, 3.317266034762807, -0.037536732222050694, 0.8180604347735434, 1.4602810933871, 0.8835926329827043, 0.8152062155937139, 1.0214009367622257, 2.424082156186166, 1.1317904663365672, 0.95458391714182, 0.9892603922798726, 1.1946623184505265, 1.9724361218496973, 3.9774359787982956, 0.6693828443962805, 0.8716984978706759, 0.7783386614319878, 1.6564549574331064, 3.469776882158516, 0.42931953613700846, 0.6285076840375448, 0.21158591465526272, 1.3780956989498654, 0.6563293957867926, 1.4018222051272178, 0.456632022514395, 1.0299489642722275, 0.1827493718600111, 0.6912473117753077, 0.03422707038070188, 1.1346046245935153, 1.9577236617039449, -0.014211457669125536, 0.9367006709392239, 1.9395503134068526, 1.9461113338266622, -0.06371102757824368, 1.2680479235629452, 1.9162381487897315, 0.18713837084901072, 0.5088531020265032, 1.0909680525528718, 0.9450566879721535, 0.02782447604366878, 1.9409021665769157, 0.7080115470209806, 4.226714967026124, 1.01492752614369, 2.965230472225399, 0.7671879511390112, 0.9684904932066848, 1.3081150588871155, 1.2273567728951282, 0.945774152378276, 1.0822891370479484, 2.0584069818054127, 0.9235873323208916, 1.9140131893328312, 0.6541166862681014, 0.5029120233311408, 1.035936700245219, 1.2025981966915762, 1.8758931754273247, 0.5663939245045089, 1.4510485398128292, 0.396009602783666, 0.8529241472996689, 1.3489912296688582, 0.5605564584681467, 1.2351560658444098, 0.947024152268839, 2.429738200911044, 1.3052943052793375, 1.9820025421981748, 2.2956348276693967, 1.6697626960422607, 0.46548591436288145, 1.641334274295864, 3.6709489225010263, 1.0377837371863539, 3.7209813505595983, 1.180047827126788, 0.7980670213751695, 2.1829967135992034], \"y\": [-0.7262979004417376, -0.7856305334414331, -0.12408255329211129, -1.254419072274414, 1.8914531368693135, -1.5938306424537583, 0.01926196895541326, -0.9638486124832659, -0.9572042768274576, 1.8047839494737228, -0.991138441571649, 1.3876658960502017, -0.8262567677535959, -1.3740959361428218, 1.8253466606980984, -0.6887006081251347, 1.248873859144551, 0.8050272292862816, -0.5087383596521285, -0.6802630710297991, 1.2011322954849273, 1.8428666150342101, -0.9632007242563029, -0.10900573409053455, 0.3650602469166882, -0.39304807243822243, 0.5396239002312413, -1.039831892572578, 1.490425645151034, 0.8973876048928646, 0.24713676538032786, 0.4701389460386015, -0.23552043843483006, 0.9972325427497627, -0.39304807243822243, -0.2692597141819158, -0.6181983505187018, 0.24767572242220023, -0.2121718326609453, -0.51467159092283, -0.11865147225563395, 0.4457193289794202, -0.11817365888290743, 1.0397536072084719, -0.8378621959572929, 1.0080239194976062, 1.474970963396874, 0.10649794323716237, -0.5876234889464171, 2.032186121120719, -0.8383314898186175, -0.6548620538206494, 1.2604281989001243, 0.7624696909602451, 0.5719664827316642, -1.5059661560912299, 0.3147605454874116, 1.3221118934643388, -0.7630192953861842, 0.7258850536435903, -0.6616735334723222, -0.6505759813151599, 1.7683436781822968, 1.5453045666428604, 1.371727128176623, -0.8067870333996648, 0.6170535748577964, 0.0786297684304345, -0.0019294868856694974, -0.3323870235194697, -0.060913912756826165, 0.4000513848133532, 1.4180335134569348, 1.4617967541012862, -0.8949831934080434, -0.5264556337597017, 0.1218583168661155, -0.47154354781181396, 2.525959283443975, -0.20747882916040233, -1.0538664068062604, 0.2840177351536708, 0.026341901017291062, -0.9296080005633582, 1.3283619571583918, -0.6011934075635007, -0.03289551106731724, -1.1254871863700358, 1.808261316106859, -0.5631835339867668, 0.08347184084030995, 0.28560048980287617, 1.761703135972544, 0.5268811157808982, -0.23452390335251241, 1.574375018762208, -1.9470727870349993, 1.2998808985338328, -0.16167729076084383, -0.12298783519707271, 0.07003880517937952, 1.0097684957404183, -0.4494021564464952, 0.5249886205939377, 0.32268849655088033, -0.13684337483630654, -0.36173812622877505, 1.9800903034427704, 0.6903430432634239, -1.1072749458888937, -0.3021683024222727, -0.23945836838728962, -0.5703848907992534, -1.3212225876769583, -0.25566519283116046, 1.6023852858085026, 0.5636088590192707, -0.4674217061689599, -0.6611653932295293, 2.169065503871084, 1.2368236625900513, 2.166827356403457, 0.10331697363622207, 2.3399017225497802, 0.7671893739017658, -1.025842026079909, 0.5011457540454745, -0.877172446741993, 0.67422326753687, 1.9778054467168573, 0.7075413416201517, -1.421928747101541, 0.3281436819129285, 0.2902322740870391, -0.03633448665690519, 1.1803901445942484, 0.9351353633815936, 1.2954973815297905, -0.2196357759485837, -1.1026344580836829, -0.8910553026273784, -1.2715783385641108, -0.06795106405171511, 0.708452743485458, 2.2825803554731814, 0.5687436561253407, -0.22891232806119438, 0.35265633602207885, -0.12836862579760042, -1.0056972446626251, -0.289711231407264, 0.33796298451346696, -0.8498783528204075, -0.9357661489138807, 0.1499454959672463, 0.39927170939079165], \"z\": [-0.17720546800916223, -0.8739896808615326, 1.2774635156150096, 0.5666892790002691, 0.5826440755125387, 1.060267928602493, 0.21477911512598627, 0.29774499269002686, -0.09897978965559796, 0.3570477994293005, -0.13587730688099267, 1.2864569824208703, -0.10657319717464632, -0.1991675343878911, 1.4072942237432502, 1.19158683901803, 1.088151408392811, 0.7729713642606366, 1.123076428744993, -0.10380224841925022, 1.7939189088132341, 2.187217077783355, 0.305528557759326, -0.12783609069488433, 1.789961315910772, 0.5532786513382778, 0.3805241200590928, 1.4652111003772583, 0.3095308508590741, -0.059587355742484575, 0.8015878796735779, 0.658332951552481, 1.5630120096988933, 0.36574733535098, 0.5532786513382778, 2.2463688089863623, -0.006522363865130314, 1.6958384208098398, 1.4244966135036932, 1.349430778238523, 0.5671597720167089, 0.06079182195744152, 1.9566920690093643, 1.3836353575795, -0.3194990339719465, -0.2501940762817914, 0.04408425623996555, 1.069073040927777, 0.8087363385756229, 0.09891830293711189, 1.4031598594699184, 0.3232224113157629, 0.6189376411326624, 1.219316598875489, -0.12592789690330922, 0.8351239236517388, 0.6849233297243178, 1.667412269098634, 0.18565377222940432, 1.711263082209197, 0.2002427952408308, 0.31223977692792176, 2.041155585096346, 0.5506260388153372, -0.6425909053838965, -0.359549757381718, -0.4977736411534713, 0.7399861729151543, 0.9644584355615219, 0.5427648192685516, -0.5068243954006233, 1.1785140599587798, 0.9874173977766435, 2.6718385327153458, 1.7752281303983846, -0.5035057371485662, 1.1114269753869552, 0.4559638668240204, 0.446016907416218, -0.374746418135634, 0.059389074252857596, 1.5849451154980077, 0.5811042328408624, 2.031679226118974, -0.31171065152495475, 0.34051489257942186, 1.4628115353766626, -0.09310009210786138, 0.109050196100692, 0.30577232089393597, 1.0321744667220005, 0.504337330781596, 0.5943149833903979, 0.3616933399315329, 1.4205784951338103, 0.7136711247428807, 1.4701051254770936, 1.107408903341388, 1.258559531299025, 0.32956157822808413, -0.060255546888170836, 2.6535368093063076, 0.998426319566088, -0.43902833318853823, 1.0572235012186726, -0.32069080786901855, -0.2104114953346225, -0.5729026623064001, 1.6586973649282026, -0.30575465949885966, 1.367006621452752, 1.175167055565604, 0.9878984611841868, 0.18713571661334658, 1.1953553163751982, 2.1557725432846806, -0.4948429616473987, 1.0844423941324182, 0.38123789059964247, -0.13988446123120152, 2.540113859931464, 1.183780806469706, 2.2167033338258806, 0.2360062533125716, 0.4944350211350498, 2.1181457342289134, 1.5493532990471304, 0.8080397677221786, 0.3465382160417692, -0.7113275727579653, 0.7875283290350998, 1.1882878615024728, 0.16182466872942805, -0.03187788746796735, -0.17727287970761424, 1.4290784724658678, -0.43927746246355354, 0.7582643794727981, 0.33683962603742557, -0.4414958862148292, 0.9735940299528888, -0.06392317117496067, 1.6010977496626604, 2.2473117385646137, 0.18721852225484784, -0.4892210394998516, -0.4568677442929271, -0.1822176341494355, 1.2884461500028515, -0.27317301488474705, 0.7808771883543394, 0.006217196144469544, 0.8229322759625586, 0.9564393411798172, 1.5835980430767695, 0.6335429632196089]}],\n",
       "                        {\"coloraxis\": {\"colorbar\": {\"title\": {\"text\": \"Class\"}}, \"colorscale\": [[0.0, \"#0d0887\"], [0.1111111111111111, \"#46039f\"], [0.2222222222222222, \"#7201a8\"], [0.3333333333333333, \"#9c179e\"], [0.4444444444444444, \"#bd3786\"], [0.5555555555555556, \"#d8576b\"], [0.6666666666666666, \"#ed7953\"], [0.7777777777777778, \"#fb9f3a\"], [0.8888888888888888, \"#fdca26\"], [1.0, \"#f0f921\"]]}, \"legend\": {\"title\": {\"text\": \"Class\"}, \"tracegroupgap\": 0, \"x\": 0, \"y\": 1}, \"margin\": {\"t\": 60}, \"scene\": {\"domain\": {\"x\": [0.0, 1.0], \"y\": [0.0, 1.0]}, \"xaxis\": {\"title\": {\"text\": \"PC 1\"}}, \"yaxis\": {\"title\": {\"text\": \"PC 2\"}}, \"zaxis\": {\"title\": {\"text\": \"PC 3\"}}}, \"template\": {\"data\": {\"bar\": [{\"error_x\": {\"color\": \"#2a3f5f\"}, \"error_y\": {\"color\": \"#2a3f5f\"}, \"marker\": {\"line\": {\"color\": \"#E5ECF6\", \"width\": 0.5}}, \"type\": \"bar\"}], \"barpolar\": [{\"marker\": {\"line\": {\"color\": \"#E5ECF6\", \"width\": 0.5}}, \"type\": \"barpolar\"}], \"carpet\": [{\"aaxis\": {\"endlinecolor\": \"#2a3f5f\", \"gridcolor\": \"white\", \"linecolor\": \"white\", \"minorgridcolor\": \"white\", \"startlinecolor\": \"#2a3f5f\"}, \"baxis\": {\"endlinecolor\": \"#2a3f5f\", \"gridcolor\": \"white\", \"linecolor\": \"white\", \"minorgridcolor\": \"white\", \"startlinecolor\": \"#2a3f5f\"}, \"type\": \"carpet\"}], \"choropleth\": [{\"colorbar\": {\"outlinewidth\": 0, \"ticks\": \"\"}, \"type\": \"choropleth\"}], \"contour\": [{\"colorbar\": {\"outlinewidth\": 0, \"ticks\": \"\"}, \"colorscale\": [[0.0, \"#0d0887\"], [0.1111111111111111, \"#46039f\"], [0.2222222222222222, \"#7201a8\"], [0.3333333333333333, \"#9c179e\"], [0.4444444444444444, \"#bd3786\"], [0.5555555555555556, \"#d8576b\"], [0.6666666666666666, \"#ed7953\"], [0.7777777777777778, \"#fb9f3a\"], [0.8888888888888888, \"#fdca26\"], [1.0, \"#f0f921\"]], \"type\": \"contour\"}], \"contourcarpet\": [{\"colorbar\": {\"outlinewidth\": 0, \"ticks\": \"\"}, \"type\": \"contourcarpet\"}], \"heatmap\": [{\"colorbar\": {\"outlinewidth\": 0, \"ticks\": \"\"}, \"colorscale\": [[0.0, \"#0d0887\"], [0.1111111111111111, \"#46039f\"], [0.2222222222222222, \"#7201a8\"], [0.3333333333333333, \"#9c179e\"], [0.4444444444444444, \"#bd3786\"], [0.5555555555555556, \"#d8576b\"], [0.6666666666666666, \"#ed7953\"], [0.7777777777777778, \"#fb9f3a\"], [0.8888888888888888, \"#fdca26\"], [1.0, \"#f0f921\"]], \"type\": \"heatmap\"}], \"heatmapgl\": [{\"colorbar\": {\"outlinewidth\": 0, \"ticks\": \"\"}, \"colorscale\": [[0.0, \"#0d0887\"], [0.1111111111111111, \"#46039f\"], [0.2222222222222222, \"#7201a8\"], [0.3333333333333333, \"#9c179e\"], [0.4444444444444444, \"#bd3786\"], [0.5555555555555556, \"#d8576b\"], [0.6666666666666666, \"#ed7953\"], [0.7777777777777778, \"#fb9f3a\"], [0.8888888888888888, \"#fdca26\"], [1.0, \"#f0f921\"]], \"type\": \"heatmapgl\"}], \"histogram\": [{\"marker\": {\"colorbar\": {\"outlinewidth\": 0, \"ticks\": \"\"}}, \"type\": \"histogram\"}], \"histogram2d\": [{\"colorbar\": {\"outlinewidth\": 0, \"ticks\": \"\"}, \"colorscale\": [[0.0, \"#0d0887\"], [0.1111111111111111, \"#46039f\"], [0.2222222222222222, \"#7201a8\"], [0.3333333333333333, \"#9c179e\"], [0.4444444444444444, \"#bd3786\"], [0.5555555555555556, \"#d8576b\"], [0.6666666666666666, \"#ed7953\"], [0.7777777777777778, \"#fb9f3a\"], [0.8888888888888888, \"#fdca26\"], [1.0, \"#f0f921\"]], \"type\": \"histogram2d\"}], \"histogram2dcontour\": [{\"colorbar\": {\"outlinewidth\": 0, \"ticks\": \"\"}, \"colorscale\": [[0.0, \"#0d0887\"], [0.1111111111111111, \"#46039f\"], [0.2222222222222222, \"#7201a8\"], [0.3333333333333333, \"#9c179e\"], [0.4444444444444444, \"#bd3786\"], [0.5555555555555556, \"#d8576b\"], [0.6666666666666666, \"#ed7953\"], [0.7777777777777778, \"#fb9f3a\"], [0.8888888888888888, \"#fdca26\"], [1.0, \"#f0f921\"]], \"type\": \"histogram2dcontour\"}], \"mesh3d\": [{\"colorbar\": {\"outlinewidth\": 0, \"ticks\": \"\"}, \"type\": \"mesh3d\"}], \"parcoords\": [{\"line\": {\"colorbar\": {\"outlinewidth\": 0, \"ticks\": \"\"}}, \"type\": \"parcoords\"}], \"pie\": [{\"automargin\": true, \"type\": \"pie\"}], \"scatter\": [{\"marker\": {\"colorbar\": {\"outlinewidth\": 0, \"ticks\": \"\"}}, \"type\": \"scatter\"}], \"scatter3d\": [{\"line\": {\"colorbar\": {\"outlinewidth\": 0, \"ticks\": \"\"}}, \"marker\": {\"colorbar\": {\"outlinewidth\": 0, \"ticks\": \"\"}}, \"type\": \"scatter3d\"}], \"scattercarpet\": [{\"marker\": {\"colorbar\": {\"outlinewidth\": 0, \"ticks\": \"\"}}, \"type\": \"scattercarpet\"}], \"scattergeo\": [{\"marker\": {\"colorbar\": {\"outlinewidth\": 0, \"ticks\": \"\"}}, \"type\": \"scattergeo\"}], \"scattergl\": [{\"marker\": {\"colorbar\": {\"outlinewidth\": 0, \"ticks\": \"\"}}, \"type\": \"scattergl\"}], \"scattermapbox\": [{\"marker\": {\"colorbar\": {\"outlinewidth\": 0, \"ticks\": \"\"}}, \"type\": \"scattermapbox\"}], \"scatterpolar\": [{\"marker\": {\"colorbar\": {\"outlinewidth\": 0, \"ticks\": \"\"}}, \"type\": \"scatterpolar\"}], \"scatterpolargl\": [{\"marker\": {\"colorbar\": {\"outlinewidth\": 0, \"ticks\": \"\"}}, \"type\": \"scatterpolargl\"}], \"scatterternary\": [{\"marker\": {\"colorbar\": {\"outlinewidth\": 0, \"ticks\": \"\"}}, \"type\": \"scatterternary\"}], \"surface\": [{\"colorbar\": {\"outlinewidth\": 0, \"ticks\": \"\"}, \"colorscale\": [[0.0, \"#0d0887\"], [0.1111111111111111, \"#46039f\"], [0.2222222222222222, \"#7201a8\"], [0.3333333333333333, \"#9c179e\"], [0.4444444444444444, \"#bd3786\"], [0.5555555555555556, \"#d8576b\"], [0.6666666666666666, \"#ed7953\"], [0.7777777777777778, \"#fb9f3a\"], [0.8888888888888888, \"#fdca26\"], [1.0, \"#f0f921\"]], \"type\": \"surface\"}], \"table\": [{\"cells\": {\"fill\": {\"color\": \"#EBF0F8\"}, \"line\": {\"color\": \"white\"}}, \"header\": {\"fill\": {\"color\": \"#C8D4E3\"}, \"line\": {\"color\": \"white\"}}, \"type\": \"table\"}]}, \"layout\": {\"annotationdefaults\": {\"arrowcolor\": \"#2a3f5f\", \"arrowhead\": 0, \"arrowwidth\": 1}, \"coloraxis\": {\"colorbar\": {\"outlinewidth\": 0, \"ticks\": \"\"}}, \"colorscale\": {\"diverging\": [[0, \"#8e0152\"], [0.1, \"#c51b7d\"], [0.2, \"#de77ae\"], [0.3, \"#f1b6da\"], [0.4, \"#fde0ef\"], [0.5, \"#f7f7f7\"], [0.6, \"#e6f5d0\"], [0.7, \"#b8e186\"], [0.8, \"#7fbc41\"], [0.9, \"#4d9221\"], [1, \"#276419\"]], \"sequential\": [[0.0, \"#0d0887\"], [0.1111111111111111, \"#46039f\"], [0.2222222222222222, \"#7201a8\"], [0.3333333333333333, \"#9c179e\"], [0.4444444444444444, \"#bd3786\"], [0.5555555555555556, \"#d8576b\"], [0.6666666666666666, \"#ed7953\"], [0.7777777777777778, \"#fb9f3a\"], [0.8888888888888888, \"#fdca26\"], [1.0, \"#f0f921\"]], \"sequentialminus\": [[0.0, \"#0d0887\"], [0.1111111111111111, \"#46039f\"], [0.2222222222222222, \"#7201a8\"], [0.3333333333333333, \"#9c179e\"], [0.4444444444444444, \"#bd3786\"], [0.5555555555555556, \"#d8576b\"], [0.6666666666666666, \"#ed7953\"], [0.7777777777777778, \"#fb9f3a\"], [0.8888888888888888, \"#fdca26\"], [1.0, \"#f0f921\"]]}, \"colorway\": [\"#636efa\", \"#EF553B\", \"#00cc96\", \"#ab63fa\", \"#FFA15A\", \"#19d3f3\", \"#FF6692\", \"#B6E880\", \"#FF97FF\", \"#FECB52\"], \"font\": {\"color\": \"#2a3f5f\"}, \"geo\": {\"bgcolor\": \"white\", \"lakecolor\": \"white\", \"landcolor\": \"#E5ECF6\", \"showlakes\": true, \"showland\": true, \"subunitcolor\": \"white\"}, \"hoverlabel\": {\"align\": \"left\"}, \"hovermode\": \"closest\", \"mapbox\": {\"style\": \"light\"}, \"paper_bgcolor\": \"white\", \"plot_bgcolor\": \"#E5ECF6\", \"polar\": {\"angularaxis\": {\"gridcolor\": \"white\", \"linecolor\": \"white\", \"ticks\": \"\"}, \"bgcolor\": \"#E5ECF6\", \"radialaxis\": {\"gridcolor\": \"white\", \"linecolor\": \"white\", \"ticks\": \"\"}}, \"scene\": {\"xaxis\": {\"backgroundcolor\": \"#E5ECF6\", \"gridcolor\": \"white\", \"gridwidth\": 2, \"linecolor\": \"white\", \"showbackground\": true, \"ticks\": \"\", \"zerolinecolor\": \"white\"}, \"yaxis\": {\"backgroundcolor\": \"#E5ECF6\", \"gridcolor\": \"white\", \"gridwidth\": 2, \"linecolor\": \"white\", \"showbackground\": true, \"ticks\": \"\", \"zerolinecolor\": \"white\"}, \"zaxis\": {\"backgroundcolor\": \"#E5ECF6\", \"gridcolor\": \"white\", \"gridwidth\": 2, \"linecolor\": \"white\", \"showbackground\": true, \"ticks\": \"\", \"zerolinecolor\": \"white\"}}, \"shapedefaults\": {\"line\": {\"color\": \"#2a3f5f\"}}, \"ternary\": {\"aaxis\": {\"gridcolor\": \"white\", \"linecolor\": \"white\", \"ticks\": \"\"}, \"baxis\": {\"gridcolor\": \"white\", \"linecolor\": \"white\", \"ticks\": \"\"}, \"bgcolor\": \"#E5ECF6\", \"caxis\": {\"gridcolor\": \"white\", \"linecolor\": \"white\", \"ticks\": \"\"}}, \"title\": {\"x\": 0.05}, \"xaxis\": {\"automargin\": true, \"gridcolor\": \"white\", \"linecolor\": \"white\", \"ticks\": \"\", \"title\": {\"standoff\": 15}, \"zerolinecolor\": \"white\", \"zerolinewidth\": 2}, \"yaxis\": {\"automargin\": true, \"gridcolor\": \"white\", \"linecolor\": \"white\", \"ticks\": \"\", \"title\": {\"standoff\": 15}, \"zerolinecolor\": \"white\", \"zerolinewidth\": 2}}}, \"width\": 800},\n",
       "                        {\"responsive\": true}\n",
       "                    ).then(function(){\n",
       "                            \n",
       "var gd = document.getElementById('9196d852-2514-4e29-8a85-adee216b354b');\n",
       "var x = new MutationObserver(function (mutations, observer) {{\n",
       "        var display = window.getComputedStyle(gd).display;\n",
       "        if (!display || display === 'none') {{\n",
       "            console.log([gd, 'removed!']);\n",
       "            Plotly.purge(gd);\n",
       "            observer.disconnect();\n",
       "        }}\n",
       "}});\n",
       "\n",
       "// Listen for the removal of the full notebook cells\n",
       "var notebookContainer = gd.closest('#notebook-container');\n",
       "if (notebookContainer) {{\n",
       "    x.observe(notebookContainer, {childList: true});\n",
       "}}\n",
       "\n",
       "// Listen for the clearing of the current output cell\n",
       "var outputEl = gd.closest('.output');\n",
       "if (outputEl) {{\n",
       "    x.observe(outputEl, {childList: true});\n",
       "}}\n",
       "\n",
       "                        })\n",
       "                };\n",
       "                });\n",
       "            </script>\n",
       "        </div>"
      ]
     },
     "metadata": {},
     "output_type": "display_data"
    }
   ],
   "source": [
    "# Create a 3D-Scatter with the PCA data and the clusters\n",
    "fig = px.scatter_3d(\n",
    "    clustered_df,\n",
    "    x=\"PC 1\",\n",
    "    y=\"PC 2\",\n",
    "    z=\"PC 3\",\n",
    "    color=\"Class\",\n",
    "    symbol=\"Class\",\n",
    "    width=800,\n",
    "    hover_name=\"CoinName\",\n",
    "    hover_data=[\"Algorithm\"]\n",
    ")\n",
    "fig.update_layout(legend=dict(x=0, y=1))\n",
    "fig.show()"
   ]
  },
  {
   "cell_type": "markdown",
   "metadata": {},
   "source": [
    "#### Table of Tradable Cryptocurrencies"
   ]
  },
  {
   "cell_type": "code",
   "execution_count": 122,
   "metadata": {},
   "outputs": [
    {
     "name": "stderr",
     "output_type": "stream",
     "text": [
      "WARNING:param.main: columns option not found for line plot; similar options include: []\n"
     ]
    },
    {
     "data": {},
     "metadata": {},
     "output_type": "display_data"
    },
    {
     "data": {
      "application/vnd.holoviews_exec.v0+json": "",
      "text/html": [
       "<div id='3314'>\n",
       "\n",
       "\n",
       "\n",
       "\n",
       "\n",
       "  <div class=\"bk-root\" id=\"e5c9f947-d7d5-49ec-99f5-066a0a3fa6ff\" data-root-id=\"3314\"></div>\n",
       "</div>\n",
       "<script type=\"application/javascript\">(function(root) {\n",
       "  function embed_document(root) {\n",
       "  var docs_json = {\"2a8a0f7e-1e3e-489f-839c-84e7626abd7d\":{\"roots\":{\"references\":[{\"attributes\":{\"line_color\":\"#2ba02b\",\"line_width\":2,\"x\":{\"field\":\"index\"},\"y\":{\"field\":\"value\"}},\"id\":\"3395\",\"type\":\"Line\"},{\"attributes\":{\"line_alpha\":0.1,\"line_color\":\"#1f77b3\",\"line_width\":2,\"x\":{\"field\":\"index\"},\"y\":{\"field\":\"value\"}},\"id\":\"3363\",\"type\":\"Line\"},{\"attributes\":{},\"id\":\"3358\",\"type\":\"BasicTickFormatter\"},{\"attributes\":{\"margin\":[5,5,5,5],\"name\":\"HSpacer07089\",\"sizing_mode\":\"stretch_width\"},\"id\":\"3712\",\"type\":\"Spacer\"},{\"attributes\":{\"data\":{\"Variable\":[\"TotalCoinsMined\",\"TotalCoinsMined\",\"TotalCoinsMined\",\"TotalCoinsMined\",\"TotalCoinsMined\",\"TotalCoinsMined\",\"TotalCoinsMined\",\"TotalCoinsMined\",\"TotalCoinsMined\",\"TotalCoinsMined\",\"TotalCoinsMined\",\"TotalCoinsMined\",\"TotalCoinsMined\",\"TotalCoinsMined\",\"TotalCoinsMined\",\"TotalCoinsMined\",\"TotalCoinsMined\",\"TotalCoinsMined\",\"TotalCoinsMined\",\"TotalCoinsMined\",\"TotalCoinsMined\",\"TotalCoinsMined\",\"TotalCoinsMined\",\"TotalCoinsMined\",\"TotalCoinsMined\",\"TotalCoinsMined\",\"TotalCoinsMined\",\"TotalCoinsMined\",\"TotalCoinsMined\",\"TotalCoinsMined\",\"TotalCoinsMined\",\"TotalCoinsMined\",\"TotalCoinsMined\",\"TotalCoinsMined\",\"TotalCoinsMined\",\"TotalCoinsMined\",\"TotalCoinsMined\",\"TotalCoinsMined\",\"TotalCoinsMined\",\"TotalCoinsMined\",\"TotalCoinsMined\",\"TotalCoinsMined\",\"TotalCoinsMined\",\"TotalCoinsMined\",\"TotalCoinsMined\",\"TotalCoinsMined\",\"TotalCoinsMined\",\"TotalCoinsMined\",\"TotalCoinsMined\",\"TotalCoinsMined\",\"TotalCoinsMined\",\"TotalCoinsMined\",\"TotalCoinsMined\",\"TotalCoinsMined\",\"TotalCoinsMined\",\"TotalCoinsMined\",\"TotalCoinsMined\",\"TotalCoinsMined\",\"TotalCoinsMined\",\"TotalCoinsMined\",\"TotalCoinsMined\",\"TotalCoinsMined\",\"TotalCoinsMined\",\"TotalCoinsMined\",\"TotalCoinsMined\",\"TotalCoinsMined\",\"TotalCoinsMined\",\"TotalCoinsMined\",\"TotalCoinsMined\",\"TotalCoinsMined\",\"TotalCoinsMined\",\"TotalCoinsMined\",\"TotalCoinsMined\",\"TotalCoinsMined\",\"TotalCoinsMined\",\"TotalCoinsMined\",\"TotalCoinsMined\",\"TotalCoinsMined\",\"TotalCoinsMined\",\"TotalCoinsMined\",\"TotalCoinsMined\",\"TotalCoinsMined\",\"TotalCoinsMined\",\"TotalCoinsMined\",\"TotalCoinsMined\",\"TotalCoinsMined\",\"TotalCoinsMined\",\"TotalCoinsMined\",\"TotalCoinsMined\",\"TotalCoinsMined\",\"TotalCoinsMined\",\"TotalCoinsMined\",\"TotalCoinsMined\",\"TotalCoinsMined\",\"TotalCoinsMined\",\"TotalCoinsMined\",\"TotalCoinsMined\",\"TotalCoinsMined\",\"TotalCoinsMined\",\"TotalCoinsMined\",\"TotalCoinsMined\",\"TotalCoinsMined\",\"TotalCoinsMined\",\"TotalCoinsMined\",\"TotalCoinsMined\",\"TotalCoinsMined\",\"TotalCoinsMined\",\"TotalCoinsMined\",\"TotalCoinsMined\",\"TotalCoinsMined\",\"TotalCoinsMined\",\"TotalCoinsMined\",\"TotalCoinsMined\",\"TotalCoinsMined\",\"TotalCoinsMined\",\"TotalCoinsMined\",\"TotalCoinsMined\",\"TotalCoinsMined\",\"TotalCoinsMined\",\"TotalCoinsMined\",\"TotalCoinsMined\",\"TotalCoinsMined\",\"TotalCoinsMined\",\"TotalCoinsMined\",\"TotalCoinsMined\",\"TotalCoinsMined\",\"TotalCoinsMined\",\"TotalCoinsMined\",\"TotalCoinsMined\",\"TotalCoinsMined\",\"TotalCoinsMined\",\"TotalCoinsMined\",\"TotalCoinsMined\",\"TotalCoinsMined\",\"TotalCoinsMined\",\"TotalCoinsMined\",\"TotalCoinsMined\",\"TotalCoinsMined\",\"TotalCoinsMined\",\"TotalCoinsMined\",\"TotalCoinsMined\",\"TotalCoinsMined\",\"TotalCoinsMined\",\"TotalCoinsMined\",\"TotalCoinsMined\",\"TotalCoinsMined\",\"TotalCoinsMined\",\"TotalCoinsMined\",\"TotalCoinsMined\",\"TotalCoinsMined\",\"TotalCoinsMined\",\"TotalCoinsMined\",\"TotalCoinsMined\",\"TotalCoinsMined\",\"TotalCoinsMined\",\"TotalCoinsMined\",\"TotalCoinsMined\",\"TotalCoinsMined\",\"TotalCoinsMined\",\"TotalCoinsMined\",\"TotalCoinsMined\",\"TotalCoinsMined\",\"TotalCoinsMined\",\"TotalCoinsMined\",\"TotalCoinsMined\",\"TotalCoinsMined\",\"TotalCoinsMined\",\"TotalCoinsMined\",\"TotalCoinsMined\",\"TotalCoinsMined\",\"TotalCoinsMined\",\"TotalCoinsMined\",\"TotalCoinsMined\",\"TotalCoinsMined\",\"TotalCoinsMined\",\"TotalCoinsMined\",\"TotalCoinsMined\",\"TotalCoinsMined\",\"TotalCoinsMined\",\"TotalCoinsMined\",\"TotalCoinsMined\",\"TotalCoinsMined\",\"TotalCoinsMined\",\"TotalCoinsMined\",\"TotalCoinsMined\",\"TotalCoinsMined\",\"TotalCoinsMined\",\"TotalCoinsMined\",\"TotalCoinsMined\",\"TotalCoinsMined\",\"TotalCoinsMined\",\"TotalCoinsMined\",\"TotalCoinsMined\",\"TotalCoinsMined\",\"TotalCoinsMined\",\"TotalCoinsMined\",\"TotalCoinsMined\",\"TotalCoinsMined\",\"TotalCoinsMined\",\"TotalCoinsMined\",\"TotalCoinsMined\",\"TotalCoinsMined\",\"TotalCoinsMined\",\"TotalCoinsMined\",\"TotalCoinsMined\",\"TotalCoinsMined\",\"TotalCoinsMined\",\"TotalCoinsMined\",\"TotalCoinsMined\",\"TotalCoinsMined\",\"TotalCoinsMined\",\"TotalCoinsMined\",\"TotalCoinsMined\",\"TotalCoinsMined\",\"TotalCoinsMined\",\"TotalCoinsMined\",\"TotalCoinsMined\",\"TotalCoinsMined\",\"TotalCoinsMined\",\"TotalCoinsMined\",\"TotalCoinsMined\",\"TotalCoinsMined\",\"TotalCoinsMined\",\"TotalCoinsMined\",\"TotalCoinsMined\",\"TotalCoinsMined\",\"TotalCoinsMined\",\"TotalCoinsMined\",\"TotalCoinsMined\",\"TotalCoinsMined\",\"TotalCoinsMined\",\"TotalCoinsMined\",\"TotalCoinsMined\",\"TotalCoinsMined\",\"TotalCoinsMined\",\"TotalCoinsMined\",\"TotalCoinsMined\",\"TotalCoinsMined\",\"TotalCoinsMined\",\"TotalCoinsMined\",\"TotalCoinsMined\",\"TotalCoinsMined\",\"TotalCoinsMined\",\"TotalCoinsMined\",\"TotalCoinsMined\",\"TotalCoinsMined\",\"TotalCoinsMined\",\"TotalCoinsMined\",\"TotalCoinsMined\",\"TotalCoinsMined\",\"TotalCoinsMined\",\"TotalCoinsMined\",\"TotalCoinsMined\",\"TotalCoinsMined\",\"TotalCoinsMined\",\"TotalCoinsMined\",\"TotalCoinsMined\",\"TotalCoinsMined\",\"TotalCoinsMined\",\"TotalCoinsMined\",\"TotalCoinsMined\",\"TotalCoinsMined\",\"TotalCoinsMined\",\"TotalCoinsMined\",\"TotalCoinsMined\",\"TotalCoinsMined\",\"TotalCoinsMined\",\"TotalCoinsMined\",\"TotalCoinsMined\",\"TotalCoinsMined\",\"TotalCoinsMined\",\"TotalCoinsMined\",\"TotalCoinsMined\",\"TotalCoinsMined\",\"TotalCoinsMined\",\"TotalCoinsMined\",\"TotalCoinsMined\",\"TotalCoinsMined\",\"TotalCoinsMined\",\"TotalCoinsMined\",\"TotalCoinsMined\",\"TotalCoinsMined\",\"TotalCoinsMined\",\"TotalCoinsMined\",\"TotalCoinsMined\",\"TotalCoinsMined\",\"TotalCoinsMined\",\"TotalCoinsMined\",\"TotalCoinsMined\",\"TotalCoinsMined\",\"TotalCoinsMined\",\"TotalCoinsMined\",\"TotalCoinsMined\",\"TotalCoinsMined\",\"TotalCoinsMined\",\"TotalCoinsMined\",\"TotalCoinsMined\",\"TotalCoinsMined\",\"TotalCoinsMined\",\"TotalCoinsMined\",\"TotalCoinsMined\",\"TotalCoinsMined\",\"TotalCoinsMined\",\"TotalCoinsMined\",\"TotalCoinsMined\",\"TotalCoinsMined\",\"TotalCoinsMined\",\"TotalCoinsMined\",\"TotalCoinsMined\",\"TotalCoinsMined\",\"TotalCoinsMined\",\"TotalCoinsMined\",\"TotalCoinsMined\",\"TotalCoinsMined\",\"TotalCoinsMined\",\"TotalCoinsMined\",\"TotalCoinsMined\",\"TotalCoinsMined\",\"TotalCoinsMined\",\"TotalCoinsMined\",\"TotalCoinsMined\",\"TotalCoinsMined\",\"TotalCoinsMined\",\"TotalCoinsMined\",\"TotalCoinsMined\",\"TotalCoinsMined\",\"TotalCoinsMined\",\"TotalCoinsMined\",\"TotalCoinsMined\",\"TotalCoinsMined\",\"TotalCoinsMined\",\"TotalCoinsMined\",\"TotalCoinsMined\",\"TotalCoinsMined\",\"TotalCoinsMined\",\"TotalCoinsMined\",\"TotalCoinsMined\",\"TotalCoinsMined\",\"TotalCoinsMined\",\"TotalCoinsMined\",\"TotalCoinsMined\",\"TotalCoinsMined\",\"TotalCoinsMined\",\"TotalCoinsMined\",\"TotalCoinsMined\",\"TotalCoinsMined\",\"TotalCoinsMined\",\"TotalCoinsMined\",\"TotalCoinsMined\",\"TotalCoinsMined\",\"TotalCoinsMined\",\"TotalCoinsMined\",\"TotalCoinsMined\",\"TotalCoinsMined\",\"TotalCoinsMined\",\"TotalCoinsMined\",\"TotalCoinsMined\",\"TotalCoinsMined\",\"TotalCoinsMined\",\"TotalCoinsMined\",\"TotalCoinsMined\",\"TotalCoinsMined\",\"TotalCoinsMined\",\"TotalCoinsMined\",\"TotalCoinsMined\",\"TotalCoinsMined\",\"TotalCoinsMined\",\"TotalCoinsMined\",\"TotalCoinsMined\",\"TotalCoinsMined\",\"TotalCoinsMined\",\"TotalCoinsMined\",\"TotalCoinsMined\",\"TotalCoinsMined\",\"TotalCoinsMined\",\"TotalCoinsMined\",\"TotalCoinsMined\",\"TotalCoinsMined\",\"TotalCoinsMined\",\"TotalCoinsMined\",\"TotalCoinsMined\",\"TotalCoinsMined\",\"TotalCoinsMined\",\"TotalCoinsMined\",\"TotalCoinsMined\",\"TotalCoinsMined\",\"TotalCoinsMined\",\"TotalCoinsMined\",\"TotalCoinsMined\",\"TotalCoinsMined\",\"TotalCoinsMined\",\"TotalCoinsMined\",\"TotalCoinsMined\",\"TotalCoinsMined\",\"TotalCoinsMined\",\"TotalCoinsMined\",\"TotalCoinsMined\",\"TotalCoinsMined\",\"TotalCoinsMined\",\"TotalCoinsMined\",\"TotalCoinsMined\",\"TotalCoinsMined\",\"TotalCoinsMined\",\"TotalCoinsMined\",\"TotalCoinsMined\",\"TotalCoinsMined\",\"TotalCoinsMined\",\"TotalCoinsMined\",\"TotalCoinsMined\",\"TotalCoinsMined\",\"TotalCoinsMined\",\"TotalCoinsMined\",\"TotalCoinsMined\",\"TotalCoinsMined\",\"TotalCoinsMined\",\"TotalCoinsMined\",\"TotalCoinsMined\",\"TotalCoinsMined\",\"TotalCoinsMined\",\"TotalCoinsMined\",\"TotalCoinsMined\",\"TotalCoinsMined\",\"TotalCoinsMined\",\"TotalCoinsMined\",\"TotalCoinsMined\",\"TotalCoinsMined\",\"TotalCoinsMined\",\"TotalCoinsMined\",\"TotalCoinsMined\",\"TotalCoinsMined\",\"TotalCoinsMined\",\"TotalCoinsMined\",\"TotalCoinsMined\",\"TotalCoinsMined\",\"TotalCoinsMined\",\"TotalCoinsMined\",\"TotalCoinsMined\",\"TotalCoinsMined\",\"TotalCoinsMined\",\"TotalCoinsMined\",\"TotalCoinsMined\",\"TotalCoinsMined\",\"TotalCoinsMined\",\"TotalCoinsMined\",\"TotalCoinsMined\",\"TotalCoinsMined\",\"TotalCoinsMined\",\"TotalCoinsMined\",\"TotalCoinsMined\",\"TotalCoinsMined\",\"TotalCoinsMined\",\"TotalCoinsMined\",\"TotalCoinsMined\",\"TotalCoinsMined\",\"TotalCoinsMined\",\"TotalCoinsMined\",\"TotalCoinsMined\",\"TotalCoinsMined\",\"TotalCoinsMined\",\"TotalCoinsMined\",\"TotalCoinsMined\",\"TotalCoinsMined\",\"TotalCoinsMined\",\"TotalCoinsMined\",\"TotalCoinsMined\",\"TotalCoinsMined\",\"TotalCoinsMined\",\"TotalCoinsMined\",\"TotalCoinsMined\",\"TotalCoinsMined\",\"TotalCoinsMined\",\"TotalCoinsMined\",\"TotalCoinsMined\",\"TotalCoinsMined\",\"TotalCoinsMined\",\"TotalCoinsMined\",\"TotalCoinsMined\",\"TotalCoinsMined\",\"TotalCoinsMined\",\"TotalCoinsMined\",\"TotalCoinsMined\",\"TotalCoinsMined\",\"TotalCoinsMined\",\"TotalCoinsMined\",\"TotalCoinsMined\",\"TotalCoinsMined\",\"TotalCoinsMined\",\"TotalCoinsMined\",\"TotalCoinsMined\",\"TotalCoinsMined\",\"TotalCoinsMined\",\"TotalCoinsMined\",\"TotalCoinsMined\",\"TotalCoinsMined\",\"TotalCoinsMined\",\"TotalCoinsMined\",\"TotalCoinsMined\",\"TotalCoinsMined\",\"TotalCoinsMined\",\"TotalCoinsMined\",\"TotalCoinsMined\",\"TotalCoinsMined\",\"TotalCoinsMined\",\"TotalCoinsMined\",\"TotalCoinsMined\",\"TotalCoinsMined\",\"TotalCoinsMined\",\"TotalCoinsMined\",\"TotalCoinsMined\",\"TotalCoinsMined\",\"TotalCoinsMined\",\"TotalCoinsMined\",\"TotalCoinsMined\",\"TotalCoinsMined\",\"TotalCoinsMined\",\"TotalCoinsMined\",\"TotalCoinsMined\",\"TotalCoinsMined\",\"TotalCoinsMined\",\"TotalCoinsMined\",\"TotalCoinsMined\",\"TotalCoinsMined\",\"TotalCoinsMined\",\"TotalCoinsMined\",\"TotalCoinsMined\",\"TotalCoinsMined\",\"TotalCoinsMined\",\"TotalCoinsMined\",\"TotalCoinsMined\",\"TotalCoinsMined\",\"TotalCoinsMined\",\"TotalCoinsMined\",\"TotalCoinsMined\",\"TotalCoinsMined\",\"TotalCoinsMined\",\"TotalCoinsMined\",\"TotalCoinsMined\"],\"index\":[\"42\",\"404\",\"1337\",\"ETH\",\"NXT\",\"ZEC\",\"BTS\",\"BTCD\",\"XPY\",\"PRC\",\"KOBO\",\"ARG\",\"AUR\",\"BLU\",\"XMY\",\"MOON\",\"ZET\",\"SXC\",\"QTL\",\"ENRG\",\"QRK\",\"RIC\",\"DGC\",\"BTB\",\"CAT\",\"CBX\",\"CCN\",\"CRYPT\",\"XVG\",\"DVC\",\"EAC\",\"EFL\",\"EMC2\",\"EMD\",\"EXCL\",\"FLT\",\"FRK\",\"GDC\",\"GLC\",\"GLD\",\"HBN\",\"HYP\",\"IFC\",\"IXC\",\"KGC\",\"LKY\",\"LTB\",\"MAX\",\"MED\",\"MINT\",\"MZC\",\"NAUT\",\"NAV\",\"NOBL\",\"NMC\",\"NYAN\",\"ORB\",\"POT\",\"PXC\",\"RDD\",\"RPC\",\"SBC\",\"SMC\",\"SUPER\",\"SYNC\",\"SYS\",\"TES\",\"TGC\",\"TOR\",\"TRC\",\"UNB\",\"UNO\",\"URO\",\"USDE\",\"UTC\",\"VRC\",\"VTC\",\"WDC\",\"XC\",\"XCR\",\"XJO\",\"XST\",\"ZCC\",\"SJCX\",\"MONA\",\"NTRN\",\"FAIR\",\"RBY\",\"PTC\",\"WBB\",\"NOTE\",\"FLO\",\"8BIT\",\"STV\",\"J\",\"ABY\",\"LDOGE\",\"TRI\",\"FLDC\",\"SLR\",\"TRK\",\"U\",\"UIS\",\"CYP\",\"UFO\",\"OC\",\"FSC\",\"BLC\",\"OMC\",\"BITS\",\"NEOS\",\"HYPER\",\"VTR\",\"PINK\",\"GRE\",\"XCN\",\"XBC\",\"MSC\",\"SOON\",\"1CR\",\"ISL\",\"NXS\",\"CESC\",\"ADC\",\"MARS\",\"CTO\",\"ACP\",\"DRZ\",\"BSC\",\"NKA\",\"SQL\",\"PIGGY\",\"CRW\",\"GEN\",\"SONG\",\"SMLY\",\"ZNY\",\"DIGS\",\"EXP\",\"MI\",\"CON\",\"GRS\",\"CPC\",\"CLUB\",\"RADS\",\"EMC\",\"EGC\",\"MND\",\"I0C\",\"PAK\",\"CRB\",\"OK\",\"RVR\",\"HODL\",\"EDRC\",\"WAVES\",\"HTC\",\"DBIC\",\"XHI\",\"DIEM\",\"PWR\",\"BLRY\",\"INFX\",\"GOST\",\"GPU\",\"ADZ\",\"SOIL\",\"YOC\",\"ERC\",\"ZEIT\",\"SWING\",\"SAFEX\",\"NEBU\",\"FRN\",\"BOLI\",\"XRA\",\"CKC\",\"VIP\",\"OMNI\",\"LIR\",\"IBANK\",\"FRWC\",\"MUDRA\",\"PIZZA\",\"LC\",\"KMD\",\"GB\",\"KRB\",\"BXT\",\"ZYD\",\"MST\",\"ZNE\",\"COVAL\",\"ROOT\",\"DOPE\",\"BTCR\",\"DLC\",\"SCN\",\"SH\",\"BUZZ\",\"XPO\",\"PSB\",\"HALLO\",\"CFC\",\"ROYAL\",\"GNJ\",\"TEAM\",\"LANA\",\"ELE\",\"ZCL\",\"INSANE\",\"KLC\",\"ATX\",\"EMB\",\"XEN\",\"FRE\",\"PLNC\",\"ARCO\",\"KURT\",\"XCRE\",\"ENT\",\"EUC\",\"BCF\",\"XSN\",\"BCCOIN\",\"MONEY\",\"XNG\",\"XCI\",\"RC\",\"PND\",\"UNITS\",\"GAKH\",\"LTCR\",\"GOLOS\",\"OS76\",\"BIC\",\"HXX\",\"KED\",\"IOP\",\"KUSH\",\"PRX\",\"PAC\",\"IMPCH\",\"CTL\",\"ZBC\",\"FRST\",\"BVC\",\"FIND\",\"VLTC\",\"ZER\",\"CHAT\",\"ZOI\",\"RNS\",\"DBIX\",\"XVP\",\"TAJ\",\"IMX\",\"EB3\",\"ATMOS\",\"HPC\",\"CXT\",\"MCRN\",\"RAIN\",\"IMS\",\"ARGUS\",\"LMC\",\"PROC\",\"XGR\",\"BENJI\",\"DUO\",\"GRW\",\"ILC\",\"PHR\",\"DEA\",\"HTML5\",\"USC\",\"EQT\",\"INSN\",\"QRL\",\"ESP\",\"DYN\",\"EOS\",\"NANO\",\"CHAN\",\"DCY\",\"DP\",\"VUC\",\"BTPL\",\"UNIFY\",\"BRIT\",\"SOCC\",\"ARC\",\"PART\",\"DAS\",\"LINDA\",\"RCC\",\"XLC\",\"ONION\",\"BTX\",\"GCN\",\"SIGT\",\"ONX\",\"CRM\",\"BCH\",\"XMCC\",\"DFT\",\"VET\",\"SOJ\",\"STCN\",\"AMB\",\"OXY\",\"NYC\",\"FRAZ\",\"KRONE\",\"ACC\",\"LINX\",\"XCXT\",\"ETHD\",\"SUMO\",\"ODN\",\"ADA\",\"REC\",\"ICX\",\"BTCZ\",\"TZC\",\"ATCC\",\"ELM\",\"TER\",\"VIVO\",\"RUP\",\"BTG\",\"WOMEN\",\"MAY\",\"NAMO\",\"LUX\",\"PIRL\",\"XIOS\",\"BTDX\",\"BLHC\",\"XIN\",\"PURA\",\"INN\",\"ZEPH\",\"ELLA\",\"MAG\",\"TAU\",\"ECA\",\"BCD\",\"XSH\",\"AION\",\"CNBC\",\"XUN\",\"GLT\",\"COAL\",\"DAXX\",\"BWK\",\"KLKS\",\"AC3\",\"LTHN\",\"GER\",\"LTCU\",\"POP\",\"PHO\",\"SUCR\",\"SPK\",\"WAGE\",\"GUN\",\"IRL\",\"TROLL\",\"LCP\",\"MONK\",\"PCOIN\",\"UBTC\",\"ITZ\",\"TPAY\",\"MCT\",\"MUN\",\"USX\",\"SSS\",\"KREDS\",\"TOKC\",\"BBP\",\"LCC\",\"FLIP\",\"ALX\",\"LOTTO\",\"CIF\",\"SPD\",\"PUSHI\",\"ELP\",\"VLX\",\"CLO\",\"TUBE\",\"PSD\",\"ADM\",\"ADK\",\"BSX\",\"NEXT\",\"BRIA\",\"IC\",\"BTL\",\"MEDIC\",\"ALPS\",\"BITG\",\"DEV\",\"ABJ\",\"SEM\",\"FTO\",\"CARE\",\"NZL\",\"XMC\",\"PROTON\",\"DEAL\",\"JUMP\",\"XBI\",\"KEC\",\"HWC\",\"PLATC\",\"LOKI\",\"NCP\",\"REL\",\"XT3\",\"MGD\",\"VIG\",\"PLURA\",\"EMAR\",\"DKD\",\"LYNX\",\"POSQ\",\"BWS\",\"MUSE\",\"XMN\",\"PLUS1\",\"AXE\",\"TRVC\",\"DTEM\",\"GIC\",\"ABS\",\"VITAE\",\"TPC\",\"WEBC\",\"RYO\",\"URALS\",\"QWC\",\"MMO\",\"KETAN\",\"PPAI\",\"XDNA\",\"PAXEX\",\"KCASH\",\"XCG\",\"AAC\",\"CRYP\",\"BTXC\",\"DAPS\",\"TCH\",\"HC\",\"BITM\",\"FIII\",\"JMC\",\"FRED\",\"ZND\",\"HERB\",\"UMO\",\"LIT\",\"PIRATE\",\"EXO\",\"OWC\",\"BEAM\",\"BTT\",\"GALI\",\"BTH\",\"CSPN\",\"CREDIT\",\"SCRIBE\",\"SLC\",\"VOLLAR\",\"NSD\",\"GEX\",\"BEET\",\"TTN\",\"ARRR\",\"BLAST\",\"XRC\",\"BDX\",\"BLOCM\",\"CKB\",\"LOBS\",\"BTCK\",\"VEN\",\"ZANO\",\"KSH\",\"YTN\",\"PEPS\",\"NEET\",\"ZCR\",\"AEVO\",\"DXO\",\"GOSS\",\"GIO\",\"RPD\",\"PENG\",\"X42\",\"WCC\",\"MWC\",\"RHP\",\"DDK\",\"BSV\",\"MEC\",\"NLG\",\"SIB\",\"XDN\",\"VIA\",\"FTC\",\"IOC\",\"XZC\",\"CLOAK\",\"BCN\",\"BURST\",\"SC\",\"POA\",\"BTM\",\"ZEN\",\"DGB\",\"QTUM\",\"ONT\",\"LSK\",\"DASH\",\"ETC\",\"ARK\",\"LTC\",\"XMR\",\"DCR\",\"STEEM\",\"BTC\",\"BUX\",\"BNB\"],\"value\":[1,48,499,363,446,151,468,37,167,105,261,180,223,432,455,2,387,374,115,371,407,317,291,4,112,29,88,93,488,494,484,234,397,228,102,422,41,442,329,304,362,453,513,238,380,225,36,324,301,493,456,200,332,465,186,411,67,398,337,500,31,254,272,314,3,429,346,306,42,247,53,10,34,448,312,281,318,367,117,351,303,293,389,313,331,299,316,269,377,9,412,382,43,111,69,440,489,8,437,322,403,59,328,106,469,71,30,270,148,237,82,141,164,420,472,436,7,21,172,6,44,326,439,445,278,179,187,130,195,490,13,424,262,321,279,502,340,351,152,416,474,341,392,353,78,305,178,196,235,334,204,343,395,162,73,351,483,94,480,495,481,136,63,348,302,308,101,22,154,506,90,464,230,108,189,376,203,347,20,296,87,351,92,40,433,366,193,132,19,104,23,57,446,47,365,385,137,434,159,492,338,284,406,379,55,351,211,460,265,99,214,391,441,514,74,311,205,66,323,230,133,170,259,339,160,156,25,28,126,504,70,68,274,372,27,139,46,252,56,100,166,426,11,157,62,357,65,184,276,125,446,218,290,52,183,222,358,327,361,266,147,415,369,96,33,17,352,207,232,12,427,452,161,241,507,150,185,257,335,496,191,447,375,245,457,298,325,109,212,240,95,271,143,58,478,255,182,246,215,517,355,373,310,220,173,226,511,16,75,413,449,516,142,256,283,285,227,80,135,258,509,114,414,476,401,417,467,32,79,253,208,510,349,428,158,286,50,287,201,477,388,107,461,175,294,409,498,390,423,503,360,18,364,85,425,177,221,345,419,473,127,470,505,81,122,267,410,315,430,61,84,140,231,174,244,45,89,402,479,120,399,466,435,171,446,487,396,163,51,15,260,405,344,77,354,258,181,368,26,39,333,408,268,165,273,146,35,277,384,197,198,83,454,239,192,24,297,5,224,508,113,118,378,282,438,243,275,512,60,319,213,131,134,103,292,128,129,206,236,97,194,91,190,515,359,138,462,123,86,446,144,446,471,110,168,446,307,394,0,497,459,289,288,49,199,264,14,188,336,519,242,263,64,501,124,176,351,248,72,404,443,386,309,38,444,202,485,233,250,446,169,342,295,320,121,119,251,54,280,451,491,482,229,76,155,463,153,219,300,418,209,475,249,400,216,116,98,518,458,503,393,450,149,486,351,431,383,145,370,356,330,210,168,350,217,421,381]},\"selected\":{\"id\":\"3393\"},\"selection_policy\":{\"id\":\"3429\"}},\"id\":\"3392\",\"type\":\"ColumnDataSource\"},{\"attributes\":{\"line_alpha\":0.2,\"line_color\":\"#9367bc\",\"line_width\":2,\"x\":{\"field\":\"index\"},\"y\":{\"field\":\"value\"}},\"id\":\"3437\",\"type\":\"Line\"},{\"attributes\":{},\"id\":\"3429\",\"type\":\"UnionRenderers\"},{\"attributes\":{\"data_source\":{\"id\":\"3455\"},\"glyph\":{\"id\":\"3458\"},\"hover_glyph\":null,\"muted_glyph\":{\"id\":\"3460\"},\"nonselection_glyph\":{\"id\":\"3459\"},\"selection_glyph\":null,\"view\":{\"id\":\"3462\"}},\"id\":\"3461\",\"type\":\"GlyphRenderer\"},{\"attributes\":{\"label\":{\"value\":\"PC 2\"},\"renderers\":[{\"id\":\"3461\"}]},\"id\":\"3479\",\"type\":\"LegendItem\"},{\"attributes\":{\"line_color\":\"#8c564b\",\"line_width\":2,\"x\":{\"field\":\"index\"},\"y\":{\"field\":\"value\"}},\"id\":\"3458\",\"type\":\"Line\"},{\"attributes\":{},\"id\":\"3556\",\"type\":\"UnionRenderers\"},{\"attributes\":{\"data_source\":{\"id\":\"3507\"},\"glyph\":{\"id\":\"3510\"},\"hover_glyph\":null,\"muted_glyph\":{\"id\":\"3512\"},\"nonselection_glyph\":{\"id\":\"3511\"},\"selection_glyph\":null,\"view\":{\"id\":\"3514\"}},\"id\":\"3513\",\"type\":\"GlyphRenderer\"},{\"attributes\":{},\"id\":\"3355\",\"type\":\"CategoricalTickFormatter\"},{\"attributes\":{\"line_color\":\"#d62628\",\"line_width\":2,\"x\":{\"field\":\"index\"},\"y\":{\"field\":\"value\"}},\"id\":\"3414\",\"type\":\"Line\"},{\"attributes\":{\"data_source\":{\"id\":\"3411\"},\"glyph\":{\"id\":\"3414\"},\"hover_glyph\":null,\"muted_glyph\":{\"id\":\"3416\"},\"nonselection_glyph\":{\"id\":\"3415\"},\"selection_glyph\":null,\"view\":{\"id\":\"3418\"}},\"id\":\"3417\",\"type\":\"GlyphRenderer\"},{\"attributes\":{\"data\":{\"Variable\":[\"Algorithm\",\"Algorithm\",\"Algorithm\",\"Algorithm\",\"Algorithm\",\"Algorithm\",\"Algorithm\",\"Algorithm\",\"Algorithm\",\"Algorithm\",\"Algorithm\",\"Algorithm\",\"Algorithm\",\"Algorithm\",\"Algorithm\",\"Algorithm\",\"Algorithm\",\"Algorithm\",\"Algorithm\",\"Algorithm\",\"Algorithm\",\"Algorithm\",\"Algorithm\",\"Algorithm\",\"Algorithm\",\"Algorithm\",\"Algorithm\",\"Algorithm\",\"Algorithm\",\"Algorithm\",\"Algorithm\",\"Algorithm\",\"Algorithm\",\"Algorithm\",\"Algorithm\",\"Algorithm\",\"Algorithm\",\"Algorithm\",\"Algorithm\",\"Algorithm\",\"Algorithm\",\"Algorithm\",\"Algorithm\",\"Algorithm\",\"Algorithm\",\"Algorithm\",\"Algorithm\",\"Algorithm\",\"Algorithm\",\"Algorithm\",\"Algorithm\",\"Algorithm\",\"Algorithm\",\"Algorithm\",\"Algorithm\",\"Algorithm\",\"Algorithm\",\"Algorithm\",\"Algorithm\",\"Algorithm\",\"Algorithm\",\"Algorithm\",\"Algorithm\",\"Algorithm\",\"Algorithm\",\"Algorithm\",\"Algorithm\",\"Algorithm\",\"Algorithm\",\"Algorithm\",\"Algorithm\",\"Algorithm\",\"Algorithm\",\"Algorithm\",\"Algorithm\",\"Algorithm\",\"Algorithm\",\"Algorithm\",\"Algorithm\",\"Algorithm\",\"Algorithm\",\"Algorithm\",\"Algorithm\",\"Algorithm\",\"Algorithm\",\"Algorithm\",\"Algorithm\",\"Algorithm\",\"Algorithm\",\"Algorithm\",\"Algorithm\",\"Algorithm\",\"Algorithm\",\"Algorithm\",\"Algorithm\",\"Algorithm\",\"Algorithm\",\"Algorithm\",\"Algorithm\",\"Algorithm\",\"Algorithm\",\"Algorithm\",\"Algorithm\",\"Algorithm\",\"Algorithm\",\"Algorithm\",\"Algorithm\",\"Algorithm\",\"Algorithm\",\"Algorithm\",\"Algorithm\",\"Algorithm\",\"Algorithm\",\"Algorithm\",\"Algorithm\",\"Algorithm\",\"Algorithm\",\"Algorithm\",\"Algorithm\",\"Algorithm\",\"Algorithm\",\"Algorithm\",\"Algorithm\",\"Algorithm\",\"Algorithm\",\"Algorithm\",\"Algorithm\",\"Algorithm\",\"Algorithm\",\"Algorithm\",\"Algorithm\",\"Algorithm\",\"Algorithm\",\"Algorithm\",\"Algorithm\",\"Algorithm\",\"Algorithm\",\"Algorithm\",\"Algorithm\",\"Algorithm\",\"Algorithm\",\"Algorithm\",\"Algorithm\",\"Algorithm\",\"Algorithm\",\"Algorithm\",\"Algorithm\",\"Algorithm\",\"Algorithm\",\"Algorithm\",\"Algorithm\",\"Algorithm\",\"Algorithm\",\"Algorithm\",\"Algorithm\",\"Algorithm\",\"Algorithm\",\"Algorithm\",\"Algorithm\",\"Algorithm\",\"Algorithm\",\"Algorithm\",\"Algorithm\",\"Algorithm\",\"Algorithm\",\"Algorithm\",\"Algorithm\",\"Algorithm\",\"Algorithm\",\"Algorithm\",\"Algorithm\",\"Algorithm\",\"Algorithm\",\"Algorithm\",\"Algorithm\",\"Algorithm\",\"Algorithm\",\"Algorithm\",\"Algorithm\",\"Algorithm\",\"Algorithm\",\"Algorithm\",\"Algorithm\",\"Algorithm\",\"Algorithm\",\"Algorithm\",\"Algorithm\",\"Algorithm\",\"Algorithm\",\"Algorithm\",\"Algorithm\",\"Algorithm\",\"Algorithm\",\"Algorithm\",\"Algorithm\",\"Algorithm\",\"Algorithm\",\"Algorithm\",\"Algorithm\",\"Algorithm\",\"Algorithm\",\"Algorithm\",\"Algorithm\",\"Algorithm\",\"Algorithm\",\"Algorithm\",\"Algorithm\",\"Algorithm\",\"Algorithm\",\"Algorithm\",\"Algorithm\",\"Algorithm\",\"Algorithm\",\"Algorithm\",\"Algorithm\",\"Algorithm\",\"Algorithm\",\"Algorithm\",\"Algorithm\",\"Algorithm\",\"Algorithm\",\"Algorithm\",\"Algorithm\",\"Algorithm\",\"Algorithm\",\"Algorithm\",\"Algorithm\",\"Algorithm\",\"Algorithm\",\"Algorithm\",\"Algorithm\",\"Algorithm\",\"Algorithm\",\"Algorithm\",\"Algorithm\",\"Algorithm\",\"Algorithm\",\"Algorithm\",\"Algorithm\",\"Algorithm\",\"Algorithm\",\"Algorithm\",\"Algorithm\",\"Algorithm\",\"Algorithm\",\"Algorithm\",\"Algorithm\",\"Algorithm\",\"Algorithm\",\"Algorithm\",\"Algorithm\",\"Algorithm\",\"Algorithm\",\"Algorithm\",\"Algorithm\",\"Algorithm\",\"Algorithm\",\"Algorithm\",\"Algorithm\",\"Algorithm\",\"Algorithm\",\"Algorithm\",\"Algorithm\",\"Algorithm\",\"Algorithm\",\"Algorithm\",\"Algorithm\",\"Algorithm\",\"Algorithm\",\"Algorithm\",\"Algorithm\",\"Algorithm\",\"Algorithm\",\"Algorithm\",\"Algorithm\",\"Algorithm\",\"Algorithm\",\"Algorithm\",\"Algorithm\",\"Algorithm\",\"Algorithm\",\"Algorithm\",\"Algorithm\",\"Algorithm\",\"Algorithm\",\"Algorithm\",\"Algorithm\",\"Algorithm\",\"Algorithm\",\"Algorithm\",\"Algorithm\",\"Algorithm\",\"Algorithm\",\"Algorithm\",\"Algorithm\",\"Algorithm\",\"Algorithm\",\"Algorithm\",\"Algorithm\",\"Algorithm\",\"Algorithm\",\"Algorithm\",\"Algorithm\",\"Algorithm\",\"Algorithm\",\"Algorithm\",\"Algorithm\",\"Algorithm\",\"Algorithm\",\"Algorithm\",\"Algorithm\",\"Algorithm\",\"Algorithm\",\"Algorithm\",\"Algorithm\",\"Algorithm\",\"Algorithm\",\"Algorithm\",\"Algorithm\",\"Algorithm\",\"Algorithm\",\"Algorithm\",\"Algorithm\",\"Algorithm\",\"Algorithm\",\"Algorithm\",\"Algorithm\",\"Algorithm\",\"Algorithm\",\"Algorithm\",\"Algorithm\",\"Algorithm\",\"Algorithm\",\"Algorithm\",\"Algorithm\",\"Algorithm\",\"Algorithm\",\"Algorithm\",\"Algorithm\",\"Algorithm\",\"Algorithm\",\"Algorithm\",\"Algorithm\",\"Algorithm\",\"Algorithm\",\"Algorithm\",\"Algorithm\",\"Algorithm\",\"Algorithm\",\"Algorithm\",\"Algorithm\",\"Algorithm\",\"Algorithm\",\"Algorithm\",\"Algorithm\",\"Algorithm\",\"Algorithm\",\"Algorithm\",\"Algorithm\",\"Algorithm\",\"Algorithm\",\"Algorithm\",\"Algorithm\",\"Algorithm\",\"Algorithm\",\"Algorithm\",\"Algorithm\",\"Algorithm\",\"Algorithm\",\"Algorithm\",\"Algorithm\",\"Algorithm\",\"Algorithm\",\"Algorithm\",\"Algorithm\",\"Algorithm\",\"Algorithm\",\"Algorithm\",\"Algorithm\",\"Algorithm\",\"Algorithm\",\"Algorithm\",\"Algorithm\",\"Algorithm\",\"Algorithm\",\"Algorithm\",\"Algorithm\",\"Algorithm\",\"Algorithm\",\"Algorithm\",\"Algorithm\",\"Algorithm\",\"Algorithm\",\"Algorithm\",\"Algorithm\",\"Algorithm\",\"Algorithm\",\"Algorithm\",\"Algorithm\",\"Algorithm\",\"Algorithm\",\"Algorithm\",\"Algorithm\",\"Algorithm\",\"Algorithm\",\"Algorithm\",\"Algorithm\",\"Algorithm\",\"Algorithm\",\"Algorithm\",\"Algorithm\",\"Algorithm\",\"Algorithm\",\"Algorithm\",\"Algorithm\",\"Algorithm\",\"Algorithm\",\"Algorithm\",\"Algorithm\",\"Algorithm\",\"Algorithm\",\"Algorithm\",\"Algorithm\",\"Algorithm\",\"Algorithm\",\"Algorithm\",\"Algorithm\",\"Algorithm\",\"Algorithm\",\"Algorithm\",\"Algorithm\",\"Algorithm\",\"Algorithm\",\"Algorithm\",\"Algorithm\",\"Algorithm\",\"Algorithm\",\"Algorithm\",\"Algorithm\",\"Algorithm\",\"Algorithm\",\"Algorithm\",\"Algorithm\",\"Algorithm\",\"Algorithm\",\"Algorithm\",\"Algorithm\",\"Algorithm\",\"Algorithm\",\"Algorithm\",\"Algorithm\",\"Algorithm\",\"Algorithm\",\"Algorithm\",\"Algorithm\",\"Algorithm\",\"Algorithm\",\"Algorithm\",\"Algorithm\",\"Algorithm\",\"Algorithm\",\"Algorithm\",\"Algorithm\",\"Algorithm\",\"Algorithm\",\"Algorithm\",\"Algorithm\",\"Algorithm\",\"Algorithm\",\"Algorithm\",\"Algorithm\",\"Algorithm\",\"Algorithm\",\"Algorithm\",\"Algorithm\",\"Algorithm\",\"Algorithm\",\"Algorithm\",\"Algorithm\",\"Algorithm\",\"Algorithm\",\"Algorithm\",\"Algorithm\",\"Algorithm\",\"Algorithm\",\"Algorithm\",\"Algorithm\",\"Algorithm\",\"Algorithm\",\"Algorithm\",\"Algorithm\",\"Algorithm\",\"Algorithm\",\"Algorithm\",\"Algorithm\",\"Algorithm\",\"Algorithm\",\"Algorithm\",\"Algorithm\",\"Algorithm\",\"Algorithm\",\"Algorithm\",\"Algorithm\",\"Algorithm\",\"Algorithm\",\"Algorithm\",\"Algorithm\",\"Algorithm\",\"Algorithm\",\"Algorithm\",\"Algorithm\",\"Algorithm\",\"Algorithm\",\"Algorithm\",\"Algorithm\",\"Algorithm\",\"Algorithm\",\"Algorithm\",\"Algorithm\",\"Algorithm\",\"Algorithm\",\"Algorithm\",\"Algorithm\",\"Algorithm\",\"Algorithm\",\"Algorithm\",\"Algorithm\",\"Algorithm\",\"Algorithm\",\"Algorithm\",\"Algorithm\",\"Algorithm\",\"Algorithm\",\"Algorithm\",\"Algorithm\",\"Algorithm\",\"Algorithm\"],\"index\":[\"42\",\"404\",\"1337\",\"ETH\",\"NXT\",\"ZEC\",\"BTS\",\"BTCD\",\"XPY\",\"PRC\",\"KOBO\",\"ARG\",\"AUR\",\"BLU\",\"XMY\",\"MOON\",\"ZET\",\"SXC\",\"QTL\",\"ENRG\",\"QRK\",\"RIC\",\"DGC\",\"BTB\",\"CAT\",\"CBX\",\"CCN\",\"CRYPT\",\"XVG\",\"DVC\",\"EAC\",\"EFL\",\"EMC2\",\"EMD\",\"EXCL\",\"FLT\",\"FRK\",\"GDC\",\"GLC\",\"GLD\",\"HBN\",\"HYP\",\"IFC\",\"IXC\",\"KGC\",\"LKY\",\"LTB\",\"MAX\",\"MED\",\"MINT\",\"MZC\",\"NAUT\",\"NAV\",\"NOBL\",\"NMC\",\"NYAN\",\"ORB\",\"POT\",\"PXC\",\"RDD\",\"RPC\",\"SBC\",\"SMC\",\"SUPER\",\"SYNC\",\"SYS\",\"TES\",\"TGC\",\"TOR\",\"TRC\",\"UNB\",\"UNO\",\"URO\",\"USDE\",\"UTC\",\"VRC\",\"VTC\",\"WDC\",\"XC\",\"XCR\",\"XJO\",\"XST\",\"ZCC\",\"SJCX\",\"MONA\",\"NTRN\",\"FAIR\",\"RBY\",\"PTC\",\"WBB\",\"NOTE\",\"FLO\",\"8BIT\",\"STV\",\"J\",\"ABY\",\"LDOGE\",\"TRI\",\"FLDC\",\"SLR\",\"TRK\",\"U\",\"UIS\",\"CYP\",\"UFO\",\"OC\",\"FSC\",\"BLC\",\"OMC\",\"BITS\",\"NEOS\",\"HYPER\",\"VTR\",\"PINK\",\"GRE\",\"XCN\",\"XBC\",\"MSC\",\"SOON\",\"1CR\",\"ISL\",\"NXS\",\"CESC\",\"ADC\",\"MARS\",\"CTO\",\"ACP\",\"DRZ\",\"BSC\",\"NKA\",\"SQL\",\"PIGGY\",\"CRW\",\"GEN\",\"SONG\",\"SMLY\",\"ZNY\",\"DIGS\",\"EXP\",\"MI\",\"CON\",\"GRS\",\"CPC\",\"CLUB\",\"RADS\",\"EMC\",\"EGC\",\"MND\",\"I0C\",\"PAK\",\"CRB\",\"OK\",\"RVR\",\"HODL\",\"EDRC\",\"WAVES\",\"HTC\",\"DBIC\",\"XHI\",\"DIEM\",\"PWR\",\"BLRY\",\"INFX\",\"GOST\",\"GPU\",\"ADZ\",\"SOIL\",\"YOC\",\"ERC\",\"ZEIT\",\"SWING\",\"SAFEX\",\"NEBU\",\"FRN\",\"BOLI\",\"XRA\",\"CKC\",\"VIP\",\"OMNI\",\"LIR\",\"IBANK\",\"FRWC\",\"MUDRA\",\"PIZZA\",\"LC\",\"KMD\",\"GB\",\"KRB\",\"BXT\",\"ZYD\",\"MST\",\"ZNE\",\"COVAL\",\"ROOT\",\"DOPE\",\"BTCR\",\"DLC\",\"SCN\",\"SH\",\"BUZZ\",\"XPO\",\"PSB\",\"HALLO\",\"CFC\",\"ROYAL\",\"GNJ\",\"TEAM\",\"LANA\",\"ELE\",\"ZCL\",\"INSANE\",\"KLC\",\"ATX\",\"EMB\",\"XEN\",\"FRE\",\"PLNC\",\"ARCO\",\"KURT\",\"XCRE\",\"ENT\",\"EUC\",\"BCF\",\"XSN\",\"BCCOIN\",\"MONEY\",\"XNG\",\"XCI\",\"RC\",\"PND\",\"UNITS\",\"GAKH\",\"LTCR\",\"GOLOS\",\"OS76\",\"BIC\",\"HXX\",\"KED\",\"IOP\",\"KUSH\",\"PRX\",\"PAC\",\"IMPCH\",\"CTL\",\"ZBC\",\"FRST\",\"BVC\",\"FIND\",\"VLTC\",\"ZER\",\"CHAT\",\"ZOI\",\"RNS\",\"DBIX\",\"XVP\",\"TAJ\",\"IMX\",\"EB3\",\"ATMOS\",\"HPC\",\"CXT\",\"MCRN\",\"RAIN\",\"IMS\",\"ARGUS\",\"LMC\",\"PROC\",\"XGR\",\"BENJI\",\"DUO\",\"GRW\",\"ILC\",\"PHR\",\"DEA\",\"HTML5\",\"USC\",\"EQT\",\"INSN\",\"QRL\",\"ESP\",\"DYN\",\"EOS\",\"NANO\",\"CHAN\",\"DCY\",\"DP\",\"VUC\",\"BTPL\",\"UNIFY\",\"BRIT\",\"SOCC\",\"ARC\",\"PART\",\"DAS\",\"LINDA\",\"RCC\",\"XLC\",\"ONION\",\"BTX\",\"GCN\",\"SIGT\",\"ONX\",\"CRM\",\"BCH\",\"XMCC\",\"DFT\",\"VET\",\"SOJ\",\"STCN\",\"AMB\",\"OXY\",\"NYC\",\"FRAZ\",\"KRONE\",\"ACC\",\"LINX\",\"XCXT\",\"ETHD\",\"SUMO\",\"ODN\",\"ADA\",\"REC\",\"ICX\",\"BTCZ\",\"TZC\",\"ATCC\",\"ELM\",\"TER\",\"VIVO\",\"RUP\",\"BTG\",\"WOMEN\",\"MAY\",\"NAMO\",\"LUX\",\"PIRL\",\"XIOS\",\"BTDX\",\"BLHC\",\"XIN\",\"PURA\",\"INN\",\"ZEPH\",\"ELLA\",\"MAG\",\"TAU\",\"ECA\",\"BCD\",\"XSH\",\"AION\",\"CNBC\",\"XUN\",\"GLT\",\"COAL\",\"DAXX\",\"BWK\",\"KLKS\",\"AC3\",\"LTHN\",\"GER\",\"LTCU\",\"POP\",\"PHO\",\"SUCR\",\"SPK\",\"WAGE\",\"GUN\",\"IRL\",\"TROLL\",\"LCP\",\"MONK\",\"PCOIN\",\"UBTC\",\"ITZ\",\"TPAY\",\"MCT\",\"MUN\",\"USX\",\"SSS\",\"KREDS\",\"TOKC\",\"BBP\",\"LCC\",\"FLIP\",\"ALX\",\"LOTTO\",\"CIF\",\"SPD\",\"PUSHI\",\"ELP\",\"VLX\",\"CLO\",\"TUBE\",\"PSD\",\"ADM\",\"ADK\",\"BSX\",\"NEXT\",\"BRIA\",\"IC\",\"BTL\",\"MEDIC\",\"ALPS\",\"BITG\",\"DEV\",\"ABJ\",\"SEM\",\"FTO\",\"CARE\",\"NZL\",\"XMC\",\"PROTON\",\"DEAL\",\"JUMP\",\"XBI\",\"KEC\",\"HWC\",\"PLATC\",\"LOKI\",\"NCP\",\"REL\",\"XT3\",\"MGD\",\"VIG\",\"PLURA\",\"EMAR\",\"DKD\",\"LYNX\",\"POSQ\",\"BWS\",\"MUSE\",\"XMN\",\"PLUS1\",\"AXE\",\"TRVC\",\"DTEM\",\"GIC\",\"ABS\",\"VITAE\",\"TPC\",\"WEBC\",\"RYO\",\"URALS\",\"QWC\",\"MMO\",\"KETAN\",\"PPAI\",\"XDNA\",\"PAXEX\",\"KCASH\",\"XCG\",\"AAC\",\"CRYP\",\"BTXC\",\"DAPS\",\"TCH\",\"HC\",\"BITM\",\"FIII\",\"JMC\",\"FRED\",\"ZND\",\"HERB\",\"UMO\",\"LIT\",\"PIRATE\",\"EXO\",\"OWC\",\"BEAM\",\"BTT\",\"GALI\",\"BTH\",\"CSPN\",\"CREDIT\",\"SCRIBE\",\"SLC\",\"VOLLAR\",\"NSD\",\"GEX\",\"BEET\",\"TTN\",\"ARRR\",\"BLAST\",\"XRC\",\"BDX\",\"BLOCM\",\"CKB\",\"LOBS\",\"BTCK\",\"VEN\",\"ZANO\",\"KSH\",\"YTN\",\"PEPS\",\"NEET\",\"ZCR\",\"AEVO\",\"DXO\",\"GOSS\",\"GIO\",\"RPD\",\"PENG\",\"X42\",\"WCC\",\"MWC\",\"RHP\",\"DDK\",\"BSV\",\"MEC\",\"NLG\",\"SIB\",\"XDN\",\"VIA\",\"FTC\",\"IOC\",\"XZC\",\"CLOAK\",\"BCN\",\"BURST\",\"SC\",\"POA\",\"BTM\",\"ZEN\",\"DGB\",\"QTUM\",\"ONT\",\"LSK\",\"DASH\",\"ETC\",\"ARK\",\"LTC\",\"XMR\",\"DCR\",\"STEEM\",\"BTC\",\"BUX\",\"BNB\"],\"value\":[64,64,79,28,50,25,61,58,58,64,81,64,64,64,43,64,58,64,64,64,56,31,64,64,64,64,64,77,43,58,64,64,64,64,50,64,64,64,64,64,64,77,64,58,64,64,64,62,34,64,58,64,79,64,58,64,45,64,64,64,64,64,64,77,77,58,43,58,77,58,58,58,77,64,64,64,40,64,77,43,58,79,64,12,64,58,31,64,64,64,64,64,64,79,43,64,64,79,70,64,77,77,43,55,45,64,45,6,64,64,58,64,64,77,64,42,64,64,58,64,77,62,64,64,77,39,58,54,77,58,77,77,43,64,64,64,64,64,28,64,79,31,77,64,50,58,81,77,58,64,77,58,64,0,58,37,77,58,64,58,44,64,77,64,64,77,20,64,77,64,58,64,50,64,77,77,58,44,64,49,64,64,79,77,77,25,77,13,58,58,77,64,43,64,64,64,58,64,64,60,50,64,77,50,79,80,50,60,28,25,77,64,77,79,77,50,64,64,77,50,77,58,64,77,64,64,77,13,64,64,64,64,55,19,64,13,39,64,58,77,64,77,64,16,64,64,64,79,77,25,64,39,64,21,77,7,77,64,50,77,44,50,77,64,64,64,58,77,64,64,64,58,50,64,81,58,64,77,57,1,2,19,8,11,13,77,44,67,64,79,64,77,50,77,64,28,13,79,73,64,69,77,67,58,77,64,76,64,50,20,19,64,64,64,64,64,77,64,13,61,46,77,38,25,45,64,77,64,45,40,25,64,58,44,47,20,64,56,64,58,77,45,58,28,77,19,44,79,43,27,64,13,58,13,28,44,56,77,16,64,64,64,4,77,45,56,45,64,64,64,77,77,58,9,49,28,68,64,64,40,79,53,59,64,19,64,77,9,77,83,64,28,13,64,19,35,44,58,64,64,25,64,41,30,50,64,65,77,56,50,13,82,64,44,83,74,64,13,15,13,77,64,36,60,13,64,81,64,56,58,19,82,33,77,82,56,56,40,56,64,16,18,83,14,64,50,58,32,77,61,82,22,25,83,20,58,4,83,63,77,13,56,56,6,6,25,29,64,25,71,56,25,56,64,40,55,26,64,48,83,60,25,58,79,13,17,23,56,56,76,51,58,84,56,64,56,64,69,56,64,56,77,79,58,10,77,24,58,64,64,78,5,64,45,77,41,79,13,66,8,52,72,25,43,49,75,19,77,28,19,64,16,4,50,58,64,3]},\"selected\":{\"id\":\"3360\"},\"selection_policy\":{\"id\":\"3389\"}},\"id\":\"3359\",\"type\":\"ColumnDataSource\"},{\"attributes\":{\"line_alpha\":0.2,\"line_color\":\"#7e7e7e\",\"line_width\":2,\"x\":{\"field\":\"index\"},\"y\":{\"field\":\"value\"}},\"id\":\"3512\",\"type\":\"Line\"},{\"attributes\":{},\"id\":\"3408\",\"type\":\"UnionRenderers\"},{\"attributes\":{\"source\":{\"id\":\"3392\"}},\"id\":\"3399\",\"type\":\"CDSView\"},{\"attributes\":{\"line_color\":\"#1f77b3\",\"line_width\":2,\"x\":{\"field\":\"index\"},\"y\":{\"field\":\"value\"}},\"id\":\"3362\",\"type\":\"Line\"},{\"attributes\":{\"label\":{\"value\":\"Class\"},\"renderers\":[{\"id\":\"3513\"}]},\"id\":\"3535\",\"type\":\"LegendItem\"},{\"attributes\":{},\"id\":\"3393\",\"type\":\"Selection\"},{\"attributes\":{},\"id\":\"3360\",\"type\":\"Selection\"},{\"attributes\":{\"align\":null,\"below\":[{\"id\":\"3335\"}],\"center\":[{\"id\":\"3337\"},{\"id\":\"3341\"}],\"left\":[{\"id\":\"3338\"}],\"margin\":null,\"min_border_bottom\":10,\"min_border_left\":10,\"min_border_right\":10,\"min_border_top\":10,\"plot_height\":300,\"plot_width\":700,\"renderers\":[{\"id\":\"3365\"},{\"id\":\"3381\"},{\"id\":\"3398\"},{\"id\":\"3417\"},{\"id\":\"3438\"},{\"id\":\"3461\"},{\"id\":\"3486\"},{\"id\":\"3513\"}],\"right\":[{\"id\":\"3373\"}],\"sizing_mode\":\"fixed\",\"title\":{\"id\":\"3327\"},\"toolbar\":{\"id\":\"3348\"},\"x_range\":{\"id\":\"3316\"},\"x_scale\":{\"id\":\"3331\"},\"y_range\":{\"id\":\"3317\"},\"y_scale\":{\"id\":\"3333\"}},\"id\":\"3326\",\"subtype\":\"Figure\",\"type\":\"Plot\"},{\"attributes\":{\"data_source\":{\"id\":\"3359\"},\"glyph\":{\"id\":\"3362\"},\"hover_glyph\":null,\"muted_glyph\":{\"id\":\"3364\"},\"nonselection_glyph\":{\"id\":\"3363\"},\"selection_glyph\":null,\"view\":{\"id\":\"3366\"}},\"id\":\"3365\",\"type\":\"GlyphRenderer\"},{\"attributes\":{\"data_source\":{\"id\":\"3432\"},\"glyph\":{\"id\":\"3435\"},\"hover_glyph\":null,\"muted_glyph\":{\"id\":\"3437\"},\"nonselection_glyph\":{\"id\":\"3436\"},\"selection_glyph\":null,\"view\":{\"id\":\"3439\"}},\"id\":\"3438\",\"type\":\"GlyphRenderer\"},{\"attributes\":{\"bottom_units\":\"screen\",\"fill_alpha\":0.5,\"fill_color\":\"lightgrey\",\"left_units\":\"screen\",\"level\":\"overlay\",\"line_alpha\":1.0,\"line_color\":\"black\",\"line_dash\":[4,4],\"line_width\":2,\"render_mode\":\"css\",\"right_units\":\"screen\",\"top_units\":\"screen\"},\"id\":\"3347\",\"type\":\"BoxAnnotation\"},{\"attributes\":{\"source\":{\"id\":\"3480\"}},\"id\":\"3487\",\"type\":\"CDSView\"},{\"attributes\":{},\"id\":\"3344\",\"type\":\"WheelZoomTool\"},{\"attributes\":{\"label\":{\"value\":\"PC 1\"},\"renderers\":[{\"id\":\"3438\"}]},\"id\":\"3454\",\"type\":\"LegendItem\"},{\"attributes\":{},\"id\":\"3376\",\"type\":\"Selection\"},{\"attributes\":{},\"id\":\"3343\",\"type\":\"PanTool\"},{\"attributes\":{},\"id\":\"3333\",\"type\":\"LinearScale\"},{\"attributes\":{\"data\":{\"Variable\":[\"PC 3\",\"PC 3\",\"PC 3\",\"PC 3\",\"PC 3\",\"PC 3\",\"PC 3\",\"PC 3\",\"PC 3\",\"PC 3\",\"PC 3\",\"PC 3\",\"PC 3\",\"PC 3\",\"PC 3\",\"PC 3\",\"PC 3\",\"PC 3\",\"PC 3\",\"PC 3\",\"PC 3\",\"PC 3\",\"PC 3\",\"PC 3\",\"PC 3\",\"PC 3\",\"PC 3\",\"PC 3\",\"PC 3\",\"PC 3\",\"PC 3\",\"PC 3\",\"PC 3\",\"PC 3\",\"PC 3\",\"PC 3\",\"PC 3\",\"PC 3\",\"PC 3\",\"PC 3\",\"PC 3\",\"PC 3\",\"PC 3\",\"PC 3\",\"PC 3\",\"PC 3\",\"PC 3\",\"PC 3\",\"PC 3\",\"PC 3\",\"PC 3\",\"PC 3\",\"PC 3\",\"PC 3\",\"PC 3\",\"PC 3\",\"PC 3\",\"PC 3\",\"PC 3\",\"PC 3\",\"PC 3\",\"PC 3\",\"PC 3\",\"PC 3\",\"PC 3\",\"PC 3\",\"PC 3\",\"PC 3\",\"PC 3\",\"PC 3\",\"PC 3\",\"PC 3\",\"PC 3\",\"PC 3\",\"PC 3\",\"PC 3\",\"PC 3\",\"PC 3\",\"PC 3\",\"PC 3\",\"PC 3\",\"PC 3\",\"PC 3\",\"PC 3\",\"PC 3\",\"PC 3\",\"PC 3\",\"PC 3\",\"PC 3\",\"PC 3\",\"PC 3\",\"PC 3\",\"PC 3\",\"PC 3\",\"PC 3\",\"PC 3\",\"PC 3\",\"PC 3\",\"PC 3\",\"PC 3\",\"PC 3\",\"PC 3\",\"PC 3\",\"PC 3\",\"PC 3\",\"PC 3\",\"PC 3\",\"PC 3\",\"PC 3\",\"PC 3\",\"PC 3\",\"PC 3\",\"PC 3\",\"PC 3\",\"PC 3\",\"PC 3\",\"PC 3\",\"PC 3\",\"PC 3\",\"PC 3\",\"PC 3\",\"PC 3\",\"PC 3\",\"PC 3\",\"PC 3\",\"PC 3\",\"PC 3\",\"PC 3\",\"PC 3\",\"PC 3\",\"PC 3\",\"PC 3\",\"PC 3\",\"PC 3\",\"PC 3\",\"PC 3\",\"PC 3\",\"PC 3\",\"PC 3\",\"PC 3\",\"PC 3\",\"PC 3\",\"PC 3\",\"PC 3\",\"PC 3\",\"PC 3\",\"PC 3\",\"PC 3\",\"PC 3\",\"PC 3\",\"PC 3\",\"PC 3\",\"PC 3\",\"PC 3\",\"PC 3\",\"PC 3\",\"PC 3\",\"PC 3\",\"PC 3\",\"PC 3\",\"PC 3\",\"PC 3\",\"PC 3\",\"PC 3\",\"PC 3\",\"PC 3\",\"PC 3\",\"PC 3\",\"PC 3\",\"PC 3\",\"PC 3\",\"PC 3\",\"PC 3\",\"PC 3\",\"PC 3\",\"PC 3\",\"PC 3\",\"PC 3\",\"PC 3\",\"PC 3\",\"PC 3\",\"PC 3\",\"PC 3\",\"PC 3\",\"PC 3\",\"PC 3\",\"PC 3\",\"PC 3\",\"PC 3\",\"PC 3\",\"PC 3\",\"PC 3\",\"PC 3\",\"PC 3\",\"PC 3\",\"PC 3\",\"PC 3\",\"PC 3\",\"PC 3\",\"PC 3\",\"PC 3\",\"PC 3\",\"PC 3\",\"PC 3\",\"PC 3\",\"PC 3\",\"PC 3\",\"PC 3\",\"PC 3\",\"PC 3\",\"PC 3\",\"PC 3\",\"PC 3\",\"PC 3\",\"PC 3\",\"PC 3\",\"PC 3\",\"PC 3\",\"PC 3\",\"PC 3\",\"PC 3\",\"PC 3\",\"PC 3\",\"PC 3\",\"PC 3\",\"PC 3\",\"PC 3\",\"PC 3\",\"PC 3\",\"PC 3\",\"PC 3\",\"PC 3\",\"PC 3\",\"PC 3\",\"PC 3\",\"PC 3\",\"PC 3\",\"PC 3\",\"PC 3\",\"PC 3\",\"PC 3\",\"PC 3\",\"PC 3\",\"PC 3\",\"PC 3\",\"PC 3\",\"PC 3\",\"PC 3\",\"PC 3\",\"PC 3\",\"PC 3\",\"PC 3\",\"PC 3\",\"PC 3\",\"PC 3\",\"PC 3\",\"PC 3\",\"PC 3\",\"PC 3\",\"PC 3\",\"PC 3\",\"PC 3\",\"PC 3\",\"PC 3\",\"PC 3\",\"PC 3\",\"PC 3\",\"PC 3\",\"PC 3\",\"PC 3\",\"PC 3\",\"PC 3\",\"PC 3\",\"PC 3\",\"PC 3\",\"PC 3\",\"PC 3\",\"PC 3\",\"PC 3\",\"PC 3\",\"PC 3\",\"PC 3\",\"PC 3\",\"PC 3\",\"PC 3\",\"PC 3\",\"PC 3\",\"PC 3\",\"PC 3\",\"PC 3\",\"PC 3\",\"PC 3\",\"PC 3\",\"PC 3\",\"PC 3\",\"PC 3\",\"PC 3\",\"PC 3\",\"PC 3\",\"PC 3\",\"PC 3\",\"PC 3\",\"PC 3\",\"PC 3\",\"PC 3\",\"PC 3\",\"PC 3\",\"PC 3\",\"PC 3\",\"PC 3\",\"PC 3\",\"PC 3\",\"PC 3\",\"PC 3\",\"PC 3\",\"PC 3\",\"PC 3\",\"PC 3\",\"PC 3\",\"PC 3\",\"PC 3\",\"PC 3\",\"PC 3\",\"PC 3\",\"PC 3\",\"PC 3\",\"PC 3\",\"PC 3\",\"PC 3\",\"PC 3\",\"PC 3\",\"PC 3\",\"PC 3\",\"PC 3\",\"PC 3\",\"PC 3\",\"PC 3\",\"PC 3\",\"PC 3\",\"PC 3\",\"PC 3\",\"PC 3\",\"PC 3\",\"PC 3\",\"PC 3\",\"PC 3\",\"PC 3\",\"PC 3\",\"PC 3\",\"PC 3\",\"PC 3\",\"PC 3\",\"PC 3\",\"PC 3\",\"PC 3\",\"PC 3\",\"PC 3\",\"PC 3\",\"PC 3\",\"PC 3\",\"PC 3\",\"PC 3\",\"PC 3\",\"PC 3\",\"PC 3\",\"PC 3\",\"PC 3\",\"PC 3\",\"PC 3\",\"PC 3\",\"PC 3\",\"PC 3\",\"PC 3\",\"PC 3\",\"PC 3\",\"PC 3\",\"PC 3\",\"PC 3\",\"PC 3\",\"PC 3\",\"PC 3\",\"PC 3\",\"PC 3\",\"PC 3\",\"PC 3\",\"PC 3\",\"PC 3\",\"PC 3\",\"PC 3\",\"PC 3\",\"PC 3\",\"PC 3\",\"PC 3\",\"PC 3\",\"PC 3\",\"PC 3\",\"PC 3\",\"PC 3\",\"PC 3\",\"PC 3\",\"PC 3\",\"PC 3\",\"PC 3\",\"PC 3\",\"PC 3\",\"PC 3\",\"PC 3\",\"PC 3\",\"PC 3\",\"PC 3\",\"PC 3\",\"PC 3\",\"PC 3\",\"PC 3\",\"PC 3\",\"PC 3\",\"PC 3\",\"PC 3\",\"PC 3\",\"PC 3\",\"PC 3\",\"PC 3\",\"PC 3\",\"PC 3\",\"PC 3\",\"PC 3\",\"PC 3\",\"PC 3\",\"PC 3\",\"PC 3\",\"PC 3\",\"PC 3\",\"PC 3\",\"PC 3\",\"PC 3\",\"PC 3\",\"PC 3\",\"PC 3\",\"PC 3\",\"PC 3\",\"PC 3\",\"PC 3\",\"PC 3\",\"PC 3\",\"PC 3\",\"PC 3\",\"PC 3\",\"PC 3\",\"PC 3\",\"PC 3\",\"PC 3\",\"PC 3\",\"PC 3\",\"PC 3\",\"PC 3\",\"PC 3\",\"PC 3\",\"PC 3\",\"PC 3\",\"PC 3\",\"PC 3\",\"PC 3\",\"PC 3\",\"PC 3\",\"PC 3\",\"PC 3\",\"PC 3\",\"PC 3\",\"PC 3\",\"PC 3\",\"PC 3\",\"PC 3\",\"PC 3\",\"PC 3\",\"PC 3\",\"PC 3\",\"PC 3\",\"PC 3\",\"PC 3\",\"PC 3\",\"PC 3\",\"PC 3\",\"PC 3\",\"PC 3\",\"PC 3\",\"PC 3\",\"PC 3\",\"PC 3\",\"PC 3\",\"PC 3\",\"PC 3\",\"PC 3\",\"PC 3\",\"PC 3\",\"PC 3\",\"PC 3\",\"PC 3\",\"PC 3\",\"PC 3\",\"PC 3\",\"PC 3\",\"PC 3\",\"PC 3\",\"PC 3\",\"PC 3\",\"PC 3\",\"PC 3\",\"PC 3\",\"PC 3\",\"PC 3\",\"PC 3\",\"PC 3\",\"PC 3\",\"PC 3\",\"PC 3\",\"PC 3\",\"PC 3\",\"PC 3\",\"PC 3\",\"PC 3\",\"PC 3\",\"PC 3\",\"PC 3\",\"PC 3\",\"PC 3\",\"PC 3\",\"PC 3\",\"PC 3\",\"PC 3\",\"PC 3\",\"PC 3\",\"PC 3\",\"PC 3\",\"PC 3\",\"PC 3\",\"PC 3\",\"PC 3\"],\"index\":[\"42\",\"404\",\"1337\",\"ETH\",\"NXT\",\"ZEC\",\"BTS\",\"BTCD\",\"XPY\",\"PRC\",\"KOBO\",\"ARG\",\"AUR\",\"BLU\",\"XMY\",\"MOON\",\"ZET\",\"SXC\",\"QTL\",\"ENRG\",\"QRK\",\"RIC\",\"DGC\",\"BTB\",\"CAT\",\"CBX\",\"CCN\",\"CRYPT\",\"XVG\",\"DVC\",\"EAC\",\"EFL\",\"EMC2\",\"EMD\",\"EXCL\",\"FLT\",\"FRK\",\"GDC\",\"GLC\",\"GLD\",\"HBN\",\"HYP\",\"IFC\",\"IXC\",\"KGC\",\"LKY\",\"LTB\",\"MAX\",\"MED\",\"MINT\",\"MZC\",\"NAUT\",\"NAV\",\"NOBL\",\"NMC\",\"NYAN\",\"ORB\",\"POT\",\"PXC\",\"RDD\",\"RPC\",\"SBC\",\"SMC\",\"SUPER\",\"SYNC\",\"SYS\",\"TES\",\"TGC\",\"TOR\",\"TRC\",\"UNB\",\"UNO\",\"URO\",\"USDE\",\"UTC\",\"VRC\",\"VTC\",\"WDC\",\"XC\",\"XCR\",\"XJO\",\"XST\",\"ZCC\",\"SJCX\",\"MONA\",\"NTRN\",\"FAIR\",\"RBY\",\"PTC\",\"WBB\",\"NOTE\",\"FLO\",\"8BIT\",\"STV\",\"J\",\"ABY\",\"LDOGE\",\"TRI\",\"FLDC\",\"SLR\",\"TRK\",\"U\",\"UIS\",\"CYP\",\"UFO\",\"OC\",\"FSC\",\"BLC\",\"OMC\",\"BITS\",\"NEOS\",\"HYPER\",\"VTR\",\"PINK\",\"GRE\",\"XCN\",\"XBC\",\"MSC\",\"SOON\",\"1CR\",\"ISL\",\"NXS\",\"CESC\",\"ADC\",\"MARS\",\"CTO\",\"ACP\",\"DRZ\",\"BSC\",\"NKA\",\"SQL\",\"PIGGY\",\"CRW\",\"GEN\",\"SONG\",\"SMLY\",\"ZNY\",\"DIGS\",\"EXP\",\"MI\",\"CON\",\"GRS\",\"CPC\",\"CLUB\",\"RADS\",\"EMC\",\"EGC\",\"MND\",\"I0C\",\"PAK\",\"CRB\",\"OK\",\"RVR\",\"HODL\",\"EDRC\",\"WAVES\",\"HTC\",\"DBIC\",\"XHI\",\"DIEM\",\"PWR\",\"BLRY\",\"INFX\",\"GOST\",\"GPU\",\"ADZ\",\"SOIL\",\"YOC\",\"ERC\",\"ZEIT\",\"SWING\",\"SAFEX\",\"NEBU\",\"FRN\",\"BOLI\",\"XRA\",\"CKC\",\"VIP\",\"OMNI\",\"LIR\",\"IBANK\",\"FRWC\",\"MUDRA\",\"PIZZA\",\"LC\",\"KMD\",\"GB\",\"KRB\",\"BXT\",\"ZYD\",\"MST\",\"ZNE\",\"COVAL\",\"ROOT\",\"DOPE\",\"BTCR\",\"DLC\",\"SCN\",\"SH\",\"BUZZ\",\"XPO\",\"PSB\",\"HALLO\",\"CFC\",\"ROYAL\",\"GNJ\",\"TEAM\",\"LANA\",\"ELE\",\"ZCL\",\"INSANE\",\"KLC\",\"ATX\",\"EMB\",\"XEN\",\"FRE\",\"PLNC\",\"ARCO\",\"KURT\",\"XCRE\",\"ENT\",\"EUC\",\"BCF\",\"XSN\",\"BCCOIN\",\"MONEY\",\"XNG\",\"XCI\",\"RC\",\"PND\",\"UNITS\",\"GAKH\",\"LTCR\",\"GOLOS\",\"OS76\",\"BIC\",\"HXX\",\"KED\",\"IOP\",\"KUSH\",\"PRX\",\"PAC\",\"IMPCH\",\"CTL\",\"ZBC\",\"FRST\",\"BVC\",\"FIND\",\"VLTC\",\"ZER\",\"CHAT\",\"ZOI\",\"RNS\",\"DBIX\",\"XVP\",\"TAJ\",\"IMX\",\"EB3\",\"ATMOS\",\"HPC\",\"CXT\",\"MCRN\",\"RAIN\",\"IMS\",\"ARGUS\",\"LMC\",\"PROC\",\"XGR\",\"BENJI\",\"DUO\",\"GRW\",\"ILC\",\"PHR\",\"DEA\",\"HTML5\",\"USC\",\"EQT\",\"INSN\",\"QRL\",\"ESP\",\"DYN\",\"EOS\",\"NANO\",\"CHAN\",\"DCY\",\"DP\",\"VUC\",\"BTPL\",\"UNIFY\",\"BRIT\",\"SOCC\",\"ARC\",\"PART\",\"DAS\",\"LINDA\",\"RCC\",\"XLC\",\"ONION\",\"BTX\",\"GCN\",\"SIGT\",\"ONX\",\"CRM\",\"BCH\",\"XMCC\",\"DFT\",\"VET\",\"SOJ\",\"STCN\",\"AMB\",\"OXY\",\"NYC\",\"FRAZ\",\"KRONE\",\"ACC\",\"LINX\",\"XCXT\",\"ETHD\",\"SUMO\",\"ODN\",\"ADA\",\"REC\",\"ICX\",\"BTCZ\",\"TZC\",\"ATCC\",\"ELM\",\"TER\",\"VIVO\",\"RUP\",\"BTG\",\"WOMEN\",\"MAY\",\"NAMO\",\"LUX\",\"PIRL\",\"XIOS\",\"BTDX\",\"BLHC\",\"XIN\",\"PURA\",\"INN\",\"ZEPH\",\"ELLA\",\"MAG\",\"TAU\",\"ECA\",\"BCD\",\"XSH\",\"AION\",\"CNBC\",\"XUN\",\"GLT\",\"COAL\",\"DAXX\",\"BWK\",\"KLKS\",\"AC3\",\"LTHN\",\"GER\",\"LTCU\",\"POP\",\"PHO\",\"SUCR\",\"SPK\",\"WAGE\",\"GUN\",\"IRL\",\"TROLL\",\"LCP\",\"MONK\",\"PCOIN\",\"UBTC\",\"ITZ\",\"TPAY\",\"MCT\",\"MUN\",\"USX\",\"SSS\",\"KREDS\",\"TOKC\",\"BBP\",\"LCC\",\"FLIP\",\"ALX\",\"LOTTO\",\"CIF\",\"SPD\",\"PUSHI\",\"ELP\",\"VLX\",\"CLO\",\"TUBE\",\"PSD\",\"ADM\",\"ADK\",\"BSX\",\"NEXT\",\"BRIA\",\"IC\",\"BTL\",\"MEDIC\",\"ALPS\",\"BITG\",\"DEV\",\"ABJ\",\"SEM\",\"FTO\",\"CARE\",\"NZL\",\"XMC\",\"PROTON\",\"DEAL\",\"JUMP\",\"XBI\",\"KEC\",\"HWC\",\"PLATC\",\"LOKI\",\"NCP\",\"REL\",\"XT3\",\"MGD\",\"VIG\",\"PLURA\",\"EMAR\",\"DKD\",\"LYNX\",\"POSQ\",\"BWS\",\"MUSE\",\"XMN\",\"PLUS1\",\"AXE\",\"TRVC\",\"DTEM\",\"GIC\",\"ABS\",\"VITAE\",\"TPC\",\"WEBC\",\"RYO\",\"URALS\",\"QWC\",\"MMO\",\"KETAN\",\"PPAI\",\"XDNA\",\"PAXEX\",\"KCASH\",\"XCG\",\"AAC\",\"CRYP\",\"BTXC\",\"DAPS\",\"TCH\",\"HC\",\"BITM\",\"FIII\",\"JMC\",\"FRED\",\"ZND\",\"HERB\",\"UMO\",\"LIT\",\"PIRATE\",\"EXO\",\"OWC\",\"BEAM\",\"BTT\",\"GALI\",\"BTH\",\"CSPN\",\"CREDIT\",\"SCRIBE\",\"SLC\",\"VOLLAR\",\"NSD\",\"GEX\",\"BEET\",\"TTN\",\"ARRR\",\"BLAST\",\"XRC\",\"BDX\",\"BLOCM\",\"CKB\",\"LOBS\",\"BTCK\",\"VEN\",\"ZANO\",\"KSH\",\"YTN\",\"PEPS\",\"NEET\",\"ZCR\",\"AEVO\",\"DXO\",\"GOSS\",\"GIO\",\"RPD\",\"PENG\",\"X42\",\"WCC\",\"MWC\",\"RHP\",\"DDK\",\"BSV\",\"MEC\",\"NLG\",\"SIB\",\"XDN\",\"VIA\",\"FTC\",\"IOC\",\"XZC\",\"CLOAK\",\"BCN\",\"BURST\",\"SC\",\"POA\",\"BTM\",\"ZEN\",\"DGB\",\"QTUM\",\"ONT\",\"LSK\",\"DASH\",\"ETC\",\"ARK\",\"LTC\",\"XMR\",\"DCR\",\"STEEM\",\"BTC\",\"BUX\",\"BNB\"],\"value\":{\"__ndarray__\":\"+FTDhWS08z/1j1plRZjwP+F/6/nHA/+/68fiNKuuxr+y7wo1uffrv/lkVpV9cPQ/6R63TO2u6r8hJskHTjXwP2aZCY5RIuI/K2WQQ9pw4j/94fcjf8rkv41OeD67Z90/PHkGTB5U0b9evrtNVM/4v2XXod72J+u/3Kfc7DUa9T9Bj0U+M8Lsv+4I7+ld3eq/PzhMAQsT1D+qIGZvSnPzv0yyrgQeoeq/sRoxMAWl4j9HR+/cBUbMv0EndrNC+PM/YxaeJEtJ4T9sXp8K6ljlPwNOPJHRhOA/C94Lqkus0D+ygpDMl6/xvyBpRXxtdfa/j2zsrZdr+r+pgeFScZvAvwNniLn7Ue2/9JC/z5nnoD+jhuWA2/bwP7OYLyAcXvO/0e2TZG0s6D8dDjKZkor2v891Z7+6mdW/OgFRipxryL850YFtLNTxv3VsmxajcPi/cpVAUVhI9L8pdtrMyAh+v8EionhBA+u/ZkBk38aaur9qf1yys87pP+Q6435Dxuy/JTuqzeF9yz8YP42AGN72vx9OTXmvTfS/8LCJA0EO0z92xOlBq+T1v5QIZt85TPi/JWCtDUrO0T+Eh0Z2E3/uvybhfULS7PQ/D84GAjQg7r/brfgW9avZv452tp3QyP6/z7lXprtx7z83ziTGuhzHvxKy9haLy7e/AAbji2B06L8RZy2nalXfPwImFlA9o+W/ESeJT71Wub+beCJlMFbEv2Ro5NPv7dE/yCjL/oS3wj+JzUCWhsP1Pxbh5eBC0vQ/iyve7PSW2z8qr0DpKmf4v4oOslEiO+y/j8vcM/2b4b9VFmoD39nWP4EJhtJzuui/yQB8ueVi1j8JRal2bWTBv4V6nRNkIsO/l56/yHZ38r+PN8Uo0df0v/RVs+pTlfQ/veXG/TE967+vL9GaO4rCv7nJfoxhSLu/NntPX1J+yb/z0HzONhPwv0yRWSQQ+vI/OGfEtMHs4L+LMwkxBNHwvwkoW7t0vOI/S6S4u7Tmwr+3aPk3eTn2P3Y64Pmcf/e/Ptd8re28979XM6HW61DdP6mr100rlfm/QZ5WKfDkyb+ip1+WSVn7v1gCdXSSn+o/tXhC6LmE1r+CGIUhJVziP2XVGbufdei/Pt0JmwUp5D8YWEEhavP5P0E7rfJGhPY/oJNYU4+W3z93/p10DzR6P8PSfly9EPM/AyXE1AQ/qD/lJuVXwPC9PwUPPCfUjfW/v1I5H7RF+r/XCKHK7irovwFE/xWQ6PM//j2jIOU+9T8PNNaa3bnWPx89O5qnVvg/T8Dzt/zF0D9dhh6Iyu3gvxsSpOkeafe/xWW6hrh/+b8TD2WsPa3hv6BLgnMRafE/LhbTzK4v4T/8BgHA4RPqPzLIk5YNMc6/rvMgqx+T+L+s0dHLbsnoP5k3c4BKAf2/Vs5HcS686D/Pa+idRSvrvzzv/fCtg9e/KJPTC1HF9b++UPSZ4ePkv1cg/uz/euS/OuRF/R748T8M8EVy+N7wv2zTUaJuHvu/L0I2vsiSur+MdFZgy/v2v3moGcUNGPC/KHZQUOSz/D/OHrig1jrmv4EuNcdGGNG/Q0DRm1Fl1r9fTc/zs7iCP6hiTTC5nOe/jvqjjhLB6r+htITYQHTsv2GeBX4LL/C/V6jSqmt/AUCh8qZ+JxfqP6eA5KbHjdM/wN2u7Dxu/b+nzFPwSXPeP6iZH5xabPW/xutNXT9I9r/nagKvA0r1v0rMh+n+rN8/qhMHOUSJyj85HYC0mjjwv/A5ZNruXMC/HS7AO+uL37/7EQ96rqP8P33jPXuKiO4/fHtnlFuEqT/QPsc1Kgz4vzDWqrnbKew/uH/qcXkv778dVSJudbThPzJbEPvhO+E/uEr22Olrwr9IIwcGdi3wv89fuM08JdU/e23nNn5tgz8/c7NOuEv1PwGNv9aBWtg/0vEqvRjA6D8kLQOixYrxv+Hk17C3VeM/VmfJb8ST5T+fz+4jiazsv1KAydTxleG/05UDQWpbur83tN0xgXH3PzSkyK99TPE/1Y1jjm4w8j+gY+pllKbmP9N4XYR9Oec/ncGwR99B7r8x5Xk5hAjiP3bFYNnk2eu/WXFYTtPB6r+AytteNmXXP3JxBNwsTPW/dN0E/itO2T/D7J7Ix0T5v9u8Ynxaz9M/btPo1eWc57+GMQqOZRD6v9eSVuA7gq6/je6X/jeO7D/cnc0Dh833vw8tAqCbpuk/MmOFHZDU8L+AgRlEEBHlP3qXjuEYAvk/ItwDH2Ss1b/ujTD80Cfzv0FXShHakvW/8/Masr+E/L8c+h7PdpvfP2Wf+4JnaNc/umn4aTZEuD/096lVcCPsP6cD95ehwey/HVUibnW04T8+T4FEZDfRP4hUCkYBic0/faNAab9Cz78RG7kaLyrzvwUhIWaU5dA/7riSQ7793j+annxCsibqP6POyjWQ+AFAQXHVQhd7yz/UfI6PDTXyv0AMMH8m6d8/PvXLI8LS6T88G695qIO6P6y/5Lcxt3q/gm0mTTSf8T9V28p3JyL7P/DKLC1F8v4/s3rRBMZNu78Tni2uihjsP+e39ffzaOI/extgUP4guz8ihQ8xq831v/9hDUdoG/A/hi0E9rzK9j9tN3CY/Nr2P609zR5gh/K/QMKm4wQn7j+ACRiiwWiIv2m3lWUvWuy/KwFMukSX9T/VMyrG4tn5vwNlDUAsJuI/ZcpXDhsgrz8CzstXnE7/P9yz9Gcged+/n0om1F4j9j/+XQ2Zcsr2vya4OwGiwNy/r9aAE6xy1L/7hPy6TlLuv1PKoQJF+/A/VSDSAy4D0L/hBEDrthLxv02SGCwX0+A/RGdw14nq7j+S2UrdvK7nP8ploy02kqY/FGNLlqkPzb8H0ZR+nZOmP/zIXghL/Os/5D/mcLa367/X8nOAZObxvwQfPVXsGvE/MMHY47lz3r9utcu0TUX8v1WcqAcr4ek/ULwCYux13T+qfLeDi2Tiv1zSxtJknea/LzkXvLVSuT9qu7fAV3P2P5zeew2tr9Q/kLPdT1bO4z8pPjofUoLzP21IbcNnHsC/oUYi+pcl8L+ivEtqCQLbv4seKKQLX8Q/lhaCLchIpL++vCy0ffjgv9U9Sle/C9o/I5ixESn7178bIIbOVbnqP7+EL/NGyd4/ymkZixZf7L8q3q1U5OrlPwGly3y4rfo/QhRQUS3v5r+mH5j4VLrPv39/5GnLKvu/JKK4lp0O57/8wIY/2T72v2JXbZUyOu6/Er/ftkVttz+4aPrnkaHGP4JaDbiAw8c/pTHrBbeR/78rhOwxtAnsP/IMz2VVYfs/wdRoUI6hyT/Nm5qLvPvTPwH1lzZgXf6/A0YrVsuE1j/kKMrL2U28P2vbTs7ve+O/1nw/D+jV4793h/VSgSTTv8mnvcpQmuk/20ogYUlUAEB6NqF/up7hP3SWas0akOS/AgWa4Ro5yD9GT0/83ALXv/EoZPmF29+/tVk+tZ884L/pVZKmnh3uv28KNOttp/y/1zCi3wf+5z/DreLCM3P0P5E1hXv3rec/Y9Hi79fc7j+6Fplt2uH1v1HkvfmBCe6/ZXE2ASCH77+M7DclaLHrP1+whVNUXuE/0a2nZ2J06D9zl1/R6BHXv4vyaaewoci/rp2nD+694r/CUoDcxynyv/+xDwt16vM/2PBhy+c34L/jYhaPMdvyPzFJlN6UafC/qXfeXuyY7z9eTXRs7mHxv4WlZ+N7cPe/A1Fr8G041r/zykac65Hwv1pCWmFB3u2/6qNx4exfBUC059Vk4wTpvysBsJxVZ/w/y9hMELgc4L/h3fKmZ8jxP/OtChKDLt0/7Ab4r8sR6b+yNLR/iovcPxUI5J9aDPW/spFyBoP8yz9hOlZRkC/zv1Xii2bY+9e/CwIAyVJ11z/J1NNjp1LuPwa9T6c+aK4/GUuyWU1Q2b+N0WwALwrSv/LASD6W2+2/EkCcmQR97D9kOMwv9+jmPwemFBN7z7s/O64ZlUCamD9bTdBo71v5PyzMc+dnmOI/DibBCeFAAEDiGEjqAIHeP2GboFV2+/G/O23ekCbj+r9diyL8N+zsP1rRMBG0rea/g1SHOxHz07/XxBFE0sDpvwMNB4BOxdk/E37b+f7K1T9ZA2vDCBn5vz0/tzaxnvG/EXiKEa1n9z8KwrdpmPzfPwkHXhDYpeg/NpzbWmjVt7/A9t+xtuq7P/e7kBHGkdM/FDm50G1c5z9OZaVfyYPwPwV8uwqII+A/yGbm8MGj6D+2hjcTSBDlv1U0tSENJvA/55VoXbHu8D/F5yXboATjP2Ek4zLROOC/5/aL0vsl1z+AAiCEsLr2P8HYm9Nk1uY/+fK4noGS1j+PsrnzjIX3P1LuZUqBmuy/vWBGtnyU7L9laPJl8rfxP3P5r1EPI/Q/NNdkPrcL6j8EMOnE/kPzv0F/IHKJF9U/6d0+iGmowb9hmh8aI8/mP3QXk6bQ2a6/S5+1gXE6BUBTEMDAG/PvP3v6Q0sKGdy/BpW+nPIt6z/Bv6QwY+rwP103+7wyhtS/1GCz0jXU47+WE5WNw+7Kv/F+mk4wX7E/HOfbKD9Zpr/Ztsz2N1Xiv4U/hT8Givo/BWzJ/XuR079f4chVQt/1P3t86QOT95o/qdpv+HvN8j/THjCLsDzRP9KGkw3lmeS//MDRO92c7z8hbg7VLuroPzLVIl2HDug/00hiKxD0xz9DQWNv5T/TPzzmbuUsIPM/+S3YrAU/AUA7zeaHeG3Wv2abO9CBq9+/vq5pRq5+2b9nHZNE4FnxP9hQ7FZWr/O/YTZBVsFV8j8Q6kjhBtPfP61bWC+k+v+/RQwFknpK0r9/xgecM2bYP45xGum758G/vB2SjMsy5T/7LCQ3J1IEQJgs+pWUM/C/4beWJMTw8j/2sYvvVPL3vwq7HfXOuwFAGlzy4E1O/L+jgtDxczXOPzZqccnSpN8/Om7i3DWTtL+WZgVk9vEAQNG2Va8myvg/g34HN3bb6T+JYRXtQ+n+P87PFWZzPHo/UastoK4t1j/4obcKMsPmv6hJwkCO8dO/EiM8nG4z6T+8MPYhOgPzP0VPHrZxHPa/0fD1Pesh8z8ffvpHLXLJP7GA8LWrtsQ/78Sbd5avpD/Mz3IwHY7wP5pzJaj7fva/VaSQQo/i8L8M7kdoTFKgv8B/ZaDtKLq/RgtaZ1Zm4j/S7Wey4LDGv2CJamOB3fY/M6fJNx8d3L881vGos0PoP5z3dMrHjtU/hPKk5rTb+b9GljH8WxPLP18eJ/Z3Qdy/byBVLZH34r/XQjnaM2+zv877oWbtaNg/40/Hqq4n7z8ZPWJiXuDAv8bMIkZSKvI/VS+n2URdsL84/rn+oHH1vzqlF+OG9uq/w3YCozUj+b+M1NlFQ+KyPwI4sD3U5uc/UQGIrBie+T8Q30gLGjX7v1RqqJN++gFAvUSiuibVuD8dgBsFxajSvzxum8FmkPO/ClwpA2SP0r9dHyXLxvbHP4FGu8fAA8a/WlRkGhGK27+o3Z3Zc9Dbv2se+ZqkhPE/lBPOrgZXtb/pr0rDZU/fv29RM0Prnu+/ZncVNVI93b+ZkbZN6FLHv2x8JK6Oafq/sLXOtXmd9D81uWxdz8Xvv/cZRauqe9G/BudaGh+J9b8HlEUo8vzoP/DECLfO5Ka/UyLQ4TN3eT8KoIIRdlXqPxUfnFJM7tK/BzRfrSab7j+iY9Dmalb5P490GutoVIK/I1Anwuikuz/KuwMYFY7wv+1zdOT7ReQ/\",\"dtype\":\"float64\",\"shape\":[537]}},\"selected\":{\"id\":\"3481\"},\"selection_policy\":{\"id\":\"3533\"}},\"id\":\"3480\",\"type\":\"ColumnDataSource\"},{\"attributes\":{\"label\":{\"value\":\"PC 3\"},\"renderers\":[{\"id\":\"3486\"}]},\"id\":\"3506\",\"type\":\"LegendItem\"},{\"attributes\":{\"line_color\":\"#9367bc\",\"line_width\":2,\"x\":{\"field\":\"index\"},\"y\":{\"field\":\"value\"}},\"id\":\"3435\",\"type\":\"Line\"},{\"attributes\":{\"source\":{\"id\":\"3507\"}},\"id\":\"3514\",\"type\":\"CDSView\"},{\"attributes\":{\"data\":{\"Variable\":[\"ProofType\",\"ProofType\",\"ProofType\",\"ProofType\",\"ProofType\",\"ProofType\",\"ProofType\",\"ProofType\",\"ProofType\",\"ProofType\",\"ProofType\",\"ProofType\",\"ProofType\",\"ProofType\",\"ProofType\",\"ProofType\",\"ProofType\",\"ProofType\",\"ProofType\",\"ProofType\",\"ProofType\",\"ProofType\",\"ProofType\",\"ProofType\",\"ProofType\",\"ProofType\",\"ProofType\",\"ProofType\",\"ProofType\",\"ProofType\",\"ProofType\",\"ProofType\",\"ProofType\",\"ProofType\",\"ProofType\",\"ProofType\",\"ProofType\",\"ProofType\",\"ProofType\",\"ProofType\",\"ProofType\",\"ProofType\",\"ProofType\",\"ProofType\",\"ProofType\",\"ProofType\",\"ProofType\",\"ProofType\",\"ProofType\",\"ProofType\",\"ProofType\",\"ProofType\",\"ProofType\",\"ProofType\",\"ProofType\",\"ProofType\",\"ProofType\",\"ProofType\",\"ProofType\",\"ProofType\",\"ProofType\",\"ProofType\",\"ProofType\",\"ProofType\",\"ProofType\",\"ProofType\",\"ProofType\",\"ProofType\",\"ProofType\",\"ProofType\",\"ProofType\",\"ProofType\",\"ProofType\",\"ProofType\",\"ProofType\",\"ProofType\",\"ProofType\",\"ProofType\",\"ProofType\",\"ProofType\",\"ProofType\",\"ProofType\",\"ProofType\",\"ProofType\",\"ProofType\",\"ProofType\",\"ProofType\",\"ProofType\",\"ProofType\",\"ProofType\",\"ProofType\",\"ProofType\",\"ProofType\",\"ProofType\",\"ProofType\",\"ProofType\",\"ProofType\",\"ProofType\",\"ProofType\",\"ProofType\",\"ProofType\",\"ProofType\",\"ProofType\",\"ProofType\",\"ProofType\",\"ProofType\",\"ProofType\",\"ProofType\",\"ProofType\",\"ProofType\",\"ProofType\",\"ProofType\",\"ProofType\",\"ProofType\",\"ProofType\",\"ProofType\",\"ProofType\",\"ProofType\",\"ProofType\",\"ProofType\",\"ProofType\",\"ProofType\",\"ProofType\",\"ProofType\",\"ProofType\",\"ProofType\",\"ProofType\",\"ProofType\",\"ProofType\",\"ProofType\",\"ProofType\",\"ProofType\",\"ProofType\",\"ProofType\",\"ProofType\",\"ProofType\",\"ProofType\",\"ProofType\",\"ProofType\",\"ProofType\",\"ProofType\",\"ProofType\",\"ProofType\",\"ProofType\",\"ProofType\",\"ProofType\",\"ProofType\",\"ProofType\",\"ProofType\",\"ProofType\",\"ProofType\",\"ProofType\",\"ProofType\",\"ProofType\",\"ProofType\",\"ProofType\",\"ProofType\",\"ProofType\",\"ProofType\",\"ProofType\",\"ProofType\",\"ProofType\",\"ProofType\",\"ProofType\",\"ProofType\",\"ProofType\",\"ProofType\",\"ProofType\",\"ProofType\",\"ProofType\",\"ProofType\",\"ProofType\",\"ProofType\",\"ProofType\",\"ProofType\",\"ProofType\",\"ProofType\",\"ProofType\",\"ProofType\",\"ProofType\",\"ProofType\",\"ProofType\",\"ProofType\",\"ProofType\",\"ProofType\",\"ProofType\",\"ProofType\",\"ProofType\",\"ProofType\",\"ProofType\",\"ProofType\",\"ProofType\",\"ProofType\",\"ProofType\",\"ProofType\",\"ProofType\",\"ProofType\",\"ProofType\",\"ProofType\",\"ProofType\",\"ProofType\",\"ProofType\",\"ProofType\",\"ProofType\",\"ProofType\",\"ProofType\",\"ProofType\",\"ProofType\",\"ProofType\",\"ProofType\",\"ProofType\",\"ProofType\",\"ProofType\",\"ProofType\",\"ProofType\",\"ProofType\",\"ProofType\",\"ProofType\",\"ProofType\",\"ProofType\",\"ProofType\",\"ProofType\",\"ProofType\",\"ProofType\",\"ProofType\",\"ProofType\",\"ProofType\",\"ProofType\",\"ProofType\",\"ProofType\",\"ProofType\",\"ProofType\",\"ProofType\",\"ProofType\",\"ProofType\",\"ProofType\",\"ProofType\",\"ProofType\",\"ProofType\",\"ProofType\",\"ProofType\",\"ProofType\",\"ProofType\",\"ProofType\",\"ProofType\",\"ProofType\",\"ProofType\",\"ProofType\",\"ProofType\",\"ProofType\",\"ProofType\",\"ProofType\",\"ProofType\",\"ProofType\",\"ProofType\",\"ProofType\",\"ProofType\",\"ProofType\",\"ProofType\",\"ProofType\",\"ProofType\",\"ProofType\",\"ProofType\",\"ProofType\",\"ProofType\",\"ProofType\",\"ProofType\",\"ProofType\",\"ProofType\",\"ProofType\",\"ProofType\",\"ProofType\",\"ProofType\",\"ProofType\",\"ProofType\",\"ProofType\",\"ProofType\",\"ProofType\",\"ProofType\",\"ProofType\",\"ProofType\",\"ProofType\",\"ProofType\",\"ProofType\",\"ProofType\",\"ProofType\",\"ProofType\",\"ProofType\",\"ProofType\",\"ProofType\",\"ProofType\",\"ProofType\",\"ProofType\",\"ProofType\",\"ProofType\",\"ProofType\",\"ProofType\",\"ProofType\",\"ProofType\",\"ProofType\",\"ProofType\",\"ProofType\",\"ProofType\",\"ProofType\",\"ProofType\",\"ProofType\",\"ProofType\",\"ProofType\",\"ProofType\",\"ProofType\",\"ProofType\",\"ProofType\",\"ProofType\",\"ProofType\",\"ProofType\",\"ProofType\",\"ProofType\",\"ProofType\",\"ProofType\",\"ProofType\",\"ProofType\",\"ProofType\",\"ProofType\",\"ProofType\",\"ProofType\",\"ProofType\",\"ProofType\",\"ProofType\",\"ProofType\",\"ProofType\",\"ProofType\",\"ProofType\",\"ProofType\",\"ProofType\",\"ProofType\",\"ProofType\",\"ProofType\",\"ProofType\",\"ProofType\",\"ProofType\",\"ProofType\",\"ProofType\",\"ProofType\",\"ProofType\",\"ProofType\",\"ProofType\",\"ProofType\",\"ProofType\",\"ProofType\",\"ProofType\",\"ProofType\",\"ProofType\",\"ProofType\",\"ProofType\",\"ProofType\",\"ProofType\",\"ProofType\",\"ProofType\",\"ProofType\",\"ProofType\",\"ProofType\",\"ProofType\",\"ProofType\",\"ProofType\",\"ProofType\",\"ProofType\",\"ProofType\",\"ProofType\",\"ProofType\",\"ProofType\",\"ProofType\",\"ProofType\",\"ProofType\",\"ProofType\",\"ProofType\",\"ProofType\",\"ProofType\",\"ProofType\",\"ProofType\",\"ProofType\",\"ProofType\",\"ProofType\",\"ProofType\",\"ProofType\",\"ProofType\",\"ProofType\",\"ProofType\",\"ProofType\",\"ProofType\",\"ProofType\",\"ProofType\",\"ProofType\",\"ProofType\",\"ProofType\",\"ProofType\",\"ProofType\",\"ProofType\",\"ProofType\",\"ProofType\",\"ProofType\",\"ProofType\",\"ProofType\",\"ProofType\",\"ProofType\",\"ProofType\",\"ProofType\",\"ProofType\",\"ProofType\",\"ProofType\",\"ProofType\",\"ProofType\",\"ProofType\",\"ProofType\",\"ProofType\",\"ProofType\",\"ProofType\",\"ProofType\",\"ProofType\",\"ProofType\",\"ProofType\",\"ProofType\",\"ProofType\",\"ProofType\",\"ProofType\",\"ProofType\",\"ProofType\",\"ProofType\",\"ProofType\",\"ProofType\",\"ProofType\",\"ProofType\",\"ProofType\",\"ProofType\",\"ProofType\",\"ProofType\",\"ProofType\",\"ProofType\",\"ProofType\",\"ProofType\",\"ProofType\",\"ProofType\",\"ProofType\",\"ProofType\",\"ProofType\",\"ProofType\",\"ProofType\",\"ProofType\",\"ProofType\",\"ProofType\",\"ProofType\",\"ProofType\",\"ProofType\",\"ProofType\",\"ProofType\",\"ProofType\",\"ProofType\",\"ProofType\",\"ProofType\",\"ProofType\",\"ProofType\",\"ProofType\",\"ProofType\",\"ProofType\",\"ProofType\",\"ProofType\",\"ProofType\",\"ProofType\",\"ProofType\",\"ProofType\",\"ProofType\",\"ProofType\",\"ProofType\",\"ProofType\",\"ProofType\",\"ProofType\",\"ProofType\",\"ProofType\",\"ProofType\",\"ProofType\",\"ProofType\",\"ProofType\",\"ProofType\",\"ProofType\",\"ProofType\",\"ProofType\",\"ProofType\",\"ProofType\",\"ProofType\",\"ProofType\",\"ProofType\",\"ProofType\",\"ProofType\",\"ProofType\",\"ProofType\",\"ProofType\",\"ProofType\",\"ProofType\",\"ProofType\",\"ProofType\",\"ProofType\",\"ProofType\",\"ProofType\",\"ProofType\",\"ProofType\",\"ProofType\",\"ProofType\",\"ProofType\",\"ProofType\",\"ProofType\",\"ProofType\",\"ProofType\",\"ProofType\",\"ProofType\",\"ProofType\",\"ProofType\",\"ProofType\",\"ProofType\",\"ProofType\",\"ProofType\",\"ProofType\",\"ProofType\",\"ProofType\",\"ProofType\",\"ProofType\",\"ProofType\",\"ProofType\",\"ProofType\",\"ProofType\",\"ProofType\",\"ProofType\",\"ProofType\",\"ProofType\",\"ProofType\",\"ProofType\",\"ProofType\",\"ProofType\",\"ProofType\"],\"index\":[\"42\",\"404\",\"1337\",\"ETH\",\"NXT\",\"ZEC\",\"BTS\",\"BTCD\",\"XPY\",\"PRC\",\"KOBO\",\"ARG\",\"AUR\",\"BLU\",\"XMY\",\"MOON\",\"ZET\",\"SXC\",\"QTL\",\"ENRG\",\"QRK\",\"RIC\",\"DGC\",\"BTB\",\"CAT\",\"CBX\",\"CCN\",\"CRYPT\",\"XVG\",\"DVC\",\"EAC\",\"EFL\",\"EMC2\",\"EMD\",\"EXCL\",\"FLT\",\"FRK\",\"GDC\",\"GLC\",\"GLD\",\"HBN\",\"HYP\",\"IFC\",\"IXC\",\"KGC\",\"LKY\",\"LTB\",\"MAX\",\"MED\",\"MINT\",\"MZC\",\"NAUT\",\"NAV\",\"NOBL\",\"NMC\",\"NYAN\",\"ORB\",\"POT\",\"PXC\",\"RDD\",\"RPC\",\"SBC\",\"SMC\",\"SUPER\",\"SYNC\",\"SYS\",\"TES\",\"TGC\",\"TOR\",\"TRC\",\"UNB\",\"UNO\",\"URO\",\"USDE\",\"UTC\",\"VRC\",\"VTC\",\"WDC\",\"XC\",\"XCR\",\"XJO\",\"XST\",\"ZCC\",\"SJCX\",\"MONA\",\"NTRN\",\"FAIR\",\"RBY\",\"PTC\",\"WBB\",\"NOTE\",\"FLO\",\"8BIT\",\"STV\",\"J\",\"ABY\",\"LDOGE\",\"TRI\",\"FLDC\",\"SLR\",\"TRK\",\"U\",\"UIS\",\"CYP\",\"UFO\",\"OC\",\"FSC\",\"BLC\",\"OMC\",\"BITS\",\"NEOS\",\"HYPER\",\"VTR\",\"PINK\",\"GRE\",\"XCN\",\"XBC\",\"MSC\",\"SOON\",\"1CR\",\"ISL\",\"NXS\",\"CESC\",\"ADC\",\"MARS\",\"CTO\",\"ACP\",\"DRZ\",\"BSC\",\"NKA\",\"SQL\",\"PIGGY\",\"CRW\",\"GEN\",\"SONG\",\"SMLY\",\"ZNY\",\"DIGS\",\"EXP\",\"MI\",\"CON\",\"GRS\",\"CPC\",\"CLUB\",\"RADS\",\"EMC\",\"EGC\",\"MND\",\"I0C\",\"PAK\",\"CRB\",\"OK\",\"RVR\",\"HODL\",\"EDRC\",\"WAVES\",\"HTC\",\"DBIC\",\"XHI\",\"DIEM\",\"PWR\",\"BLRY\",\"INFX\",\"GOST\",\"GPU\",\"ADZ\",\"SOIL\",\"YOC\",\"ERC\",\"ZEIT\",\"SWING\",\"SAFEX\",\"NEBU\",\"FRN\",\"BOLI\",\"XRA\",\"CKC\",\"VIP\",\"OMNI\",\"LIR\",\"IBANK\",\"FRWC\",\"MUDRA\",\"PIZZA\",\"LC\",\"KMD\",\"GB\",\"KRB\",\"BXT\",\"ZYD\",\"MST\",\"ZNE\",\"COVAL\",\"ROOT\",\"DOPE\",\"BTCR\",\"DLC\",\"SCN\",\"SH\",\"BUZZ\",\"XPO\",\"PSB\",\"HALLO\",\"CFC\",\"ROYAL\",\"GNJ\",\"TEAM\",\"LANA\",\"ELE\",\"ZCL\",\"INSANE\",\"KLC\",\"ATX\",\"EMB\",\"XEN\",\"FRE\",\"PLNC\",\"ARCO\",\"KURT\",\"XCRE\",\"ENT\",\"EUC\",\"BCF\",\"XSN\",\"BCCOIN\",\"MONEY\",\"XNG\",\"XCI\",\"RC\",\"PND\",\"UNITS\",\"GAKH\",\"LTCR\",\"GOLOS\",\"OS76\",\"BIC\",\"HXX\",\"KED\",\"IOP\",\"KUSH\",\"PRX\",\"PAC\",\"IMPCH\",\"CTL\",\"ZBC\",\"FRST\",\"BVC\",\"FIND\",\"VLTC\",\"ZER\",\"CHAT\",\"ZOI\",\"RNS\",\"DBIX\",\"XVP\",\"TAJ\",\"IMX\",\"EB3\",\"ATMOS\",\"HPC\",\"CXT\",\"MCRN\",\"RAIN\",\"IMS\",\"ARGUS\",\"LMC\",\"PROC\",\"XGR\",\"BENJI\",\"DUO\",\"GRW\",\"ILC\",\"PHR\",\"DEA\",\"HTML5\",\"USC\",\"EQT\",\"INSN\",\"QRL\",\"ESP\",\"DYN\",\"EOS\",\"NANO\",\"CHAN\",\"DCY\",\"DP\",\"VUC\",\"BTPL\",\"UNIFY\",\"BRIT\",\"SOCC\",\"ARC\",\"PART\",\"DAS\",\"LINDA\",\"RCC\",\"XLC\",\"ONION\",\"BTX\",\"GCN\",\"SIGT\",\"ONX\",\"CRM\",\"BCH\",\"XMCC\",\"DFT\",\"VET\",\"SOJ\",\"STCN\",\"AMB\",\"OXY\",\"NYC\",\"FRAZ\",\"KRONE\",\"ACC\",\"LINX\",\"XCXT\",\"ETHD\",\"SUMO\",\"ODN\",\"ADA\",\"REC\",\"ICX\",\"BTCZ\",\"TZC\",\"ATCC\",\"ELM\",\"TER\",\"VIVO\",\"RUP\",\"BTG\",\"WOMEN\",\"MAY\",\"NAMO\",\"LUX\",\"PIRL\",\"XIOS\",\"BTDX\",\"BLHC\",\"XIN\",\"PURA\",\"INN\",\"ZEPH\",\"ELLA\",\"MAG\",\"TAU\",\"ECA\",\"BCD\",\"XSH\",\"AION\",\"CNBC\",\"XUN\",\"GLT\",\"COAL\",\"DAXX\",\"BWK\",\"KLKS\",\"AC3\",\"LTHN\",\"GER\",\"LTCU\",\"POP\",\"PHO\",\"SUCR\",\"SPK\",\"WAGE\",\"GUN\",\"IRL\",\"TROLL\",\"LCP\",\"MONK\",\"PCOIN\",\"UBTC\",\"ITZ\",\"TPAY\",\"MCT\",\"MUN\",\"USX\",\"SSS\",\"KREDS\",\"TOKC\",\"BBP\",\"LCC\",\"FLIP\",\"ALX\",\"LOTTO\",\"CIF\",\"SPD\",\"PUSHI\",\"ELP\",\"VLX\",\"CLO\",\"TUBE\",\"PSD\",\"ADM\",\"ADK\",\"BSX\",\"NEXT\",\"BRIA\",\"IC\",\"BTL\",\"MEDIC\",\"ALPS\",\"BITG\",\"DEV\",\"ABJ\",\"SEM\",\"FTO\",\"CARE\",\"NZL\",\"XMC\",\"PROTON\",\"DEAL\",\"JUMP\",\"XBI\",\"KEC\",\"HWC\",\"PLATC\",\"LOKI\",\"NCP\",\"REL\",\"XT3\",\"MGD\",\"VIG\",\"PLURA\",\"EMAR\",\"DKD\",\"LYNX\",\"POSQ\",\"BWS\",\"MUSE\",\"XMN\",\"PLUS1\",\"AXE\",\"TRVC\",\"DTEM\",\"GIC\",\"ABS\",\"VITAE\",\"TPC\",\"WEBC\",\"RYO\",\"URALS\",\"QWC\",\"MMO\",\"KETAN\",\"PPAI\",\"XDNA\",\"PAXEX\",\"KCASH\",\"XCG\",\"AAC\",\"CRYP\",\"BTXC\",\"DAPS\",\"TCH\",\"HC\",\"BITM\",\"FIII\",\"JMC\",\"FRED\",\"ZND\",\"HERB\",\"UMO\",\"LIT\",\"PIRATE\",\"EXO\",\"OWC\",\"BEAM\",\"BTT\",\"GALI\",\"BTH\",\"CSPN\",\"CREDIT\",\"SCRIBE\",\"SLC\",\"VOLLAR\",\"NSD\",\"GEX\",\"BEET\",\"TTN\",\"ARRR\",\"BLAST\",\"XRC\",\"BDX\",\"BLOCM\",\"CKB\",\"LOBS\",\"BTCK\",\"VEN\",\"ZANO\",\"KSH\",\"YTN\",\"PEPS\",\"NEET\",\"ZCR\",\"AEVO\",\"DXO\",\"GOSS\",\"GIO\",\"RPD\",\"PENG\",\"X42\",\"WCC\",\"MWC\",\"RHP\",\"DDK\",\"BSV\",\"MEC\",\"NLG\",\"SIB\",\"XDN\",\"VIA\",\"FTC\",\"IOC\",\"XZC\",\"CLOAK\",\"BCN\",\"BURST\",\"SC\",\"POA\",\"BTM\",\"ZEN\",\"DGB\",\"QTUM\",\"ONT\",\"LSK\",\"DASH\",\"ETC\",\"ARK\",\"LTC\",\"XMR\",\"DCR\",\"STEEM\",\"BTC\",\"BUX\",\"BNB\"],\"value\":[18,18,18,16,11,16,10,18,10,16,18,16,18,18,16,16,16,16,16,18,16,16,16,18,16,18,16,16,16,16,16,16,16,16,10,13,16,16,16,16,18,10,16,16,16,16,16,18,16,10,18,10,18,16,16,16,18,18,18,18,16,16,16,10,18,16,10,16,18,16,16,16,16,18,18,15,16,16,18,10,16,18,18,10,16,18,18,10,16,16,10,16,18,18,16,16,18,18,16,16,18,10,16,16,16,18,18,16,16,18,10,18,18,18,16,16,10,16,16,16,18,21,16,18,16,16,16,18,16,18,12,18,10,18,16,16,16,10,16,18,18,16,18,18,10,18,18,16,16,16,24,18,16,16,18,5,18,18,10,16,18,18,18,18,10,16,16,16,18,10,18,9,10,16,16,18,18,18,16,10,18,18,10,16,10,27,18,16,18,16,18,18,16,18,16,10,16,20,16,18,10,18,18,10,10,18,10,18,16,16,18,16,16,18,18,10,18,18,16,10,18,18,18,25,18,18,18,16,18,10,18,18,18,16,16,16,16,18,18,18,18,10,18,16,10,19,16,10,16,16,18,16,10,16,18,18,18,16,10,18,16,10,18,18,18,18,10,18,16,16,10,16,10,18,18,10,16,18,16,18,16,3,16,16,16,16,18,18,16,18,16,16,10,16,10,16,16,18,16,16,10,16,18,16,18,10,23,16,10,8,3,16,16,16,16,16,18,18,16,10,10,18,10,16,18,16,16,18,16,10,16,18,18,18,18,16,18,18,18,10,16,16,3,16,18,3,18,18,16,18,18,16,16,16,16,10,10,16,16,18,18,16,16,16,16,10,16,16,18,18,10,16,16,16,10,10,16,18,16,16,10,6,17,16,3,16,16,18,18,18,10,16,16,16,3,16,18,12,18,18,16,10,16,10,10,18,3,16,18,10,16,10,18,16,12,16,10,16,16,16,10,10,16,18,16,18,10,4,10,10,10,16,16,16,18,10,18,18,10,18,16,16,16,16,10,10,16,18,10,26,16,1,16,10,0,10,18,22,2,10,16,7,18,16,16,10,16,18,16,3,18,16,10,18,16,16,16,18,18,18,18,16,16,16,16,16,16,10,10,23,18,10,16,16,18,10,18,10,10,16,10,10,10,18,16,16,3,16,16,16,16,18,16,16,18,16,18,16,9,16,8,16,16,16,10,10,3,18,16,3,16,16,18,16,16,18,14]},\"selected\":{\"id\":\"3376\"},\"selection_policy\":{\"id\":\"3408\"}},\"id\":\"3375\",\"type\":\"ColumnDataSource\"},{\"attributes\":{},\"id\":\"3336\",\"type\":\"CategoricalTicker\"},{\"attributes\":{\"data_source\":{\"id\":\"3392\"},\"glyph\":{\"id\":\"3395\"},\"hover_glyph\":null,\"muted_glyph\":{\"id\":\"3397\"},\"nonselection_glyph\":{\"id\":\"3396\"},\"selection_glyph\":null,\"view\":{\"id\":\"3399\"}},\"id\":\"3398\",\"type\":\"GlyphRenderer\"},{\"attributes\":{\"data\":{\"Variable\":[\"PC 1\",\"PC 1\",\"PC 1\",\"PC 1\",\"PC 1\",\"PC 1\",\"PC 1\",\"PC 1\",\"PC 1\",\"PC 1\",\"PC 1\",\"PC 1\",\"PC 1\",\"PC 1\",\"PC 1\",\"PC 1\",\"PC 1\",\"PC 1\",\"PC 1\",\"PC 1\",\"PC 1\",\"PC 1\",\"PC 1\",\"PC 1\",\"PC 1\",\"PC 1\",\"PC 1\",\"PC 1\",\"PC 1\",\"PC 1\",\"PC 1\",\"PC 1\",\"PC 1\",\"PC 1\",\"PC 1\",\"PC 1\",\"PC 1\",\"PC 1\",\"PC 1\",\"PC 1\",\"PC 1\",\"PC 1\",\"PC 1\",\"PC 1\",\"PC 1\",\"PC 1\",\"PC 1\",\"PC 1\",\"PC 1\",\"PC 1\",\"PC 1\",\"PC 1\",\"PC 1\",\"PC 1\",\"PC 1\",\"PC 1\",\"PC 1\",\"PC 1\",\"PC 1\",\"PC 1\",\"PC 1\",\"PC 1\",\"PC 1\",\"PC 1\",\"PC 1\",\"PC 1\",\"PC 1\",\"PC 1\",\"PC 1\",\"PC 1\",\"PC 1\",\"PC 1\",\"PC 1\",\"PC 1\",\"PC 1\",\"PC 1\",\"PC 1\",\"PC 1\",\"PC 1\",\"PC 1\",\"PC 1\",\"PC 1\",\"PC 1\",\"PC 1\",\"PC 1\",\"PC 1\",\"PC 1\",\"PC 1\",\"PC 1\",\"PC 1\",\"PC 1\",\"PC 1\",\"PC 1\",\"PC 1\",\"PC 1\",\"PC 1\",\"PC 1\",\"PC 1\",\"PC 1\",\"PC 1\",\"PC 1\",\"PC 1\",\"PC 1\",\"PC 1\",\"PC 1\",\"PC 1\",\"PC 1\",\"PC 1\",\"PC 1\",\"PC 1\",\"PC 1\",\"PC 1\",\"PC 1\",\"PC 1\",\"PC 1\",\"PC 1\",\"PC 1\",\"PC 1\",\"PC 1\",\"PC 1\",\"PC 1\",\"PC 1\",\"PC 1\",\"PC 1\",\"PC 1\",\"PC 1\",\"PC 1\",\"PC 1\",\"PC 1\",\"PC 1\",\"PC 1\",\"PC 1\",\"PC 1\",\"PC 1\",\"PC 1\",\"PC 1\",\"PC 1\",\"PC 1\",\"PC 1\",\"PC 1\",\"PC 1\",\"PC 1\",\"PC 1\",\"PC 1\",\"PC 1\",\"PC 1\",\"PC 1\",\"PC 1\",\"PC 1\",\"PC 1\",\"PC 1\",\"PC 1\",\"PC 1\",\"PC 1\",\"PC 1\",\"PC 1\",\"PC 1\",\"PC 1\",\"PC 1\",\"PC 1\",\"PC 1\",\"PC 1\",\"PC 1\",\"PC 1\",\"PC 1\",\"PC 1\",\"PC 1\",\"PC 1\",\"PC 1\",\"PC 1\",\"PC 1\",\"PC 1\",\"PC 1\",\"PC 1\",\"PC 1\",\"PC 1\",\"PC 1\",\"PC 1\",\"PC 1\",\"PC 1\",\"PC 1\",\"PC 1\",\"PC 1\",\"PC 1\",\"PC 1\",\"PC 1\",\"PC 1\",\"PC 1\",\"PC 1\",\"PC 1\",\"PC 1\",\"PC 1\",\"PC 1\",\"PC 1\",\"PC 1\",\"PC 1\",\"PC 1\",\"PC 1\",\"PC 1\",\"PC 1\",\"PC 1\",\"PC 1\",\"PC 1\",\"PC 1\",\"PC 1\",\"PC 1\",\"PC 1\",\"PC 1\",\"PC 1\",\"PC 1\",\"PC 1\",\"PC 1\",\"PC 1\",\"PC 1\",\"PC 1\",\"PC 1\",\"PC 1\",\"PC 1\",\"PC 1\",\"PC 1\",\"PC 1\",\"PC 1\",\"PC 1\",\"PC 1\",\"PC 1\",\"PC 1\",\"PC 1\",\"PC 1\",\"PC 1\",\"PC 1\",\"PC 1\",\"PC 1\",\"PC 1\",\"PC 1\",\"PC 1\",\"PC 1\",\"PC 1\",\"PC 1\",\"PC 1\",\"PC 1\",\"PC 1\",\"PC 1\",\"PC 1\",\"PC 1\",\"PC 1\",\"PC 1\",\"PC 1\",\"PC 1\",\"PC 1\",\"PC 1\",\"PC 1\",\"PC 1\",\"PC 1\",\"PC 1\",\"PC 1\",\"PC 1\",\"PC 1\",\"PC 1\",\"PC 1\",\"PC 1\",\"PC 1\",\"PC 1\",\"PC 1\",\"PC 1\",\"PC 1\",\"PC 1\",\"PC 1\",\"PC 1\",\"PC 1\",\"PC 1\",\"PC 1\",\"PC 1\",\"PC 1\",\"PC 1\",\"PC 1\",\"PC 1\",\"PC 1\",\"PC 1\",\"PC 1\",\"PC 1\",\"PC 1\",\"PC 1\",\"PC 1\",\"PC 1\",\"PC 1\",\"PC 1\",\"PC 1\",\"PC 1\",\"PC 1\",\"PC 1\",\"PC 1\",\"PC 1\",\"PC 1\",\"PC 1\",\"PC 1\",\"PC 1\",\"PC 1\",\"PC 1\",\"PC 1\",\"PC 1\",\"PC 1\",\"PC 1\",\"PC 1\",\"PC 1\",\"PC 1\",\"PC 1\",\"PC 1\",\"PC 1\",\"PC 1\",\"PC 1\",\"PC 1\",\"PC 1\",\"PC 1\",\"PC 1\",\"PC 1\",\"PC 1\",\"PC 1\",\"PC 1\",\"PC 1\",\"PC 1\",\"PC 1\",\"PC 1\",\"PC 1\",\"PC 1\",\"PC 1\",\"PC 1\",\"PC 1\",\"PC 1\",\"PC 1\",\"PC 1\",\"PC 1\",\"PC 1\",\"PC 1\",\"PC 1\",\"PC 1\",\"PC 1\",\"PC 1\",\"PC 1\",\"PC 1\",\"PC 1\",\"PC 1\",\"PC 1\",\"PC 1\",\"PC 1\",\"PC 1\",\"PC 1\",\"PC 1\",\"PC 1\",\"PC 1\",\"PC 1\",\"PC 1\",\"PC 1\",\"PC 1\",\"PC 1\",\"PC 1\",\"PC 1\",\"PC 1\",\"PC 1\",\"PC 1\",\"PC 1\",\"PC 1\",\"PC 1\",\"PC 1\",\"PC 1\",\"PC 1\",\"PC 1\",\"PC 1\",\"PC 1\",\"PC 1\",\"PC 1\",\"PC 1\",\"PC 1\",\"PC 1\",\"PC 1\",\"PC 1\",\"PC 1\",\"PC 1\",\"PC 1\",\"PC 1\",\"PC 1\",\"PC 1\",\"PC 1\",\"PC 1\",\"PC 1\",\"PC 1\",\"PC 1\",\"PC 1\",\"PC 1\",\"PC 1\",\"PC 1\",\"PC 1\",\"PC 1\",\"PC 1\",\"PC 1\",\"PC 1\",\"PC 1\",\"PC 1\",\"PC 1\",\"PC 1\",\"PC 1\",\"PC 1\",\"PC 1\",\"PC 1\",\"PC 1\",\"PC 1\",\"PC 1\",\"PC 1\",\"PC 1\",\"PC 1\",\"PC 1\",\"PC 1\",\"PC 1\",\"PC 1\",\"PC 1\",\"PC 1\",\"PC 1\",\"PC 1\",\"PC 1\",\"PC 1\",\"PC 1\",\"PC 1\",\"PC 1\",\"PC 1\",\"PC 1\",\"PC 1\",\"PC 1\",\"PC 1\",\"PC 1\",\"PC 1\",\"PC 1\",\"PC 1\",\"PC 1\",\"PC 1\",\"PC 1\",\"PC 1\",\"PC 1\",\"PC 1\",\"PC 1\",\"PC 1\",\"PC 1\",\"PC 1\",\"PC 1\",\"PC 1\",\"PC 1\",\"PC 1\",\"PC 1\",\"PC 1\",\"PC 1\",\"PC 1\",\"PC 1\",\"PC 1\",\"PC 1\",\"PC 1\",\"PC 1\",\"PC 1\",\"PC 1\",\"PC 1\",\"PC 1\",\"PC 1\",\"PC 1\",\"PC 1\",\"PC 1\",\"PC 1\",\"PC 1\",\"PC 1\",\"PC 1\",\"PC 1\",\"PC 1\",\"PC 1\",\"PC 1\",\"PC 1\",\"PC 1\",\"PC 1\",\"PC 1\",\"PC 1\",\"PC 1\",\"PC 1\",\"PC 1\",\"PC 1\",\"PC 1\",\"PC 1\",\"PC 1\",\"PC 1\",\"PC 1\",\"PC 1\",\"PC 1\",\"PC 1\",\"PC 1\",\"PC 1\",\"PC 1\",\"PC 1\",\"PC 1\",\"PC 1\",\"PC 1\",\"PC 1\",\"PC 1\",\"PC 1\",\"PC 1\",\"PC 1\",\"PC 1\",\"PC 1\",\"PC 1\",\"PC 1\",\"PC 1\",\"PC 1\",\"PC 1\",\"PC 1\",\"PC 1\",\"PC 1\",\"PC 1\",\"PC 1\",\"PC 1\",\"PC 1\",\"PC 1\",\"PC 1\",\"PC 1\",\"PC 1\",\"PC 1\",\"PC 1\",\"PC 1\",\"PC 1\",\"PC 1\",\"PC 1\",\"PC 1\",\"PC 1\",\"PC 1\",\"PC 1\",\"PC 1\",\"PC 1\",\"PC 1\",\"PC 1\",\"PC 1\",\"PC 1\",\"PC 1\",\"PC 1\",\"PC 1\",\"PC 1\"],\"index\":[\"42\",\"404\",\"1337\",\"ETH\",\"NXT\",\"ZEC\",\"BTS\",\"BTCD\",\"XPY\",\"PRC\",\"KOBO\",\"ARG\",\"AUR\",\"BLU\",\"XMY\",\"MOON\",\"ZET\",\"SXC\",\"QTL\",\"ENRG\",\"QRK\",\"RIC\",\"DGC\",\"BTB\",\"CAT\",\"CBX\",\"CCN\",\"CRYPT\",\"XVG\",\"DVC\",\"EAC\",\"EFL\",\"EMC2\",\"EMD\",\"EXCL\",\"FLT\",\"FRK\",\"GDC\",\"GLC\",\"GLD\",\"HBN\",\"HYP\",\"IFC\",\"IXC\",\"KGC\",\"LKY\",\"LTB\",\"MAX\",\"MED\",\"MINT\",\"MZC\",\"NAUT\",\"NAV\",\"NOBL\",\"NMC\",\"NYAN\",\"ORB\",\"POT\",\"PXC\",\"RDD\",\"RPC\",\"SBC\",\"SMC\",\"SUPER\",\"SYNC\",\"SYS\",\"TES\",\"TGC\",\"TOR\",\"TRC\",\"UNB\",\"UNO\",\"URO\",\"USDE\",\"UTC\",\"VRC\",\"VTC\",\"WDC\",\"XC\",\"XCR\",\"XJO\",\"XST\",\"ZCC\",\"SJCX\",\"MONA\",\"NTRN\",\"FAIR\",\"RBY\",\"PTC\",\"WBB\",\"NOTE\",\"FLO\",\"8BIT\",\"STV\",\"J\",\"ABY\",\"LDOGE\",\"TRI\",\"FLDC\",\"SLR\",\"TRK\",\"U\",\"UIS\",\"CYP\",\"UFO\",\"OC\",\"FSC\",\"BLC\",\"OMC\",\"BITS\",\"NEOS\",\"HYPER\",\"VTR\",\"PINK\",\"GRE\",\"XCN\",\"XBC\",\"MSC\",\"SOON\",\"1CR\",\"ISL\",\"NXS\",\"CESC\",\"ADC\",\"MARS\",\"CTO\",\"ACP\",\"DRZ\",\"BSC\",\"NKA\",\"SQL\",\"PIGGY\",\"CRW\",\"GEN\",\"SONG\",\"SMLY\",\"ZNY\",\"DIGS\",\"EXP\",\"MI\",\"CON\",\"GRS\",\"CPC\",\"CLUB\",\"RADS\",\"EMC\",\"EGC\",\"MND\",\"I0C\",\"PAK\",\"CRB\",\"OK\",\"RVR\",\"HODL\",\"EDRC\",\"WAVES\",\"HTC\",\"DBIC\",\"XHI\",\"DIEM\",\"PWR\",\"BLRY\",\"INFX\",\"GOST\",\"GPU\",\"ADZ\",\"SOIL\",\"YOC\",\"ERC\",\"ZEIT\",\"SWING\",\"SAFEX\",\"NEBU\",\"FRN\",\"BOLI\",\"XRA\",\"CKC\",\"VIP\",\"OMNI\",\"LIR\",\"IBANK\",\"FRWC\",\"MUDRA\",\"PIZZA\",\"LC\",\"KMD\",\"GB\",\"KRB\",\"BXT\",\"ZYD\",\"MST\",\"ZNE\",\"COVAL\",\"ROOT\",\"DOPE\",\"BTCR\",\"DLC\",\"SCN\",\"SH\",\"BUZZ\",\"XPO\",\"PSB\",\"HALLO\",\"CFC\",\"ROYAL\",\"GNJ\",\"TEAM\",\"LANA\",\"ELE\",\"ZCL\",\"INSANE\",\"KLC\",\"ATX\",\"EMB\",\"XEN\",\"FRE\",\"PLNC\",\"ARCO\",\"KURT\",\"XCRE\",\"ENT\",\"EUC\",\"BCF\",\"XSN\",\"BCCOIN\",\"MONEY\",\"XNG\",\"XCI\",\"RC\",\"PND\",\"UNITS\",\"GAKH\",\"LTCR\",\"GOLOS\",\"OS76\",\"BIC\",\"HXX\",\"KED\",\"IOP\",\"KUSH\",\"PRX\",\"PAC\",\"IMPCH\",\"CTL\",\"ZBC\",\"FRST\",\"BVC\",\"FIND\",\"VLTC\",\"ZER\",\"CHAT\",\"ZOI\",\"RNS\",\"DBIX\",\"XVP\",\"TAJ\",\"IMX\",\"EB3\",\"ATMOS\",\"HPC\",\"CXT\",\"MCRN\",\"RAIN\",\"IMS\",\"ARGUS\",\"LMC\",\"PROC\",\"XGR\",\"BENJI\",\"DUO\",\"GRW\",\"ILC\",\"PHR\",\"DEA\",\"HTML5\",\"USC\",\"EQT\",\"INSN\",\"QRL\",\"ESP\",\"DYN\",\"EOS\",\"NANO\",\"CHAN\",\"DCY\",\"DP\",\"VUC\",\"BTPL\",\"UNIFY\",\"BRIT\",\"SOCC\",\"ARC\",\"PART\",\"DAS\",\"LINDA\",\"RCC\",\"XLC\",\"ONION\",\"BTX\",\"GCN\",\"SIGT\",\"ONX\",\"CRM\",\"BCH\",\"XMCC\",\"DFT\",\"VET\",\"SOJ\",\"STCN\",\"AMB\",\"OXY\",\"NYC\",\"FRAZ\",\"KRONE\",\"ACC\",\"LINX\",\"XCXT\",\"ETHD\",\"SUMO\",\"ODN\",\"ADA\",\"REC\",\"ICX\",\"BTCZ\",\"TZC\",\"ATCC\",\"ELM\",\"TER\",\"VIVO\",\"RUP\",\"BTG\",\"WOMEN\",\"MAY\",\"NAMO\",\"LUX\",\"PIRL\",\"XIOS\",\"BTDX\",\"BLHC\",\"XIN\",\"PURA\",\"INN\",\"ZEPH\",\"ELLA\",\"MAG\",\"TAU\",\"ECA\",\"BCD\",\"XSH\",\"AION\",\"CNBC\",\"XUN\",\"GLT\",\"COAL\",\"DAXX\",\"BWK\",\"KLKS\",\"AC3\",\"LTHN\",\"GER\",\"LTCU\",\"POP\",\"PHO\",\"SUCR\",\"SPK\",\"WAGE\",\"GUN\",\"IRL\",\"TROLL\",\"LCP\",\"MONK\",\"PCOIN\",\"UBTC\",\"ITZ\",\"TPAY\",\"MCT\",\"MUN\",\"USX\",\"SSS\",\"KREDS\",\"TOKC\",\"BBP\",\"LCC\",\"FLIP\",\"ALX\",\"LOTTO\",\"CIF\",\"SPD\",\"PUSHI\",\"ELP\",\"VLX\",\"CLO\",\"TUBE\",\"PSD\",\"ADM\",\"ADK\",\"BSX\",\"NEXT\",\"BRIA\",\"IC\",\"BTL\",\"MEDIC\",\"ALPS\",\"BITG\",\"DEV\",\"ABJ\",\"SEM\",\"FTO\",\"CARE\",\"NZL\",\"XMC\",\"PROTON\",\"DEAL\",\"JUMP\",\"XBI\",\"KEC\",\"HWC\",\"PLATC\",\"LOKI\",\"NCP\",\"REL\",\"XT3\",\"MGD\",\"VIG\",\"PLURA\",\"EMAR\",\"DKD\",\"LYNX\",\"POSQ\",\"BWS\",\"MUSE\",\"XMN\",\"PLUS1\",\"AXE\",\"TRVC\",\"DTEM\",\"GIC\",\"ABS\",\"VITAE\",\"TPC\",\"WEBC\",\"RYO\",\"URALS\",\"QWC\",\"MMO\",\"KETAN\",\"PPAI\",\"XDNA\",\"PAXEX\",\"KCASH\",\"XCG\",\"AAC\",\"CRYP\",\"BTXC\",\"DAPS\",\"TCH\",\"HC\",\"BITM\",\"FIII\",\"JMC\",\"FRED\",\"ZND\",\"HERB\",\"UMO\",\"LIT\",\"PIRATE\",\"EXO\",\"OWC\",\"BEAM\",\"BTT\",\"GALI\",\"BTH\",\"CSPN\",\"CREDIT\",\"SCRIBE\",\"SLC\",\"VOLLAR\",\"NSD\",\"GEX\",\"BEET\",\"TTN\",\"ARRR\",\"BLAST\",\"XRC\",\"BDX\",\"BLOCM\",\"CKB\",\"LOBS\",\"BTCK\",\"VEN\",\"ZANO\",\"KSH\",\"YTN\",\"PEPS\",\"NEET\",\"ZCR\",\"AEVO\",\"DXO\",\"GOSS\",\"GIO\",\"RPD\",\"PENG\",\"X42\",\"WCC\",\"MWC\",\"RHP\",\"DDK\",\"BSV\",\"MEC\",\"NLG\",\"SIB\",\"XDN\",\"VIA\",\"FTC\",\"IOC\",\"XZC\",\"CLOAK\",\"BCN\",\"BURST\",\"SC\",\"POA\",\"BTM\",\"ZEN\",\"DGB\",\"QTUM\",\"ONT\",\"LSK\",\"DASH\",\"ETC\",\"ARK\",\"LTC\",\"XMR\",\"DCR\",\"STEEM\",\"BTC\",\"BUX\",\"BNB\"],\"value\":{\"__ndarray__\":\"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\",\"dtype\":\"float64\",\"shape\":[537]}},\"selected\":{\"id\":\"3433\"},\"selection_policy\":{\"id\":\"3477\"}},\"id\":\"3432\",\"type\":\"ColumnDataSource\"},{\"attributes\":{\"source\":{\"id\":\"3359\"}},\"id\":\"3366\",\"type\":\"CDSView\"},{\"attributes\":{},\"id\":\"3504\",\"type\":\"UnionRenderers\"},{\"attributes\":{\"data\":{\"Variable\":[\"PC 2\",\"PC 2\",\"PC 2\",\"PC 2\",\"PC 2\",\"PC 2\",\"PC 2\",\"PC 2\",\"PC 2\",\"PC 2\",\"PC 2\",\"PC 2\",\"PC 2\",\"PC 2\",\"PC 2\",\"PC 2\",\"PC 2\",\"PC 2\",\"PC 2\",\"PC 2\",\"PC 2\",\"PC 2\",\"PC 2\",\"PC 2\",\"PC 2\",\"PC 2\",\"PC 2\",\"PC 2\",\"PC 2\",\"PC 2\",\"PC 2\",\"PC 2\",\"PC 2\",\"PC 2\",\"PC 2\",\"PC 2\",\"PC 2\",\"PC 2\",\"PC 2\",\"PC 2\",\"PC 2\",\"PC 2\",\"PC 2\",\"PC 2\",\"PC 2\",\"PC 2\",\"PC 2\",\"PC 2\",\"PC 2\",\"PC 2\",\"PC 2\",\"PC 2\",\"PC 2\",\"PC 2\",\"PC 2\",\"PC 2\",\"PC 2\",\"PC 2\",\"PC 2\",\"PC 2\",\"PC 2\",\"PC 2\",\"PC 2\",\"PC 2\",\"PC 2\",\"PC 2\",\"PC 2\",\"PC 2\",\"PC 2\",\"PC 2\",\"PC 2\",\"PC 2\",\"PC 2\",\"PC 2\",\"PC 2\",\"PC 2\",\"PC 2\",\"PC 2\",\"PC 2\",\"PC 2\",\"PC 2\",\"PC 2\",\"PC 2\",\"PC 2\",\"PC 2\",\"PC 2\",\"PC 2\",\"PC 2\",\"PC 2\",\"PC 2\",\"PC 2\",\"PC 2\",\"PC 2\",\"PC 2\",\"PC 2\",\"PC 2\",\"PC 2\",\"PC 2\",\"PC 2\",\"PC 2\",\"PC 2\",\"PC 2\",\"PC 2\",\"PC 2\",\"PC 2\",\"PC 2\",\"PC 2\",\"PC 2\",\"PC 2\",\"PC 2\",\"PC 2\",\"PC 2\",\"PC 2\",\"PC 2\",\"PC 2\",\"PC 2\",\"PC 2\",\"PC 2\",\"PC 2\",\"PC 2\",\"PC 2\",\"PC 2\",\"PC 2\",\"PC 2\",\"PC 2\",\"PC 2\",\"PC 2\",\"PC 2\",\"PC 2\",\"PC 2\",\"PC 2\",\"PC 2\",\"PC 2\",\"PC 2\",\"PC 2\",\"PC 2\",\"PC 2\",\"PC 2\",\"PC 2\",\"PC 2\",\"PC 2\",\"PC 2\",\"PC 2\",\"PC 2\",\"PC 2\",\"PC 2\",\"PC 2\",\"PC 2\",\"PC 2\",\"PC 2\",\"PC 2\",\"PC 2\",\"PC 2\",\"PC 2\",\"PC 2\",\"PC 2\",\"PC 2\",\"PC 2\",\"PC 2\",\"PC 2\",\"PC 2\",\"PC 2\",\"PC 2\",\"PC 2\",\"PC 2\",\"PC 2\",\"PC 2\",\"PC 2\",\"PC 2\",\"PC 2\",\"PC 2\",\"PC 2\",\"PC 2\",\"PC 2\",\"PC 2\",\"PC 2\",\"PC 2\",\"PC 2\",\"PC 2\",\"PC 2\",\"PC 2\",\"PC 2\",\"PC 2\",\"PC 2\",\"PC 2\",\"PC 2\",\"PC 2\",\"PC 2\",\"PC 2\",\"PC 2\",\"PC 2\",\"PC 2\",\"PC 2\",\"PC 2\",\"PC 2\",\"PC 2\",\"PC 2\",\"PC 2\",\"PC 2\",\"PC 2\",\"PC 2\",\"PC 2\",\"PC 2\",\"PC 2\",\"PC 2\",\"PC 2\",\"PC 2\",\"PC 2\",\"PC 2\",\"PC 2\",\"PC 2\",\"PC 2\",\"PC 2\",\"PC 2\",\"PC 2\",\"PC 2\",\"PC 2\",\"PC 2\",\"PC 2\",\"PC 2\",\"PC 2\",\"PC 2\",\"PC 2\",\"PC 2\",\"PC 2\",\"PC 2\",\"PC 2\",\"PC 2\",\"PC 2\",\"PC 2\",\"PC 2\",\"PC 2\",\"PC 2\",\"PC 2\",\"PC 2\",\"PC 2\",\"PC 2\",\"PC 2\",\"PC 2\",\"PC 2\",\"PC 2\",\"PC 2\",\"PC 2\",\"PC 2\",\"PC 2\",\"PC 2\",\"PC 2\",\"PC 2\",\"PC 2\",\"PC 2\",\"PC 2\",\"PC 2\",\"PC 2\",\"PC 2\",\"PC 2\",\"PC 2\",\"PC 2\",\"PC 2\",\"PC 2\",\"PC 2\",\"PC 2\",\"PC 2\",\"PC 2\",\"PC 2\",\"PC 2\",\"PC 2\",\"PC 2\",\"PC 2\",\"PC 2\",\"PC 2\",\"PC 2\",\"PC 2\",\"PC 2\",\"PC 2\",\"PC 2\",\"PC 2\",\"PC 2\",\"PC 2\",\"PC 2\",\"PC 2\",\"PC 2\",\"PC 2\",\"PC 2\",\"PC 2\",\"PC 2\",\"PC 2\",\"PC 2\",\"PC 2\",\"PC 2\",\"PC 2\",\"PC 2\",\"PC 2\",\"PC 2\",\"PC 2\",\"PC 2\",\"PC 2\",\"PC 2\",\"PC 2\",\"PC 2\",\"PC 2\",\"PC 2\",\"PC 2\",\"PC 2\",\"PC 2\",\"PC 2\",\"PC 2\",\"PC 2\",\"PC 2\",\"PC 2\",\"PC 2\",\"PC 2\",\"PC 2\",\"PC 2\",\"PC 2\",\"PC 2\",\"PC 2\",\"PC 2\",\"PC 2\",\"PC 2\",\"PC 2\",\"PC 2\",\"PC 2\",\"PC 2\",\"PC 2\",\"PC 2\",\"PC 2\",\"PC 2\",\"PC 2\",\"PC 2\",\"PC 2\",\"PC 2\",\"PC 2\",\"PC 2\",\"PC 2\",\"PC 2\",\"PC 2\",\"PC 2\",\"PC 2\",\"PC 2\",\"PC 2\",\"PC 2\",\"PC 2\",\"PC 2\",\"PC 2\",\"PC 2\",\"PC 2\",\"PC 2\",\"PC 2\",\"PC 2\",\"PC 2\",\"PC 2\",\"PC 2\",\"PC 2\",\"PC 2\",\"PC 2\",\"PC 2\",\"PC 2\",\"PC 2\",\"PC 2\",\"PC 2\",\"PC 2\",\"PC 2\",\"PC 2\",\"PC 2\",\"PC 2\",\"PC 2\",\"PC 2\",\"PC 2\",\"PC 2\",\"PC 2\",\"PC 2\",\"PC 2\",\"PC 2\",\"PC 2\",\"PC 2\",\"PC 2\",\"PC 2\",\"PC 2\",\"PC 2\",\"PC 2\",\"PC 2\",\"PC 2\",\"PC 2\",\"PC 2\",\"PC 2\",\"PC 2\",\"PC 2\",\"PC 2\",\"PC 2\",\"PC 2\",\"PC 2\",\"PC 2\",\"PC 2\",\"PC 2\",\"PC 2\",\"PC 2\",\"PC 2\",\"PC 2\",\"PC 2\",\"PC 2\",\"PC 2\",\"PC 2\",\"PC 2\",\"PC 2\",\"PC 2\",\"PC 2\",\"PC 2\",\"PC 2\",\"PC 2\",\"PC 2\",\"PC 2\",\"PC 2\",\"PC 2\",\"PC 2\",\"PC 2\",\"PC 2\",\"PC 2\",\"PC 2\",\"PC 2\",\"PC 2\",\"PC 2\",\"PC 2\",\"PC 2\",\"PC 2\",\"PC 2\",\"PC 2\",\"PC 2\",\"PC 2\",\"PC 2\",\"PC 2\",\"PC 2\",\"PC 2\",\"PC 2\",\"PC 2\",\"PC 2\",\"PC 2\",\"PC 2\",\"PC 2\",\"PC 2\",\"PC 2\",\"PC 2\",\"PC 2\",\"PC 2\",\"PC 2\",\"PC 2\",\"PC 2\",\"PC 2\",\"PC 2\",\"PC 2\",\"PC 2\",\"PC 2\",\"PC 2\",\"PC 2\",\"PC 2\",\"PC 2\",\"PC 2\",\"PC 2\",\"PC 2\",\"PC 2\",\"PC 2\",\"PC 2\",\"PC 2\",\"PC 2\",\"PC 2\",\"PC 2\",\"PC 2\",\"PC 2\",\"PC 2\",\"PC 2\",\"PC 2\",\"PC 2\",\"PC 2\",\"PC 2\",\"PC 2\",\"PC 2\",\"PC 2\",\"PC 2\",\"PC 2\",\"PC 2\",\"PC 2\",\"PC 2\",\"PC 2\",\"PC 2\",\"PC 2\",\"PC 2\",\"PC 2\",\"PC 2\",\"PC 2\",\"PC 2\",\"PC 2\",\"PC 2\",\"PC 2\",\"PC 2\",\"PC 2\",\"PC 2\",\"PC 2\",\"PC 2\",\"PC 2\",\"PC 2\",\"PC 2\",\"PC 2\",\"PC 2\",\"PC 2\",\"PC 2\",\"PC 2\",\"PC 2\",\"PC 2\",\"PC 2\",\"PC 2\",\"PC 2\",\"PC 2\",\"PC 2\",\"PC 2\",\"PC 2\",\"PC 2\",\"PC 2\",\"PC 2\",\"PC 2\",\"PC 2\",\"PC 2\",\"PC 2\",\"PC 2\",\"PC 2\",\"PC 2\",\"PC 2\",\"PC 2\",\"PC 2\",\"PC 2\",\"PC 2\",\"PC 2\",\"PC 2\",\"PC 2\",\"PC 2\",\"PC 2\",\"PC 2\",\"PC 2\",\"PC 2\"],\"index\":[\"42\",\"404\",\"1337\",\"ETH\",\"NXT\",\"ZEC\",\"BTS\",\"BTCD\",\"XPY\",\"PRC\",\"KOBO\",\"ARG\",\"AUR\",\"BLU\",\"XMY\",\"MOON\",\"ZET\",\"SXC\",\"QTL\",\"ENRG\",\"QRK\",\"RIC\",\"DGC\",\"BTB\",\"CAT\",\"CBX\",\"CCN\",\"CRYPT\",\"XVG\",\"DVC\",\"EAC\",\"EFL\",\"EMC2\",\"EMD\",\"EXCL\",\"FLT\",\"FRK\",\"GDC\",\"GLC\",\"GLD\",\"HBN\",\"HYP\",\"IFC\",\"IXC\",\"KGC\",\"LKY\",\"LTB\",\"MAX\",\"MED\",\"MINT\",\"MZC\",\"NAUT\",\"NAV\",\"NOBL\",\"NMC\",\"NYAN\",\"ORB\",\"POT\",\"PXC\",\"RDD\",\"RPC\",\"SBC\",\"SMC\",\"SUPER\",\"SYNC\",\"SYS\",\"TES\",\"TGC\",\"TOR\",\"TRC\",\"UNB\",\"UNO\",\"URO\",\"USDE\",\"UTC\",\"VRC\",\"VTC\",\"WDC\",\"XC\",\"XCR\",\"XJO\",\"XST\",\"ZCC\",\"SJCX\",\"MONA\",\"NTRN\",\"FAIR\",\"RBY\",\"PTC\",\"WBB\",\"NOTE\",\"FLO\",\"8BIT\",\"STV\",\"J\",\"ABY\",\"LDOGE\",\"TRI\",\"FLDC\",\"SLR\",\"TRK\",\"U\",\"UIS\",\"CYP\",\"UFO\",\"OC\",\"FSC\",\"BLC\",\"OMC\",\"BITS\",\"NEOS\",\"HYPER\",\"VTR\",\"PINK\",\"GRE\",\"XCN\",\"XBC\",\"MSC\",\"SOON\",\"1CR\",\"ISL\",\"NXS\",\"CESC\",\"ADC\",\"MARS\",\"CTO\",\"ACP\",\"DRZ\",\"BSC\",\"NKA\",\"SQL\",\"PIGGY\",\"CRW\",\"GEN\",\"SONG\",\"SMLY\",\"ZNY\",\"DIGS\",\"EXP\",\"MI\",\"CON\",\"GRS\",\"CPC\",\"CLUB\",\"RADS\",\"EMC\",\"EGC\",\"MND\",\"I0C\",\"PAK\",\"CRB\",\"OK\",\"RVR\",\"HODL\",\"EDRC\",\"WAVES\",\"HTC\",\"DBIC\",\"XHI\",\"DIEM\",\"PWR\",\"BLRY\",\"INFX\",\"GOST\",\"GPU\",\"ADZ\",\"SOIL\",\"YOC\",\"ERC\",\"ZEIT\",\"SWING\",\"SAFEX\",\"NEBU\",\"FRN\",\"BOLI\",\"XRA\",\"CKC\",\"VIP\",\"OMNI\",\"LIR\",\"IBANK\",\"FRWC\",\"MUDRA\",\"PIZZA\",\"LC\",\"KMD\",\"GB\",\"KRB\",\"BXT\",\"ZYD\",\"MST\",\"ZNE\",\"COVAL\",\"ROOT\",\"DOPE\",\"BTCR\",\"DLC\",\"SCN\",\"SH\",\"BUZZ\",\"XPO\",\"PSB\",\"HALLO\",\"CFC\",\"ROYAL\",\"GNJ\",\"TEAM\",\"LANA\",\"ELE\",\"ZCL\",\"INSANE\",\"KLC\",\"ATX\",\"EMB\",\"XEN\",\"FRE\",\"PLNC\",\"ARCO\",\"KURT\",\"XCRE\",\"ENT\",\"EUC\",\"BCF\",\"XSN\",\"BCCOIN\",\"MONEY\",\"XNG\",\"XCI\",\"RC\",\"PND\",\"UNITS\",\"GAKH\",\"LTCR\",\"GOLOS\",\"OS76\",\"BIC\",\"HXX\",\"KED\",\"IOP\",\"KUSH\",\"PRX\",\"PAC\",\"IMPCH\",\"CTL\",\"ZBC\",\"FRST\",\"BVC\",\"FIND\",\"VLTC\",\"ZER\",\"CHAT\",\"ZOI\",\"RNS\",\"DBIX\",\"XVP\",\"TAJ\",\"IMX\",\"EB3\",\"ATMOS\",\"HPC\",\"CXT\",\"MCRN\",\"RAIN\",\"IMS\",\"ARGUS\",\"LMC\",\"PROC\",\"XGR\",\"BENJI\",\"DUO\",\"GRW\",\"ILC\",\"PHR\",\"DEA\",\"HTML5\",\"USC\",\"EQT\",\"INSN\",\"QRL\",\"ESP\",\"DYN\",\"EOS\",\"NANO\",\"CHAN\",\"DCY\",\"DP\",\"VUC\",\"BTPL\",\"UNIFY\",\"BRIT\",\"SOCC\",\"ARC\",\"PART\",\"DAS\",\"LINDA\",\"RCC\",\"XLC\",\"ONION\",\"BTX\",\"GCN\",\"SIGT\",\"ONX\",\"CRM\",\"BCH\",\"XMCC\",\"DFT\",\"VET\",\"SOJ\",\"STCN\",\"AMB\",\"OXY\",\"NYC\",\"FRAZ\",\"KRONE\",\"ACC\",\"LINX\",\"XCXT\",\"ETHD\",\"SUMO\",\"ODN\",\"ADA\",\"REC\",\"ICX\",\"BTCZ\",\"TZC\",\"ATCC\",\"ELM\",\"TER\",\"VIVO\",\"RUP\",\"BTG\",\"WOMEN\",\"MAY\",\"NAMO\",\"LUX\",\"PIRL\",\"XIOS\",\"BTDX\",\"BLHC\",\"XIN\",\"PURA\",\"INN\",\"ZEPH\",\"ELLA\",\"MAG\",\"TAU\",\"ECA\",\"BCD\",\"XSH\",\"AION\",\"CNBC\",\"XUN\",\"GLT\",\"COAL\",\"DAXX\",\"BWK\",\"KLKS\",\"AC3\",\"LTHN\",\"GER\",\"LTCU\",\"POP\",\"PHO\",\"SUCR\",\"SPK\",\"WAGE\",\"GUN\",\"IRL\",\"TROLL\",\"LCP\",\"MONK\",\"PCOIN\",\"UBTC\",\"ITZ\",\"TPAY\",\"MCT\",\"MUN\",\"USX\",\"SSS\",\"KREDS\",\"TOKC\",\"BBP\",\"LCC\",\"FLIP\",\"ALX\",\"LOTTO\",\"CIF\",\"SPD\",\"PUSHI\",\"ELP\",\"VLX\",\"CLO\",\"TUBE\",\"PSD\",\"ADM\",\"ADK\",\"BSX\",\"NEXT\",\"BRIA\",\"IC\",\"BTL\",\"MEDIC\",\"ALPS\",\"BITG\",\"DEV\",\"ABJ\",\"SEM\",\"FTO\",\"CARE\",\"NZL\",\"XMC\",\"PROTON\",\"DEAL\",\"JUMP\",\"XBI\",\"KEC\",\"HWC\",\"PLATC\",\"LOKI\",\"NCP\",\"REL\",\"XT3\",\"MGD\",\"VIG\",\"PLURA\",\"EMAR\",\"DKD\",\"LYNX\",\"POSQ\",\"BWS\",\"MUSE\",\"XMN\",\"PLUS1\",\"AXE\",\"TRVC\",\"DTEM\",\"GIC\",\"ABS\",\"VITAE\",\"TPC\",\"WEBC\",\"RYO\",\"URALS\",\"QWC\",\"MMO\",\"KETAN\",\"PPAI\",\"XDNA\",\"PAXEX\",\"KCASH\",\"XCG\",\"AAC\",\"CRYP\",\"BTXC\",\"DAPS\",\"TCH\",\"HC\",\"BITM\",\"FIII\",\"JMC\",\"FRED\",\"ZND\",\"HERB\",\"UMO\",\"LIT\",\"PIRATE\",\"EXO\",\"OWC\",\"BEAM\",\"BTT\",\"GALI\",\"BTH\",\"CSPN\",\"CREDIT\",\"SCRIBE\",\"SLC\",\"VOLLAR\",\"NSD\",\"GEX\",\"BEET\",\"TTN\",\"ARRR\",\"BLAST\",\"XRC\",\"BDX\",\"BLOCM\",\"CKB\",\"LOBS\",\"BTCK\",\"VEN\",\"ZANO\",\"KSH\",\"YTN\",\"PEPS\",\"NEET\",\"ZCR\",\"AEVO\",\"DXO\",\"GOSS\",\"GIO\",\"RPD\",\"PENG\",\"X42\",\"WCC\",\"MWC\",\"RHP\",\"DDK\",\"BSV\",\"MEC\",\"NLG\",\"SIB\",\"XDN\",\"VIA\",\"FTC\",\"IOC\",\"XZC\",\"CLOAK\",\"BCN\",\"BURST\",\"SC\",\"POA\",\"BTM\",\"ZEN\",\"DGB\",\"QTUM\",\"ONT\",\"LSK\",\"DASH\",\"ETC\",\"ARK\",\"LTC\",\"XMR\",\"DCR\",\"STEEM\",\"BTC\",\"BUX\",\"BNB\"],\"value\":{\"__ndarray__\":\"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\",\"dtype\":\"float64\",\"shape\":[537]}},\"selected\":{\"id\":\"3456\"},\"selection_policy\":{\"id\":\"3504\"}},\"id\":\"3455\",\"type\":\"ColumnDataSource\"},{\"attributes\":{\"axis\":{\"id\":\"3335\"},\"grid_line_color\":null,\"ticker\":null},\"id\":\"3337\",\"type\":\"Grid\"},{\"attributes\":{},\"id\":\"3433\",\"type\":\"Selection\"},{\"attributes\":{\"source\":{\"id\":\"3455\"}},\"id\":\"3462\",\"type\":\"CDSView\"},{\"attributes\":{\"label\":{\"value\":\"ProofType\"},\"renderers\":[{\"id\":\"3381\"}]},\"id\":\"3391\",\"type\":\"LegendItem\"},{\"attributes\":{},\"id\":\"3452\",\"type\":\"UnionRenderers\"},{\"attributes\":{\"line_alpha\":0.2,\"line_color\":\"#1f77b3\",\"line_width\":2,\"x\":{\"field\":\"index\"},\"y\":{\"field\":\"value\"}},\"id\":\"3364\",\"type\":\"Line\"},{\"attributes\":{\"line_alpha\":0.2,\"line_color\":\"#e277c1\",\"line_width\":2,\"x\":{\"field\":\"index\"},\"y\":{\"field\":\"value\"}},\"id\":\"3485\",\"type\":\"Line\"},{\"attributes\":{},\"id\":\"3412\",\"type\":\"Selection\"},{\"attributes\":{\"axis_label\":\"\",\"bounds\":\"auto\",\"formatter\":{\"id\":\"3358\"},\"major_label_orientation\":\"horizontal\",\"ticker\":{\"id\":\"3339\"}},\"id\":\"3338\",\"type\":\"LinearAxis\"},{\"attributes\":{\"line_alpha\":0.1,\"line_color\":\"#2ba02b\",\"line_width\":2,\"x\":{\"field\":\"index\"},\"y\":{\"field\":\"value\"}},\"id\":\"3396\",\"type\":\"Line\"},{\"attributes\":{},\"id\":\"3342\",\"type\":\"SaveTool\"},{\"attributes\":{\"line_alpha\":0.2,\"line_color\":\"#2ba02b\",\"line_width\":2,\"x\":{\"field\":\"index\"},\"y\":{\"field\":\"value\"}},\"id\":\"3397\",\"type\":\"Line\"},{\"attributes\":{\"line_alpha\":0.1,\"line_color\":\"#7e7e7e\",\"line_width\":2,\"x\":{\"field\":\"index\"},\"y\":{\"field\":\"value\"}},\"id\":\"3511\",\"type\":\"Line\"},{\"attributes\":{},\"id\":\"3456\",\"type\":\"Selection\"},{\"attributes\":{\"line_alpha\":0.2,\"line_color\":\"#8c564b\",\"line_width\":2,\"x\":{\"field\":\"index\"},\"y\":{\"field\":\"value\"}},\"id\":\"3460\",\"type\":\"Line\"},{\"attributes\":{\"source\":{\"id\":\"3375\"}},\"id\":\"3382\",\"type\":\"CDSView\"},{\"attributes\":{\"axis_label\":\"\",\"bounds\":\"auto\",\"formatter\":{\"id\":\"3355\"},\"major_label_orientation\":\"horizontal\",\"ticker\":{\"id\":\"3336\"}},\"id\":\"3335\",\"type\":\"CategoricalAxis\"},{\"attributes\":{\"source\":{\"id\":\"3411\"}},\"id\":\"3418\",\"type\":\"CDSView\"},{\"attributes\":{\"line_alpha\":0.1,\"line_color\":\"#9367bc\",\"line_width\":2,\"x\":{\"field\":\"index\"},\"y\":{\"field\":\"value\"}},\"id\":\"3436\",\"type\":\"Line\"},{\"attributes\":{\"source\":{\"id\":\"3432\"}},\"id\":\"3439\",\"type\":\"CDSView\"},{\"attributes\":{\"margin\":[5,5,5,5],\"name\":\"HSpacer07088\",\"sizing_mode\":\"stretch_width\"},\"id\":\"3315\",\"type\":\"Spacer\"},{\"attributes\":{\"overlay\":{\"id\":\"3347\"}},\"id\":\"3345\",\"type\":\"BoxZoomTool\"},{\"attributes\":{\"line_alpha\":0.1,\"line_color\":\"#ff7e0e\",\"line_width\":2,\"x\":{\"field\":\"index\"},\"y\":{\"field\":\"value\"}},\"id\":\"3379\",\"type\":\"Line\"},{\"attributes\":{\"data\":{\"Variable\":[\"TotalCoinSupply\",\"TotalCoinSupply\",\"TotalCoinSupply\",\"TotalCoinSupply\",\"TotalCoinSupply\",\"TotalCoinSupply\",\"TotalCoinSupply\",\"TotalCoinSupply\",\"TotalCoinSupply\",\"TotalCoinSupply\",\"TotalCoinSupply\",\"TotalCoinSupply\",\"TotalCoinSupply\",\"TotalCoinSupply\",\"TotalCoinSupply\",\"TotalCoinSupply\",\"TotalCoinSupply\",\"TotalCoinSupply\",\"TotalCoinSupply\",\"TotalCoinSupply\",\"TotalCoinSupply\",\"TotalCoinSupply\",\"TotalCoinSupply\",\"TotalCoinSupply\",\"TotalCoinSupply\",\"TotalCoinSupply\",\"TotalCoinSupply\",\"TotalCoinSupply\",\"TotalCoinSupply\",\"TotalCoinSupply\",\"TotalCoinSupply\",\"TotalCoinSupply\",\"TotalCoinSupply\",\"TotalCoinSupply\",\"TotalCoinSupply\",\"TotalCoinSupply\",\"TotalCoinSupply\",\"TotalCoinSupply\",\"TotalCoinSupply\",\"TotalCoinSupply\",\"TotalCoinSupply\",\"TotalCoinSupply\",\"TotalCoinSupply\",\"TotalCoinSupply\",\"TotalCoinSupply\",\"TotalCoinSupply\",\"TotalCoinSupply\",\"TotalCoinSupply\",\"TotalCoinSupply\",\"TotalCoinSupply\",\"TotalCoinSupply\",\"TotalCoinSupply\",\"TotalCoinSupply\",\"TotalCoinSupply\",\"TotalCoinSupply\",\"TotalCoinSupply\",\"TotalCoinSupply\",\"TotalCoinSupply\",\"TotalCoinSupply\",\"TotalCoinSupply\",\"TotalCoinSupply\",\"TotalCoinSupply\",\"TotalCoinSupply\",\"TotalCoinSupply\",\"TotalCoinSupply\",\"TotalCoinSupply\",\"TotalCoinSupply\",\"TotalCoinSupply\",\"TotalCoinSupply\",\"TotalCoinSupply\",\"TotalCoinSupply\",\"TotalCoinSupply\",\"TotalCoinSupply\",\"TotalCoinSupply\",\"TotalCoinSupply\",\"TotalCoinSupply\",\"TotalCoinSupply\",\"TotalCoinSupply\",\"TotalCoinSupply\",\"TotalCoinSupply\",\"TotalCoinSupply\",\"TotalCoinSupply\",\"TotalCoinSupply\",\"TotalCoinSupply\",\"TotalCoinSupply\",\"TotalCoinSupply\",\"TotalCoinSupply\",\"TotalCoinSupply\",\"TotalCoinSupply\",\"TotalCoinSupply\",\"TotalCoinSupply\",\"TotalCoinSupply\",\"TotalCoinSupply\",\"TotalCoinSupply\",\"TotalCoinSupply\",\"TotalCoinSupply\",\"TotalCoinSupply\",\"TotalCoinSupply\",\"TotalCoinSupply\",\"TotalCoinSupply\",\"TotalCoinSupply\",\"TotalCoinSupply\",\"TotalCoinSupply\",\"TotalCoinSupply\",\"TotalCoinSupply\",\"TotalCoinSupply\",\"TotalCoinSupply\",\"TotalCoinSupply\",\"TotalCoinSupply\",\"TotalCoinSupply\",\"TotalCoinSupply\",\"TotalCoinSupply\",\"TotalCoinSupply\",\"TotalCoinSupply\",\"TotalCoinSupply\",\"TotalCoinSupply\",\"TotalCoinSupply\",\"TotalCoinSupply\",\"TotalCoinSupply\",\"TotalCoinSupply\",\"TotalCoinSupply\",\"TotalCoinSupply\",\"TotalCoinSupply\",\"TotalCoinSupply\",\"TotalCoinSupply\",\"TotalCoinSupply\",\"TotalCoinSupply\",\"TotalCoinSupply\",\"TotalCoinSupply\",\"TotalCoinSupply\",\"TotalCoinSupply\",\"TotalCoinSupply\",\"TotalCoinSupply\",\"TotalCoinSupply\",\"TotalCoinSupply\",\"TotalCoinSupply\",\"TotalCoinSupply\",\"TotalCoinSupply\",\"TotalCoinSupply\",\"TotalCoinSupply\",\"TotalCoinSupply\",\"TotalCoinSupply\",\"TotalCoinSupply\",\"TotalCoinSupply\",\"TotalCoinSupply\",\"TotalCoinSupply\",\"TotalCoinSupply\",\"TotalCoinSupply\",\"TotalCoinSupply\",\"TotalCoinSupply\",\"TotalCoinSupply\",\"TotalCoinSupply\",\"TotalCoinSupply\",\"TotalCoinSupply\",\"TotalCoinSupply\",\"TotalCoinSupply\",\"TotalCoinSupply\",\"TotalCoinSupply\",\"TotalCoinSupply\",\"TotalCoinSupply\",\"TotalCoinSupply\",\"TotalCoinSupply\",\"TotalCoinSupply\",\"TotalCoinSupply\",\"TotalCoinSupply\",\"TotalCoinSupply\",\"TotalCoinSupply\",\"TotalCoinSupply\",\"TotalCoinSupply\",\"TotalCoinSupply\",\"TotalCoinSupply\",\"TotalCoinSupply\",\"TotalCoinSupply\",\"TotalCoinSupply\",\"TotalCoinSupply\",\"TotalCoinSupply\",\"TotalCoinSupply\",\"TotalCoinSupply\",\"TotalCoinSupply\",\"TotalCoinSupply\",\"TotalCoinSupply\",\"TotalCoinSupply\",\"TotalCoinSupply\",\"TotalCoinSupply\",\"TotalCoinSupply\",\"TotalCoinSupply\",\"TotalCoinSupply\",\"TotalCoinSupply\",\"TotalCoinSupply\",\"TotalCoinSupply\",\"TotalCoinSupply\",\"TotalCoinSupply\",\"TotalCoinSupply\",\"TotalCoinSupply\",\"TotalCoinSupply\",\"TotalCoinSupply\",\"TotalCoinSupply\",\"TotalCoinSupply\",\"TotalCoinSupply\",\"TotalCoinSupply\",\"TotalCoinSupply\",\"TotalCoinSupply\",\"TotalCoinSupply\",\"TotalCoinSupply\",\"TotalCoinSupply\",\"TotalCoinSupply\",\"TotalCoinSupply\",\"TotalCoinSupply\",\"TotalCoinSupply\",\"TotalCoinSupply\",\"TotalCoinSupply\",\"TotalCoinSupply\",\"TotalCoinSupply\",\"TotalCoinSupply\",\"TotalCoinSupply\",\"TotalCoinSupply\",\"TotalCoinSupply\",\"TotalCoinSupply\",\"TotalCoinSupply\",\"TotalCoinSupply\",\"TotalCoinSupply\",\"TotalCoinSupply\",\"TotalCoinSupply\",\"TotalCoinSupply\",\"TotalCoinSupply\",\"TotalCoinSupply\",\"TotalCoinSupply\",\"TotalCoinSupply\",\"TotalCoinSupply\",\"TotalCoinSupply\",\"TotalCoinSupply\",\"TotalCoinSupply\",\"TotalCoinSupply\",\"TotalCoinSupply\",\"TotalCoinSupply\",\"TotalCoinSupply\",\"TotalCoinSupply\",\"TotalCoinSupply\",\"TotalCoinSupply\",\"TotalCoinSupply\",\"TotalCoinSupply\",\"TotalCoinSupply\",\"TotalCoinSupply\",\"TotalCoinSupply\",\"TotalCoinSupply\",\"TotalCoinSupply\",\"TotalCoinSupply\",\"TotalCoinSupply\",\"TotalCoinSupply\",\"TotalCoinSupply\",\"TotalCoinSupply\",\"TotalCoinSupply\",\"TotalCoinSupply\",\"TotalCoinSupply\",\"TotalCoinSupply\",\"TotalCoinSupply\",\"TotalCoinSupply\",\"TotalCoinSupply\",\"TotalCoinSupply\",\"TotalCoinSupply\",\"TotalCoinSupply\",\"TotalCoinSupply\",\"TotalCoinSupply\",\"TotalCoinSupply\",\"TotalCoinSupply\",\"TotalCoinSupply\",\"TotalCoinSupply\",\"TotalCoinSupply\",\"TotalCoinSupply\",\"TotalCoinSupply\",\"TotalCoinSupply\",\"TotalCoinSupply\",\"TotalCoinSupply\",\"TotalCoinSupply\",\"TotalCoinSupply\",\"TotalCoinSupply\",\"TotalCoinSupply\",\"TotalCoinSupply\",\"TotalCoinSupply\",\"TotalCoinSupply\",\"TotalCoinSupply\",\"TotalCoinSupply\",\"TotalCoinSupply\",\"TotalCoinSupply\",\"TotalCoinSupply\",\"TotalCoinSupply\",\"TotalCoinSupply\",\"TotalCoinSupply\",\"TotalCoinSupply\",\"TotalCoinSupply\",\"TotalCoinSupply\",\"TotalCoinSupply\",\"TotalCoinSupply\",\"TotalCoinSupply\",\"TotalCoinSupply\",\"TotalCoinSupply\",\"TotalCoinSupply\",\"TotalCoinSupply\",\"TotalCoinSupply\",\"TotalCoinSupply\",\"TotalCoinSupply\",\"TotalCoinSupply\",\"TotalCoinSupply\",\"TotalCoinSupply\",\"TotalCoinSupply\",\"TotalCoinSupply\",\"TotalCoinSupply\",\"TotalCoinSupply\",\"TotalCoinSupply\",\"TotalCoinSupply\",\"TotalCoinSupply\",\"TotalCoinSupply\",\"TotalCoinSupply\",\"TotalCoinSupply\",\"TotalCoinSupply\",\"TotalCoinSupply\",\"TotalCoinSupply\",\"TotalCoinSupply\",\"TotalCoinSupply\",\"TotalCoinSupply\",\"TotalCoinSupply\",\"TotalCoinSupply\",\"TotalCoinSupply\",\"TotalCoinSupply\",\"TotalCoinSupply\",\"TotalCoinSupply\",\"TotalCoinSupply\",\"TotalCoinSupply\",\"TotalCoinSupply\",\"TotalCoinSupply\",\"TotalCoinSupply\",\"TotalCoinSupply\",\"TotalCoinSupply\",\"TotalCoinSupply\",\"TotalCoinSupply\",\"TotalCoinSupply\",\"TotalCoinSupply\",\"TotalCoinSupply\",\"TotalCoinSupply\",\"TotalCoinSupply\",\"TotalCoinSupply\",\"TotalCoinSupply\",\"TotalCoinSupply\",\"TotalCoinSupply\",\"TotalCoinSupply\",\"TotalCoinSupply\",\"TotalCoinSupply\",\"TotalCoinSupply\",\"TotalCoinSupply\",\"TotalCoinSupply\",\"TotalCoinSupply\",\"TotalCoinSupply\",\"TotalCoinSupply\",\"TotalCoinSupply\",\"TotalCoinSupply\",\"TotalCoinSupply\",\"TotalCoinSupply\",\"TotalCoinSupply\",\"TotalCoinSupply\",\"TotalCoinSupply\",\"TotalCoinSupply\",\"TotalCoinSupply\",\"TotalCoinSupply\",\"TotalCoinSupply\",\"TotalCoinSupply\",\"TotalCoinSupply\",\"TotalCoinSupply\",\"TotalCoinSupply\",\"TotalCoinSupply\",\"TotalCoinSupply\",\"TotalCoinSupply\",\"TotalCoinSupply\",\"TotalCoinSupply\",\"TotalCoinSupply\",\"TotalCoinSupply\",\"TotalCoinSupply\",\"TotalCoinSupply\",\"TotalCoinSupply\",\"TotalCoinSupply\",\"TotalCoinSupply\",\"TotalCoinSupply\",\"TotalCoinSupply\",\"TotalCoinSupply\",\"TotalCoinSupply\",\"TotalCoinSupply\",\"TotalCoinSupply\",\"TotalCoinSupply\",\"TotalCoinSupply\",\"TotalCoinSupply\",\"TotalCoinSupply\",\"TotalCoinSupply\",\"TotalCoinSupply\",\"TotalCoinSupply\",\"TotalCoinSupply\",\"TotalCoinSupply\",\"TotalCoinSupply\",\"TotalCoinSupply\",\"TotalCoinSupply\",\"TotalCoinSupply\",\"TotalCoinSupply\",\"TotalCoinSupply\",\"TotalCoinSupply\",\"TotalCoinSupply\",\"TotalCoinSupply\",\"TotalCoinSupply\",\"TotalCoinSupply\",\"TotalCoinSupply\",\"TotalCoinSupply\",\"TotalCoinSupply\",\"TotalCoinSupply\",\"TotalCoinSupply\",\"TotalCoinSupply\",\"TotalCoinSupply\",\"TotalCoinSupply\",\"TotalCoinSupply\",\"TotalCoinSupply\",\"TotalCoinSupply\",\"TotalCoinSupply\",\"TotalCoinSupply\",\"TotalCoinSupply\",\"TotalCoinSupply\",\"TotalCoinSupply\",\"TotalCoinSupply\",\"TotalCoinSupply\",\"TotalCoinSupply\",\"TotalCoinSupply\",\"TotalCoinSupply\",\"TotalCoinSupply\",\"TotalCoinSupply\",\"TotalCoinSupply\",\"TotalCoinSupply\",\"TotalCoinSupply\",\"TotalCoinSupply\",\"TotalCoinSupply\",\"TotalCoinSupply\",\"TotalCoinSupply\",\"TotalCoinSupply\",\"TotalCoinSupply\",\"TotalCoinSupply\",\"TotalCoinSupply\",\"TotalCoinSupply\",\"TotalCoinSupply\",\"TotalCoinSupply\",\"TotalCoinSupply\",\"TotalCoinSupply\",\"TotalCoinSupply\",\"TotalCoinSupply\",\"TotalCoinSupply\",\"TotalCoinSupply\",\"TotalCoinSupply\",\"TotalCoinSupply\",\"TotalCoinSupply\",\"TotalCoinSupply\",\"TotalCoinSupply\",\"TotalCoinSupply\",\"TotalCoinSupply\",\"TotalCoinSupply\",\"TotalCoinSupply\",\"TotalCoinSupply\",\"TotalCoinSupply\",\"TotalCoinSupply\",\"TotalCoinSupply\",\"TotalCoinSupply\",\"TotalCoinSupply\",\"TotalCoinSupply\",\"TotalCoinSupply\",\"TotalCoinSupply\",\"TotalCoinSupply\",\"TotalCoinSupply\",\"TotalCoinSupply\",\"TotalCoinSupply\",\"TotalCoinSupply\",\"TotalCoinSupply\",\"TotalCoinSupply\",\"TotalCoinSupply\",\"TotalCoinSupply\",\"TotalCoinSupply\",\"TotalCoinSupply\",\"TotalCoinSupply\",\"TotalCoinSupply\",\"TotalCoinSupply\",\"TotalCoinSupply\",\"TotalCoinSupply\",\"TotalCoinSupply\",\"TotalCoinSupply\",\"TotalCoinSupply\",\"TotalCoinSupply\",\"TotalCoinSupply\",\"TotalCoinSupply\",\"TotalCoinSupply\",\"TotalCoinSupply\",\"TotalCoinSupply\",\"TotalCoinSupply\",\"TotalCoinSupply\",\"TotalCoinSupply\",\"TotalCoinSupply\",\"TotalCoinSupply\",\"TotalCoinSupply\",\"TotalCoinSupply\",\"TotalCoinSupply\",\"TotalCoinSupply\",\"TotalCoinSupply\",\"TotalCoinSupply\",\"TotalCoinSupply\",\"TotalCoinSupply\",\"TotalCoinSupply\",\"TotalCoinSupply\",\"TotalCoinSupply\",\"TotalCoinSupply\",\"TotalCoinSupply\",\"TotalCoinSupply\",\"TotalCoinSupply\",\"TotalCoinSupply\",\"TotalCoinSupply\",\"TotalCoinSupply\",\"TotalCoinSupply\",\"TotalCoinSupply\",\"TotalCoinSupply\",\"TotalCoinSupply\",\"TotalCoinSupply\",\"TotalCoinSupply\",\"TotalCoinSupply\",\"TotalCoinSupply\",\"TotalCoinSupply\",\"TotalCoinSupply\",\"TotalCoinSupply\",\"TotalCoinSupply\",\"TotalCoinSupply\",\"TotalCoinSupply\",\"TotalCoinSupply\",\"TotalCoinSupply\",\"TotalCoinSupply\",\"TotalCoinSupply\",\"TotalCoinSupply\",\"TotalCoinSupply\",\"TotalCoinSupply\",\"TotalCoinSupply\"],\"index\":[\"42\",\"404\",\"1337\",\"ETH\",\"NXT\",\"ZEC\",\"BTS\",\"BTCD\",\"XPY\",\"PRC\",\"KOBO\",\"ARG\",\"AUR\",\"BLU\",\"XMY\",\"MOON\",\"ZET\",\"SXC\",\"QTL\",\"ENRG\",\"QRK\",\"RIC\",\"DGC\",\"BTB\",\"CAT\",\"CBX\",\"CCN\",\"CRYPT\",\"XVG\",\"DVC\",\"EAC\",\"EFL\",\"EMC2\",\"EMD\",\"EXCL\",\"FLT\",\"FRK\",\"GDC\",\"GLC\",\"GLD\",\"HBN\",\"HYP\",\"IFC\",\"IXC\",\"KGC\",\"LKY\",\"LTB\",\"MAX\",\"MED\",\"MINT\",\"MZC\",\"NAUT\",\"NAV\",\"NOBL\",\"NMC\",\"NYAN\",\"ORB\",\"POT\",\"PXC\",\"RDD\",\"RPC\",\"SBC\",\"SMC\",\"SUPER\",\"SYNC\",\"SYS\",\"TES\",\"TGC\",\"TOR\",\"TRC\",\"UNB\",\"UNO\",\"URO\",\"USDE\",\"UTC\",\"VRC\",\"VTC\",\"WDC\",\"XC\",\"XCR\",\"XJO\",\"XST\",\"ZCC\",\"SJCX\",\"MONA\",\"NTRN\",\"FAIR\",\"RBY\",\"PTC\",\"WBB\",\"NOTE\",\"FLO\",\"8BIT\",\"STV\",\"J\",\"ABY\",\"LDOGE\",\"TRI\",\"FLDC\",\"SLR\",\"TRK\",\"U\",\"UIS\",\"CYP\",\"UFO\",\"OC\",\"FSC\",\"BLC\",\"OMC\",\"BITS\",\"NEOS\",\"HYPER\",\"VTR\",\"PINK\",\"GRE\",\"XCN\",\"XBC\",\"MSC\",\"SOON\",\"1CR\",\"ISL\",\"NXS\",\"CESC\",\"ADC\",\"MARS\",\"CTO\",\"ACP\",\"DRZ\",\"BSC\",\"NKA\",\"SQL\",\"PIGGY\",\"CRW\",\"GEN\",\"SONG\",\"SMLY\",\"ZNY\",\"DIGS\",\"EXP\",\"MI\",\"CON\",\"GRS\",\"CPC\",\"CLUB\",\"RADS\",\"EMC\",\"EGC\",\"MND\",\"I0C\",\"PAK\",\"CRB\",\"OK\",\"RVR\",\"HODL\",\"EDRC\",\"WAVES\",\"HTC\",\"DBIC\",\"XHI\",\"DIEM\",\"PWR\",\"BLRY\",\"INFX\",\"GOST\",\"GPU\",\"ADZ\",\"SOIL\",\"YOC\",\"ERC\",\"ZEIT\",\"SWING\",\"SAFEX\",\"NEBU\",\"FRN\",\"BOLI\",\"XRA\",\"CKC\",\"VIP\",\"OMNI\",\"LIR\",\"IBANK\",\"FRWC\",\"MUDRA\",\"PIZZA\",\"LC\",\"KMD\",\"GB\",\"KRB\",\"BXT\",\"ZYD\",\"MST\",\"ZNE\",\"COVAL\",\"ROOT\",\"DOPE\",\"BTCR\",\"DLC\",\"SCN\",\"SH\",\"BUZZ\",\"XPO\",\"PSB\",\"HALLO\",\"CFC\",\"ROYAL\",\"GNJ\",\"TEAM\",\"LANA\",\"ELE\",\"ZCL\",\"INSANE\",\"KLC\",\"ATX\",\"EMB\",\"XEN\",\"FRE\",\"PLNC\",\"ARCO\",\"KURT\",\"XCRE\",\"ENT\",\"EUC\",\"BCF\",\"XSN\",\"BCCOIN\",\"MONEY\",\"XNG\",\"XCI\",\"RC\",\"PND\",\"UNITS\",\"GAKH\",\"LTCR\",\"GOLOS\",\"OS76\",\"BIC\",\"HXX\",\"KED\",\"IOP\",\"KUSH\",\"PRX\",\"PAC\",\"IMPCH\",\"CTL\",\"ZBC\",\"FRST\",\"BVC\",\"FIND\",\"VLTC\",\"ZER\",\"CHAT\",\"ZOI\",\"RNS\",\"DBIX\",\"XVP\",\"TAJ\",\"IMX\",\"EB3\",\"ATMOS\",\"HPC\",\"CXT\",\"MCRN\",\"RAIN\",\"IMS\",\"ARGUS\",\"LMC\",\"PROC\",\"XGR\",\"BENJI\",\"DUO\",\"GRW\",\"ILC\",\"PHR\",\"DEA\",\"HTML5\",\"USC\",\"EQT\",\"INSN\",\"QRL\",\"ESP\",\"DYN\",\"EOS\",\"NANO\",\"CHAN\",\"DCY\",\"DP\",\"VUC\",\"BTPL\",\"UNIFY\",\"BRIT\",\"SOCC\",\"ARC\",\"PART\",\"DAS\",\"LINDA\",\"RCC\",\"XLC\",\"ONION\",\"BTX\",\"GCN\",\"SIGT\",\"ONX\",\"CRM\",\"BCH\",\"XMCC\",\"DFT\",\"VET\",\"SOJ\",\"STCN\",\"AMB\",\"OXY\",\"NYC\",\"FRAZ\",\"KRONE\",\"ACC\",\"LINX\",\"XCXT\",\"ETHD\",\"SUMO\",\"ODN\",\"ADA\",\"REC\",\"ICX\",\"BTCZ\",\"TZC\",\"ATCC\",\"ELM\",\"TER\",\"VIVO\",\"RUP\",\"BTG\",\"WOMEN\",\"MAY\",\"NAMO\",\"LUX\",\"PIRL\",\"XIOS\",\"BTDX\",\"BLHC\",\"XIN\",\"PURA\",\"INN\",\"ZEPH\",\"ELLA\",\"MAG\",\"TAU\",\"ECA\",\"BCD\",\"XSH\",\"AION\",\"CNBC\",\"XUN\",\"GLT\",\"COAL\",\"DAXX\",\"BWK\",\"KLKS\",\"AC3\",\"LTHN\",\"GER\",\"LTCU\",\"POP\",\"PHO\",\"SUCR\",\"SPK\",\"WAGE\",\"GUN\",\"IRL\",\"TROLL\",\"LCP\",\"MONK\",\"PCOIN\",\"UBTC\",\"ITZ\",\"TPAY\",\"MCT\",\"MUN\",\"USX\",\"SSS\",\"KREDS\",\"TOKC\",\"BBP\",\"LCC\",\"FLIP\",\"ALX\",\"LOTTO\",\"CIF\",\"SPD\",\"PUSHI\",\"ELP\",\"VLX\",\"CLO\",\"TUBE\",\"PSD\",\"ADM\",\"ADK\",\"BSX\",\"NEXT\",\"BRIA\",\"IC\",\"BTL\",\"MEDIC\",\"ALPS\",\"BITG\",\"DEV\",\"ABJ\",\"SEM\",\"FTO\",\"CARE\",\"NZL\",\"XMC\",\"PROTON\",\"DEAL\",\"JUMP\",\"XBI\",\"KEC\",\"HWC\",\"PLATC\",\"LOKI\",\"NCP\",\"REL\",\"XT3\",\"MGD\",\"VIG\",\"PLURA\",\"EMAR\",\"DKD\",\"LYNX\",\"POSQ\",\"BWS\",\"MUSE\",\"XMN\",\"PLUS1\",\"AXE\",\"TRVC\",\"DTEM\",\"GIC\",\"ABS\",\"VITAE\",\"TPC\",\"WEBC\",\"RYO\",\"URALS\",\"QWC\",\"MMO\",\"KETAN\",\"PPAI\",\"XDNA\",\"PAXEX\",\"KCASH\",\"XCG\",\"AAC\",\"CRYP\",\"BTXC\",\"DAPS\",\"TCH\",\"HC\",\"BITM\",\"FIII\",\"JMC\",\"FRED\",\"ZND\",\"HERB\",\"UMO\",\"LIT\",\"PIRATE\",\"EXO\",\"OWC\",\"BEAM\",\"BTT\",\"GALI\",\"BTH\",\"CSPN\",\"CREDIT\",\"SCRIBE\",\"SLC\",\"VOLLAR\",\"NSD\",\"GEX\",\"BEET\",\"TTN\",\"ARRR\",\"BLAST\",\"XRC\",\"BDX\",\"BLOCM\",\"CKB\",\"LOBS\",\"BTCK\",\"VEN\",\"ZANO\",\"KSH\",\"YTN\",\"PEPS\",\"NEET\",\"ZCR\",\"AEVO\",\"DXO\",\"GOSS\",\"GIO\",\"RPD\",\"PENG\",\"X42\",\"WCC\",\"MWC\",\"RHP\",\"DDK\",\"BSV\",\"MEC\",\"NLG\",\"SIB\",\"XDN\",\"VIA\",\"FTC\",\"IOC\",\"XZC\",\"CLOAK\",\"BCN\",\"BURST\",\"SC\",\"POA\",\"BTM\",\"ZEN\",\"DGB\",\"QTUM\",\"ONT\",\"LSK\",\"DASH\",\"ETC\",\"ARK\",\"LTC\",\"XMR\",\"DCR\",\"STEEM\",\"BTC\",\"BUX\",\"BNB\"],\"value\":[179,206,150,3,8,95,166,108,28,95,163,220,59,3,88,170,64,121,7,3,118,249,190,193,96,5,30,68,56,99,33,96,142,151,3,3,22,38,229,233,25,3,263,95,133,86,32,7,87,3,116,53,3,45,95,159,168,182,269,3,95,121,200,3,4,256,7,189,6,181,244,119,3,51,7,3,249,133,210,3,186,3,8,196,16,227,3,3,58,130,196,50,3,6,138,8,164,23,8,270,3,86,3,3,177,87,215,230,160,209,95,3,86,196,9,73,5,218,95,265,3,241,8,15,154,225,207,199,95,82,3,8,181,42,100,198,121,7,63,176,195,14,93,50,258,8,132,49,95,71,55,14,97,247,108,7,134,13,11,106,3,181,24,35,110,249,144,62,169,2,175,104,86,86,120,236,205,259,217,156,185,7,87,120,224,87,195,6,95,268,143,95,26,3,87,3,18,149,144,89,234,3,44,173,123,7,147,238,129,95,144,9,196,251,171,195,172,181,112,86,213,86,154,240,139,223,194,95,39,152,29,155,243,3,136,120,274,196,95,266,86,10,107,78,211,19,157,40,8,65,8,95,162,111,7,167,19,177,21,7,191,176,196,101,141,8,237,175,165,5,88,122,144,14,262,91,232,144,14,198,3,3,161,144,88,7,25,7,83,144,0,213,3,80,198,117,208,79,95,90,34,20,7,95,267,66,253,15,216,3,3,3,86,249,7,7,191,180,257,264,187,135,3,99,176,178,69,47,135,115,95,262,7,26,213,46,95,87,41,261,163,186,88,140,39,196,146,97,226,3,97,252,60,28,9,137,86,212,273,198,43,192,1,85,95,25,196,220,260,174,95,113,92,113,120,54,57,114,9,20,245,203,250,175,8,75,196,84,120,213,27,222,8,95,87,120,195,25,143,194,229,196,145,95,254,144,7,7,87,244,72,186,201,95,95,68,127,214,43,74,219,184,60,7,8,249,259,265,221,12,70,109,95,95,248,95,202,204,7,8,67,255,97,77,128,97,98,95,7,8,7,8,239,195,231,8,249,231,197,3,246,188,208,17,125,14,95,95,131,271,3,148,31,235,153,7,98,249,95,196,197,87,220,94,36,195,124,242,103,253,3,8,249,236,98,68,183,120,3,88,164,52,181,86,86,98,186,95,181,61,115,228,113,158,108,102,3,76,105,3,126,37,95,99,7,8,48,108,97,3,249,3,95,272,95,196,81]},\"selected\":{\"id\":\"3412\"},\"selection_policy\":{\"id\":\"3452\"}},\"id\":\"3411\",\"type\":\"ColumnDataSource\"},{\"attributes\":{},\"id\":\"3508\",\"type\":\"Selection\"},{\"attributes\":{\"data_source\":{\"id\":\"3375\"},\"glyph\":{\"id\":\"3378\"},\"hover_glyph\":null,\"muted_glyph\":{\"id\":\"3380\"},\"nonselection_glyph\":{\"id\":\"3379\"},\"selection_glyph\":null,\"view\":{\"id\":\"3382\"}},\"id\":\"3381\",\"type\":\"GlyphRenderer\"},{\"attributes\":{\"line_alpha\":0.2,\"line_color\":\"#d62628\",\"line_width\":2,\"x\":{\"field\":\"index\"},\"y\":{\"field\":\"value\"}},\"id\":\"3416\",\"type\":\"Line\"},{\"attributes\":{\"callback\":null,\"renderers\":[{\"id\":\"3365\"},{\"id\":\"3381\"},{\"id\":\"3398\"},{\"id\":\"3417\"},{\"id\":\"3438\"},{\"id\":\"3461\"},{\"id\":\"3486\"},{\"id\":\"3513\"}],\"tags\":[\"hv_created\"],\"tooltips\":[[\"Variable\",\"@{Variable}\"],[\"index\",\"@{index}\"],[\"value\",\"@{value}\"]]},\"id\":\"3318\",\"type\":\"HoverTool\"},{\"attributes\":{},\"id\":\"3533\",\"type\":\"UnionRenderers\"},{\"attributes\":{\"axis\":{\"id\":\"3338\"},\"dimension\":1,\"grid_line_color\":null,\"ticker\":null},\"id\":\"3341\",\"type\":\"Grid\"},{\"attributes\":{\"click_policy\":\"mute\",\"items\":[{\"id\":\"3374\"},{\"id\":\"3391\"},{\"id\":\"3410\"},{\"id\":\"3431\"},{\"id\":\"3454\"},{\"id\":\"3479\"},{\"id\":\"3506\"},{\"id\":\"3535\"}],\"location\":[0,0],\"title\":\"Variable\"},\"id\":\"3373\",\"type\":\"Legend\"},{\"attributes\":{\"label\":{\"value\":\"TotalCoinsMined\"},\"renderers\":[{\"id\":\"3398\"}]},\"id\":\"3410\",\"type\":\"LegendItem\"},{\"attributes\":{\"children\":[{\"id\":\"3315\"},{\"id\":\"3326\"},{\"id\":\"3712\"}],\"margin\":[0,0,0,0],\"name\":\"Row07084\",\"tags\":[\"embedded\"]},\"id\":\"3314\",\"type\":\"Row\"},{\"attributes\":{\"label\":{\"value\":\"TotalCoinSupply\"},\"renderers\":[{\"id\":\"3417\"}]},\"id\":\"3431\",\"type\":\"LegendItem\"},{\"attributes\":{\"line_color\":\"#ff7e0e\",\"line_width\":2,\"x\":{\"field\":\"index\"},\"y\":{\"field\":\"value\"}},\"id\":\"3378\",\"type\":\"Line\"},{\"attributes\":{\"line_alpha\":0.1,\"line_color\":\"#e277c1\",\"line_width\":2,\"x\":{\"field\":\"index\"},\"y\":{\"field\":\"value\"}},\"id\":\"3484\",\"type\":\"Line\"},{\"attributes\":{},\"id\":\"3481\",\"type\":\"Selection\"},{\"attributes\":{\"line_color\":\"#7e7e7e\",\"line_width\":2,\"x\":{\"field\":\"index\"},\"y\":{\"field\":\"value\"}},\"id\":\"3510\",\"type\":\"Line\"},{\"attributes\":{\"line_alpha\":0.2,\"line_color\":\"#ff7e0e\",\"line_width\":2,\"x\":{\"field\":\"index\"},\"y\":{\"field\":\"value\"}},\"id\":\"3380\",\"type\":\"Line\"},{\"attributes\":{\"data_source\":{\"id\":\"3480\"},\"glyph\":{\"id\":\"3483\"},\"hover_glyph\":null,\"muted_glyph\":{\"id\":\"3485\"},\"nonselection_glyph\":{\"id\":\"3484\"},\"selection_glyph\":null,\"view\":{\"id\":\"3487\"}},\"id\":\"3486\",\"type\":\"GlyphRenderer\"},{\"attributes\":{},\"id\":\"3331\",\"type\":\"CategoricalScale\"},{\"attributes\":{\"line_alpha\":0.1,\"line_color\":\"#d62628\",\"line_width\":2,\"x\":{\"field\":\"index\"},\"y\":{\"field\":\"value\"}},\"id\":\"3415\",\"type\":\"Line\"},{\"attributes\":{},\"id\":\"3346\",\"type\":\"ResetTool\"},{\"attributes\":{},\"id\":\"3339\",\"type\":\"BasicTicker\"},{\"attributes\":{\"label\":{\"value\":\"Algorithm\"},\"renderers\":[{\"id\":\"3365\"}]},\"id\":\"3374\",\"type\":\"LegendItem\"},{\"attributes\":{\"end\":571.1416386816163,\"reset_end\":571.1416386816163,\"reset_start\":-54.558025497779944,\"start\":-54.558025497779944,\"tags\":[[[\"value\",\"value\",null]]]},\"id\":\"3317\",\"type\":\"Range1d\"},{\"attributes\":{\"line_color\":\"#e277c1\",\"line_width\":2,\"x\":{\"field\":\"index\"},\"y\":{\"field\":\"value\"}},\"id\":\"3483\",\"type\":\"Line\"},{\"attributes\":{\"data\":{\"Variable\":[\"Class\",\"Class\",\"Class\",\"Class\",\"Class\",\"Class\",\"Class\",\"Class\",\"Class\",\"Class\",\"Class\",\"Class\",\"Class\",\"Class\",\"Class\",\"Class\",\"Class\",\"Class\",\"Class\",\"Class\",\"Class\",\"Class\",\"Class\",\"Class\",\"Class\",\"Class\",\"Class\",\"Class\",\"Class\",\"Class\",\"Class\",\"Class\",\"Class\",\"Class\",\"Class\",\"Class\",\"Class\",\"Class\",\"Class\",\"Class\",\"Class\",\"Class\",\"Class\",\"Class\",\"Class\",\"Class\",\"Class\",\"Class\",\"Class\",\"Class\",\"Class\",\"Class\",\"Class\",\"Class\",\"Class\",\"Class\",\"Class\",\"Class\",\"Class\",\"Class\",\"Class\",\"Class\",\"Class\",\"Class\",\"Class\",\"Class\",\"Class\",\"Class\",\"Class\",\"Class\",\"Class\",\"Class\",\"Class\",\"Class\",\"Class\",\"Class\",\"Class\",\"Class\",\"Class\",\"Class\",\"Class\",\"Class\",\"Class\",\"Class\",\"Class\",\"Class\",\"Class\",\"Class\",\"Class\",\"Class\",\"Class\",\"Class\",\"Class\",\"Class\",\"Class\",\"Class\",\"Class\",\"Class\",\"Class\",\"Class\",\"Class\",\"Class\",\"Class\",\"Class\",\"Class\",\"Class\",\"Class\",\"Class\",\"Class\",\"Class\",\"Class\",\"Class\",\"Class\",\"Class\",\"Class\",\"Class\",\"Class\",\"Class\",\"Class\",\"Class\",\"Class\",\"Class\",\"Class\",\"Class\",\"Class\",\"Class\",\"Class\",\"Class\",\"Class\",\"Class\",\"Class\",\"Class\",\"Class\",\"Class\",\"Class\",\"Class\",\"Class\",\"Class\",\"Class\",\"Class\",\"Class\",\"Class\",\"Class\",\"Class\",\"Class\",\"Class\",\"Class\",\"Class\",\"Class\",\"Class\",\"Class\",\"Class\",\"Class\",\"Class\",\"Class\",\"Class\",\"Class\",\"Class\",\"Class\",\"Class\",\"Class\",\"Class\",\"Class\",\"Class\",\"Class\",\"Class\",\"Class\",\"Class\",\"Class\",\"Class\",\"Class\",\"Class\",\"Class\",\"Class\",\"Class\",\"Class\",\"Class\",\"Class\",\"Class\",\"Class\",\"Class\",\"Class\",\"Class\",\"Class\",\"Class\",\"Class\",\"Class\",\"Class\",\"Class\",\"Class\",\"Class\",\"Class\",\"Class\",\"Class\",\"Class\",\"Class\",\"Class\",\"Class\",\"Class\",\"Class\",\"Class\",\"Class\",\"Class\",\"Class\",\"Class\",\"Class\",\"Class\",\"Class\",\"Class\",\"Class\",\"Class\",\"Class\",\"Class\",\"Class\",\"Class\",\"Class\",\"Class\",\"Class\",\"Class\",\"Class\",\"Class\",\"Class\",\"Class\",\"Class\",\"Class\",\"Class\",\"Class\",\"Class\",\"Class\",\"Class\",\"Class\",\"Class\",\"Class\",\"Class\",\"Class\",\"Class\",\"Class\",\"Class\",\"Class\",\"Class\",\"Class\",\"Class\",\"Class\",\"Class\",\"Class\",\"Class\",\"Class\",\"Class\",\"Class\",\"Class\",\"Class\",\"Class\",\"Class\",\"Class\",\"Class\",\"Class\",\"Class\",\"Class\",\"Class\",\"Class\",\"Class\",\"Class\",\"Class\",\"Class\",\"Class\",\"Class\",\"Class\",\"Class\",\"Class\",\"Class\",\"Class\",\"Class\",\"Class\",\"Class\",\"Class\",\"Class\",\"Class\",\"Class\",\"Class\",\"Class\",\"Class\",\"Class\",\"Class\",\"Class\",\"Class\",\"Class\",\"Class\",\"Class\",\"Class\",\"Class\",\"Class\",\"Class\",\"Class\",\"Class\",\"Class\",\"Class\",\"Class\",\"Class\",\"Class\",\"Class\",\"Class\",\"Class\",\"Class\",\"Class\",\"Class\",\"Class\",\"Class\",\"Class\",\"Class\",\"Class\",\"Class\",\"Class\",\"Class\",\"Class\",\"Class\",\"Class\",\"Class\",\"Class\",\"Class\",\"Class\",\"Class\",\"Class\",\"Class\",\"Class\",\"Class\",\"Class\",\"Class\",\"Class\",\"Class\",\"Class\",\"Class\",\"Class\",\"Class\",\"Class\",\"Class\",\"Class\",\"Class\",\"Class\",\"Class\",\"Class\",\"Class\",\"Class\",\"Class\",\"Class\",\"Class\",\"Class\",\"Class\",\"Class\",\"Class\",\"Class\",\"Class\",\"Class\",\"Class\",\"Class\",\"Class\",\"Class\",\"Class\",\"Class\",\"Class\",\"Class\",\"Class\",\"Class\",\"Class\",\"Class\",\"Class\",\"Class\",\"Class\",\"Class\",\"Class\",\"Class\",\"Class\",\"Class\",\"Class\",\"Class\",\"Class\",\"Class\",\"Class\",\"Class\",\"Class\",\"Class\",\"Class\",\"Class\",\"Class\",\"Class\",\"Class\",\"Class\",\"Class\",\"Class\",\"Class\",\"Class\",\"Class\",\"Class\",\"Class\",\"Class\",\"Class\",\"Class\",\"Class\",\"Class\",\"Class\",\"Class\",\"Class\",\"Class\",\"Class\",\"Class\",\"Class\",\"Class\",\"Class\",\"Class\",\"Class\",\"Class\",\"Class\",\"Class\",\"Class\",\"Class\",\"Class\",\"Class\",\"Class\",\"Class\",\"Class\",\"Class\",\"Class\",\"Class\",\"Class\",\"Class\",\"Class\",\"Class\",\"Class\",\"Class\",\"Class\",\"Class\",\"Class\",\"Class\",\"Class\",\"Class\",\"Class\",\"Class\",\"Class\",\"Class\",\"Class\",\"Class\",\"Class\",\"Class\",\"Class\",\"Class\",\"Class\",\"Class\",\"Class\",\"Class\",\"Class\",\"Class\",\"Class\",\"Class\",\"Class\",\"Class\",\"Class\",\"Class\",\"Class\",\"Class\",\"Class\",\"Class\",\"Class\",\"Class\",\"Class\",\"Class\",\"Class\",\"Class\",\"Class\",\"Class\",\"Class\",\"Class\",\"Class\",\"Class\",\"Class\",\"Class\",\"Class\",\"Class\",\"Class\",\"Class\",\"Class\",\"Class\",\"Class\",\"Class\",\"Class\",\"Class\",\"Class\",\"Class\",\"Class\",\"Class\",\"Class\",\"Class\",\"Class\",\"Class\",\"Class\",\"Class\",\"Class\",\"Class\",\"Class\",\"Class\",\"Class\",\"Class\",\"Class\",\"Class\",\"Class\",\"Class\",\"Class\",\"Class\",\"Class\",\"Class\",\"Class\",\"Class\",\"Class\",\"Class\",\"Class\",\"Class\",\"Class\",\"Class\",\"Class\",\"Class\",\"Class\",\"Class\",\"Class\",\"Class\",\"Class\",\"Class\",\"Class\",\"Class\",\"Class\",\"Class\",\"Class\",\"Class\",\"Class\",\"Class\",\"Class\",\"Class\",\"Class\",\"Class\",\"Class\"],\"index\":[\"42\",\"404\",\"1337\",\"ETH\",\"NXT\",\"ZEC\",\"BTS\",\"BTCD\",\"XPY\",\"PRC\",\"KOBO\",\"ARG\",\"AUR\",\"BLU\",\"XMY\",\"MOON\",\"ZET\",\"SXC\",\"QTL\",\"ENRG\",\"QRK\",\"RIC\",\"DGC\",\"BTB\",\"CAT\",\"CBX\",\"CCN\",\"CRYPT\",\"XVG\",\"DVC\",\"EAC\",\"EFL\",\"EMC2\",\"EMD\",\"EXCL\",\"FLT\",\"FRK\",\"GDC\",\"GLC\",\"GLD\",\"HBN\",\"HYP\",\"IFC\",\"IXC\",\"KGC\",\"LKY\",\"LTB\",\"MAX\",\"MED\",\"MINT\",\"MZC\",\"NAUT\",\"NAV\",\"NOBL\",\"NMC\",\"NYAN\",\"ORB\",\"POT\",\"PXC\",\"RDD\",\"RPC\",\"SBC\",\"SMC\",\"SUPER\",\"SYNC\",\"SYS\",\"TES\",\"TGC\",\"TOR\",\"TRC\",\"UNB\",\"UNO\",\"URO\",\"USDE\",\"UTC\",\"VRC\",\"VTC\",\"WDC\",\"XC\",\"XCR\",\"XJO\",\"XST\",\"ZCC\",\"SJCX\",\"MONA\",\"NTRN\",\"FAIR\",\"RBY\",\"PTC\",\"WBB\",\"NOTE\",\"FLO\",\"8BIT\",\"STV\",\"J\",\"ABY\",\"LDOGE\",\"TRI\",\"FLDC\",\"SLR\",\"TRK\",\"U\",\"UIS\",\"CYP\",\"UFO\",\"OC\",\"FSC\",\"BLC\",\"OMC\",\"BITS\",\"NEOS\",\"HYPER\",\"VTR\",\"PINK\",\"GRE\",\"XCN\",\"XBC\",\"MSC\",\"SOON\",\"1CR\",\"ISL\",\"NXS\",\"CESC\",\"ADC\",\"MARS\",\"CTO\",\"ACP\",\"DRZ\",\"BSC\",\"NKA\",\"SQL\",\"PIGGY\",\"CRW\",\"GEN\",\"SONG\",\"SMLY\",\"ZNY\",\"DIGS\",\"EXP\",\"MI\",\"CON\",\"GRS\",\"CPC\",\"CLUB\",\"RADS\",\"EMC\",\"EGC\",\"MND\",\"I0C\",\"PAK\",\"CRB\",\"OK\",\"RVR\",\"HODL\",\"EDRC\",\"WAVES\",\"HTC\",\"DBIC\",\"XHI\",\"DIEM\",\"PWR\",\"BLRY\",\"INFX\",\"GOST\",\"GPU\",\"ADZ\",\"SOIL\",\"YOC\",\"ERC\",\"ZEIT\",\"SWING\",\"SAFEX\",\"NEBU\",\"FRN\",\"BOLI\",\"XRA\",\"CKC\",\"VIP\",\"OMNI\",\"LIR\",\"IBANK\",\"FRWC\",\"MUDRA\",\"PIZZA\",\"LC\",\"KMD\",\"GB\",\"KRB\",\"BXT\",\"ZYD\",\"MST\",\"ZNE\",\"COVAL\",\"ROOT\",\"DOPE\",\"BTCR\",\"DLC\",\"SCN\",\"SH\",\"BUZZ\",\"XPO\",\"PSB\",\"HALLO\",\"CFC\",\"ROYAL\",\"GNJ\",\"TEAM\",\"LANA\",\"ELE\",\"ZCL\",\"INSANE\",\"KLC\",\"ATX\",\"EMB\",\"XEN\",\"FRE\",\"PLNC\",\"ARCO\",\"KURT\",\"XCRE\",\"ENT\",\"EUC\",\"BCF\",\"XSN\",\"BCCOIN\",\"MONEY\",\"XNG\",\"XCI\",\"RC\",\"PND\",\"UNITS\",\"GAKH\",\"LTCR\",\"GOLOS\",\"OS76\",\"BIC\",\"HXX\",\"KED\",\"IOP\",\"KUSH\",\"PRX\",\"PAC\",\"IMPCH\",\"CTL\",\"ZBC\",\"FRST\",\"BVC\",\"FIND\",\"VLTC\",\"ZER\",\"CHAT\",\"ZOI\",\"RNS\",\"DBIX\",\"XVP\",\"TAJ\",\"IMX\",\"EB3\",\"ATMOS\",\"HPC\",\"CXT\",\"MCRN\",\"RAIN\",\"IMS\",\"ARGUS\",\"LMC\",\"PROC\",\"XGR\",\"BENJI\",\"DUO\",\"GRW\",\"ILC\",\"PHR\",\"DEA\",\"HTML5\",\"USC\",\"EQT\",\"INSN\",\"QRL\",\"ESP\",\"DYN\",\"EOS\",\"NANO\",\"CHAN\",\"DCY\",\"DP\",\"VUC\",\"BTPL\",\"UNIFY\",\"BRIT\",\"SOCC\",\"ARC\",\"PART\",\"DAS\",\"LINDA\",\"RCC\",\"XLC\",\"ONION\",\"BTX\",\"GCN\",\"SIGT\",\"ONX\",\"CRM\",\"BCH\",\"XMCC\",\"DFT\",\"VET\",\"SOJ\",\"STCN\",\"AMB\",\"OXY\",\"NYC\",\"FRAZ\",\"KRONE\",\"ACC\",\"LINX\",\"XCXT\",\"ETHD\",\"SUMO\",\"ODN\",\"ADA\",\"REC\",\"ICX\",\"BTCZ\",\"TZC\",\"ATCC\",\"ELM\",\"TER\",\"VIVO\",\"RUP\",\"BTG\",\"WOMEN\",\"MAY\",\"NAMO\",\"LUX\",\"PIRL\",\"XIOS\",\"BTDX\",\"BLHC\",\"XIN\",\"PURA\",\"INN\",\"ZEPH\",\"ELLA\",\"MAG\",\"TAU\",\"ECA\",\"BCD\",\"XSH\",\"AION\",\"CNBC\",\"XUN\",\"GLT\",\"COAL\",\"DAXX\",\"BWK\",\"KLKS\",\"AC3\",\"LTHN\",\"GER\",\"LTCU\",\"POP\",\"PHO\",\"SUCR\",\"SPK\",\"WAGE\",\"GUN\",\"IRL\",\"TROLL\",\"LCP\",\"MONK\",\"PCOIN\",\"UBTC\",\"ITZ\",\"TPAY\",\"MCT\",\"MUN\",\"USX\",\"SSS\",\"KREDS\",\"TOKC\",\"BBP\",\"LCC\",\"FLIP\",\"ALX\",\"LOTTO\",\"CIF\",\"SPD\",\"PUSHI\",\"ELP\",\"VLX\",\"CLO\",\"TUBE\",\"PSD\",\"ADM\",\"ADK\",\"BSX\",\"NEXT\",\"BRIA\",\"IC\",\"BTL\",\"MEDIC\",\"ALPS\",\"BITG\",\"DEV\",\"ABJ\",\"SEM\",\"FTO\",\"CARE\",\"NZL\",\"XMC\",\"PROTON\",\"DEAL\",\"JUMP\",\"XBI\",\"KEC\",\"HWC\",\"PLATC\",\"LOKI\",\"NCP\",\"REL\",\"XT3\",\"MGD\",\"VIG\",\"PLURA\",\"EMAR\",\"DKD\",\"LYNX\",\"POSQ\",\"BWS\",\"MUSE\",\"XMN\",\"PLUS1\",\"AXE\",\"TRVC\",\"DTEM\",\"GIC\",\"ABS\",\"VITAE\",\"TPC\",\"WEBC\",\"RYO\",\"URALS\",\"QWC\",\"MMO\",\"KETAN\",\"PPAI\",\"XDNA\",\"PAXEX\",\"KCASH\",\"XCG\",\"AAC\",\"CRYP\",\"BTXC\",\"DAPS\",\"TCH\",\"HC\",\"BITM\",\"FIII\",\"JMC\",\"FRED\",\"ZND\",\"HERB\",\"UMO\",\"LIT\",\"PIRATE\",\"EXO\",\"OWC\",\"BEAM\",\"BTT\",\"GALI\",\"BTH\",\"CSPN\",\"CREDIT\",\"SCRIBE\",\"SLC\",\"VOLLAR\",\"NSD\",\"GEX\",\"BEET\",\"TTN\",\"ARRR\",\"BLAST\",\"XRC\",\"BDX\",\"BLOCM\",\"CKB\",\"LOBS\",\"BTCK\",\"VEN\",\"ZANO\",\"KSH\",\"YTN\",\"PEPS\",\"NEET\",\"ZCR\",\"AEVO\",\"DXO\",\"GOSS\",\"GIO\",\"RPD\",\"PENG\",\"X42\",\"WCC\",\"MWC\",\"RHP\",\"DDK\",\"BSV\",\"MEC\",\"NLG\",\"SIB\",\"XDN\",\"VIA\",\"FTC\",\"IOC\",\"XZC\",\"CLOAK\",\"BCN\",\"BURST\",\"SC\",\"POA\",\"BTM\",\"ZEN\",\"DGB\",\"QTUM\",\"ONT\",\"LSK\",\"DASH\",\"ETC\",\"ARK\",\"LTC\",\"XMR\",\"DCR\",\"STEEM\",\"BTC\",\"BUX\",\"BNB\"],\"value\":{\"__ndarray__\":\"AgAAAAIAAAABAAAAAAAAAAAAAAAAAAAAAQAAAAIAAAAAAAAAAgAAAAIAAAACAAAAAgAAAAEAAAABAAAAAgAAAAEAAAABAAAAAgAAAAEAAAABAAAAAAAAAAEAAAACAAAAAgAAAAIAAAACAAAAAgAAAAEAAAABAAAAAQAAAAIAAAABAAAAAgAAAAAAAAABAAAAAgAAAAEAAAABAAAAAQAAAAEAAAABAAAAAQAAAAIAAAABAAAAAgAAAAIAAAABAAAAAAAAAAEAAAABAAAAAAAAAAEAAAABAAAAAgAAAAEAAAACAAAAAQAAAAEAAAABAAAAAgAAAAIAAAABAAAAAQAAAAIAAAABAAAAAAAAAAEAAAACAAAAAgAAAAIAAAACAAAAAgAAAAEAAAABAAAAAQAAAAAAAAABAAAAAgAAAAAAAAABAAAAAQAAAAEAAAAAAAAAAQAAAAEAAAAAAAAAAAAAAAEAAAACAAAAAQAAAAEAAAACAAAAAgAAAAIAAAABAAAAAQAAAAIAAAABAAAAAQAAAAEAAAACAAAAAQAAAAIAAAABAAAAAgAAAAIAAAAAAAAAAgAAAAIAAAAAAAAAAgAAAAIAAAABAAAAAQAAAAEAAAACAAAAAgAAAAIAAAACAAAAAgAAAAEAAAABAAAAAQAAAAEAAAAAAAAAAgAAAAIAAAACAAAAAQAAAAIAAAABAAAAAAAAAAEAAAABAAAAAQAAAAEAAAABAAAAAAAAAAEAAAABAAAAAAAAAAEAAAABAAAAAAAAAAEAAAACAAAAAgAAAAIAAAABAAAAAgAAAAEAAAABAAAAAAAAAAIAAAAAAAAAAQAAAAIAAAABAAAAAQAAAAEAAAACAAAAAgAAAAEAAAAAAAAAAQAAAAAAAAACAAAAAgAAAAEAAAACAAAAAQAAAAAAAAACAAAAAgAAAAEAAAACAAAAAQAAAAIAAAAAAAAAAgAAAAEAAAACAAAAAgAAAAEAAAABAAAAAgAAAAAAAAACAAAAAgAAAAIAAAACAAAAAQAAAAIAAAABAAAAAQAAAAIAAAABAAAAAgAAAAEAAAAAAAAAAQAAAAEAAAAAAAAAAgAAAAEAAAAAAAAAAQAAAAAAAAAAAAAAAgAAAAEAAAABAAAAAQAAAAIAAAAAAAAAAgAAAAIAAAABAAAAAAAAAAIAAAACAAAAAgAAAAEAAAACAAAAAgAAAAIAAAAAAAAAAgAAAAEAAAACAAAAAgAAAAIAAAAAAAAAAgAAAAAAAAACAAAAAgAAAAIAAAACAAAAAgAAAAEAAAACAAAAAAAAAAIAAAABAAAAAgAAAAIAAAABAAAAAAAAAAEAAAAAAAAAAAAAAAAAAAACAAAAAAAAAAEAAAABAAAAAAAAAAEAAAACAAAAAAAAAAEAAAACAAAAAgAAAAIAAAAAAAAAAgAAAAIAAAACAAAAAQAAAAEAAAAAAAAAAgAAAAEAAAAAAAAAAgAAAAIAAAABAAAAAAAAAAAAAAAAAAAAAAAAAAAAAAAAAAAAAQAAAAEAAAACAAAAAgAAAAIAAAACAAAAAQAAAAAAAAACAAAAAQAAAAAAAAAAAAAAAgAAAAIAAAABAAAAAQAAAAEAAAABAAAAAgAAAAIAAAAAAAAAAQAAAAIAAAAAAAAAAAAAAAAAAAABAAAAAgAAAAIAAAABAAAAAQAAAAIAAAACAAAAAAAAAAAAAAAAAAAAAgAAAAAAAAAAAAAAAQAAAAEAAAABAAAAAgAAAAIAAAAAAAAAAAAAAAEAAAABAAAAAQAAAAIAAAAAAAAAAgAAAAEAAAACAAAAAQAAAAEAAAACAAAAAAAAAAAAAAABAAAAAAAAAAEAAAABAAAAAQAAAAEAAAABAAAAAAAAAAEAAAAAAAAAAAAAAAAAAAAAAAAAAQAAAAAAAAABAAAAAgAAAAEAAAAAAAAAAgAAAAIAAAAAAAAAAQAAAAEAAAABAAAAAgAAAAIAAAACAAAAAgAAAAAAAAAAAAAAAAAAAAIAAAABAAAAAQAAAAIAAAABAAAAAAAAAAEAAAACAAAAAAAAAAEAAAABAAAAAAAAAAIAAAACAAAAAAAAAAAAAAAAAAAAAgAAAAAAAAAAAAAAAgAAAAEAAAACAAAAAgAAAAAAAAABAAAAAAAAAAAAAAAAAAAAAgAAAAAAAAABAAAAAQAAAAAAAAAAAAAAAgAAAAEAAAAAAAAAAgAAAAIAAAAAAAAAAAAAAAAAAAAAAAAAAgAAAAAAAAAAAAAAAQAAAAAAAAACAAAAAQAAAAAAAAAAAAAAAAAAAAAAAAACAAAAAAAAAAIAAAABAAAAAAAAAAIAAAACAAAAAAAAAAIAAAAAAAAAAAAAAAIAAAAAAAAAAQAAAAAAAAABAAAAAgAAAAIAAAABAAAAAgAAAAAAAAAAAAAAAgAAAAAAAAABAAAAAAAAAAEAAAAAAAAAAQAAAAAAAAAAAAAAAQAAAAAAAAAAAAAAAAAAAAIAAAACAAAAAAAAAAAAAAACAAAAAAAAAAAAAAABAAAAAgAAAAIAAAAAAAAAAgAAAAIAAAABAAAAAQAAAAAAAAABAAAAAgAAAAAAAAAAAAAAAAAAAAAAAAAAAAAAAQAAAAIAAAAAAAAAAQAAAAEAAAACAAAAAAAAAAIAAAACAAAAAAAAAAEAAAABAAAAAQAAAAEAAAACAAAAAAAAAAEAAAAAAAAAAgAAAAEAAAABAAAAAgAAAAAAAAACAAAAAQAAAAIAAAACAAAAAgAAAAAAAAABAAAAAAAAAAAAAAABAAAAAAAAAAEAAAAAAAAAAQAAAAAAAAACAAAAAAAAAAAAAAABAAAAAAAAAAAAAAABAAAAAgAAAAEAAAAAAAAA\",\"dtype\":\"int32\",\"shape\":[537]}},\"selected\":{\"id\":\"3508\"},\"selection_policy\":{\"id\":\"3556\"}},\"id\":\"3507\",\"type\":\"ColumnDataSource\"},{\"attributes\":{},\"id\":\"3389\",\"type\":\"UnionRenderers\"},{\"attributes\":{\"line_alpha\":0.1,\"line_color\":\"#8c564b\",\"line_width\":2,\"x\":{\"field\":\"index\"},\"y\":{\"field\":\"value\"}},\"id\":\"3459\",\"type\":\"Line\"},{\"attributes\":{\"text\":\"\",\"text_color\":{\"value\":\"black\"},\"text_font_size\":{\"value\":\"12pt\"}},\"id\":\"3327\",\"type\":\"Title\"},{\"attributes\":{\"active_drag\":\"auto\",\"active_inspect\":\"auto\",\"active_multi\":null,\"active_scroll\":\"auto\",\"active_tap\":\"auto\",\"tools\":[{\"id\":\"3318\"},{\"id\":\"3342\"},{\"id\":\"3343\"},{\"id\":\"3344\"},{\"id\":\"3345\"},{\"id\":\"3346\"}]},\"id\":\"3348\",\"type\":\"Toolbar\"},{\"attributes\":{\"factors\":[\"42\",\"404\",\"1337\",\"ETH\",\"NXT\",\"ZEC\",\"BTS\",\"BTCD\",\"XPY\",\"PRC\",\"KOBO\",\"ARG\",\"AUR\",\"BLU\",\"XMY\",\"MOON\",\"ZET\",\"SXC\",\"QTL\",\"ENRG\",\"QRK\",\"RIC\",\"DGC\",\"BTB\",\"CAT\",\"CBX\",\"CCN\",\"CRYPT\",\"XVG\",\"DVC\",\"EAC\",\"EFL\",\"EMC2\",\"EMD\",\"EXCL\",\"FLT\",\"FRK\",\"GDC\",\"GLC\",\"GLD\",\"HBN\",\"HYP\",\"IFC\",\"IXC\",\"KGC\",\"LKY\",\"LTB\",\"MAX\",\"MED\",\"MINT\",\"MZC\",\"NAUT\",\"NAV\",\"NOBL\",\"NMC\",\"NYAN\",\"ORB\",\"POT\",\"PXC\",\"RDD\",\"RPC\",\"SBC\",\"SMC\",\"SUPER\",\"SYNC\",\"SYS\",\"TES\",\"TGC\",\"TOR\",\"TRC\",\"UNB\",\"UNO\",\"URO\",\"USDE\",\"UTC\",\"VRC\",\"VTC\",\"WDC\",\"XC\",\"XCR\",\"XJO\",\"XST\",\"ZCC\",\"SJCX\",\"MONA\",\"NTRN\",\"FAIR\",\"RBY\",\"PTC\",\"WBB\",\"NOTE\",\"FLO\",\"8BIT\",\"STV\",\"J\",\"ABY\",\"LDOGE\",\"TRI\",\"FLDC\",\"SLR\",\"TRK\",\"U\",\"UIS\",\"CYP\",\"UFO\",\"OC\",\"FSC\",\"BLC\",\"OMC\",\"BITS\",\"NEOS\",\"HYPER\",\"VTR\",\"PINK\",\"GRE\",\"XCN\",\"XBC\",\"MSC\",\"SOON\",\"1CR\",\"ISL\",\"NXS\",\"CESC\",\"ADC\",\"MARS\",\"CTO\",\"ACP\",\"DRZ\",\"BSC\",\"NKA\",\"SQL\",\"PIGGY\",\"CRW\",\"GEN\",\"SONG\",\"SMLY\",\"ZNY\",\"DIGS\",\"EXP\",\"MI\",\"CON\",\"GRS\",\"CPC\",\"CLUB\",\"RADS\",\"EMC\",\"EGC\",\"MND\",\"I0C\",\"PAK\",\"CRB\",\"OK\",\"RVR\",\"HODL\",\"EDRC\",\"WAVES\",\"HTC\",\"DBIC\",\"XHI\",\"DIEM\",\"PWR\",\"BLRY\",\"INFX\",\"GOST\",\"GPU\",\"ADZ\",\"SOIL\",\"YOC\",\"ERC\",\"ZEIT\",\"SWING\",\"SAFEX\",\"NEBU\",\"FRN\",\"BOLI\",\"XRA\",\"CKC\",\"VIP\",\"OMNI\",\"LIR\",\"IBANK\",\"FRWC\",\"MUDRA\",\"PIZZA\",\"LC\",\"KMD\",\"GB\",\"KRB\",\"BXT\",\"ZYD\",\"MST\",\"ZNE\",\"COVAL\",\"ROOT\",\"DOPE\",\"BTCR\",\"DLC\",\"SCN\",\"SH\",\"BUZZ\",\"XPO\",\"PSB\",\"HALLO\",\"CFC\",\"ROYAL\",\"GNJ\",\"TEAM\",\"LANA\",\"ELE\",\"ZCL\",\"INSANE\",\"KLC\",\"ATX\",\"EMB\",\"XEN\",\"FRE\",\"PLNC\",\"ARCO\",\"KURT\",\"XCRE\",\"ENT\",\"EUC\",\"BCF\",\"XSN\",\"BCCOIN\",\"MONEY\",\"XNG\",\"XCI\",\"RC\",\"PND\",\"UNITS\",\"GAKH\",\"LTCR\",\"GOLOS\",\"OS76\",\"BIC\",\"HXX\",\"KED\",\"IOP\",\"KUSH\",\"PRX\",\"PAC\",\"IMPCH\",\"CTL\",\"ZBC\",\"FRST\",\"BVC\",\"FIND\",\"VLTC\",\"ZER\",\"CHAT\",\"ZOI\",\"RNS\",\"DBIX\",\"XVP\",\"TAJ\",\"IMX\",\"EB3\",\"ATMOS\",\"HPC\",\"CXT\",\"MCRN\",\"RAIN\",\"IMS\",\"ARGUS\",\"LMC\",\"PROC\",\"XGR\",\"BENJI\",\"DUO\",\"GRW\",\"ILC\",\"PHR\",\"DEA\",\"HTML5\",\"USC\",\"EQT\",\"INSN\",\"QRL\",\"ESP\",\"DYN\",\"EOS\",\"NANO\",\"CHAN\",\"DCY\",\"DP\",\"VUC\",\"BTPL\",\"UNIFY\",\"BRIT\",\"SOCC\",\"ARC\",\"PART\",\"DAS\",\"LINDA\",\"RCC\",\"XLC\",\"ONION\",\"BTX\",\"GCN\",\"SIGT\",\"ONX\",\"CRM\",\"BCH\",\"XMCC\",\"DFT\",\"VET\",\"SOJ\",\"STCN\",\"AMB\",\"OXY\",\"NYC\",\"FRAZ\",\"KRONE\",\"ACC\",\"LINX\",\"XCXT\",\"ETHD\",\"SUMO\",\"ODN\",\"ADA\",\"REC\",\"ICX\",\"BTCZ\",\"TZC\",\"ATCC\",\"ELM\",\"TER\",\"VIVO\",\"RUP\",\"BTG\",\"WOMEN\",\"MAY\",\"NAMO\",\"LUX\",\"PIRL\",\"XIOS\",\"BTDX\",\"BLHC\",\"XIN\",\"PURA\",\"INN\",\"ZEPH\",\"ELLA\",\"MAG\",\"TAU\",\"ECA\",\"BCD\",\"XSH\",\"AION\",\"CNBC\",\"XUN\",\"GLT\",\"COAL\",\"DAXX\",\"BWK\",\"KLKS\",\"AC3\",\"LTHN\",\"GER\",\"LTCU\",\"POP\",\"PHO\",\"SUCR\",\"SPK\",\"WAGE\",\"GUN\",\"IRL\",\"TROLL\",\"LCP\",\"MONK\",\"PCOIN\",\"UBTC\",\"ITZ\",\"TPAY\",\"MCT\",\"MUN\",\"USX\",\"SSS\",\"KREDS\",\"TOKC\",\"BBP\",\"LCC\",\"FLIP\",\"ALX\",\"LOTTO\",\"CIF\",\"SPD\",\"PUSHI\",\"ELP\",\"VLX\",\"CLO\",\"TUBE\",\"PSD\",\"ADM\",\"ADK\",\"BSX\",\"NEXT\",\"BRIA\",\"IC\",\"BTL\",\"MEDIC\",\"ALPS\",\"BITG\",\"DEV\",\"ABJ\",\"SEM\",\"FTO\",\"CARE\",\"NZL\",\"XMC\",\"PROTON\",\"DEAL\",\"JUMP\",\"XBI\",\"KEC\",\"HWC\",\"PLATC\",\"LOKI\",\"NCP\",\"REL\",\"XT3\",\"MGD\",\"VIG\",\"PLURA\",\"EMAR\",\"DKD\",\"LYNX\",\"POSQ\",\"BWS\",\"MUSE\",\"XMN\",\"PLUS1\",\"AXE\",\"TRVC\",\"DTEM\",\"GIC\",\"ABS\",\"VITAE\",\"TPC\",\"WEBC\",\"RYO\",\"URALS\",\"QWC\",\"MMO\",\"KETAN\",\"PPAI\",\"XDNA\",\"PAXEX\",\"KCASH\",\"XCG\",\"AAC\",\"CRYP\",\"BTXC\",\"DAPS\",\"TCH\",\"HC\",\"BITM\",\"FIII\",\"JMC\",\"FRED\",\"ZND\",\"HERB\",\"UMO\",\"LIT\",\"PIRATE\",\"EXO\",\"OWC\",\"BEAM\",\"BTT\",\"GALI\",\"BTH\",\"CSPN\",\"CREDIT\",\"SCRIBE\",\"SLC\",\"VOLLAR\",\"NSD\",\"GEX\",\"BEET\",\"TTN\",\"ARRR\",\"BLAST\",\"XRC\",\"BDX\",\"BLOCM\",\"CKB\",\"LOBS\",\"BTCK\",\"VEN\",\"ZANO\",\"KSH\",\"YTN\",\"PEPS\",\"NEET\",\"ZCR\",\"AEVO\",\"DXO\",\"GOSS\",\"GIO\",\"RPD\",\"PENG\",\"X42\",\"WCC\",\"MWC\",\"RHP\",\"DDK\",\"BSV\",\"MEC\",\"NLG\",\"SIB\",\"XDN\",\"VIA\",\"FTC\",\"IOC\",\"XZC\",\"CLOAK\",\"BCN\",\"BURST\",\"SC\",\"POA\",\"BTM\",\"ZEN\",\"DGB\",\"QTUM\",\"ONT\",\"LSK\",\"DASH\",\"ETC\",\"ARK\",\"LTC\",\"XMR\",\"DCR\",\"STEEM\",\"BTC\",\"BUX\",\"BNB\"],\"tags\":[[[\"index\",\"index\",null]]]},\"id\":\"3316\",\"type\":\"FactorRange\"},{\"attributes\":{},\"id\":\"3477\",\"type\":\"UnionRenderers\"}],\"root_ids\":[\"3314\"]},\"title\":\"Bokeh Application\",\"version\":\"2.0.2\"}};\n",
       "  var render_items = [{\"docid\":\"2a8a0f7e-1e3e-489f-839c-84e7626abd7d\",\"root_ids\":[\"3314\"],\"roots\":{\"3314\":\"e5c9f947-d7d5-49ec-99f5-066a0a3fa6ff\"}}];\n",
       "  root.Bokeh.embed.embed_items_notebook(docs_json, render_items);\n",
       "  }\n",
       "if (root.Bokeh !== undefined) {\n",
       "    embed_document(root);\n",
       "  } else {\n",
       "    var attempts = 0;\n",
       "    var timer = setInterval(function(root) {\n",
       "      if (root.Bokeh !== undefined) {\n",
       "        clearInterval(timer);\n",
       "        embed_document(root);\n",
       "      } else if (document.readyState == \"complete\") {\n",
       "        attempts++;\n",
       "        if (attempts > 100) {\n",
       "          clearInterval(timer);\n",
       "          console.log(\"Bokeh: ERROR: Unable to run BokehJS code because BokehJS library is missing\");\n",
       "        }\n",
       "      }\n",
       "    }, 10, root)\n",
       "  }\n",
       "})(window);</script>"
      ],
      "text/plain": [
       ":NdOverlay   [Variable]\n",
       "   :Curve   [index]   (value)"
      ]
     },
     "execution_count": 122,
     "metadata": {
      "application/vnd.holoviews_exec.v0+json": {
       "id": "3314"
      }
     },
     "output_type": "execute_result"
    }
   ],
   "source": [
    "# Table with tradable cryptos\n",
    "clustered_df.hvplot(columns=[\"CoinName\", \n",
    "                             \"Algorithm\", \n",
    "                             \"ProofType\", \n",
    "                             \"TotalCoinSupply\", \n",
    "                             \"TotalCoinsMined\", \n",
    "                             \"Class\"]\n",
    "                   )"
   ]
  },
  {
   "cell_type": "code",
   "execution_count": 123,
   "metadata": {},
   "outputs": [],
   "source": [
    "# Print the total number of tradable cryptocurrencies\n",
    "#with pd.option_context('display.max_rows', None, 'display.max_columns', None):  # more options can be specified also\n",
    "   # display(clustered_df)\n",
    "    ## Data too large, use code that is commented out above."
   ]
  },
  {
   "cell_type": "markdown",
   "metadata": {},
   "source": [
    "#### Scatter Plot with Tradable Cryptocurrencies"
   ]
  },
  {
   "cell_type": "code",
   "execution_count": 100,
   "metadata": {},
   "outputs": [],
   "source": [
    "#clustered_df['TotalCoinsMined'] = clustered_df['TotalCoinsMined'].astype(float) / 1000000\n",
    "#clustered_df['TotalCoinSupply'] = clustered_df['TotalCoinSupply'].astype(float) / 1000000"
   ]
  },
  {
   "cell_type": "code",
   "execution_count": 124,
   "metadata": {},
   "outputs": [
    {
     "data": {},
     "metadata": {},
     "output_type": "display_data"
    },
    {
     "data": {
      "application/vnd.holoviews_exec.v0+json": "",
      "text/html": [
       "<div id='3824'>\n",
       "\n",
       "\n",
       "\n",
       "\n",
       "\n",
       "  <div class=\"bk-root\" id=\"43381b10-0d55-4701-866c-284324ec4c94\" data-root-id=\"3824\"></div>\n",
       "</div>\n",
       "<script type=\"application/javascript\">(function(root) {\n",
       "  function embed_document(root) {\n",
       "  var docs_json = {\"4ee001bf-d46b-4173-a4da-d82e127f0994\":{\"roots\":{\"references\":[{\"attributes\":{},\"id\":\"3847\",\"type\":\"PanTool\"},{\"attributes\":{},\"id\":\"3870\",\"type\":\"BasicTickFormatter\"},{\"attributes\":{\"data_source\":{\"id\":\"3859\"},\"glyph\":{\"id\":\"3862\"},\"hover_glyph\":null,\"muted_glyph\":{\"id\":\"3864\"},\"nonselection_glyph\":{\"id\":\"3863\"},\"selection_glyph\":null,\"view\":{\"id\":\"3866\"}},\"id\":\"3865\",\"type\":\"GlyphRenderer\"},{\"attributes\":{\"end\":541.2428571428571,\"reset_end\":541.2428571428571,\"reset_start\":-22.242857142857144,\"start\":-22.242857142857144,\"tags\":[[[\"TotalCoinsMined\",\"TotalCoinsMined\",null]]]},\"id\":\"3826\",\"type\":\"Range1d\"},{\"attributes\":{},\"id\":\"3868\",\"type\":\"BasicTickFormatter\"},{\"attributes\":{},\"id\":\"3848\",\"type\":\"WheelZoomTool\"},{\"attributes\":{},\"id\":\"3877\",\"type\":\"UnionRenderers\"},{\"attributes\":{\"text\":\"\",\"text_color\":{\"value\":\"black\"},\"text_font_size\":{\"value\":\"12pt\"}},\"id\":\"3830\",\"type\":\"Title\"},{\"attributes\":{},\"id\":\"3834\",\"type\":\"LinearScale\"},{\"attributes\":{\"fill_color\":{\"value\":\"#1f77b3\"},\"line_color\":{\"value\":\"#1f77b3\"},\"size\":{\"units\":\"screen\",\"value\":5.477225575051661},\"x\":{\"field\":\"TotalCoinsMined\"},\"y\":{\"field\":\"TotalCoinSupply\"}},\"id\":\"3862\",\"type\":\"Scatter\"},{\"attributes\":{\"overlay\":{\"id\":\"3851\"}},\"id\":\"3849\",\"type\":\"BoxZoomTool\"},{\"attributes\":{\"axis_label\":\"TotalCoinSupply\",\"bounds\":\"auto\",\"formatter\":{\"id\":\"3870\"},\"major_label_orientation\":\"horizontal\",\"ticker\":{\"id\":\"3843\"}},\"id\":\"3842\",\"type\":\"LinearAxis\"},{\"attributes\":{},\"id\":\"3836\",\"type\":\"LinearScale\"},{\"attributes\":{\"margin\":[5,5,5,5],\"name\":\"HSpacer08358\",\"sizing_mode\":\"stretch_width\"},\"id\":\"3879\",\"type\":\"Spacer\"},{\"attributes\":{},\"id\":\"3850\",\"type\":\"ResetTool\"},{\"attributes\":{\"callback\":null,\"renderers\":[{\"id\":\"3865\"}],\"tags\":[\"hv_created\"],\"tooltips\":[[\"TotalCoinsMined\",\"@{TotalCoinsMined}\"],[\"TotalCoinSupply\",\"@{TotalCoinSupply}\"],[\"CoinName\",\"@{CoinName}\"]]},\"id\":\"3828\",\"type\":\"HoverTool\"},{\"attributes\":{},\"id\":\"3839\",\"type\":\"BasicTicker\"},{\"attributes\":{},\"id\":\"3860\",\"type\":\"Selection\"},{\"attributes\":{\"children\":[{\"id\":\"3825\"},{\"id\":\"3829\"},{\"id\":\"3879\"}],\"margin\":[0,0,0,0],\"name\":\"Row08353\",\"tags\":[\"embedded\"]},\"id\":\"3824\",\"type\":\"Row\"},{\"attributes\":{\"align\":null,\"below\":[{\"id\":\"3838\"}],\"center\":[{\"id\":\"3841\"},{\"id\":\"3845\"}],\"left\":[{\"id\":\"3842\"}],\"margin\":null,\"min_border_bottom\":10,\"min_border_left\":10,\"min_border_right\":10,\"min_border_top\":10,\"plot_height\":300,\"plot_width\":700,\"renderers\":[{\"id\":\"3865\"}],\"sizing_mode\":\"fixed\",\"title\":{\"id\":\"3830\"},\"toolbar\":{\"id\":\"3852\"},\"x_range\":{\"id\":\"3826\"},\"x_scale\":{\"id\":\"3834\"},\"y_range\":{\"id\":\"3827\"},\"y_scale\":{\"id\":\"3836\"}},\"id\":\"3829\",\"subtype\":\"Figure\",\"type\":\"Plot\"},{\"attributes\":{\"end\":301.4,\"reset_end\":301.4,\"reset_start\":-27.400000000000002,\"start\":-27.400000000000002,\"tags\":[[[\"TotalCoinSupply\",\"TotalCoinSupply\",null]]]},\"id\":\"3827\",\"type\":\"Range1d\"},{\"attributes\":{\"axis_label\":\"TotalCoinsMined\",\"bounds\":\"auto\",\"formatter\":{\"id\":\"3868\"},\"major_label_orientation\":\"horizontal\",\"ticker\":{\"id\":\"3839\"}},\"id\":\"3838\",\"type\":\"LinearAxis\"},{\"attributes\":{\"margin\":[5,5,5,5],\"name\":\"HSpacer08357\",\"sizing_mode\":\"stretch_width\"},\"id\":\"3825\",\"type\":\"Spacer\"},{\"attributes\":{\"axis\":{\"id\":\"3838\"},\"grid_line_color\":null,\"ticker\":null},\"id\":\"3841\",\"type\":\"Grid\"},{\"attributes\":{\"data\":{\"CoinName\":[\"42 Coin\",\"404Coin\",\"EliteCoin\",\"Ethereum\",\"Nxt\",\"ZCash\",\"Bitshares\",\"BitcoinDark\",\"PayCoin\",\"ProsperCoin\",\"KoboCoin\",\"Argentum\",\"Aurora Coin\",\"BlueCoin\",\"MyriadCoin\",\"MoonCoin\",\"ZetaCoin\",\"SexCoin\",\"Quatloo\",\"EnergyCoin\",\"QuarkCoin\",\"Riecoin\",\"Digitalcoin \",\"BitBar\",\"Catcoin\",\"CryptoBullion\",\"CannaCoin\",\"CryptCoin\",\"Verge\",\"DevCoin\",\"EarthCoin\",\"E-Gulden\",\"Einsteinium\",\"Emerald\",\"Exclusive Coin\",\"FlutterCoin\",\"Franko\",\"GrandCoin\",\"GlobalCoin\",\"GoldCoin\",\"HoboNickels\",\"HyperStake\",\"Infinite Coin\",\"IXcoin\",\"KrugerCoin\",\"LuckyCoin\",\"Litebar \",\"MaxCoin\",\"MediterraneanCoin\",\"MintCoin\",\"MazaCoin\",\"Nautilus Coin\",\"NavCoin\",\"NobleCoin\",\"Namecoin\",\"NyanCoin\",\"Orbitcoin\",\"PotCoin\",\"PhoenixCoin\",\"Reddcoin\",\"RonPaulCoin\",\"StableCoin\",\"SmartCoin\",\"SuperCoin\",\"SyncCoin\",\"SysCoin\",\"TeslaCoin\",\"TigerCoin\",\"TorCoin\",\"TerraCoin\",\"UnbreakableCoin\",\"Unobtanium\",\"UroCoin\",\"UnitaryStatus Dollar\",\"UltraCoin\",\"VeriCoin\",\"Vertcoin\",\"WorldCoin\",\"X11 Coin\",\"Crypti\",\"JouleCoin\",\"StealthCoin\",\"ZCC Coin\",\"StorjCoin\",\"MonaCoin\",\"Neutron\",\"FairCoin\",\"RubyCoin\",\"PesetaCoin\",\"Wild Beast Coin\",\"Dnotes\",\"Flo\",\"8BIT Coin\",\"Sativa Coin\",\"JoinCoin\",\"ArtByte\",\"LiteDoge\",\"Triangles Coin\",\"Folding Coin\",\"SolarCoin\",\"TruckCoin\",\"Ucoin\",\"Unitus\",\"CypherPunkCoin\",\"UFO Coin\",\"OrangeCoin\",\"FriendshipCoin\",\"BlakeCoin\",\"OmniCron\",\"BitstarCoin\",\"NeosCoin\",\"HyperCoin\",\"Vtorrent\",\"PinkCoin\",\"GreenCoin\",\"Cryptonite\",\"BitcoinPlus\",\"MasterCoin\",\"SoonCoin\",\"1Credit\",\"IslaCoin\",\"Nexus\",\"Crypto Escudo\",\"AudioCoin\",\"MarsCoin \",\"Crypto\",\"Anarchists Prime\",\"Droidz\",\"BowsCoin\",\"IncaKoin\",\"Squall Coin\",\"Piggy Coin\",\"Crown Coin\",\"Genstake\",\"Song Coin\",\"SmileyCoin\",\"BitZeny\",\"Diggits\",\"Expanse\",\"XiaoMiCoin\",\"Paycon\",\"Groestlcoin\",\"CapriCoin\",\" ClubCoin\",\"Radium\",\"Emercoin\",\"EverGreenCoin\",\"MindCoin\",\"I0coin\",\"Pakcoin\",\"Creditbit \",\"OKCash\",\"Revolution VR\",\"HOdlcoin\",\"EDRCoin\",\"Waves\",\"Hitcoin\",\"DubaiCoin\",\"HiCoin\",\"CarpeDiemCoin\",\"PWR Coin\",\"BillaryCoin\",\"Influxcoin\",\"SoulCoin\",\"GPU Coin\",\"Adzcoin\",\"SoilCoin\",\"YoCoin\",\"EuropeCoin\",\"ZeitCoin\",\"SwingCoin\",\"SafeExchangeCoin\",\"Nebuchadnezzar\",\"Francs\",\"BolivarCoin\",\"Ratecoin\",\"Clockcoin\",\"VIP Tokens\",\"Omni\",\"Let it Ride\",\"iBankCoin\",\"Frankywillcoin\",\"MudraCoin\",\"PizzaCoin\",\"Lutetium Coin\",\"Komodo\",\"GoldBlocks\",\"Karbo\",\"BitTokens\",\"ZayedCoin\",\"MustangCoin\",\"ZoneCoin\",\"Circuits of Value\",\"RootCoin\",\"DopeCoin\",\"BitCurrency\",\"DollarCoin\",\"Swiscoin\",\"Shilling\",\"BuzzCoin\",\"Opair\",\"PesoBit\",\"Halloween Coin\",\"CoffeeCoin\",\"RoyalCoin\",\"GanjaCoin V2\",\"TeamUP\",\"LanaCoin\",\"Elementrem\",\"ZClassic\",\"InsaneCoin\",\"KiloCoin\",\"ArtexCoin\",\"EmberCoin\",\"XenixCoin\",\"FreeCoin\",\"PLNCoin\",\"AquariusCoin\",\"Kurrent\",\"Creatio\",\"Eternity\",\"Eurocoin\",\"BitcoinFast\",\"Stakenet\",\"BitConnect Coin\",\"MoneyCoin\",\"Enigma\",\"Cannabis Industry Coin\",\"Russiacoin\",\"PandaCoin\",\"GameUnits\",\"GAKHcoin\",\"LiteCreed\",\"Golos\",\"OsmiumCoin\",\"Bikercoins\",\"HexxCoin\",\"Klingon Empire Darsek\",\"Internet of People\",\"KushCoin\",\"Printerium\",\"PAC Global\",\"Impeach\",\"Citadel\",\"Zilbercoin\",\"FirstCoin\",\"BeaverCoin\",\"FindCoin\",\"VaultCoin\",\"Zero\",\"OpenChat\",\"Zoin\",\"RenosCoin\",\"DubaiCoin\",\"VirtacoinPlus\",\"TajCoin\",\"Impact\",\"EB3coin\",\"Atmos\",\"HappyCoin\",\"Coinonat\",\"MacronCoin\",\"Condensate\",\"Independent Money System\",\"ArgusCoin\",\"LomoCoin\",\"ProCurrency\",\"GoldReserve\",\"BenjiRolls\",\"ParallelCoin\",\"GrowthCoin\",\"ILCOIN\",\"Phreak\",\"Degas Coin\",\"HTML5 Coin\",\"Ultimate Secure Cash\",\"EquiTrader\",\"Insane Coin\",\"Quantum Resistant Ledger\",\"Espers\",\"Dynamic\",\"EOS\",\"Nano\",\"ChanCoin\",\"Dinastycoin\",\"DigitalPrice\",\"Virta Unique Coin\",\"Bitcoin Planet\",\"Unify\",\"BritCoin\",\"SocialCoin\",\"ArcticCoin\",\"Particl\",\"DAS\",\"Metrix\",\"Reality Clash\",\"LeviarCoin\",\"DeepOnion\",\"Bitcore\",\"gCn Coin\",\"Signatum\",\"Onix\",\"Cream\",\"Bitcoin Cash\",\"Monoeci\",\"Draftcoin\",\"VeChain\",\"Sojourn Coin\",\"Stakecoin\",\"Amber\",\"Oxycoin\",\"NewYorkCoin\",\"FrazCoin\",\"Kronecoin\",\"AdCoin\",\"Linx\",\"CoinonatX\",\"Ethereum Dark\",\"Sumokoin\",\"Obsidian\",\"Cardano\",\"Regalcoin\",\"ICON Project\",\"BitcoinZ\",\"TrezarCoin\",\"ATC Coin\",\"Elements\",\"TerraNovaCoin\",\"VIVO Coin\",\"Rupee\",\"Bitcoin Gold\",\"WomenCoin\",\"Theresa May Coin\",\"NamoCoin\",\"LUXCoin\",\"Pirl\",\"Xios\",\"Bitcloud 2.0\",\"BlackholeCoin\",\"Infinity Economics\",\"Pura\",\"Innova\",\"Zeph\",\"Ellaism\",\"Magnet\",\"Lamden Tau\",\"Electra\",\"Bitcoin Diamond\",\"SHIELD\",\"Aion\",\"Cash & Back Coin\",\"UltraNote\",\"GlobalToken\",\"BitCoal\",\"DaxxCoin\",\"Bulwark\",\"Kalkulus\",\"AC3\",\"Lethean\",\"GermanCoin\",\"LiteCoin Ultra\",\"PopularCoin\",\"Photon\",\"Sucre\",\"SparksPay\",\"Digiwage\",\"GunCoin\",\"IrishCoin\",\"Trollcoin\",\"Litecoin Plus\",\"Monkey Project\",\"Pioneer Coin\",\"UnitedBitcoin\",\"Interzone\",\"TokenPay\",\"1717 Masonic Commemorative Token\",\"MUNcoin\",\"Unified Society USDEX\",\"ShareChain\",\"KREDS\",\"Tokyo Coin\",\"BiblePay\",\"LitecoinCash\",\"BitFlip\",\"ALAX\",\"LottoCoin\",\"Crypto Improvement Fund\",\"Stipend\",\"Pushi\",\"Ellerium\",\"Velox\",\"Callisto Network\",\"BitTube\",\"Poseidon\",\"ADAMANT Messenger\",\"Aidos Kuneen\",\"Bitspace\",\"Next.exchange Token\",\"Briacoin\",\"Ignition\",\"Bitrolium\",\"MedicCoin\",\"Alpenschillling\",\"BitGreen\",\"Deviant Coin\",\"Abjcoin\",\"Semux\",\"FuturoCoin\",\"Carebit\",\"Zealium\",\"Monero Classic\",\"Proton\",\"iDealCash\",\"Jumpcoin\",\"Bitcoin Incognito\",\"KEYCO\",\"HollyWoodCoin\",\"PlatinCoin\",\"Loki\",\"Newton Coin\",\"Reliance\",\"Xt3ch\",\"MassGrid\",\"TheVig\",\"PluraCoin\",\"EmaratCoin\",\"Dekado\",\"Lynx\",\"Poseidon Quark\",\"BitcoinWSpectrum\",\"Muse\",\"Motion\",\"PlusOneCoin\",\"Axe\",\"Trivechain\",\"Dystem\",\"Giant\",\"Absolute Coin\",\"Vitae\",\"TPCash\",\"Webchain\",\"Ryo\",\"Urals Coin\",\"Qwertycoin\",\"MMOCoin\",\"Ketan\",\"Project Pai\",\"XDNA\",\"PAXEX\",\"Kcash\",\"Xchange\",\"Acute Angle Cloud\",\"CrypticCoin\",\"Bettex coin\",\"DAPS Coin\",\"TigerCash\",\"HyperCash\",\"BitMoney\",\"Fiii\",\"Junson Ming Chan Coin\",\"FREDEnergy\",\"Zenad\",\"HerbCoin\",\"Universal Molecule\",\"Lithium\",\"PirateCash\",\"Exosis\",\"Oduwa\",\"Beam\",\"BitTorrent\",\"Galilel\",\"Bithereum\",\"Crypto Sports\",\"Credit\",\"Scribe Network\",\"SLICE\",\"Vollar\",\"Nasdacoin\",\"Gexan\",\"Beetle Coin\",\"Titan Coin\",\"Pirate Chain\",\"BLAST\",\"Bitcoin Rhodium\",\"Beldex\",\"BLOC.MONEY\",\"Nervos Network\",\"Lobstex\",\"Bitcoin Turbo Koin\",\"VeChain Old\",\"Zano\",\"Kahsh\",\"YENTEN\",\"PEPS Coin\",\"Neetcoin\",\"ZCore\",\"Always Evolving\",\"Dextro\",\"GOSSIP-Coin\",\"Graviocoin\",\"Rapids\",\"PENG\",\"X42 Protocol\",\"Wincash Coin\",\"MimbleWimbleCoin\",\"Rhypton Club\",\"DDKoin\",\"Bitcoin SV\",\"MegaCoin\",\"Gulden\",\"SibCoin\",\"DigitalNote \",\"ViaCoin\",\"FeatherCoin\",\"IOCoin\",\"Zcoin\",\"CloakCoin\",\"ByteCoin\",\"BurstCoin\",\"Siacoin\",\"Poa Network\",\"Bytom\",\"Horizen\",\"DigiByte\",\"QTUM\",\"Ontology\",\"Lisk\",\"Dash\",\"Ethereum Classic\",\"ARK\",\"Litecoin\",\"Monero\",\"Decred\",\"Steem\",\"Bitcoin\",\"Buxcoin\",\"Binance Coin\"],\"TotalCoinSupply\":[179,206,150,3,8,95,166,108,28,95,163,220,59,3,88,170,64,121,7,3,118,249,190,193,96,5,30,68,56,99,33,96,142,151,3,3,22,38,229,233,25,3,263,95,133,86,32,7,87,3,116,53,3,45,95,159,168,182,269,3,95,121,200,3,4,256,7,189,6,181,244,119,3,51,7,3,249,133,210,3,186,3,8,196,16,227,3,3,58,130,196,50,3,6,138,8,164,23,8,270,3,86,3,3,177,87,215,230,160,209,95,3,86,196,9,73,5,218,95,265,3,241,8,15,154,225,207,199,95,82,3,8,181,42,100,198,121,7,63,176,195,14,93,50,258,8,132,49,95,71,55,14,97,247,108,7,134,13,11,106,3,181,24,35,110,249,144,62,169,2,175,104,86,86,120,236,205,259,217,156,185,7,87,120,224,87,195,6,95,268,143,95,26,3,87,3,18,149,144,89,234,3,44,173,123,7,147,238,129,95,144,9,196,251,171,195,172,181,112,86,213,86,154,240,139,223,194,95,39,152,29,155,243,3,136,120,274,196,95,266,86,10,107,78,211,19,157,40,8,65,8,95,162,111,7,167,19,177,21,7,191,176,196,101,141,8,237,175,165,5,88,122,144,14,262,91,232,144,14,198,3,3,161,144,88,7,25,7,83,144,0,213,3,80,198,117,208,79,95,90,34,20,7,95,267,66,253,15,216,3,3,3,86,249,7,7,191,180,257,264,187,135,3,99,176,178,69,47,135,115,95,262,7,26,213,46,95,87,41,261,163,186,88,140,39,196,146,97,226,3,97,252,60,28,9,137,86,212,273,198,43,192,1,85,95,25,196,220,260,174,95,113,92,113,120,54,57,114,9,20,245,203,250,175,8,75,196,84,120,213,27,222,8,95,87,120,195,25,143,194,229,196,145,95,254,144,7,7,87,244,72,186,201,95,95,68,127,214,43,74,219,184,60,7,8,249,259,265,221,12,70,109,95,95,248,95,202,204,7,8,67,255,97,77,128,97,98,95,7,8,7,8,239,195,231,8,249,231,197,3,246,188,208,17,125,14,95,95,131,271,3,148,31,235,153,7,98,249,95,196,197,87,220,94,36,195,124,242,103,253,3,8,249,236,98,68,183,120,3,88,164,52,181,86,86,98,186,95,181,61,115,228,113,158,108,102,3,76,105,3,126,37,95,99,7,8,48,108,97,3,249,3,95,272,95,196,81],\"TotalCoinsMined\":[1,48,499,363,446,151,468,37,167,105,261,180,223,432,455,2,387,374,115,371,407,317,291,4,112,29,88,93,488,494,484,234,397,228,102,422,41,442,329,304,362,453,513,238,380,225,36,324,301,493,456,200,332,465,186,411,67,398,337,500,31,254,272,314,3,429,346,306,42,247,53,10,34,448,312,281,318,367,117,351,303,293,389,313,331,299,316,269,377,9,412,382,43,111,69,440,489,8,437,322,403,59,328,106,469,71,30,270,148,237,82,141,164,420,472,436,7,21,172,6,44,326,439,445,278,179,187,130,195,490,13,424,262,321,279,502,340,351,152,416,474,341,392,353,78,305,178,196,235,334,204,343,395,162,73,351,483,94,480,495,481,136,63,348,302,308,101,22,154,506,90,464,230,108,189,376,203,347,20,296,87,351,92,40,433,366,193,132,19,104,23,57,446,47,365,385,137,434,159,492,338,284,406,379,55,351,211,460,265,99,214,391,441,514,74,311,205,66,323,230,133,170,259,339,160,156,25,28,126,504,70,68,274,372,27,139,46,252,56,100,166,426,11,157,62,357,65,184,276,125,446,218,290,52,183,222,358,327,361,266,147,415,369,96,33,17,352,207,232,12,427,452,161,241,507,150,185,257,335,496,191,447,375,245,457,298,325,109,212,240,95,271,143,58,478,255,182,246,215,517,355,373,310,220,173,226,511,16,75,413,449,516,142,256,283,285,227,80,135,258,509,114,414,476,401,417,467,32,79,253,208,510,349,428,158,286,50,287,201,477,388,107,461,175,294,409,498,390,423,503,360,18,364,85,425,177,221,345,419,473,127,470,505,81,122,267,410,315,430,61,84,140,231,174,244,45,89,402,479,120,399,466,435,171,446,487,396,163,51,15,260,405,344,77,354,258,181,368,26,39,333,408,268,165,273,146,35,277,384,197,198,83,454,239,192,24,297,5,224,508,113,118,378,282,438,243,275,512,60,319,213,131,134,103,292,128,129,206,236,97,194,91,190,515,359,138,462,123,86,446,144,446,471,110,168,446,307,394,0,497,459,289,288,49,199,264,14,188,336,519,242,263,64,501,124,176,351,248,72,404,443,386,309,38,444,202,485,233,250,446,169,342,295,320,121,119,251,54,280,451,491,482,229,76,155,463,153,219,300,418,209,475,249,400,216,116,98,518,458,503,393,450,149,486,351,431,383,145,370,356,330,210,168,350,217,421,381]},\"selected\":{\"id\":\"3860\"},\"selection_policy\":{\"id\":\"3877\"}},\"id\":\"3859\",\"type\":\"ColumnDataSource\"},{\"attributes\":{},\"id\":\"3843\",\"type\":\"BasicTicker\"},{\"attributes\":{\"axis\":{\"id\":\"3842\"},\"dimension\":1,\"grid_line_color\":null,\"ticker\":null},\"id\":\"3845\",\"type\":\"Grid\"},{\"attributes\":{\"source\":{\"id\":\"3859\"}},\"id\":\"3866\",\"type\":\"CDSView\"},{\"attributes\":{\"bottom_units\":\"screen\",\"fill_alpha\":0.5,\"fill_color\":\"lightgrey\",\"left_units\":\"screen\",\"level\":\"overlay\",\"line_alpha\":1.0,\"line_color\":\"black\",\"line_dash\":[4,4],\"line_width\":2,\"render_mode\":\"css\",\"right_units\":\"screen\",\"top_units\":\"screen\"},\"id\":\"3851\",\"type\":\"BoxAnnotation\"},{\"attributes\":{\"fill_alpha\":{\"value\":0.1},\"fill_color\":{\"value\":\"#1f77b3\"},\"line_alpha\":{\"value\":0.1},\"line_color\":{\"value\":\"#1f77b3\"},\"size\":{\"units\":\"screen\",\"value\":5.477225575051661},\"x\":{\"field\":\"TotalCoinsMined\"},\"y\":{\"field\":\"TotalCoinSupply\"}},\"id\":\"3863\",\"type\":\"Scatter\"},{\"attributes\":{\"active_drag\":\"auto\",\"active_inspect\":\"auto\",\"active_multi\":null,\"active_scroll\":\"auto\",\"active_tap\":\"auto\",\"tools\":[{\"id\":\"3828\"},{\"id\":\"3846\"},{\"id\":\"3847\"},{\"id\":\"3848\"},{\"id\":\"3849\"},{\"id\":\"3850\"}]},\"id\":\"3852\",\"type\":\"Toolbar\"},{\"attributes\":{\"fill_alpha\":{\"value\":0.2},\"fill_color\":{\"value\":\"#1f77b3\"},\"line_alpha\":{\"value\":0.2},\"line_color\":{\"value\":\"#1f77b3\"},\"size\":{\"units\":\"screen\",\"value\":5.477225575051661},\"x\":{\"field\":\"TotalCoinsMined\"},\"y\":{\"field\":\"TotalCoinSupply\"}},\"id\":\"3864\",\"type\":\"Scatter\"},{\"attributes\":{},\"id\":\"3846\",\"type\":\"SaveTool\"}],\"root_ids\":[\"3824\"]},\"title\":\"Bokeh Application\",\"version\":\"2.0.2\"}};\n",
       "  var render_items = [{\"docid\":\"4ee001bf-d46b-4173-a4da-d82e127f0994\",\"root_ids\":[\"3824\"],\"roots\":{\"3824\":\"43381b10-0d55-4701-866c-284324ec4c94\"}}];\n",
       "  root.Bokeh.embed.embed_items_notebook(docs_json, render_items);\n",
       "  }\n",
       "if (root.Bokeh !== undefined) {\n",
       "    embed_document(root);\n",
       "  } else {\n",
       "    var attempts = 0;\n",
       "    var timer = setInterval(function(root) {\n",
       "      if (root.Bokeh !== undefined) {\n",
       "        clearInterval(timer);\n",
       "        embed_document(root);\n",
       "      } else if (document.readyState == \"complete\") {\n",
       "        attempts++;\n",
       "        if (attempts > 100) {\n",
       "          clearInterval(timer);\n",
       "          console.log(\"Bokeh: ERROR: Unable to run BokehJS code because BokehJS library is missing\");\n",
       "        }\n",
       "      }\n",
       "    }, 10, root)\n",
       "  }\n",
       "})(window);</script>"
      ],
      "text/plain": [
       ":Scatter   [TotalCoinsMined]   (TotalCoinSupply,CoinName)"
      ]
     },
     "execution_count": 124,
     "metadata": {
      "application/vnd.holoviews_exec.v0+json": {
       "id": "3824"
      }
     },
     "output_type": "execute_result"
    }
   ],
   "source": [
    "# Plot the scatter with x=\"TotalCoinsMined\" and y=\"TotalCoinSupply\"\n",
    "### Scale data to create the scatter plot\n",
    "clustered_df.hvplot.scatter(x=\"TotalCoinsMined\", \n",
    "                            y=\"TotalCoinSupply\", \n",
    "                            hover_cols=[\"CoinName\"])"
   ]
  },
  {
   "cell_type": "code",
   "execution_count": 77,
   "metadata": {},
   "outputs": [],
   "source": [
    "\n"
   ]
  }
 ],
 "metadata": {
  "file_extension": ".py",
  "kernelspec": {
   "display_name": "Python 3",
   "language": "python",
   "name": "python3"
  },
  "language_info": {
   "codemirror_mode": {
    "name": "ipython",
    "version": 3
   },
   "file_extension": ".py",
   "mimetype": "text/x-python",
   "name": "python",
   "nbconvert_exporter": "python",
   "pygments_lexer": "ipython3",
   "version": "3.7.7"
  },
  "mimetype": "text/x-python",
  "name": "python",
  "npconvert_exporter": "python",
  "pygments_lexer": "ipython3",
  "version": 3
 },
 "nbformat": 4,
 "nbformat_minor": 4
}
